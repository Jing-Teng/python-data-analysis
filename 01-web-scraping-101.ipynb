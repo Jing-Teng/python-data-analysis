{
 "cells": [
  {
   "cell_type": "markdown",
   "metadata": {
    "slideshow": {
     "slide_type": "slide"
    }
   },
   "source": [
    "# 成為資料分析師 | Python 與資料科學應用\n",
    "\n",
    "> 網頁資料擷取\n",
    "\n",
    "## 郭耀仁"
   ]
  },
  {
   "cell_type": "markdown",
   "metadata": {
    "slideshow": {
     "slide_type": "subslide"
    }
   },
   "source": [
    "## 大綱\n",
    "\n",
    "- 網頁資料擷取的先修知識\n",
    "- 網頁資料擷取的核心任務\n",
    "- 擷取 JSON 格式網頁資料\n",
    "- 擷取 XML 格式網頁資料\n",
    "- 擷取 HTML 格式網頁資料\n",
    "- 瀏覽器自動化\n",
    "- 延伸閱讀"
   ]
  },
  {
   "cell_type": "markdown",
   "metadata": {
    "slideshow": {
     "slide_type": "slide"
    }
   },
   "source": [
    "## 網頁資料擷取的先修知識"
   ]
  },
  {
   "cell_type": "markdown",
   "metadata": {
    "slideshow": {
     "slide_type": "subslide"
    }
   },
   "source": [
    "## 網頁的基本組成是標記式語言、樣式表與程式語言的結合\n",
    "\n",
    "- 標記式語言：HTML\n",
    "- 樣式表：CSS\n",
    "- 程式語言：JavaScript"
   ]
  },
  {
   "cell_type": "markdown",
   "metadata": {
    "slideshow": {
     "slide_type": "subslide"
    }
   },
   "source": [
    "## 對比：一間大樓的組成\n",
    "\n",
    "- 鋼筋水泥：HTML\n",
    "- 裝潢隔間：CSS\n",
    "- 管線設施：JavaScript"
   ]
  },
  {
   "cell_type": "markdown",
   "metadata": {
    "slideshow": {
     "slide_type": "subslide"
    }
   },
   "source": [
    "## HTML 負責網頁結構\n",
    "\n",
    "```\n",
    "<!DOCTYPE html>\n",
    "<html>\n",
    "  <head>\n",
    "  \n",
    "  </head>\n",
    "  \n",
    "  <body>\n",
    "  \n",
    "  </body>\n",
    "</html>\n",
    "```"
   ]
  },
  {
   "cell_type": "markdown",
   "metadata": {
    "slideshow": {
     "slide_type": "subslide"
    }
   },
   "source": [
    "## CSS 負責網頁樣式\n",
    "\n",
    "> 樣式表（Cascading Style Sheets，CSS）是一種用來為 HTML 添加樣式（字型、間距和顏色等）的電腦語言，由 W3C 定義和維護。\n",
    "\n",
    "Source: <https://zh.wikipedia.org/zh-tw/%E5%B1%82%E5%8F%A0%E6%A0%B7%E5%BC%8F%E8%A1%A8>"
   ]
  },
  {
   "cell_type": "markdown",
   "metadata": {
    "slideshow": {
     "slide_type": "subslide"
    }
   },
   "source": [
    "## CSS 的撰寫規則\n",
    "\n",
    "- 選擇器\n",
    "- 屬性\n",
    "- 屬性值"
   ]
  },
  {
   "cell_type": "markdown",
   "metadata": {
    "slideshow": {
     "slide_type": "subslide"
    }
   },
   "source": [
    "![Imgur](https://i.imgur.com/MNSO2qH.png?1)\n",
    "\n",
    "Source: <https://developer.mozilla.org/zh-TW/docs/Learn/Getting_started_with_the_web/CSS_basics>"
   ]
  },
  {
   "cell_type": "markdown",
   "metadata": {
    "slideshow": {
     "slide_type": "subslide"
    }
   },
   "source": [
    "## 選擇器的宣告方式\n",
    "\n",
    "- 單一標記：#id\n",
    "- 多組標記：\n",
    "    - .class\n",
    "    - 標記名稱"
   ]
  },
  {
   "cell_type": "markdown",
   "metadata": {
    "slideshow": {
     "slide_type": "slide"
    }
   },
   "source": [
    "## 網頁資料擷取的核心任務"
   ]
  },
  {
   "cell_type": "markdown",
   "metadata": {
    "slideshow": {
     "slide_type": "subslide"
    }
   },
   "source": [
    "## 盤點核心任務\n",
    "\n",
    "以 Python 豐富的套件、Chrome 瀏覽器外掛與開發者工具來進行兩項核心任務：\n",
    "\n",
    "1. 請求資料 Requesting Data\n",
    "2. 解析資料 Parsing Data"
   ]
  },
  {
   "cell_type": "markdown",
   "metadata": {
    "slideshow": {
     "slide_type": "subslide"
    }
   },
   "source": [
    "## HTTP\n",
    "\n",
    "> 超文本傳輸協定 (HTTP) 是一種用來傳輸超媒體文件 (像是HTML文件) 的應用層協定，被設計來讓瀏覽器和伺服器進行溝通，但也可做其他用途。HTTP 遵循標準客戶端—伺服器模式，由客戶端連線以發送請求，然後等待接收回應。\n",
    "\n",
    "Source: <https://developer.mozilla.org/zh-TW/docs/Web/HTTP>"
   ]
  },
  {
   "cell_type": "markdown",
   "metadata": {
    "slideshow": {
     "slide_type": "subslide"
    }
   },
   "source": [
    "## HTTP 定義了一組能令給定資源，執行特定操作的請求方法（request methods），其中與網頁資料擷取最相關的是：\n",
    "\n",
    "- GET\n",
    "- POST"
   ]
  },
  {
   "cell_type": "markdown",
   "metadata": {
    "slideshow": {
     "slide_type": "subslide"
    }
   },
   "source": [
    "## 請求資料是雙向的\n",
    "\n",
    "- 由瀏覽器發給網頁伺服器的請求稱為 HTTP Request\n",
    "- 由網頁伺服器發給瀏覽器的回應稱為 HTTP Response\n",
    "- Request Header 中的 Request Method 表示瀏覽器希望網頁伺服器做些什麼事\n",
    "- 順利取得資料之後，瀏覽器會將 Response Body 顯示出來"
   ]
  },
  {
   "cell_type": "markdown",
   "metadata": {
    "slideshow": {
     "slide_type": "subslide"
    }
   },
   "source": [
    "## 請求資料需要使用的工具\n",
    "\n",
    "- Chrome 開發者工具\n",
    "- [Quick JavaScript Switcher](https://chrome.google.com/webstore/detail/quick-javascript-switcher/geddoclleiomckbhadiaipdggiiccfje)\n",
    "- `requests` 套件"
   ]
  },
  {
   "cell_type": "markdown",
   "metadata": {
    "slideshow": {
     "slide_type": "subslide"
    }
   },
   "source": [
    "## Chrome 開發者工具\n",
    "\n",
    "> Chrome 開發者工具是一套內建於 Google Chrome 中的 Web 開發和測試工具。\n",
    "\n",
    "Source: <https://developers.google.com/web/tools/chrome-devtools/?hl=zh-TW>"
   ]
  },
  {
   "cell_type": "markdown",
   "metadata": {
    "slideshow": {
     "slide_type": "subslide"
    }
   },
   "source": [
    "![Imgur](https://i.imgur.com/3Synk8m.png?1)"
   ]
  },
  {
   "cell_type": "markdown",
   "metadata": {
    "slideshow": {
     "slide_type": "subslide"
    }
   },
   "source": [
    "## 進行網頁資料擷取時，會高度仰賴 Chrome 開發者工具中的 Network 頁籤\n",
    "\n",
    "使用 Network 頁籤瞭解請求和下載的檔案"
   ]
  },
  {
   "cell_type": "markdown",
   "metadata": {
    "slideshow": {
     "slide_type": "subslide"
    }
   },
   "source": [
    "## 點選 Network 之後重新整理網頁觀察\n",
    "\n",
    "![Imgur](https://i.imgur.com/OG0Huwj.png?1)"
   ]
  },
  {
   "cell_type": "markdown",
   "metadata": {
    "slideshow": {
     "slide_type": "subslide"
    }
   },
   "source": [
    "## 通常我們需要擷取的資料會被歸類在這兩個大類檔案中\n",
    "\n",
    "- XHR(XMLHttpRequest)\n",
    "- Doc"
   ]
  },
  {
   "cell_type": "markdown",
   "metadata": {
    "slideshow": {
     "slide_type": "subslide"
    }
   },
   "source": [
    "## 可以使用 Quick JavaScript Switcher 協助判斷\n",
    "\n",
    "> 快速地開啟、關閉 JavaScript\n",
    "\n",
    "Source: <https://chrome.google.com/webstore/detail/quick-javascript-switcher/geddoclleiomckbhadiaipdggiiccfje>"
   ]
  },
  {
   "cell_type": "markdown",
   "metadata": {
    "slideshow": {
     "slide_type": "subslide"
    }
   },
   "source": [
    "## 示範 Quick JavaScript Switcher 功能\n",
    "\n",
    "- <https://www.imdb.com/title/tt7286456/>\n",
    "- <https://ecshweb.pchome.com.tw/search/v3.3/>"
   ]
  },
  {
   "cell_type": "markdown",
   "metadata": {
    "slideshow": {
     "slide_type": "subslide"
    }
   },
   "source": [
    "## 找到資料之後即可檢視細節\n",
    "\n",
    "- Headers\n",
    "    - General\n",
    "    - Response Headers\n",
    "    - Request Headers\n",
    "    - Query String Parameters(if any)\n",
    "    - Form Data(if any, for POST)\n",
    "- Preview\n",
    "- Response\n",
    "- Cookies"
   ]
  },
  {
   "cell_type": "markdown",
   "metadata": {
    "slideshow": {
     "slide_type": "subslide"
    }
   },
   "source": [
    "![Imgur](https://i.imgur.com/cTva78r.png?1)"
   ]
  },
  {
   "cell_type": "markdown",
   "metadata": {
    "slideshow": {
     "slide_type": "subslide"
    }
   },
   "source": [
    "![Imgur](https://i.imgur.com/LMVp0m7.png?1)"
   ]
  },
  {
   "cell_type": "markdown",
   "metadata": {
    "slideshow": {
     "slide_type": "subslide"
    }
   },
   "source": [
    "## 常用的 `requests` 函式\n",
    "\n",
    "- `requests.get()`：進行 GET 請求（下載檔案）、常搭配 Query String Parameters\n",
    "- `requests.post()`：進行 POST 請求（上傳資料）、搭配 Form Data"
   ]
  },
  {
   "cell_type": "code",
   "execution_count": 1,
   "metadata": {
    "slideshow": {
     "slide_type": "subslide"
    }
   },
   "outputs": [],
   "source": [
    "import requests\n",
    "\n",
    "request_url = \"https://www.imdb.com/\"\n",
    "response = requests.get(request_url)"
   ]
  },
  {
   "cell_type": "code",
   "execution_count": 2,
   "metadata": {
    "slideshow": {
     "slide_type": "-"
    }
   },
   "outputs": [],
   "source": [
    "request_url = \"https://mops.twse.com.tw/mops/web/t05st10_ifrs\"\n",
    "response = requests.post(request_url)"
   ]
  },
  {
   "cell_type": "markdown",
   "metadata": {
    "slideshow": {
     "slide_type": "subslide"
    }
   },
   "source": [
    "## 回應（Response 類別）的方法與屬性\n",
    "\n",
    "- `response.status_code`：查看狀態碼\n",
    "- `response.json()`：將回應直接轉換為 Python 的資料結構（`list` 或 `dict`）\n",
    "- `response.text`：將回應轉換為 `str`"
   ]
  },
  {
   "cell_type": "markdown",
   "metadata": {
    "slideshow": {
     "slide_type": "subslide"
    }
   },
   "source": [
    "## 檢視資料細節的 Preview 與 Response確認格式\n",
    "\n",
    "- 如果資料是 JSON 格式：呼叫回應的 `.json()` 方法後直接以 Python 資料結構解析\n",
    "- 如果資料是 XML 格式：呼叫回應的 `.text` 屬性後以 `xml` 搭配 XPath 解析\n",
    "- 如果資料是 HTML 格式：呼叫回應的 `.text` 屬性後以 `bs4` 搭配 CSS Selector 解析"
   ]
  },
  {
   "cell_type": "markdown",
   "metadata": {
    "slideshow": {
     "slide_type": "slide"
    }
   },
   "source": [
    "## 擷取 JSON 格式網頁資料"
   ]
  },
  {
   "cell_type": "markdown",
   "metadata": {
    "slideshow": {
     "slide_type": "subslide"
    }
   },
   "source": [
    "## 什麼是 JSON？\n",
    "\n",
    "> JavaScript Object Notation (JSON) 為將結構化資料 (structured data) 呈現為 JavaScript 物件的標準格式，常用於網站上的資料呈現、傳輸。\n",
    "\n",
    "Source: [mozilla.org](https://developer.mozilla.org/zh-TW/docs/Learn/JavaScript/Objects/JSON)"
   ]
  },
  {
   "cell_type": "markdown",
   "metadata": {
    "slideshow": {
     "slide_type": "subslide"
    }
   },
   "source": [
    "## JSON 是依照 JavaScript 物件語法的資料格式，經 Douglas Crockford 推廣普及。雖然 JSON 是以 JavaScript 語法為基礎，但可獨立使用，且許多程式設計環境亦可讀取 (剖析) 並產生 JSON。\n",
    "\n",
    "Source: [mozilla.org](https://developer.mozilla.org/zh-TW/docs/Learn/JavaScript/Objects/JSON)"
   ]
  },
  {
   "cell_type": "markdown",
   "metadata": {
    "slideshow": {
     "slide_type": "subslide"
    }
   },
   "source": [
    "## JSON 怎麼利用 Python 剖析與對應？\n",
    "\n",
    "- Python 具有標準套件 `json` 作為剖析的媒介\n",
    "- JSON 物件對應 Python 的 `dict` 類別\n",
    "- 陣列作為 JSON(array of JSON) 對應 Python 的 `list` of `dict`"
   ]
  },
  {
   "cell_type": "markdown",
   "metadata": {
    "slideshow": {
     "slide_type": "subslide"
    }
   },
   "source": [
    "## JSON 格式網頁資料範例\n",
    "\n",
    "- [data.nba](http://data.nba.net/prod/v1/today.json)\n",
    "- [PChome](https://ecshweb.pchome.com.tw/search/v3.3/all/results?q=macbook&page=1&sort=sale/dc)"
   ]
  },
  {
   "cell_type": "markdown",
   "metadata": {
    "slideshow": {
     "slide_type": "subslide"
    }
   },
   "source": [
    "## 擷取 JSON 格式網頁資料步驟\n",
    "\n",
    "- 使用 `requests` 請求資料\n",
    "- 呼叫回應的 `.json()` 方法，例如 `response.json()`\n",
    "- 視需求進行摘要"
   ]
  },
  {
   "cell_type": "markdown",
   "metadata": {
    "slideshow": {
     "slide_type": "subslide"
    }
   },
   "source": [
    "## 以 <http://data.nba.net/prod/v2/2019/teams.json> 示範"
   ]
  },
  {
   "cell_type": "code",
   "execution_count": 3,
   "metadata": {
    "slideshow": {
     "slide_type": "fragment"
    }
   },
   "outputs": [
    {
     "name": "stdout",
     "output_type": "stream",
     "text": [
      "<class 'dict'>\n",
      "{'_internal': {'pubDateTime': '2019-06-26 06:00:23.891 EDT', 'igorPath': 'cron,1561543218800,1561543218800|router,1561543218800,1561543218922|domUpdater,1561543219144,1561543219858|feedProducer,1561543221917,1561543224371', 'xslt': 'NBA/xsl/league/roster/marty_teams_list.xsl', 'xsltForceRecompile': 'true', 'xsltInCache': 'false', 'xsltCompileTimeMillis': '1545', 'xsltTransformTimeMillis': '540', 'consolidatedDomKey': 'qamanual__transform__marty_teams_list__5498140551604', 'endToEndTimeMillis': '5571'}, 'league': {'standard': [{'isNBAFranchise': False, 'isAllStar': False, 'city': 'Croatia', 'altCityName': 'Croatia', 'fullName': 'Team Croatia', 'tricode': 'CRO', 'teamId': '70', 'nickname': 'Croatia', 'urlName': 'croatia', 'teamShortName': 'Croatia', 'confName': 'summer', 'divName': ''}, {'isNBAFranchise': False, 'isAllStar': False, 'city': 'China', 'altCityName': 'China', 'fullName': 'Team China', 'tricode': 'CHN', 'teamId': '45', 'nickname': 'China', 'urlName': 'china', 'teamShortName': 'China', 'confName': 'summer', 'divName': ''}, {'isNBAFranchise': False, 'isAllStar': False, 'city': 'Adelaide', 'altCityName': 'Adelaide', 'fullName': 'Adelaide 36ers', 'tricode': 'ADL', 'teamId': '15019', 'nickname': '36ers', 'urlName': '36ers', 'teamShortName': 'Adelaide', 'confName': 'Intl', 'divName': ''}, {'isNBAFranchise': True, 'isAllStar': False, 'city': 'Atlanta', 'altCityName': 'Atlanta', 'fullName': 'Atlanta Hawks', 'tricode': 'ATL', 'teamId': '1610612737', 'nickname': 'Hawks', 'urlName': 'hawks', 'teamShortName': 'Atlanta', 'confName': 'East', 'divName': 'Southeast'}, {'isNBAFranchise': False, 'isAllStar': True, 'city': 'Away', 'altCityName': 'Away', 'fullName': 'Away Away', 'tricode': 'AWY', 'teamId': '1610616840', 'nickname': 'Away', 'urlName': 'away', 'teamShortName': 'Away', 'confName': 'East', 'divName': 'East'}, {'isNBAFranchise': False, 'isAllStar': False, 'city': 'Beijing', 'altCityName': 'Beijing', 'fullName': 'Beijing Ducks', 'tricode': 'BJD', 'teamId': '15021', 'nickname': 'Ducks', 'urlName': 'ducks', 'teamShortName': 'Beijing', 'confName': 'Intl', 'divName': ''}, {'isNBAFranchise': True, 'isAllStar': False, 'city': 'Boston', 'altCityName': 'Boston', 'fullName': 'Boston Celtics', 'tricode': 'BOS', 'teamId': '1610612738', 'nickname': 'Celtics', 'urlName': 'celtics', 'teamShortName': 'Boston', 'confName': 'East', 'divName': 'Atlantic'}, {'isNBAFranchise': True, 'isAllStar': False, 'city': 'Brooklyn', 'altCityName': 'Brooklyn', 'fullName': 'Brooklyn Nets', 'tricode': 'BKN', 'teamId': '1610612751', 'nickname': 'Nets', 'urlName': 'nets', 'teamShortName': 'Brooklyn', 'confName': 'East', 'divName': 'Atlantic'}, {'isNBAFranchise': True, 'isAllStar': False, 'city': 'Charlotte', 'altCityName': 'Charlotte', 'fullName': 'Charlotte Hornets', 'tricode': 'CHA', 'teamId': '1610612766', 'nickname': 'Hornets', 'urlName': 'hornets', 'teamShortName': 'Charlotte', 'confName': 'East', 'divName': 'Southeast'}, {'isNBAFranchise': False, 'isAllStar': False, 'city': 'Buenos Aires', 'altCityName': 'Buenos Aires', 'fullName': 'San Lorenzo de Almagro', 'tricode': 'SLA', 'teamId': '12330', 'nickname': 'San Lorenzo', 'urlName': 'san_lorenzo', 'teamShortName': 'San Lorenzo', 'confName': 'Intl', 'divName': ''}, {'isNBAFranchise': True, 'isAllStar': False, 'city': 'Chicago', 'altCityName': 'Chicago', 'fullName': 'Chicago Bulls', 'tricode': 'CHI', 'teamId': '1610612741', 'nickname': 'Bulls', 'urlName': 'bulls', 'teamShortName': 'Chicago', 'confName': 'East', 'divName': 'Central'}, {'isNBAFranchise': True, 'isAllStar': False, 'city': 'Cleveland', 'altCityName': 'Cleveland', 'fullName': 'Cleveland Cavaliers', 'tricode': 'CLE', 'teamId': '1610612739', 'nickname': 'Cavaliers', 'urlName': 'cavaliers', 'teamShortName': 'Cleveland', 'confName': 'East', 'divName': 'Central'}, {'isNBAFranchise': True, 'isAllStar': False, 'city': 'Dallas', 'altCityName': 'Dallas', 'fullName': 'Dallas Mavericks', 'tricode': 'DAL', 'teamId': '1610612742', 'nickname': 'Mavericks', 'urlName': 'mavericks', 'teamShortName': 'Dallas', 'confName': 'West', 'divName': 'Southwest'}, {'isNBAFranchise': True, 'isAllStar': False, 'city': 'Denver', 'altCityName': 'Denver', 'fullName': 'Denver Nuggets', 'tricode': 'DEN', 'teamId': '1610612743', 'nickname': 'Nuggets', 'urlName': 'nuggets', 'teamShortName': 'Denver', 'confName': 'West', 'divName': 'Northwest'}, {'isNBAFranchise': True, 'isAllStar': False, 'city': 'Detroit', 'altCityName': 'Detroit', 'fullName': 'Detroit Pistons', 'tricode': 'DET', 'teamId': '1610612765', 'nickname': 'Pistons', 'urlName': 'pistons', 'teamShortName': 'Detroit', 'confName': 'East', 'divName': 'Central'}, {'isNBAFranchise': False, 'isAllStar': False, 'city': 'Franca', 'altCityName': 'Franca', 'fullName': 'SESI/Franca', 'tricode': 'FRA', 'teamId': '12332', 'nickname': 'Franca', 'urlName': 'franca', 'teamShortName': 'Franca', 'confName': 'Intl', 'divName': ''}, {'isNBAFranchise': True, 'isAllStar': False, 'city': 'Golden State', 'altCityName': 'Golden State', 'fullName': 'Golden State Warriors', 'tricode': 'GSW', 'teamId': '1610612744', 'nickname': 'Warriors', 'urlName': 'warriors', 'teamShortName': 'Golden State', 'confName': 'West', 'divName': 'Pacific'}, {'isNBAFranchise': False, 'isAllStar': False, 'city': 'Guangzhou', 'altCityName': 'Guangzhou', 'fullName': 'Guangzhou Long-Lions', 'tricode': 'GUA', 'teamId': '15018', 'nickname': 'Long-Lions', 'urlName': 'long-lions', 'teamShortName': 'Guangzhou', 'confName': 'Intl', 'divName': ''}, {'isNBAFranchise': False, 'isAllStar': False, 'city': 'Haifa', 'altCityName': 'Haifa', 'fullName': 'Haifa Maccabi Haifa', 'tricode': 'MAC', 'teamId': '93', 'nickname': 'Maccabi Haifa', 'urlName': 'maccabi_haifa', 'teamShortName': 'Maccabi Haifa', 'confName': 'Intl', 'divName': ''}, {'isNBAFranchise': False, 'isAllStar': True, 'city': 'Home', 'altCityName': 'Home', 'fullName': 'Home Home', 'tricode': 'HME', 'teamId': '1610616839', 'nickname': 'Home', 'urlName': 'home', 'teamShortName': 'Home', 'confName': 'East', 'divName': 'East'}, {'isNBAFranchise': True, 'isAllStar': False, 'city': 'Houston', 'altCityName': 'Houston', 'fullName': 'Houston Rockets', 'tricode': 'HOU', 'teamId': '1610612745', 'nickname': 'Rockets', 'urlName': 'rockets', 'teamShortName': 'Houston', 'confName': 'West', 'divName': 'Southwest'}, {'isNBAFranchise': True, 'isAllStar': False, 'city': 'Indiana', 'altCityName': 'Indiana', 'fullName': 'Indiana Pacers', 'tricode': 'IND', 'teamId': '1610612754', 'nickname': 'Pacers', 'urlName': 'pacers', 'teamShortName': 'Indiana', 'confName': 'East', 'divName': 'Central'}, {'isNBAFranchise': True, 'isAllStar': False, 'city': 'LA', 'altCityName': 'LA Clippers', 'fullName': 'LA Clippers', 'tricode': 'LAC', 'teamId': '1610612746', 'nickname': 'Clippers', 'urlName': 'clippers', 'teamShortName': 'LA Clippers', 'confName': 'West', 'divName': 'Pacific'}, {'isNBAFranchise': True, 'isAllStar': False, 'city': 'Los Angeles', 'altCityName': 'Los Angeles Lakers', 'fullName': 'Los Angeles Lakers', 'tricode': 'LAL', 'teamId': '1610612747', 'nickname': 'Lakers', 'urlName': 'lakers', 'teamShortName': 'L.A. Lakers', 'confName': 'West', 'divName': 'Pacific'}, {'isNBAFranchise': False, 'isAllStar': False, 'city': 'Melbourne', 'altCityName': 'Melbourne', 'fullName': 'Melbourne United', 'tricode': 'MEL', 'teamId': '15016', 'nickname': 'United', 'urlName': 'united', 'teamShortName': 'Melbourne', 'confName': 'Intl', 'divName': ''}, {'isNBAFranchise': True, 'isAllStar': False, 'city': 'Memphis', 'altCityName': 'Memphis', 'fullName': 'Memphis Grizzlies', 'tricode': 'MEM', 'teamId': '1610612763', 'nickname': 'Grizzlies', 'urlName': 'grizzlies', 'teamShortName': 'Memphis', 'confName': 'West', 'divName': 'Southwest'}, {'isNBAFranchise': True, 'isAllStar': False, 'city': 'Miami', 'altCityName': 'Miami', 'fullName': 'Miami Heat', 'tricode': 'MIA', 'teamId': '1610612748', 'nickname': 'Heat', 'urlName': 'heat', 'teamShortName': 'Miami', 'confName': 'East', 'divName': 'Southeast'}, {'isNBAFranchise': True, 'isAllStar': False, 'city': 'Milwaukee', 'altCityName': 'Milwaukee', 'fullName': 'Milwaukee Bucks', 'tricode': 'MIL', 'teamId': '1610612749', 'nickname': 'Bucks', 'urlName': 'bucks', 'teamShortName': 'Milwaukee', 'confName': 'East', 'divName': 'Central'}, {'isNBAFranchise': True, 'isAllStar': False, 'city': 'Minnesota', 'altCityName': 'Minnesota', 'fullName': 'Minnesota Timberwolves', 'tricode': 'MIN', 'teamId': '1610612750', 'nickname': 'Timberwolves', 'urlName': 'timberwolves', 'teamShortName': 'Minnesota', 'confName': 'West', 'divName': 'Northwest'}, {'isNBAFranchise': True, 'isAllStar': False, 'city': 'New Orleans', 'altCityName': 'New Orleans', 'fullName': 'New Orleans Pelicans', 'tricode': 'NOP', 'teamId': '1610612740', 'nickname': 'Pelicans', 'urlName': 'pelicans', 'teamShortName': 'New Orleans', 'confName': 'West', 'divName': 'Southwest'}, {'isNBAFranchise': True, 'isAllStar': False, 'city': 'New York', 'altCityName': 'New York', 'fullName': 'New York Knicks', 'tricode': 'NYK', 'teamId': '1610612752', 'nickname': 'Knicks', 'urlName': 'knicks', 'teamShortName': 'New York', 'confName': 'East', 'divName': 'Atlantic'}, {'isNBAFranchise': False, 'isAllStar': False, 'city': 'New Zealand', 'altCityName': 'New Zealand', 'fullName': 'New Zealand Breakers', 'tricode': 'NZB', 'teamId': '15020', 'nickname': 'Breakers', 'urlName': 'breakers', 'teamShortName': 'New Zealand', 'confName': 'Intl', 'divName': ''}, {'isNBAFranchise': True, 'isAllStar': False, 'city': 'Oklahoma City', 'altCityName': 'Oklahoma City', 'fullName': 'Oklahoma City Thunder', 'tricode': 'OKC', 'teamId': '1610612760', 'nickname': 'Thunder', 'urlName': 'thunder', 'teamShortName': 'Oklahoma City', 'confName': 'West', 'divName': 'Northwest'}, {'isNBAFranchise': True, 'isAllStar': False, 'city': 'Orlando', 'altCityName': 'Orlando', 'fullName': 'Orlando Magic', 'tricode': 'ORL', 'teamId': '1610612753', 'nickname': 'Magic', 'urlName': 'magic', 'teamShortName': 'Orlando', 'confName': 'East', 'divName': 'Southeast'}, {'isNBAFranchise': False, 'isAllStar': False, 'city': 'Perth', 'altCityName': 'Perth', 'fullName': 'Perth Wildcats', 'tricode': 'PER', 'teamId': '104', 'nickname': 'Wildcats', 'urlName': 'wildcats', 'teamShortName': 'Perth', 'confName': 'Intl', 'divName': ''}, {'isNBAFranchise': True, 'isAllStar': False, 'city': 'Philadelphia', 'altCityName': 'Philadelphia', 'fullName': 'Philadelphia 76ers', 'tricode': 'PHI', 'teamId': '1610612755', 'nickname': '76ers', 'urlName': 'sixers', 'teamShortName': 'Philadelphia', 'confName': 'East', 'divName': 'Atlantic'}, {'isNBAFranchise': True, 'isAllStar': False, 'city': 'Phoenix', 'altCityName': 'Phoenix', 'fullName': 'Phoenix Suns', 'tricode': 'PHX', 'teamId': '1610612756', 'nickname': 'Suns', 'urlName': 'suns', 'teamShortName': 'Phoenix', 'confName': 'West', 'divName': 'Pacific'}, {'isNBAFranchise': True, 'isAllStar': False, 'city': 'Portland', 'altCityName': 'Portland', 'fullName': 'Portland Trail Blazers', 'tricode': 'POR', 'teamId': '1610612757', 'nickname': 'Trail Blazers', 'urlName': 'blazers', 'teamShortName': 'Portland', 'confName': 'West', 'divName': 'Northwest'}, {'isNBAFranchise': False, 'isAllStar': False, 'city': 'Rio de Janeiro', 'altCityName': 'Rio de Janeiro', 'fullName': 'Rio de Janeiro Flamengo', 'tricode': 'FLA', 'teamId': '12325', 'nickname': 'Flamengo', 'urlName': 'flamengo', 'teamShortName': 'Flamengo', 'confName': 'Intl', 'divName': ''}, {'isNBAFranchise': True, 'isAllStar': False, 'city': 'Sacramento', 'altCityName': 'Sacramento', 'fullName': 'Sacramento Kings', 'tricode': 'SAC', 'teamId': '1610612758', 'nickname': 'Kings', 'urlName': 'kings', 'teamShortName': 'Sacramento', 'confName': 'West', 'divName': 'Pacific'}, {'isNBAFranchise': True, 'isAllStar': False, 'city': 'San Antonio', 'altCityName': 'San Antonio', 'fullName': 'San Antonio Spurs', 'tricode': 'SAS', 'teamId': '1610612759', 'nickname': 'Spurs', 'urlName': 'spurs', 'teamShortName': 'San Antonio', 'confName': 'West', 'divName': 'Southwest'}, {'isNBAFranchise': False, 'isAllStar': False, 'city': 'Shanghai', 'altCityName': 'Shanghai', 'fullName': 'Shanghai Sharks', 'tricode': 'SDS', 'teamId': '12329', 'nickname': 'Sharks', 'urlName': 'shanghai_sharks', 'teamShortName': 'Shanghai', 'confName': 'Intl', 'divName': ''}, {'isNBAFranchise': False, 'isAllStar': False, 'city': 'Sydney', 'altCityName': 'Sydney', 'fullName': 'Sydney Kings', 'tricode': 'SYD', 'teamId': '15015', 'nickname': 'Kings', 'urlName': 'sydkings', 'teamShortName': 'Sydney', 'confName': 'Intl', 'divName': ''}, {'isNBAFranchise': False, 'isAllStar': True, 'city': 'Team', 'altCityName': 'Team', 'fullName': 'All-Stars', 'tricode': 'EST', 'teamId': '1699999999', 'nickname': 'All-Stars', 'urlName': 'assn_away', 'confName': 'East', 'divName': 'East'}, {'isNBAFranchise': False, 'isAllStar': True, 'city': 'Team', 'altCityName': 'Team', 'fullName': 'All-Stars', 'tricode': 'WST', 'teamId': '1699999998', 'nickname': 'All-Stars', 'urlName': 'assn_home', 'confName': 'West', 'divName': 'West'}, {'isNBAFranchise': False, 'isAllStar': True, 'city': 'Team Giannis', 'altCityName': 'Team Giannis', 'fullName': 'Team Giannis', 'tricode': 'GNS', 'teamId': '1610616833', 'nickname': 'Team Giannis', 'urlName': 'team_giannis', 'teamShortName': 'Team Giannis', 'confName': 'East', 'divName': 'East'}, {'isNBAFranchise': False, 'isAllStar': True, 'city': 'Team LeBron', 'altCityName': 'Team LeBron', 'fullName': 'Team LeBron', 'tricode': 'LBN', 'teamId': '1610616834', 'nickname': 'Team LeBron', 'urlName': 'team_lebron', 'teamShortName': 'Team LeBron', 'confName': 'West', 'divName': 'West'}, {'isNBAFranchise': True, 'isAllStar': False, 'city': 'Toronto', 'altCityName': 'Toronto', 'fullName': 'Toronto Raptors', 'tricode': 'TOR', 'teamId': '1610612761', 'nickname': 'Raptors', 'urlName': 'raptors', 'teamShortName': 'Toronto', 'confName': 'East', 'divName': 'Atlantic'}, {'isNBAFranchise': False, 'isAllStar': True, 'city': 'USA', 'altCityName': 'USA', 'fullName': 'USA', 'tricode': 'USA', 'teamId': '1610616843', 'nickname': 'USA', 'urlName': 'usa', 'teamShortName': 'USA', 'confName': 'East', 'divName': 'East'}, {'isNBAFranchise': True, 'isAllStar': False, 'city': 'Utah', 'altCityName': 'Utah', 'fullName': 'Utah Jazz', 'tricode': 'UTA', 'teamId': '1610612762', 'nickname': 'Jazz', 'urlName': 'jazz', 'teamShortName': 'Utah', 'confName': 'West', 'divName': 'Northwest'}, {'isNBAFranchise': True, 'isAllStar': False, 'city': 'Washington', 'altCityName': 'Washington', 'fullName': 'Washington Wizards', 'tricode': 'WAS', 'teamId': '1610612764', 'nickname': 'Wizards', 'urlName': 'wizards', 'teamShortName': 'Washington', 'confName': 'East', 'divName': 'Southeast'}, {'isNBAFranchise': False, 'isAllStar': True, 'city': 'World', 'altCityName': 'World', 'fullName': 'World', 'tricode': 'WLD', 'teamId': '1610616844', 'nickname': 'World', 'urlName': 'world', 'teamShortName': 'World', 'confName': 'East', 'divName': 'East'}], 'africa': [{'isNBAFranchise': False, 'isAllStar': False, 'city': 'Team', 'altCityName': 'Team', 'fullName': 'Team USA', 'tricode': 'USA', 'teamId': '22', 'nickname': 'USA', 'urlName': 'nhs_usa', 'teamShortName': 'USA', 'confName': '', 'divName': ''}, {'isNBAFranchise': False, 'isAllStar': False, 'city': 'Team', 'altCityName': 'Team', 'fullName': 'Team World', 'tricode': 'WLD', 'teamId': '21', 'nickname': 'World', 'urlName': 'nhs_world', 'teamShortName': 'World', 'confName': '', 'divName': ''}], 'sacramento': [{'isNBAFranchise': True, 'isAllStar': False, 'city': 'Golden State', 'altCityName': 'Golden State', 'fullName': 'Golden State Warriors', 'tricode': 'GSW', 'teamId': '1610612744', 'nickname': 'Warriors', 'urlName': 'warriors', 'teamShortName': 'Golden State', 'confName': 'Sacramento', 'divName': ''}, {'isNBAFranchise': True, 'isAllStar': False, 'city': 'Los Angeles', 'altCityName': 'Los Angeles Lakers', 'fullName': 'Los Angeles Lakers', 'tricode': 'LAL', 'teamId': '1610612747', 'nickname': 'Lakers', 'urlName': 'lakers', 'teamShortName': 'L.A. Lakers', 'confName': 'Sacramento', 'divName': ''}, {'isNBAFranchise': True, 'isAllStar': False, 'city': 'Miami', 'altCityName': 'Miami', 'fullName': 'Miami Heat', 'tricode': 'MIA', 'teamId': '1610612748', 'nickname': 'Heat', 'urlName': 'heat', 'teamShortName': 'Miami', 'confName': 'Sacramento', 'divName': ''}, {'isNBAFranchise': True, 'isAllStar': False, 'city': 'Sacramento', 'altCityName': 'Sacramento', 'fullName': 'Sacramento Kings', 'tricode': 'SAC', 'teamId': '1610612758', 'nickname': 'Kings', 'urlName': 'kings', 'teamShortName': 'Sacramento', 'confName': 'Sacramento', 'divName': ''}], 'vegas': [{'isNBAFranchise': True, 'isAllStar': False, 'city': 'Atlanta', 'altCityName': 'Atlanta', 'fullName': 'Atlanta Hawks', 'tricode': 'ATL', 'teamId': '1610612737', 'nickname': 'Hawks', 'urlName': 'hawks', 'teamShortName': 'Atlanta', 'confName': 'summer', 'divName': ''}, {'isNBAFranchise': True, 'isAllStar': False, 'city': 'Boston', 'altCityName': 'Boston', 'fullName': 'Boston Celtics', 'tricode': 'BOS', 'teamId': '1610612738', 'nickname': 'Celtics', 'urlName': 'celtics', 'teamShortName': 'Boston', 'confName': 'summer', 'divName': ''}, {'isNBAFranchise': True, 'isAllStar': False, 'city': 'Brooklyn', 'altCityName': 'Brooklyn', 'fullName': 'Brooklyn Nets', 'tricode': 'BKN', 'teamId': '1610612751', 'nickname': 'Nets', 'urlName': 'nets', 'teamShortName': 'Brooklyn', 'confName': 'summer', 'divName': ''}, {'isNBAFranchise': True, 'isAllStar': False, 'city': 'Charlotte', 'altCityName': 'Charlotte', 'fullName': 'Charlotte Hornets', 'tricode': 'CHA', 'teamId': '1610612766', 'nickname': 'Hornets', 'urlName': 'hornets', 'teamShortName': 'Charlotte', 'confName': 'summer', 'divName': ''}, {'isNBAFranchise': True, 'isAllStar': False, 'city': 'Chicago', 'altCityName': 'Chicago', 'fullName': 'Chicago Bulls', 'tricode': 'CHI', 'teamId': '1610612741', 'nickname': 'Bulls', 'urlName': 'bulls', 'teamShortName': 'Chicago', 'confName': 'summer', 'divName': ''}, {'isNBAFranchise': False, 'isAllStar': False, 'city': 'China', 'altCityName': 'China', 'fullName': 'Team China', 'tricode': 'CHN', 'teamId': '45', 'nickname': 'China', 'urlName': 'china', 'teamShortName': 'China', 'confName': 'summer', 'divName': ''}, {'isNBAFranchise': True, 'isAllStar': False, 'city': 'Cleveland', 'altCityName': 'Cleveland', 'fullName': 'Cleveland Cavaliers', 'tricode': 'CLE', 'teamId': '1610612739', 'nickname': 'Cavaliers', 'urlName': 'cavaliers', 'teamShortName': 'Cleveland', 'confName': 'summer', 'divName': ''}, {'isNBAFranchise': False, 'isAllStar': False, 'city': 'Croatia', 'altCityName': 'Croatia', 'fullName': 'Team Croatia', 'tricode': 'CRO', 'teamId': '70', 'nickname': 'Croatia', 'urlName': 'croatia', 'teamShortName': 'Croatia', 'confName': 'summer', 'divName': ''}, {'isNBAFranchise': True, 'isAllStar': False, 'city': 'Dallas', 'altCityName': 'Dallas', 'fullName': 'Dallas Mavericks', 'tricode': 'DAL', 'teamId': '1610612742', 'nickname': 'Mavericks', 'urlName': 'mavericks', 'teamShortName': 'Dallas', 'confName': 'summer', 'divName': ''}, {'isNBAFranchise': True, 'isAllStar': False, 'city': 'Denver', 'altCityName': 'Denver', 'fullName': 'Denver Nuggets', 'tricode': 'DEN', 'teamId': '1610612743', 'nickname': 'Nuggets', 'urlName': 'nuggets', 'teamShortName': 'Denver', 'confName': 'summer', 'divName': ''}, {'isNBAFranchise': True, 'isAllStar': False, 'city': 'Detroit', 'altCityName': 'Detroit', 'fullName': 'Detroit Pistons', 'tricode': 'DET', 'teamId': '1610612765', 'nickname': 'Pistons', 'urlName': 'pistons', 'teamShortName': 'Detroit', 'confName': 'summer', 'divName': ''}, {'isNBAFranchise': True, 'isAllStar': False, 'city': 'Golden State', 'altCityName': 'Golden State', 'fullName': 'Golden State Warriors', 'tricode': 'GSW', 'teamId': '1610612744', 'nickname': 'Warriors', 'urlName': 'warriors', 'teamShortName': 'Golden State', 'confName': 'summer', 'divName': ''}, {'isNBAFranchise': True, 'isAllStar': False, 'city': 'Houston', 'altCityName': 'Houston', 'fullName': 'Houston Rockets', 'tricode': 'HOU', 'teamId': '1610612745', 'nickname': 'Rockets', 'urlName': 'rockets', 'teamShortName': 'Houston', 'confName': 'summer', 'divName': ''}, {'isNBAFranchise': True, 'isAllStar': False, 'city': 'Indiana', 'altCityName': 'Indiana', 'fullName': 'Indiana Pacers', 'tricode': 'IND', 'teamId': '1610612754', 'nickname': 'Pacers', 'urlName': 'pacers', 'teamShortName': 'Indiana', 'confName': 'summer', 'divName': ''}, {'isNBAFranchise': True, 'isAllStar': False, 'city': 'LA', 'altCityName': 'LA Clippers', 'fullName': 'LA Clippers', 'tricode': 'LAC', 'teamId': '1610612746', 'nickname': 'Clippers', 'urlName': 'clippers', 'teamShortName': 'LA Clippers', 'confName': 'summer', 'divName': ''}, {'isNBAFranchise': True, 'isAllStar': False, 'city': 'Los Angeles', 'altCityName': 'Los Angeles Lakers', 'fullName': 'Los Angeles Lakers', 'tricode': 'LAL', 'teamId': '1610612747', 'nickname': 'Lakers', 'urlName': 'lakers', 'teamShortName': 'L.A. Lakers', 'confName': 'summer', 'divName': ''}, {'isNBAFranchise': True, 'isAllStar': False, 'city': 'Memphis', 'altCityName': 'Memphis', 'fullName': 'Memphis Grizzlies', 'tricode': 'MEM', 'teamId': '1610612763', 'nickname': 'Grizzlies', 'urlName': 'grizzlies', 'teamShortName': 'Memphis', 'confName': 'summer', 'divName': ''}, {'isNBAFranchise': True, 'isAllStar': False, 'city': 'Miami', 'altCityName': 'Miami', 'fullName': 'Miami Heat', 'tricode': 'MIA', 'teamId': '1610612748', 'nickname': 'Heat', 'urlName': 'heat', 'teamShortName': 'Miami', 'confName': 'summer', 'divName': ''}, {'isNBAFranchise': True, 'isAllStar': False, 'city': 'Milwaukee', 'altCityName': 'Milwaukee', 'fullName': 'Milwaukee Bucks', 'tricode': 'MIL', 'teamId': '1610612749', 'nickname': 'Bucks', 'urlName': 'bucks', 'teamShortName': 'Milwaukee', 'confName': 'summer', 'divName': ''}, {'isNBAFranchise': True, 'isAllStar': False, 'city': 'Minnesota', 'altCityName': 'Minnesota', 'fullName': 'Minnesota Timberwolves', 'tricode': 'MIN', 'teamId': '1610612750', 'nickname': 'Timberwolves', 'urlName': 'timberwolves', 'teamShortName': 'Minnesota', 'confName': 'summer', 'divName': ''}, {'isNBAFranchise': True, 'isAllStar': False, 'city': 'New Orleans', 'altCityName': 'New Orleans', 'fullName': 'New Orleans Pelicans', 'tricode': 'NOP', 'teamId': '1610612740', 'nickname': 'Pelicans', 'urlName': 'pelicans', 'teamShortName': 'New Orleans', 'confName': 'summer', 'divName': ''}, {'isNBAFranchise': True, 'isAllStar': False, 'city': 'New York', 'altCityName': 'New York', 'fullName': 'New York Knicks', 'tricode': 'NYK', 'teamId': '1610612752', 'nickname': 'Knicks', 'urlName': 'knicks', 'teamShortName': 'New York', 'confName': 'summer', 'divName': ''}, {'isNBAFranchise': True, 'isAllStar': False, 'city': 'Oklahoma City', 'altCityName': 'Oklahoma City', 'fullName': 'Oklahoma City Thunder', 'tricode': 'OKC', 'teamId': '1610612760', 'nickname': 'Thunder', 'urlName': 'thunder', 'teamShortName': 'Oklahoma City', 'confName': 'summer', 'divName': ''}, {'isNBAFranchise': True, 'isAllStar': False, 'city': 'Orlando', 'altCityName': 'Orlando', 'fullName': 'Orlando Magic', 'tricode': 'ORL', 'teamId': '1610612753', 'nickname': 'Magic', 'urlName': 'magic', 'teamShortName': 'Orlando', 'confName': 'summer', 'divName': ''}, {'isNBAFranchise': True, 'isAllStar': False, 'city': 'Philadelphia', 'altCityName': 'Philadelphia', 'fullName': 'Philadelphia 76ers', 'tricode': 'PHI', 'teamId': '1610612755', 'nickname': '76ers', 'urlName': 'sixers', 'teamShortName': 'Philadelphia', 'confName': 'summer', 'divName': ''}, {'isNBAFranchise': True, 'isAllStar': False, 'city': 'Phoenix', 'altCityName': 'Phoenix', 'fullName': 'Phoenix Suns', 'tricode': 'PHX', 'teamId': '1610612756', 'nickname': 'Suns', 'urlName': 'suns', 'teamShortName': 'Phoenix', 'confName': 'summer', 'divName': ''}, {'isNBAFranchise': True, 'isAllStar': False, 'city': 'Portland', 'altCityName': 'Portland', 'fullName': 'Portland Trail Blazers', 'tricode': 'POR', 'teamId': '1610612757', 'nickname': 'Trail Blazers', 'urlName': 'blazers', 'teamShortName': 'Portland', 'confName': 'summer', 'divName': ''}, {'isNBAFranchise': True, 'isAllStar': False, 'city': 'Sacramento', 'altCityName': 'Sacramento', 'fullName': 'Sacramento Kings', 'tricode': 'SAC', 'teamId': '1610612758', 'nickname': 'Kings', 'urlName': 'kings', 'teamShortName': 'Sacramento', 'confName': 'summer', 'divName': ''}, {'isNBAFranchise': True, 'isAllStar': False, 'city': 'San Antonio', 'altCityName': 'San Antonio', 'fullName': 'San Antonio Spurs', 'tricode': 'SAS', 'teamId': '1610612759', 'nickname': 'Spurs', 'urlName': 'spurs', 'teamShortName': 'San Antonio', 'confName': 'summer', 'divName': ''}, {'isNBAFranchise': True, 'isAllStar': False, 'city': 'Toronto', 'altCityName': 'Toronto', 'fullName': 'Toronto Raptors', 'tricode': 'TOR', 'teamId': '1610612761', 'nickname': 'Raptors', 'urlName': 'raptors', 'teamShortName': 'Toronto', 'confName': 'summer', 'divName': ''}, {'isNBAFranchise': True, 'isAllStar': False, 'city': 'Utah', 'altCityName': 'Utah', 'fullName': 'Utah Jazz', 'tricode': 'UTA', 'teamId': '1610612762', 'nickname': 'Jazz', 'urlName': 'jazz', 'teamShortName': 'Utah', 'confName': 'summer', 'divName': ''}, {'isNBAFranchise': True, 'isAllStar': False, 'city': 'Washington', 'altCityName': 'Washington', 'fullName': 'Washington Wizards', 'tricode': 'WAS', 'teamId': '1610612764', 'nickname': 'Wizards', 'urlName': 'wizards', 'teamShortName': 'Washington', 'confName': 'summer', 'divName': ''}], 'utah': [{'isNBAFranchise': True, 'isAllStar': False, 'city': 'Cleveland', 'altCityName': 'Cleveland', 'fullName': 'Cleveland Cavaliers', 'tricode': 'CLE', 'teamId': '1610612739', 'nickname': 'Cavaliers', 'urlName': 'cavaliers', 'teamShortName': 'Cleveland', 'confName': 'Utah', 'divName': ''}, {'isNBAFranchise': True, 'isAllStar': False, 'city': 'Memphis', 'altCityName': 'Memphis', 'fullName': 'Memphis Grizzlies', 'tricode': 'MEM', 'teamId': '1610612763', 'nickname': 'Grizzlies', 'urlName': 'grizzlies', 'teamShortName': 'Memphis', 'confName': 'Utah', 'divName': ''}, {'isNBAFranchise': True, 'isAllStar': False, 'city': 'San Antonio', 'altCityName': 'San Antonio', 'fullName': 'San Antonio Spurs', 'tricode': 'SAS', 'teamId': '1610612759', 'nickname': 'Spurs', 'urlName': 'spurs', 'teamShortName': 'San Antonio', 'confName': 'Utah', 'divName': ''}, {'isNBAFranchise': True, 'isAllStar': False, 'city': 'Utah', 'altCityName': 'Utah', 'fullName': 'Utah Jazz', 'tricode': 'UTA', 'teamId': '1610612762', 'nickname': 'Jazz', 'urlName': 'jazz', 'teamShortName': 'Utah', 'confName': 'Utah', 'divName': ''}]}}\n"
     ]
    }
   ],
   "source": [
    "request_url = \"http://data.nba.net/prod/v2/2019/teams.json\"\n",
    "response = requests.get(request_url)\n",
    "teams = response.json()\n",
    "print(type(teams))\n",
    "print(teams)"
   ]
  },
  {
   "cell_type": "markdown",
   "metadata": {
    "slideshow": {
     "slide_type": "slide"
    }
   },
   "source": [
    "## 擷取 XML 格式網頁資料"
   ]
  },
  {
   "cell_type": "markdown",
   "metadata": {
    "slideshow": {
     "slide_type": "subslide"
    }
   },
   "source": [
    "## 什麼是 XML？\n",
    "\n",
    "> 可延伸標示語（Extensible Markup Language）是一個讓文件同時能夠很容易地讓人去閱讀，又很容易讓電腦程式去辨識的語言格式，和 JSON 格式相同常被用於網站上的資料呈現、傳輸。\n",
    "\n",
    "Source: <https://www.w3schools.com/xml/>"
   ]
  },
  {
   "cell_type": "markdown",
   "metadata": {
    "slideshow": {
     "slide_type": "subslide"
    }
   },
   "source": [
    "## 擷取 XML 格式網頁資料步驟\n",
    "\n",
    "- 使用 `requests` 請求資料\n",
    "- 使用回應的 `.text` 屬性，例如 `response.text`\n",
    "- 以 `xml` 搭配 XPath 解析"
   ]
  },
  {
   "cell_type": "markdown",
   "metadata": {
    "slideshow": {
     "slide_type": "subslide"
    }
   },
   "source": [
    "## 什麼是 XPath？\n",
    "\n",
    "> XML Path Language，譯作 XML 路徑語言，用來定位 XML 檔案中特定資訊的位置。\n",
    "\n",
    "Source: <https://www.w3schools.com/xml/xpath_intro.asp>"
   ]
  },
  {
   "cell_type": "markdown",
   "metadata": {
    "slideshow": {
     "slide_type": "subslide"
    }
   },
   "source": [
    "## 以 https://emap.pcsc.com.tw 示範"
   ]
  },
  {
   "cell_type": "code",
   "execution_count": 4,
   "metadata": {},
   "outputs": [
    {
     "name": "stdout",
     "output_type": "stream",
     "text": [
      "200\n"
     ]
    }
   ],
   "source": [
    "#進行 POST 請求時要攜帶資料\n",
    "form_data = {\n",
    "    \"commandid\": \"GetTown\",\n",
    "    \"cityid\": \"01\"\n",
    "}\n",
    "request_url = \"https://emap.pcsc.com.tw/EMapSDK.aspx\"\n",
    "response = requests.post(request_url, data=form_data)\n",
    "print(response.status_code)"
   ]
  },
  {
   "cell_type": "markdown",
   "metadata": {
    "slideshow": {
     "slide_type": "subslide"
    }
   },
   "source": [
    "## 利用開發人員工具的 Preview 頁籤檢視 XML 的樹狀結構：行政區\n",
    "\n",
    "![Imgur](https://i.imgur.com/3kPU5sV.png)"
   ]
  },
  {
   "cell_type": "markdown",
   "metadata": {
    "slideshow": {
     "slide_type": "subslide"
    }
   },
   "source": [
    "## TownName 標籤的 XPath\n",
    "\n",
    "`./GeoPosition/TownName` 或 `.//TownName`"
   ]
  },
  {
   "cell_type": "markdown",
   "metadata": {
    "slideshow": {
     "slide_type": "subslide"
    }
   },
   "source": [
    "## 利用開發人員工具的 Preview 頁籤檢視 XML 的樹狀結構：路段資訊\n",
    "\n",
    "![Imgur](https://i.imgur.com/QpUSEzF.png)"
   ]
  },
  {
   "cell_type": "markdown",
   "metadata": {
    "slideshow": {
     "slide_type": "subslide"
    }
   },
   "source": [
    "## rd_name_1 標籤的 XPath\n",
    "\n",
    "`./RoadName/rd_name_1` 或 `.//rd_name_1`"
   ]
  },
  {
   "cell_type": "markdown",
   "metadata": {
    "slideshow": {
     "slide_type": "subslide"
    }
   },
   "source": [
    "## section_1 標籤的 XPath\n",
    "\n",
    "`./RoadName/section_1` 或 `.//section_1`"
   ]
  },
  {
   "cell_type": "markdown",
   "metadata": {
    "slideshow": {
     "slide_type": "subslide"
    }
   },
   "source": [
    "## 利用開發人員工具的 Preview 頁籤檢視 XML 的樹狀結構：商店資訊\n",
    "\n",
    "![Imgur](https://i.imgur.com/CKuV4KT.png)"
   ]
  },
  {
   "cell_type": "markdown",
   "metadata": {
    "slideshow": {
     "slide_type": "subslide"
    }
   },
   "source": [
    "## POIName 標籤的 XPath\n",
    "\n",
    "`./GeoPosition/POIName` 或 `.//POIName`"
   ]
  },
  {
   "cell_type": "markdown",
   "metadata": {
    "slideshow": {
     "slide_type": "subslide"
    }
   },
   "source": [
    "## 以 `xml` 解析行政區資訊"
   ]
  },
  {
   "cell_type": "code",
   "execution_count": 5,
   "metadata": {},
   "outputs": [
    {
     "name": "stdout",
     "output_type": "stream",
     "text": [
      "['松山區', '信義區', '大安區', '中山區', '中正區', '大同區', '萬華區', '文山區', '南港區', '內湖區', '士林區', '北投區']\n"
     ]
    }
   ],
   "source": [
    "from xml.etree import ElementTree as etree\n",
    "\n",
    "tree = etree.fromstring(response.text)\n",
    "town_names = [t.text for t in tree.findall(\".//TownName\")] # XPath 亦可以指定 ./GeoPosition/TownName\n",
    "print(town_names)"
   ]
  },
  {
   "cell_type": "markdown",
   "metadata": {
    "slideshow": {
     "slide_type": "slide"
    }
   },
   "source": [
    "## 擷取 HTML 格式網頁資料"
   ]
  },
  {
   "cell_type": "markdown",
   "metadata": {
    "slideshow": {
     "slide_type": "subslide"
    }
   },
   "source": [
    "## 擷取 HTML 格式網頁資料步驟\n",
    "\n",
    "- 使用 `requests` 請求資料\n",
    "- 使用回應的 `.text` 屬性，例如 `response.text`\n",
    "- 以 `bs4` 搭配 Tag Name/CSS Selector 解析"
   ]
  },
  {
   "cell_type": "markdown",
   "metadata": {
    "slideshow": {
     "slide_type": "subslide"
    }
   },
   "source": [
    "## 常見用來標示 HTML 資料的方法\n",
    "\n",
    "- 資料所在的 CSS 選擇器（CSS Selector）\n",
    "    - HTML 的標記名稱\n",
    "    - HTML 標記中的 id\n",
    "    - HTML 標記中的 class"
   ]
  },
  {
   "cell_type": "markdown",
   "metadata": {
    "slideshow": {
     "slide_type": "subslide"
    }
   },
   "source": [
    "## 幫助定位 CSS 選擇器的 Chrome 外掛\n",
    "\n",
    "[SelectorGadget](https://chrome.google.com/webstore/detail/selectorgadget/mhjhnkcfbdhnjickkkdbjoemdmbfginb)"
   ]
  },
  {
   "cell_type": "markdown",
   "metadata": {
    "slideshow": {
     "slide_type": "subslide"
    }
   },
   "source": [
    "## [SelectorGadget](https://chrome.google.com/webstore/detail/selectorgadget/mhjhnkcfbdhnjickkkdbjoemdmbfginb) 的使用方法\n",
    "\n",
    "1. 點選 SelectorGadget 的外掛圖示\n",
    "2. 留意 SelectorGadget 的 CSS 選擇器\n",
    "3. 移動滑鼠到想要定位的元素\n",
    "3. 在想要定位的資料上面點選左鍵，留意 Clear 後面數字表示有多少個元素被選擇到\n",
    "4. 移動滑鼠點選不要選擇的元素（改以紅底標記），並同時注意 CSS 選擇器位址與 Clear 後面數字"
   ]
  },
  {
   "cell_type": "markdown",
   "metadata": {
    "slideshow": {
     "slide_type": "subslide"
    }
   },
   "source": [
    "## 以 [Avengers: Endgame (2019)](https://www.imdb.com/title/tt4154796) 示範 [SelectorGadget](https://chrome.google.com/webstore/detail/selectorgadget/mhjhnkcfbdhnjickkkdbjoemdmbfginb) 的使用方法\n",
    "\n",
    "- 電影名稱\n",
    "- 電影海報\n",
    "- 評分\n",
    "- 劇情類型\n",
    "- 演員陣容"
   ]
  },
  {
   "cell_type": "markdown",
   "metadata": {
    "slideshow": {
     "slide_type": "subslide"
    }
   },
   "source": [
    "## 以 [Avengers: Endgame (2019)](https://www.imdb.com/title/tt4154796) 示範 bs4"
   ]
  },
  {
   "cell_type": "markdown",
   "metadata": {
    "slideshow": {
     "slide_type": "subslide"
    }
   },
   "source": [
    "## 常用的 bs4 函式\n",
    "\n",
    "`BeautifulSoup()`：創建 `BeautifulSoup` 類別"
   ]
  },
  {
   "cell_type": "code",
   "execution_count": 6,
   "metadata": {},
   "outputs": [
    {
     "name": "stdout",
     "output_type": "stream",
     "text": [
      "<class 'bs4.BeautifulSoup'>\n"
     ]
    }
   ],
   "source": [
    "# !pip install -U BeautifulSoup4\n",
    "from bs4 import BeautifulSoup\n",
    "\n",
    "request_url = \"https://www.imdb.com/title/tt4154796\"\n",
    "response = requests.get(request_url)\n",
    "response_text = response.text\n",
    "soup = BeautifulSoup(response_text)\n",
    "print(type(soup))"
   ]
  },
  {
   "cell_type": "markdown",
   "metadata": {
    "slideshow": {
     "slide_type": "subslide"
    }
   },
   "source": [
    "## 常用的方法\n",
    "\n",
    "`soup.select()`：尋找所有符合 CSS 選擇的資料"
   ]
  },
  {
   "cell_type": "code",
   "execution_count": 7,
   "metadata": {
    "slideshow": {
     "slide_type": "subslide"
    }
   },
   "outputs": [
    {
     "name": "stdout",
     "output_type": "stream",
     "text": [
      "[<span itemprop=\"ratingValue\">8.4</span>]\n",
      "8.4\n"
     ]
    }
   ],
   "source": [
    "print(soup.select(\"strong span\"))\n",
    "print(float(soup.select(\"strong span\")[0].text))"
   ]
  },
  {
   "cell_type": "markdown",
   "metadata": {
    "slideshow": {
     "slide_type": "subslide"
    }
   },
   "source": [
    "## 常用的 element.Tag 屬性、方法\n",
    "\n",
    "- `element.Tag.text`：取出標記中的文字值\n",
    "- `element.Tag.get(attr)`：取出標記中的指定屬性"
   ]
  },
  {
   "cell_type": "code",
   "execution_count": 8,
   "metadata": {
    "slideshow": {
     "slide_type": "subslide"
    }
   },
   "outputs": [
    {
     "name": "stdout",
     "output_type": "stream",
     "text": [
      "84\n",
      "<img class=\"pro_logo\" src=\"https://m.media-amazon.com/images/G/01/imdb/IMDbConsumerSiteProTitleViews/images/logo/pro_logo_dark-3176609149._CB468516142_.png\"/>\n",
      "None\n",
      "https://m.media-amazon.com/images/G/01/imdb/IMDbConsumerSiteProTitleViews/images/logo/pro_logo_dark-3176609149._CB468516142_.png\n"
     ]
    }
   ],
   "source": [
    "print(len(soup.find_all(\"img\")))\n",
    "print(soup.find_all(\"img\")[2])\n",
    "print(soup.find_all(\"img\")[2].get(\"alt\"))\n",
    "print(soup.find_all(\"img\")[2].get(\"src\"))"
   ]
  },
  {
   "cell_type": "code",
   "execution_count": 9,
   "metadata": {
    "slideshow": {
     "slide_type": "subslide"
    }
   },
   "outputs": [
    {
     "name": "stdout",
     "output_type": "stream",
     "text": [
      "[<span itemprop=\"ratingValue\">8.4</span>]\n",
      "8.4\n"
     ]
    }
   ],
   "source": [
    "print(soup.select(\"strong span\"))\n",
    "print(float(soup.select(\"strong span\")[0].text))"
   ]
  },
  {
   "cell_type": "markdown",
   "metadata": {
    "slideshow": {
     "slide_type": "subslide"
    }
   },
   "source": [
    "## 讓 `get_movie_data()` 更方便使用\n",
    "\n",
    "- 可以輸入電影名稱，而非 URL！\n",
    "- 觀察 <https://www.imdb.com/find?q=Avengers%3A+Endgame&ref_=nv_sr_sm>"
   ]
  },
  {
   "cell_type": "markdown",
   "metadata": {
    "slideshow": {
     "slide_type": "subslide"
    }
   },
   "source": [
    "## 在 `get()` 中加入 `params`\n",
    "\n",
    "```python\n",
    "query_string_parameters = {\n",
    "    'q': 'Avengers: Endgame',\n",
    "    'ref_': 'nv_sr_sm'\n",
    "}\n",
    "```\n",
    "\n",
    "![Imgur](https://i.imgur.com/KOE4EGm.png?1)"
   ]
  },
  {
   "cell_type": "code",
   "execution_count": 10,
   "metadata": {
    "slideshow": {
     "slide_type": "subslide"
    }
   },
   "outputs": [
    {
     "name": "stdout",
     "output_type": "stream",
     "text": [
      "200\n"
     ]
    }
   ],
   "source": [
    "query_string_parameters = {\n",
    "    'q': 'Avengers: Endgame',\n",
    "    'ref_': 'nv_sr_sm'\n",
    "}\n",
    "request_url = \"https://www.imdb.com/find\"\n",
    "response = requests.get(request_url, params=query_string_parameters)\n",
    "print(response.status_code)"
   ]
  },
  {
   "cell_type": "code",
   "execution_count": 11,
   "metadata": {
    "slideshow": {
     "slide_type": "subslide"
    }
   },
   "outputs": [
    {
     "name": "stdout",
     "output_type": "stream",
     "text": [
      "['/title/tt4154796/', '/title/tt10255990/', '/title/tt8055070/', '/title/tt9827182/', '/title/tt9449376/', '/title/tt10025738/', '/title/tt10279074/', '/title/tt5659872/', '/title/tt11569352/', '/title/tt11055838/', '/title/tt10259724/', '/title/tt6128606/', '/search/keyword?keywords=avengers-endgame', '/search/keyword?keywords=reference-to-avengers-endgame', '/search/keyword?keywords=reference-to-%27avengers-endgame%27-2019']\n"
     ]
    }
   ],
   "source": [
    "soup = BeautifulSoup(response.text)\n",
    "result_hrefs = [e.get(\"href\") for e in soup.select(\".result_text a\")]\n",
    "print(result_hrefs)"
   ]
  },
  {
   "cell_type": "markdown",
   "metadata": {
    "slideshow": {
     "slide_type": "subslide"
    }
   },
   "source": [
    "## 最相近搜尋結果的電影頁面網址"
   ]
  },
  {
   "cell_type": "code",
   "execution_count": 12,
   "metadata": {},
   "outputs": [
    {
     "name": "stdout",
     "output_type": "stream",
     "text": [
      "https://www.imdb.com/title/tt4154796/\n"
     ]
    }
   ],
   "source": [
    "movie_url = \"https://www.imdb.com\" + result_hrefs[0]\n",
    "print(movie_url)"
   ]
  },
  {
   "cell_type": "markdown",
   "metadata": {
    "slideshow": {
     "slide_type": "subslide"
    }
   },
   "source": [
    "## 有時候 `requests` 送出的請求需要攜帶餅乾（cookies），否則回傳的資料會不符合預期\n",
    "\n",
    "- [PTT 八卦版](https://www.ptt.cc/bbs/Gossiping/index.html)\n",
    "- [華航機上電影清單](http://www.fantasy-sky.com/ContentList.aspx?section=002)"
   ]
  },
  {
   "cell_type": "code",
   "execution_count": 13,
   "metadata": {
    "slideshow": {
     "slide_type": "subslide"
    }
   },
   "outputs": [
    {
     "name": "stdout",
     "output_type": "stream",
     "text": [
      "<!DOCTYPE html>\n",
      "<html>\n",
      "\t<head>\n",
      "\t\t<meta charset=\"utf-8\">\n",
      "\t\t\n",
      "\n",
      "<meta name=\"viewport\" content=\"width=device-width, initial-scale=1\">\n",
      "\n",
      "<title>批踢踢實業坊</title>\n",
      "\n",
      "<link rel=\"stylesheet\" type=\"text/css\" href=\"//images.ptt.cc/bbs/v2.27/bbs-common.css\">\n",
      "<link rel=\"stylesheet\" type=\"text/css\" href=\"//images.ptt.cc/bbs/v2.27/bbs-base.css\" media=\"screen\">\n",
      "<link rel=\"stylesheet\" type=\"text/css\" href=\"//images.ptt.cc/bbs/v2.27/bbs-custom.css\">\n",
      "<link rel=\"stylesheet\" type=\"text/css\" href=\"//images.ptt.cc/bbs/v2.27/pushstream.css\" media=\"screen\">\n",
      "<link rel=\"stylesheet\" type=\"text/css\" href=\"//images.ptt.cc/bbs/v2.27/bbs-print.css\" media=\"print\">\n",
      "\n",
      "\n",
      "\n",
      "\n",
      "\t</head>\n",
      "    <body>\n",
      "\t\t\n",
      "<div class=\"bbs-screen bbs-content\">\n",
      "    <div class=\"over18-notice\">\n",
      "        <p>本網站已依網站內容分級規定處理</p>\n",
      "\n",
      "        <p>警告︰您即將進入之看板內容需滿十八歲方可瀏覽。</p>\n",
      "\n",
      "        <p>若您尚未年滿十八歲，請點選離開。若您已滿十八歲，亦不可將本區之內容派發、傳閱、出售、出租、交給或借予年齡未滿18歲的人士瀏覽，或將本網站內容向該人士出示、播放或放映。</p>\n",
      "    </div>\n",
      "</div>\n",
      "\n",
      "<div class=\"bbs-screen bbs-content center clear\">\n",
      "    <form action=\"/ask/over18\" method=\"post\">\n",
      "        <input type=\"hidden\" name=\"from\" value=\"/bbs/Gossiping/index.html\">\n",
      "        <div class=\"over18-button-container\">\n",
      "            <button class=\"btn-big\" type=\"submit\" name=\"yes\" value=\"yes\">我同意，我已年滿十八歲<br><small>進入</small></button>\n",
      "        </div>\n",
      "        <div class=\"over18-button-container\">\n",
      "            <button class=\"btn-big\" type=\"submit\" name=\"no\" value=\"no\">未滿十八歲或不同意本條款<br><small>離開</small></button>\n",
      "        </div>\n",
      "    </form>\n",
      "</div>\n",
      "\n",
      "\t\t\n",
      "\n",
      "<script>\n",
      "  (function(i,s,o,g,r,a,m){i['GoogleAnalyticsObject']=r;i[r]=i[r]||function(){\n",
      "  (i[r].q=i[r].q||[]).push(arguments)},i[r].l=1*new Date();a=s.createElement(o),\n",
      "  m=s.getElementsByTagName(o)[0];a.async=1;a.src=g;m.parentNode.insertBefore(a,m)\n",
      "  })(window,document,'script','https://www.google-analytics.com/analytics.js','ga');\n",
      "\n",
      "  ga('create', 'UA-32365737-1', {\n",
      "    cookieDomain: 'ptt.cc',\n",
      "    legacyCookieDomain: 'ptt.cc'\n",
      "  });\n",
      "  ga('send', 'pageview');\n",
      "</script>\n",
      "\n",
      "\n",
      "\t\t\n",
      "<script src=\"//ajax.googleapis.com/ajax/libs/jquery/2.1.1/jquery.min.js\"></script>\n",
      "<script src=\"//images.ptt.cc/bbs/v2.27/bbs.js\"></script>\n",
      "\n",
      "    </body>\n",
      "</html>\n",
      "\n"
     ]
    }
   ],
   "source": [
    "response = requests.get(\"https://www.ptt.cc/bbs/Gossiping/index.html\")\n",
    "print(response.text)"
   ]
  },
  {
   "cell_type": "code",
   "execution_count": 14,
   "metadata": {
    "slideshow": {
     "slide_type": "subslide"
    }
   },
   "outputs": [
    {
     "name": "stdout",
     "output_type": "stream",
     "text": [
      "['隱形人', '不完美的正義', '絕命直播', '艾瑪', '珍西寶', '鋼鐵勳章', '浪潮', '日常的愛', '1917', '絕地戰警FOR LIFE', '1/2的魔法', '音速小子', '吹哨人', '男人真命苦\\u3000歡迎回來…', '極地守護犬', '溫蒂', '大約在冬季', '王牌辯士', '白頭山：半島浩劫', '絕命大平台', '82年生的金智英', '今夜，我們無罪']\n"
     ]
    }
   ],
   "source": [
    "response = requests.get(\"http://www.fantasy-sky.com/ContentList.aspx?section=002\")\n",
    "soup = BeautifulSoup(response.text)\n",
    "movie_titles = [i.text for i in soup.select(\".movies-name\")]\n",
    "print(movie_titles)"
   ]
  },
  {
   "cell_type": "markdown",
   "metadata": {
    "slideshow": {
     "slide_type": "subslide"
    }
   },
   "source": [
    "## 從開發人員工具檢視 Cookies"
   ]
  },
  {
   "cell_type": "markdown",
   "metadata": {
    "slideshow": {
     "slide_type": "subslide"
    }
   },
   "source": [
    "![Imgur](https://i.imgur.com/dvVHg29.png?1)"
   ]
  },
  {
   "cell_type": "markdown",
   "metadata": {
    "slideshow": {
     "slide_type": "subslide"
    }
   },
   "source": [
    "![Imgur](https://i.imgur.com/lTYWNmX.png)"
   ]
  },
  {
   "cell_type": "code",
   "execution_count": 15,
   "metadata": {
    "slideshow": {
     "slide_type": "subslide"
    }
   },
   "outputs": [
    {
     "name": "stdout",
     "output_type": "stream",
     "text": [
      "<!DOCTYPE html>\n",
      "<html>\n",
      "\t<head>\n",
      "\t\t<meta charset=\"utf-8\">\n",
      "\t\t\n",
      "\n",
      "<meta name=\"viewport\" content=\"width=device-width, initial-scale=1\">\n",
      "\n",
      "<title>看板 Gossiping 文章列表 - 批踢踢實業坊</title>\n",
      "\n",
      "<link rel=\"stylesheet\" type=\"text/css\" href=\"//images.ptt.cc/bbs/v2.27/bbs-common.css\">\n",
      "<link rel=\"stylesheet\" type=\"text/css\" href=\"//images.ptt.cc/bbs/v2.27/bbs-base.css\" media=\"screen\">\n",
      "<link rel=\"stylesheet\" type=\"text/css\" href=\"//images.ptt.cc/bbs/v2.27/bbs-custom.css\">\n",
      "<link rel=\"stylesheet\" type=\"text/css\" href=\"//images.ptt.cc/bbs/v2.27/pushstream.css\" media=\"screen\">\n",
      "<link rel=\"stylesheet\" type=\"text/css\" href=\"//images.ptt.cc/bbs/v2.27/bbs-print.css\" media=\"print\">\n",
      "\n",
      "\n",
      "\n",
      "\n",
      "\t</head>\n",
      "    <body>\n",
      "\t\t\n",
      "<div id=\"topbar-container\">\n",
      "\t<div id=\"topbar\" class=\"bbs-content\">\n",
      "\t\t<a id=\"logo\" href=\"/bbs/\">批踢踢實業坊</a>\n",
      "\t\t<span>&rsaquo;</span>\n",
      "\t\t<a class=\"board\" href=\"/bbs/Gossiping/index.html\"><span class=\"board-label\">看板 </span>Gossiping</a>\n",
      "\t\t<a class=\"right small\" href=\"/about.html\">關於我們</a>\n",
      "\t\t<a class=\"right small\" href=\"/contact.html\">聯絡資訊</a>\n",
      "\t</div>\n",
      "</div>\n",
      "\n",
      "<div id=\"main-container\">\n",
      "\t<div id=\"action-bar-container\">\n",
      "\t\t<div class=\"action-bar\">\n",
      "\t\t\t<div class=\"btn-group btn-group-dir\">\n",
      "\t\t\t\t<a class=\"btn selected\" href=\"/bbs/Gossiping/index.html\">看板</a>\n",
      "\t\t\t\t<a class=\"btn\" href=\"/man/Gossiping/index.html\">精華區</a>\n",
      "\t\t\t</div>\n",
      "\t\t\t<div class=\"btn-group btn-group-paging\">\n",
      "\t\t\t\t<a class=\"btn wide\" href=\"/bbs/Gossiping/index1.html\">最舊</a>\n",
      "\t\t\t\t<a class=\"btn wide\" href=\"/bbs/Gossiping/index39473.html\">&lsaquo; 上頁</a>\n",
      "\t\t\t\t<a class=\"btn wide disabled\">下頁 &rsaquo;</a>\n",
      "\t\t\t\t<a class=\"btn wide\" href=\"/bbs/Gossiping/index.html\">最新</a>\n",
      "\t\t\t</div>\n",
      "\t\t</div>\n",
      "\t</div>\n",
      "\n",
      "\t<div class=\"r-list-container action-bar-margin bbs-screen\">\n",
      "\t\t<div class=\"search-bar\">\n",
      "\t\t\t<form type=\"get\" action=\"search\" id=\"search-bar\">\n",
      "\t\t\t\t<input class=\"query\" type=\"text\" name=\"q\" value=\"\" placeholder=\"搜尋文章&#x22ef;\">\n",
      "\t\t\t</form>\n",
      "\t\t</div>\n",
      "\n",
      "\t\t\n",
      "\t\t\n",
      "            \n",
      "        \n",
      "        \n",
      "\t\t<div class=\"r-ent\">\n",
      "\t\t\t<div class=\"nrec\"><span class=\"hl f2\">2</span></div>\n",
      "\t\t\t<div class=\"title\">\n",
      "\t\t\t\n",
      "\t\t\t\t<a href=\"/bbs/Gossiping/M.1597455099.A.728.html\">[問卦] 欸今天在高雄要去哪玩？</a>\n",
      "\t\t\t\n",
      "\t\t\t</div>\n",
      "\t\t\t<div class=\"meta\">\n",
      "\t\t\t\t<div class=\"author\">Kuru991</div>\n",
      "\t\t\t\t<div class=\"article-menu\">\n",
      "\t\t\t\t\t\n",
      "\t\t\t\t\t<div class=\"trigger\">&#x22ef;</div>\n",
      "\t\t\t\t\t<div class=\"dropdown\">\n",
      "\t\t\t\t\t\t<div class=\"item\"><a href=\"/bbs/Gossiping/search?q=thread%3A%5B%E5%95%8F%E5%8D%A6%5D&#43;%E6%AC%B8%E4%BB%8A%E5%A4%A9%E5%9C%A8%E9%AB%98%E9%9B%84%E8%A6%81%E5%8E%BB%E5%93%AA%E7%8E%A9%EF%BC%9F\">搜尋同標題文章</a></div>\n",
      "\t\t\t\t\t\t\n",
      "\t\t\t\t\t\t<div class=\"item\"><a href=\"/bbs/Gossiping/search?q=author%3AKuru991\">搜尋看板內 Kuru991 的文章</a></div>\n",
      "\t\t\t\t\t\t\n",
      "\t\t\t\t\t</div>\n",
      "\t\t\t\t\t\n",
      "\t\t\t\t</div>\n",
      "\t\t\t\t<div class=\"date\"> 8/15</div>\n",
      "\t\t\t\t<div class=\"mark\"></div>\n",
      "\t\t\t</div>\n",
      "\t\t</div>\n",
      "\n",
      "\t\t\n",
      "            \n",
      "        \n",
      "        \n",
      "\t\t<div class=\"r-ent\">\n",
      "\t\t\t<div class=\"nrec\"><span class=\"hl f2\">5</span></div>\n",
      "\t\t\t<div class=\"title\">\n",
      "\t\t\t\n",
      "\t\t\t\t<a href=\"/bbs/Gossiping/M.1597455110.A.8D7.html\">Re: [問卦] 中ㄧ億的話會分給家人嗎？</a>\n",
      "\t\t\t\n",
      "\t\t\t</div>\n",
      "\t\t\t<div class=\"meta\">\n",
      "\t\t\t\t<div class=\"author\">words2012</div>\n",
      "\t\t\t\t<div class=\"article-menu\">\n",
      "\t\t\t\t\t\n",
      "\t\t\t\t\t<div class=\"trigger\">&#x22ef;</div>\n",
      "\t\t\t\t\t<div class=\"dropdown\">\n",
      "\t\t\t\t\t\t<div class=\"item\"><a href=\"/bbs/Gossiping/search?q=thread%3A%5B%E5%95%8F%E5%8D%A6%5D&#43;%E4%B8%AD%E3%84%A7%E5%84%84%E7%9A%84%E8%A9%B1%E6%9C%83%E5%88%86%E7%B5%A6%E5%AE%B6%E4%BA%BA%E5%97%8E%EF%BC%9F\">搜尋同標題文章</a></div>\n",
      "\t\t\t\t\t\t\n",
      "\t\t\t\t\t\t<div class=\"item\"><a href=\"/bbs/Gossiping/search?q=author%3Awords2012\">搜尋看板內 words2012 的文章</a></div>\n",
      "\t\t\t\t\t\t\n",
      "\t\t\t\t\t</div>\n",
      "\t\t\t\t\t\n",
      "\t\t\t\t</div>\n",
      "\t\t\t\t<div class=\"date\"> 8/15</div>\n",
      "\t\t\t\t<div class=\"mark\"></div>\n",
      "\t\t\t</div>\n",
      "\t\t</div>\n",
      "\n",
      "\t\t\n",
      "            \n",
      "        \n",
      "        \n",
      "\t\t<div class=\"r-ent\">\n",
      "\t\t\t<div class=\"nrec\"><span class=\"hl f2\">1</span></div>\n",
      "\t\t\t<div class=\"title\">\n",
      "\t\t\t\n",
      "\t\t\t\t<a href=\"/bbs/Gossiping/M.1597455111.A.476.html\">[問卦] 廈門的小姐姐審美觀都這麼老氣？</a>\n",
      "\t\t\t\n",
      "\t\t\t</div>\n",
      "\t\t\t<div class=\"meta\">\n",
      "\t\t\t\t<div class=\"author\">simon78410</div>\n",
      "\t\t\t\t<div class=\"article-menu\">\n",
      "\t\t\t\t\t\n",
      "\t\t\t\t\t<div class=\"trigger\">&#x22ef;</div>\n",
      "\t\t\t\t\t<div class=\"dropdown\">\n",
      "\t\t\t\t\t\t<div class=\"item\"><a href=\"/bbs/Gossiping/search?q=thread%3A%5B%E5%95%8F%E5%8D%A6%5D&#43;%E5%BB%88%E9%96%80%E7%9A%84%E5%B0%8F%E5%A7%90%E5%A7%90%E5%AF%A9%E7%BE%8E%E8%A7%80%E9%83%BD%E9%80%99%E9%BA%BC%E8%80%81%E6%B0%A3%EF%BC%9F\">搜尋同標題文章</a></div>\n",
      "\t\t\t\t\t\t\n",
      "\t\t\t\t\t\t<div class=\"item\"><a href=\"/bbs/Gossiping/search?q=author%3Asimon78410\">搜尋看板內 simon78410 的文章</a></div>\n",
      "\t\t\t\t\t\t\n",
      "\t\t\t\t\t</div>\n",
      "\t\t\t\t\t\n",
      "\t\t\t\t</div>\n",
      "\t\t\t\t<div class=\"date\"> 8/15</div>\n",
      "\t\t\t\t<div class=\"mark\"></div>\n",
      "\t\t\t</div>\n",
      "\t\t</div>\n",
      "\n",
      "\t\t\n",
      "            \n",
      "        \n",
      "        \n",
      "\t\t<div class=\"r-ent\">\n",
      "\t\t\t<div class=\"nrec\"><span class=\"hl f2\">2</span></div>\n",
      "\t\t\t<div class=\"title\">\n",
      "\t\t\t\n",
      "\t\t\t\t<a href=\"/bbs/Gossiping/M.1597455124.A.FF8.html\">[問卦] 被蚊子咬用十字大招有用嗎？</a>\n",
      "\t\t\t\n",
      "\t\t\t</div>\n",
      "\t\t\t<div class=\"meta\">\n",
      "\t\t\t\t<div class=\"author\">DuoDuokk77</div>\n",
      "\t\t\t\t<div class=\"article-menu\">\n",
      "\t\t\t\t\t\n",
      "\t\t\t\t\t<div class=\"trigger\">&#x22ef;</div>\n",
      "\t\t\t\t\t<div class=\"dropdown\">\n",
      "\t\t\t\t\t\t<div class=\"item\"><a href=\"/bbs/Gossiping/search?q=thread%3A%5B%E5%95%8F%E5%8D%A6%5D&#43;%E8%A2%AB%E8%9A%8A%E5%AD%90%E5%92%AC%E7%94%A8%E5%8D%81%E5%AD%97%E5%A4%A7%E6%8B%9B%E6%9C%89%E7%94%A8%E5%97%8E%EF%BC%9F\">搜尋同標題文章</a></div>\n",
      "\t\t\t\t\t\t\n",
      "\t\t\t\t\t\t<div class=\"item\"><a href=\"/bbs/Gossiping/search?q=author%3ADuoDuokk77\">搜尋看板內 DuoDuokk77 的文章</a></div>\n",
      "\t\t\t\t\t\t\n",
      "\t\t\t\t\t</div>\n",
      "\t\t\t\t\t\n",
      "\t\t\t\t</div>\n",
      "\t\t\t\t<div class=\"date\"> 8/15</div>\n",
      "\t\t\t\t<div class=\"mark\"></div>\n",
      "\t\t\t</div>\n",
      "\t\t</div>\n",
      "\n",
      "\t\t\n",
      "            \n",
      "        \n",
      "        \n",
      "\t\t<div class=\"r-ent\">\n",
      "\t\t\t<div class=\"nrec\"></div>\n",
      "\t\t\t<div class=\"title\">\n",
      "\t\t\t\n",
      "\t\t\t\t<a href=\"/bbs/Gossiping/M.1597455148.A.DC7.html\">[新聞] 防報復性檢舉!警署擬修法6分鐘內不連罰</a>\n",
      "\t\t\t\n",
      "\t\t\t</div>\n",
      "\t\t\t<div class=\"meta\">\n",
      "\t\t\t\t<div class=\"author\">ptttpt</div>\n",
      "\t\t\t\t<div class=\"article-menu\">\n",
      "\t\t\t\t\t\n",
      "\t\t\t\t\t<div class=\"trigger\">&#x22ef;</div>\n",
      "\t\t\t\t\t<div class=\"dropdown\">\n",
      "\t\t\t\t\t\t<div class=\"item\"><a href=\"/bbs/Gossiping/search?q=thread%3A%5B%E6%96%B0%E8%81%9E%5D&#43;%E9%98%B2%E5%A0%B1%E5%BE%A9%E6%80%A7%E6%AA%A2%E8%88%89%21%E8%AD%A6%E7%BD%B2%E6%93%AC%E4%BF%AE%E6%B3%956%E5%88%86%E9%90%98%E5%85%A7%E4%B8%8D%E9%80%A3%E7%BD%B0\">搜尋同標題文章</a></div>\n",
      "\t\t\t\t\t\t\n",
      "\t\t\t\t\t\t<div class=\"item\"><a href=\"/bbs/Gossiping/search?q=author%3Aptttpt\">搜尋看板內 ptttpt 的文章</a></div>\n",
      "\t\t\t\t\t\t\n",
      "\t\t\t\t\t</div>\n",
      "\t\t\t\t\t\n",
      "\t\t\t\t</div>\n",
      "\t\t\t\t<div class=\"date\"> 8/15</div>\n",
      "\t\t\t\t<div class=\"mark\"></div>\n",
      "\t\t\t</div>\n",
      "\t\t</div>\n",
      "\n",
      "\t\t\n",
      "            \n",
      "        \n",
      "        \n",
      "\t\t<div class=\"r-ent\">\n",
      "\t\t\t<div class=\"nrec\"><span class=\"hl f0\">X1</span></div>\n",
      "\t\t\t<div class=\"title\">\n",
      "\t\t\t\n",
      "\t\t\t\t<a href=\"/bbs/Gossiping/M.1597455158.A.7CA.html\">[新聞] 二伯工作中…2歲蔡桃貴突冒「超成熟暖舉</a>\n",
      "\t\t\t\n",
      "\t\t\t</div>\n",
      "\t\t\t<div class=\"meta\">\n",
      "\t\t\t\t<div class=\"author\">zzyyxx77</div>\n",
      "\t\t\t\t<div class=\"article-menu\">\n",
      "\t\t\t\t\t\n",
      "\t\t\t\t\t<div class=\"trigger\">&#x22ef;</div>\n",
      "\t\t\t\t\t<div class=\"dropdown\">\n",
      "\t\t\t\t\t\t<div class=\"item\"><a href=\"/bbs/Gossiping/search?q=thread%3A%5B%E6%96%B0%E8%81%9E%5D&#43;%E4%BA%8C%E4%BC%AF%E5%B7%A5%E4%BD%9C%E4%B8%AD%E2%80%A62%E6%AD%B2%E8%94%A1%E6%A1%83%E8%B2%B4%E7%AA%81%E5%86%92%E3%80%8C%E8%B6%85%E6%88%90%E7%86%9F%E6%9A%96%E8%88%89\">搜尋同標題文章</a></div>\n",
      "\t\t\t\t\t\t\n",
      "\t\t\t\t\t\t<div class=\"item\"><a href=\"/bbs/Gossiping/search?q=author%3Azzyyxx77\">搜尋看板內 zzyyxx77 的文章</a></div>\n",
      "\t\t\t\t\t\t\n",
      "\t\t\t\t\t</div>\n",
      "\t\t\t\t\t\n",
      "\t\t\t\t</div>\n",
      "\t\t\t\t<div class=\"date\"> 8/15</div>\n",
      "\t\t\t\t<div class=\"mark\"></div>\n",
      "\t\t\t</div>\n",
      "\t\t</div>\n",
      "\n",
      "\t\t\n",
      "            \n",
      "        \n",
      "        \n",
      "\t\t<div class=\"r-ent\">\n",
      "\t\t\t<div class=\"nrec\"><span class=\"hl f2\">5</span></div>\n",
      "\t\t\t<div class=\"title\">\n",
      "\t\t\t\n",
      "\t\t\t\t<a href=\"/bbs/Gossiping/M.1597455176.A.2B8.html\">[問卦] 二戰名機做remake來軍售有搞頭嗎</a>\n",
      "\t\t\t\n",
      "\t\t\t</div>\n",
      "\t\t\t<div class=\"meta\">\n",
      "\t\t\t\t<div class=\"author\">attilalin</div>\n",
      "\t\t\t\t<div class=\"article-menu\">\n",
      "\t\t\t\t\t\n",
      "\t\t\t\t\t<div class=\"trigger\">&#x22ef;</div>\n",
      "\t\t\t\t\t<div class=\"dropdown\">\n",
      "\t\t\t\t\t\t<div class=\"item\"><a href=\"/bbs/Gossiping/search?q=thread%3A%5B%E5%95%8F%E5%8D%A6%5D&#43;%E4%BA%8C%E6%88%B0%E5%90%8D%E6%A9%9F%E5%81%9Aremake%E4%BE%86%E8%BB%8D%E5%94%AE%E6%9C%89%E6%90%9E%E9%A0%AD%E5%97%8E\">搜尋同標題文章</a></div>\n",
      "\t\t\t\t\t\t\n",
      "\t\t\t\t\t\t<div class=\"item\"><a href=\"/bbs/Gossiping/search?q=author%3Aattilalin\">搜尋看板內 attilalin 的文章</a></div>\n",
      "\t\t\t\t\t\t\n",
      "\t\t\t\t\t</div>\n",
      "\t\t\t\t\t\n",
      "\t\t\t\t</div>\n",
      "\t\t\t\t<div class=\"date\"> 8/15</div>\n",
      "\t\t\t\t<div class=\"mark\"></div>\n",
      "\t\t\t</div>\n",
      "\t\t</div>\n",
      "\n",
      "\t\t\n",
      "            \n",
      "        \n",
      "        \n",
      "\t\t<div class=\"r-ent\">\n",
      "\t\t\t<div class=\"nrec\"><span class=\"hl f2\">6</span></div>\n",
      "\t\t\t<div class=\"title\">\n",
      "\t\t\t\n",
      "\t\t\t\t<a href=\"/bbs/Gossiping/M.1597455193.A.07D.html\">[問卦] 有些離過婚的台女 都會找到很差的同居人?</a>\n",
      "\t\t\t\n",
      "\t\t\t</div>\n",
      "\t\t\t<div class=\"meta\">\n",
      "\t\t\t\t<div class=\"author\">syearth</div>\n",
      "\t\t\t\t<div class=\"article-menu\">\n",
      "\t\t\t\t\t\n",
      "\t\t\t\t\t<div class=\"trigger\">&#x22ef;</div>\n",
      "\t\t\t\t\t<div class=\"dropdown\">\n",
      "\t\t\t\t\t\t<div class=\"item\"><a href=\"/bbs/Gossiping/search?q=thread%3A%5B%E5%95%8F%E5%8D%A6%5D&#43;%E6%9C%89%E4%BA%9B%E9%9B%A2%E9%81%8E%E5%A9%9A%E7%9A%84%E5%8F%B0%E5%A5%B3&#43;%E9%83%BD%E6%9C%83%E6%89%BE%E5%88%B0%E5%BE%88%E5%B7%AE%E7%9A%84%E5%90%8C%E5%B1%85%E4%BA%BA%3F\">搜尋同標題文章</a></div>\n",
      "\t\t\t\t\t\t\n",
      "\t\t\t\t\t\t<div class=\"item\"><a href=\"/bbs/Gossiping/search?q=author%3Asyearth\">搜尋看板內 syearth 的文章</a></div>\n",
      "\t\t\t\t\t\t\n",
      "\t\t\t\t\t</div>\n",
      "\t\t\t\t\t\n",
      "\t\t\t\t</div>\n",
      "\t\t\t\t<div class=\"date\"> 8/15</div>\n",
      "\t\t\t\t<div class=\"mark\"></div>\n",
      "\t\t\t</div>\n",
      "\t\t</div>\n",
      "\n",
      "\t\t\n",
      "            \n",
      "        \n",
      "        \n",
      "\t\t<div class=\"r-ent\">\n",
      "\t\t\t<div class=\"nrec\"><span class=\"hl f2\">5</span></div>\n",
      "\t\t\t<div class=\"title\">\n",
      "\t\t\t\n",
      "\t\t\t\t<a href=\"/bbs/Gossiping/M.1597455233.A.BC7.html\">[問卦] 為啥中共上台後就沒有軍閥派系問題了？</a>\n",
      "\t\t\t\n",
      "\t\t\t</div>\n",
      "\t\t\t<div class=\"meta\">\n",
      "\t\t\t\t<div class=\"author\">z0953781935</div>\n",
      "\t\t\t\t<div class=\"article-menu\">\n",
      "\t\t\t\t\t\n",
      "\t\t\t\t\t<div class=\"trigger\">&#x22ef;</div>\n",
      "\t\t\t\t\t<div class=\"dropdown\">\n",
      "\t\t\t\t\t\t<div class=\"item\"><a href=\"/bbs/Gossiping/search?q=thread%3A%5B%E5%95%8F%E5%8D%A6%5D&#43;%E7%82%BA%E5%95%A5%E4%B8%AD%E5%85%B1%E4%B8%8A%E5%8F%B0%E5%BE%8C%E5%B0%B1%E6%B2%92%E6%9C%89%E8%BB%8D%E9%96%A5%E6%B4%BE%E7%B3%BB%E5%95%8F%E9%A1%8C%E4%BA%86%EF%BC%9F\">搜尋同標題文章</a></div>\n",
      "\t\t\t\t\t\t\n",
      "\t\t\t\t\t\t<div class=\"item\"><a href=\"/bbs/Gossiping/search?q=author%3Az0953781935\">搜尋看板內 z0953781935 的文章</a></div>\n",
      "\t\t\t\t\t\t\n",
      "\t\t\t\t\t</div>\n",
      "\t\t\t\t\t\n",
      "\t\t\t\t</div>\n",
      "\t\t\t\t<div class=\"date\"> 8/15</div>\n",
      "\t\t\t\t<div class=\"mark\"></div>\n",
      "\t\t\t</div>\n",
      "\t\t</div>\n",
      "\n",
      "\t\t\n",
      "            \n",
      "        \n",
      "        \n",
      "\t\t<div class=\"r-ent\">\n",
      "\t\t\t<div class=\"nrec\"></div>\n",
      "\t\t\t<div class=\"title\">\n",
      "\t\t\t\n",
      "\t\t\t\t<a href=\"/bbs/Gossiping/M.1597455266.A.AC1.html\">Re: [爆卦] 美國正式出售 66台 F16 給台灣</a>\n",
      "\t\t\t\n",
      "\t\t\t</div>\n",
      "\t\t\t<div class=\"meta\">\n",
      "\t\t\t\t<div class=\"author\">havochuman</div>\n",
      "\t\t\t\t<div class=\"article-menu\">\n",
      "\t\t\t\t\t\n",
      "\t\t\t\t\t<div class=\"trigger\">&#x22ef;</div>\n",
      "\t\t\t\t\t<div class=\"dropdown\">\n",
      "\t\t\t\t\t\t<div class=\"item\"><a href=\"/bbs/Gossiping/search?q=thread%3A%5B%E7%88%86%E5%8D%A6%5D&#43;%E7%BE%8E%E5%9C%8B%E6%AD%A3%E5%BC%8F%E5%87%BA%E5%94%AE&#43;66%E5%8F%B0&#43;F16&#43;%E7%B5%A6%E5%8F%B0%E7%81%A3\">搜尋同標題文章</a></div>\n",
      "\t\t\t\t\t\t\n",
      "\t\t\t\t\t\t<div class=\"item\"><a href=\"/bbs/Gossiping/search?q=author%3Ahavochuman\">搜尋看板內 havochuman 的文章</a></div>\n",
      "\t\t\t\t\t\t\n",
      "\t\t\t\t\t</div>\n",
      "\t\t\t\t\t\n",
      "\t\t\t\t</div>\n",
      "\t\t\t\t<div class=\"date\"> 8/15</div>\n",
      "\t\t\t\t<div class=\"mark\"></div>\n",
      "\t\t\t</div>\n",
      "\t\t</div>\n",
      "\n",
      "\t\t\n",
      "            \n",
      "        \n",
      "        \n",
      "\t\t<div class=\"r-ent\">\n",
      "\t\t\t<div class=\"nrec\"><span class=\"hl f2\">7</span></div>\n",
      "\t\t\t<div class=\"title\">\n",
      "\t\t\t\n",
      "\t\t\t\t<a href=\"/bbs/Gossiping/M.1597455334.A.A4E.html\">[問卦] 連鎖速食店有義務提供wifi嗎</a>\n",
      "\t\t\t\n",
      "\t\t\t</div>\n",
      "\t\t\t<div class=\"meta\">\n",
      "\t\t\t\t<div class=\"author\">Hiterler</div>\n",
      "\t\t\t\t<div class=\"article-menu\">\n",
      "\t\t\t\t\t\n",
      "\t\t\t\t\t<div class=\"trigger\">&#x22ef;</div>\n",
      "\t\t\t\t\t<div class=\"dropdown\">\n",
      "\t\t\t\t\t\t<div class=\"item\"><a href=\"/bbs/Gossiping/search?q=thread%3A%5B%E5%95%8F%E5%8D%A6%5D&#43;%E9%80%A3%E9%8E%96%E9%80%9F%E9%A3%9F%E5%BA%97%E6%9C%89%E7%BE%A9%E5%8B%99%E6%8F%90%E4%BE%9Bwifi%E5%97%8E\">搜尋同標題文章</a></div>\n",
      "\t\t\t\t\t\t\n",
      "\t\t\t\t\t\t<div class=\"item\"><a href=\"/bbs/Gossiping/search?q=author%3AHiterler\">搜尋看板內 Hiterler 的文章</a></div>\n",
      "\t\t\t\t\t\t\n",
      "\t\t\t\t\t</div>\n",
      "\t\t\t\t\t\n",
      "\t\t\t\t</div>\n",
      "\t\t\t\t<div class=\"date\"> 8/15</div>\n",
      "\t\t\t\t<div class=\"mark\"></div>\n",
      "\t\t\t</div>\n",
      "\t\t</div>\n",
      "\n",
      "\t\t\n",
      "            \n",
      "        \n",
      "        \n",
      "\t\t<div class=\"r-ent\">\n",
      "\t\t\t<div class=\"nrec\"><span class=\"hl f2\">2</span></div>\n",
      "\t\t\t<div class=\"title\">\n",
      "\t\t\t\n",
      "\t\t\t\t<a href=\"/bbs/Gossiping/M.1597455439.A.0A5.html\">[問卦] 機車很少有超進化的功能？</a>\n",
      "\t\t\t\n",
      "\t\t\t</div>\n",
      "\t\t\t<div class=\"meta\">\n",
      "\t\t\t\t<div class=\"author\">lpbrother</div>\n",
      "\t\t\t\t<div class=\"article-menu\">\n",
      "\t\t\t\t\t\n",
      "\t\t\t\t\t<div class=\"trigger\">&#x22ef;</div>\n",
      "\t\t\t\t\t<div class=\"dropdown\">\n",
      "\t\t\t\t\t\t<div class=\"item\"><a href=\"/bbs/Gossiping/search?q=thread%3A%5B%E5%95%8F%E5%8D%A6%5D&#43;%E6%A9%9F%E8%BB%8A%E5%BE%88%E5%B0%91%E6%9C%89%E8%B6%85%E9%80%B2%E5%8C%96%E7%9A%84%E5%8A%9F%E8%83%BD%EF%BC%9F\">搜尋同標題文章</a></div>\n",
      "\t\t\t\t\t\t\n",
      "\t\t\t\t\t\t<div class=\"item\"><a href=\"/bbs/Gossiping/search?q=author%3Alpbrother\">搜尋看板內 lpbrother 的文章</a></div>\n",
      "\t\t\t\t\t\t\n",
      "\t\t\t\t\t</div>\n",
      "\t\t\t\t\t\n",
      "\t\t\t\t</div>\n",
      "\t\t\t\t<div class=\"date\"> 8/15</div>\n",
      "\t\t\t\t<div class=\"mark\"></div>\n",
      "\t\t\t</div>\n",
      "\t\t</div>\n",
      "\n",
      "\t\t\n",
      "            \n",
      "        \n",
      "        \n",
      "\t\t<div class=\"r-ent\">\n",
      "\t\t\t<div class=\"nrec\"><span class=\"hl f2\">3</span></div>\n",
      "\t\t\t<div class=\"title\">\n",
      "\t\t\t\n",
      "\t\t\t\t<a href=\"/bbs/Gossiping/M.1597455442.A.B3C.html\">[新聞] 美研發遠程巨炮 設南韓可轟京滬</a>\n",
      "\t\t\t\n",
      "\t\t\t</div>\n",
      "\t\t\t<div class=\"meta\">\n",
      "\t\t\t\t<div class=\"author\">ak904</div>\n",
      "\t\t\t\t<div class=\"article-menu\">\n",
      "\t\t\t\t\t\n",
      "\t\t\t\t\t<div class=\"trigger\">&#x22ef;</div>\n",
      "\t\t\t\t\t<div class=\"dropdown\">\n",
      "\t\t\t\t\t\t<div class=\"item\"><a href=\"/bbs/Gossiping/search?q=thread%3A%5B%E6%96%B0%E8%81%9E%5D&#43;%E7%BE%8E%E7%A0%94%E7%99%BC%E9%81%A0%E7%A8%8B%E5%B7%A8%E7%82%AE&#43;%E8%A8%AD%E5%8D%97%E9%9F%93%E5%8F%AF%E8%BD%9F%E4%BA%AC%E6%BB%AC\">搜尋同標題文章</a></div>\n",
      "\t\t\t\t\t\t\n",
      "\t\t\t\t\t\t<div class=\"item\"><a href=\"/bbs/Gossiping/search?q=author%3Aak904\">搜尋看板內 ak904 的文章</a></div>\n",
      "\t\t\t\t\t\t\n",
      "\t\t\t\t\t</div>\n",
      "\t\t\t\t\t\n",
      "\t\t\t\t</div>\n",
      "\t\t\t\t<div class=\"date\"> 8/15</div>\n",
      "\t\t\t\t<div class=\"mark\"></div>\n",
      "\t\t\t</div>\n",
      "\t\t</div>\n",
      "\n",
      "\t\t\n",
      "            \n",
      "        \n",
      "        \n",
      "\t\t<div class=\"r-ent\">\n",
      "\t\t\t<div class=\"nrec\"><span class=\"hl f3\">16</span></div>\n",
      "\t\t\t<div class=\"title\">\n",
      "\t\t\t\n",
      "\t\t\t\t<a href=\"/bbs/Gossiping/M.1597455446.A.E0B.html\">[問卦] 台灣哪裡可以練習開槍？</a>\n",
      "\t\t\t\n",
      "\t\t\t</div>\n",
      "\t\t\t<div class=\"meta\">\n",
      "\t\t\t\t<div class=\"author\">zakijudelo</div>\n",
      "\t\t\t\t<div class=\"article-menu\">\n",
      "\t\t\t\t\t\n",
      "\t\t\t\t\t<div class=\"trigger\">&#x22ef;</div>\n",
      "\t\t\t\t\t<div class=\"dropdown\">\n",
      "\t\t\t\t\t\t<div class=\"item\"><a href=\"/bbs/Gossiping/search?q=thread%3A%5B%E5%95%8F%E5%8D%A6%5D&#43;%E5%8F%B0%E7%81%A3%E5%93%AA%E8%A3%A1%E5%8F%AF%E4%BB%A5%E7%B7%B4%E7%BF%92%E9%96%8B%E6%A7%8D%EF%BC%9F\">搜尋同標題文章</a></div>\n",
      "\t\t\t\t\t\t\n",
      "\t\t\t\t\t\t<div class=\"item\"><a href=\"/bbs/Gossiping/search?q=author%3Azakijudelo\">搜尋看板內 zakijudelo 的文章</a></div>\n",
      "\t\t\t\t\t\t\n",
      "\t\t\t\t\t</div>\n",
      "\t\t\t\t\t\n",
      "\t\t\t\t</div>\n",
      "\t\t\t\t<div class=\"date\"> 8/15</div>\n",
      "\t\t\t\t<div class=\"mark\"></div>\n",
      "\t\t\t</div>\n",
      "\t\t</div>\n",
      "\n",
      "\t\t\n",
      "            \n",
      "        \n",
      "        \n",
      "\t\t<div class=\"r-ent\">\n",
      "\t\t\t<div class=\"nrec\"><span class=\"hl f2\">4</span></div>\n",
      "\t\t\t<div class=\"title\">\n",
      "\t\t\t\n",
      "\t\t\t\t<a href=\"/bbs/Gossiping/M.1597455493.A.966.html\">Re: [問卦] farewell324 事件就這樣結束了嗎</a>\n",
      "\t\t\t\n",
      "\t\t\t</div>\n",
      "\t\t\t<div class=\"meta\">\n",
      "\t\t\t\t<div class=\"author\">b777787</div>\n",
      "\t\t\t\t<div class=\"article-menu\">\n",
      "\t\t\t\t\t\n",
      "\t\t\t\t\t<div class=\"trigger\">&#x22ef;</div>\n",
      "\t\t\t\t\t<div class=\"dropdown\">\n",
      "\t\t\t\t\t\t<div class=\"item\"><a href=\"/bbs/Gossiping/search?q=thread%3A%5B%E5%95%8F%E5%8D%A6%5D&#43;farewell324&#43;%E4%BA%8B%E4%BB%B6%E5%B0%B1%E9%80%99%E6%A8%A3%E7%B5%90%E6%9D%9F%E4%BA%86%E5%97%8E\">搜尋同標題文章</a></div>\n",
      "\t\t\t\t\t\t\n",
      "\t\t\t\t\t\t<div class=\"item\"><a href=\"/bbs/Gossiping/search?q=author%3Ab777787\">搜尋看板內 b777787 的文章</a></div>\n",
      "\t\t\t\t\t\t\n",
      "\t\t\t\t\t</div>\n",
      "\t\t\t\t\t\n",
      "\t\t\t\t</div>\n",
      "\t\t\t\t<div class=\"date\"> 8/15</div>\n",
      "\t\t\t\t<div class=\"mark\"></div>\n",
      "\t\t\t</div>\n",
      "\t\t</div>\n",
      "\n",
      "\t\t\n",
      "            \n",
      "        \n",
      "        \n",
      "\t\t<div class=\"r-ent\">\n",
      "\t\t\t<div class=\"nrec\"><span class=\"hl f2\">5</span></div>\n",
      "\t\t\t<div class=\"title\">\n",
      "\t\t\t\n",
      "\t\t\t\t<a href=\"/bbs/Gossiping/M.1597455531.A.B36.html\">[新聞] 超過5千萬張三倍券已兌換 金額190.5億元</a>\n",
      "\t\t\t\n",
      "\t\t\t</div>\n",
      "\t\t\t<div class=\"meta\">\n",
      "\t\t\t\t<div class=\"author\">chee77724</div>\n",
      "\t\t\t\t<div class=\"article-menu\">\n",
      "\t\t\t\t\t\n",
      "\t\t\t\t\t<div class=\"trigger\">&#x22ef;</div>\n",
      "\t\t\t\t\t<div class=\"dropdown\">\n",
      "\t\t\t\t\t\t<div class=\"item\"><a href=\"/bbs/Gossiping/search?q=thread%3A%5B%E6%96%B0%E8%81%9E%5D&#43;%E8%B6%85%E9%81%8E5%E5%8D%83%E8%90%AC%E5%BC%B5%E4%B8%89%E5%80%8D%E5%88%B8%E5%B7%B2%E5%85%8C%E6%8F%9B&#43;%E9%87%91%E9%A1%8D190.5%E5%84%84%E5%85%83\">搜尋同標題文章</a></div>\n",
      "\t\t\t\t\t\t\n",
      "\t\t\t\t\t\t<div class=\"item\"><a href=\"/bbs/Gossiping/search?q=author%3Achee77724\">搜尋看板內 chee77724 的文章</a></div>\n",
      "\t\t\t\t\t\t\n",
      "\t\t\t\t\t</div>\n",
      "\t\t\t\t\t\n",
      "\t\t\t\t</div>\n",
      "\t\t\t\t<div class=\"date\"> 8/15</div>\n",
      "\t\t\t\t<div class=\"mark\"></div>\n",
      "\t\t\t</div>\n",
      "\t\t</div>\n",
      "\n",
      "\t\t\n",
      "            \n",
      "        \n",
      "        \n",
      "\t\t<div class=\"r-ent\">\n",
      "\t\t\t<div class=\"nrec\"><span class=\"hl f2\">5</span></div>\n",
      "\t\t\t<div class=\"title\">\n",
      "\t\t\t\n",
      "\t\t\t\t<a href=\"/bbs/Gossiping/M.1597455604.A.196.html\">[爆卦] Obamagate 第一槍</a>\n",
      "\t\t\t\n",
      "\t\t\t</div>\n",
      "\t\t\t<div class=\"meta\">\n",
      "\t\t\t\t<div class=\"author\">angellll</div>\n",
      "\t\t\t\t<div class=\"article-menu\">\n",
      "\t\t\t\t\t\n",
      "\t\t\t\t\t<div class=\"trigger\">&#x22ef;</div>\n",
      "\t\t\t\t\t<div class=\"dropdown\">\n",
      "\t\t\t\t\t\t<div class=\"item\"><a href=\"/bbs/Gossiping/search?q=thread%3A%5B%E7%88%86%E5%8D%A6%5D&#43;Obamagate&#43;%E7%AC%AC%E4%B8%80%E6%A7%8D\">搜尋同標題文章</a></div>\n",
      "\t\t\t\t\t\t\n",
      "\t\t\t\t\t\t<div class=\"item\"><a href=\"/bbs/Gossiping/search?q=author%3Aangellll\">搜尋看板內 angellll 的文章</a></div>\n",
      "\t\t\t\t\t\t\n",
      "\t\t\t\t\t</div>\n",
      "\t\t\t\t\t\n",
      "\t\t\t\t</div>\n",
      "\t\t\t\t<div class=\"date\"> 8/15</div>\n",
      "\t\t\t\t<div class=\"mark\"></div>\n",
      "\t\t\t</div>\n",
      "\t\t</div>\n",
      "\n",
      "\t\t\n",
      "            \n",
      "        \n",
      "        \n",
      "\t\t<div class=\"r-ent\">\n",
      "\t\t\t<div class=\"nrec\"><span class=\"hl f2\">1</span></div>\n",
      "\t\t\t<div class=\"title\">\n",
      "\t\t\t\n",
      "\t\t\t\t<a href=\"/bbs/Gossiping/M.1597455663.A.E23.html\">[問卦] 政府疫情舉債又減稅，請問我們是印美金</a>\n",
      "\t\t\t\n",
      "\t\t\t</div>\n",
      "\t\t\t<div class=\"meta\">\n",
      "\t\t\t\t<div class=\"author\">Rasilez</div>\n",
      "\t\t\t\t<div class=\"article-menu\">\n",
      "\t\t\t\t\t\n",
      "\t\t\t\t\t<div class=\"trigger\">&#x22ef;</div>\n",
      "\t\t\t\t\t<div class=\"dropdown\">\n",
      "\t\t\t\t\t\t<div class=\"item\"><a href=\"/bbs/Gossiping/search?q=thread%3A%5B%E5%95%8F%E5%8D%A6%5D&#43;%E6%94%BF%E5%BA%9C%E7%96%AB%E6%83%85%E8%88%89%E5%82%B5%E5%8F%88%E6%B8%9B%E7%A8%85%EF%BC%8C%E8%AB%8B%E5%95%8F%E6%88%91%E5%80%91%E6%98%AF%E5%8D%B0%E7%BE%8E%E9%87%91\">搜尋同標題文章</a></div>\n",
      "\t\t\t\t\t\t\n",
      "\t\t\t\t\t\t<div class=\"item\"><a href=\"/bbs/Gossiping/search?q=author%3ARasilez\">搜尋看板內 Rasilez 的文章</a></div>\n",
      "\t\t\t\t\t\t\n",
      "\t\t\t\t\t</div>\n",
      "\t\t\t\t\t\n",
      "\t\t\t\t</div>\n",
      "\t\t\t\t<div class=\"date\"> 8/15</div>\n",
      "\t\t\t\t<div class=\"mark\"></div>\n",
      "\t\t\t</div>\n",
      "\t\t</div>\n",
      "\n",
      "\t\t\n",
      "            \n",
      "        \n",
      "        \n",
      "\t\t<div class=\"r-ent\">\n",
      "\t\t\t<div class=\"nrec\"><span class=\"hl f2\">2</span></div>\n",
      "\t\t\t<div class=\"title\">\n",
      "\t\t\t\n",
      "\t\t\t\t<a href=\"/bbs/Gossiping/M.1597455744.A.459.html\">[問卦] 台灣會安裝 美國巨砲嗎  鎖定 北京轟炸??</a>\n",
      "\t\t\t\n",
      "\t\t\t</div>\n",
      "\t\t\t<div class=\"meta\">\n",
      "\t\t\t\t<div class=\"author\">wer11</div>\n",
      "\t\t\t\t<div class=\"article-menu\">\n",
      "\t\t\t\t\t\n",
      "\t\t\t\t\t<div class=\"trigger\">&#x22ef;</div>\n",
      "\t\t\t\t\t<div class=\"dropdown\">\n",
      "\t\t\t\t\t\t<div class=\"item\"><a href=\"/bbs/Gossiping/search?q=thread%3A%5B%E5%95%8F%E5%8D%A6%5D&#43;%E5%8F%B0%E7%81%A3%E6%9C%83%E5%AE%89%E8%A3%9D&#43;%E7%BE%8E%E5%9C%8B%E5%B7%A8%E7%A0%B2%E5%97%8E&#43;&#43;%E9%8E%96%E5%AE%9A&#43;%E5%8C%97%E4%BA%AC%E8%BD%9F%E7%82%B8%3F%3F\">搜尋同標題文章</a></div>\n",
      "\t\t\t\t\t\t\n",
      "\t\t\t\t\t\t<div class=\"item\"><a href=\"/bbs/Gossiping/search?q=author%3Awer11\">搜尋看板內 wer11 的文章</a></div>\n",
      "\t\t\t\t\t\t\n",
      "\t\t\t\t\t</div>\n",
      "\t\t\t\t\t\n",
      "\t\t\t\t</div>\n",
      "\t\t\t\t<div class=\"date\"> 8/15</div>\n",
      "\t\t\t\t<div class=\"mark\"></div>\n",
      "\t\t\t</div>\n",
      "\t\t</div>\n",
      "\n",
      "\t\t\n",
      "            \n",
      "        \n",
      "        \n",
      "\t\t<div class=\"r-ent\">\n",
      "\t\t\t<div class=\"nrec\"><span class=\"hl f2\">1</span></div>\n",
      "\t\t\t<div class=\"title\">\n",
      "\t\t\t\n",
      "\t\t\t\t<a href=\"/bbs/Gossiping/M.1597455748.A.2C9.html\">[問卦] 日本twitter 搜尋輸入&#34;周&#34;的結果</a>\n",
      "\t\t\t\n",
      "\t\t\t</div>\n",
      "\t\t\t<div class=\"meta\">\n",
      "\t\t\t\t<div class=\"author\">ReiKuromiya</div>\n",
      "\t\t\t\t<div class=\"article-menu\">\n",
      "\t\t\t\t\t\n",
      "\t\t\t\t\t<div class=\"trigger\">&#x22ef;</div>\n",
      "\t\t\t\t\t<div class=\"dropdown\">\n",
      "\t\t\t\t\t\t<div class=\"item\"><a href=\"/bbs/Gossiping/search?q=thread%3A%5B%E5%95%8F%E5%8D%A6%5D&#43;%E6%97%A5%E6%9C%ACtwitter&#43;%E6%90%9C%E5%B0%8B%E8%BC%B8%E5%85%A5%22%E5%91%A8%22%E7%9A%84%E7%B5%90%E6%9E%9C\">搜尋同標題文章</a></div>\n",
      "\t\t\t\t\t\t\n",
      "\t\t\t\t\t\t<div class=\"item\"><a href=\"/bbs/Gossiping/search?q=author%3AReiKuromiya\">搜尋看板內 ReiKuromiya 的文章</a></div>\n",
      "\t\t\t\t\t\t\n",
      "\t\t\t\t\t</div>\n",
      "\t\t\t\t\t\n",
      "\t\t\t\t</div>\n",
      "\t\t\t\t<div class=\"date\"> 8/15</div>\n",
      "\t\t\t\t<div class=\"mark\"></div>\n",
      "\t\t\t</div>\n",
      "\t\t</div>\n",
      "\n",
      "\t\t\n",
      "        \n",
      "        <div class=\"r-list-sep\"></div>\n",
      "            \n",
      "                \n",
      "        \n",
      "        \n",
      "\t\t<div class=\"r-ent\">\n",
      "\t\t\t<div class=\"nrec\"></div>\n",
      "\t\t\t<div class=\"title\">\n",
      "\t\t\t\n",
      "\t\t\t\t<a href=\"/bbs/Gossiping/M.1595260807.A.E89.html\">[公告] 八卦板板規(2020.07.21)</a>\n",
      "\t\t\t\n",
      "\t\t\t</div>\n",
      "\t\t\t<div class=\"meta\">\n",
      "\t\t\t\t<div class=\"author\">seabox</div>\n",
      "\t\t\t\t<div class=\"article-menu\">\n",
      "\t\t\t\t\t\n",
      "\t\t\t\t\t<div class=\"trigger\">&#x22ef;</div>\n",
      "\t\t\t\t\t<div class=\"dropdown\">\n",
      "\t\t\t\t\t\t<div class=\"item\"><a href=\"/bbs/Gossiping/search?q=thread%3A%5B%E5%85%AC%E5%91%8A%5D&#43;%E5%85%AB%E5%8D%A6%E6%9D%BF%E6%9D%BF%E8%A6%8F%282020.07.21%29\">搜尋同標題文章</a></div>\n",
      "\t\t\t\t\t\t\n",
      "\t\t\t\t\t\t<div class=\"item\"><a href=\"/bbs/Gossiping/search?q=author%3Aseabox\">搜尋看板內 seabox 的文章</a></div>\n",
      "\t\t\t\t\t\t\n",
      "\t\t\t\t\t</div>\n",
      "\t\t\t\t\t\n",
      "\t\t\t\t</div>\n",
      "\t\t\t\t<div class=\"date\"> 7/21</div>\n",
      "\t\t\t\t<div class=\"mark\">!</div>\n",
      "\t\t\t</div>\n",
      "\t\t</div>\n",
      "\n",
      "            \n",
      "                \n",
      "        \n",
      "        \n",
      "\t\t<div class=\"r-ent\">\n",
      "\t\t\t<div class=\"nrec\"><span class=\"hl f3\">24</span></div>\n",
      "\t\t\t<div class=\"title\">\n",
      "\t\t\t\n",
      "\t\t\t\t<a href=\"/bbs/Gossiping/M.1596725669.A.AE1.html\">[協尋] 行車記錄器 8/4 18:45 高雄三多二路357巷</a>\n",
      "\t\t\t\n",
      "\t\t\t</div>\n",
      "\t\t\t<div class=\"meta\">\n",
      "\t\t\t\t<div class=\"author\">kting926</div>\n",
      "\t\t\t\t<div class=\"article-menu\">\n",
      "\t\t\t\t\t\n",
      "\t\t\t\t\t<div class=\"trigger\">&#x22ef;</div>\n",
      "\t\t\t\t\t<div class=\"dropdown\">\n",
      "\t\t\t\t\t\t<div class=\"item\"><a href=\"/bbs/Gossiping/search?q=thread%3A%5B%E5%8D%94%E5%B0%8B%5D&#43;%E8%A1%8C%E8%BB%8A%E8%A8%98%E9%8C%84%E5%99%A8&#43;8%2F4&#43;18%3A45&#43;%E9%AB%98%E9%9B%84%E4%B8%89%E5%A4%9A%E4%BA%8C%E8%B7%AF357%E5%B7%B7\">搜尋同標題文章</a></div>\n",
      "\t\t\t\t\t\t\n",
      "\t\t\t\t\t\t<div class=\"item\"><a href=\"/bbs/Gossiping/search?q=author%3Akting926\">搜尋看板內 kting926 的文章</a></div>\n",
      "\t\t\t\t\t\t\n",
      "\t\t\t\t\t</div>\n",
      "\t\t\t\t\t\n",
      "\t\t\t\t</div>\n",
      "\t\t\t\t<div class=\"date\"> 8/06</div>\n",
      "\t\t\t\t<div class=\"mark\"></div>\n",
      "\t\t\t</div>\n",
      "\t\t</div>\n",
      "\n",
      "            \n",
      "                \n",
      "        \n",
      "        \n",
      "\t\t<div class=\"r-ent\">\n",
      "\t\t\t<div class=\"nrec\"><span class=\"hl f3\">71</span></div>\n",
      "\t\t\t<div class=\"title\">\n",
      "\t\t\t\n",
      "\t\t\t\t<a href=\"/bbs/Gossiping/M.1597395423.A.0FC.html\">[協尋] 8/12 屏東 萬順路與崙中路口 行車紀錄器</a>\n",
      "\t\t\t\n",
      "\t\t\t</div>\n",
      "\t\t\t<div class=\"meta\">\n",
      "\t\t\t\t<div class=\"author\">water112</div>\n",
      "\t\t\t\t<div class=\"article-menu\">\n",
      "\t\t\t\t\t\n",
      "\t\t\t\t\t<div class=\"trigger\">&#x22ef;</div>\n",
      "\t\t\t\t\t<div class=\"dropdown\">\n",
      "\t\t\t\t\t\t<div class=\"item\"><a href=\"/bbs/Gossiping/search?q=thread%3A%5B%E5%8D%94%E5%B0%8B%5D&#43;8%2F12&#43;%E5%B1%8F%E6%9D%B1&#43;%E8%90%AC%E9%A0%86%E8%B7%AF%E8%88%87%E5%B4%99%E4%B8%AD%E8%B7%AF%E5%8F%A3&#43;%E8%A1%8C%E8%BB%8A%E7%B4%80%E9%8C%84%E5%99%A8\">搜尋同標題文章</a></div>\n",
      "\t\t\t\t\t\t\n",
      "\t\t\t\t\t\t<div class=\"item\"><a href=\"/bbs/Gossiping/search?q=author%3Awater112\">搜尋看板內 water112 的文章</a></div>\n",
      "\t\t\t\t\t\t\n",
      "\t\t\t\t\t</div>\n",
      "\t\t\t\t\t\n",
      "\t\t\t\t</div>\n",
      "\t\t\t\t<div class=\"date\"> 8/14</div>\n",
      "\t\t\t\t<div class=\"mark\"></div>\n",
      "\t\t\t</div>\n",
      "\t\t</div>\n",
      "\n",
      "            \n",
      "                \n",
      "        \n",
      "        \n",
      "\t\t<div class=\"r-ent\">\n",
      "\t\t\t<div class=\"nrec\"><span class=\"hl f2\">7</span></div>\n",
      "\t\t\t<div class=\"title\">\n",
      "\t\t\t\n",
      "\t\t\t\t<a href=\"/bbs/Gossiping/M.1597380236.A.3AB.html\">[協尋] 8/12  12:10~12:40行經花東鹽寮北上影像</a>\n",
      "\t\t\t\n",
      "\t\t\t</div>\n",
      "\t\t\t<div class=\"meta\">\n",
      "\t\t\t\t<div class=\"author\">monarch0301</div>\n",
      "\t\t\t\t<div class=\"article-menu\">\n",
      "\t\t\t\t\t\n",
      "\t\t\t\t\t<div class=\"trigger\">&#x22ef;</div>\n",
      "\t\t\t\t\t<div class=\"dropdown\">\n",
      "\t\t\t\t\t\t<div class=\"item\"><a href=\"/bbs/Gossiping/search?q=thread%3A%5B%E5%8D%94%E5%B0%8B%5D&#43;8%2F12&#43;&#43;12%3A10~12%3A40%E8%A1%8C%E7%B6%93%E8%8A%B1%E6%9D%B1%E9%B9%BD%E5%AF%AE%E5%8C%97%E4%B8%8A%E5%BD%B1%E5%83%8F\">搜尋同標題文章</a></div>\n",
      "\t\t\t\t\t\t\n",
      "\t\t\t\t\t\t<div class=\"item\"><a href=\"/bbs/Gossiping/search?q=author%3Amonarch0301\">搜尋看板內 monarch0301 的文章</a></div>\n",
      "\t\t\t\t\t\t\n",
      "\t\t\t\t\t</div>\n",
      "\t\t\t\t\t\n",
      "\t\t\t\t</div>\n",
      "\t\t\t\t<div class=\"date\"> 8/14</div>\n",
      "\t\t\t\t<div class=\"mark\"></div>\n",
      "\t\t\t</div>\n",
      "\t\t</div>\n",
      "\n",
      "            \n",
      "                \n",
      "        \n",
      "        \n",
      "\t\t<div class=\"r-ent\">\n",
      "\t\t\t<div class=\"nrec\"><span class=\"hl f3\">19</span></div>\n",
      "\t\t\t<div class=\"title\">\n",
      "\t\t\t\n",
      "\t\t\t\t<a href=\"/bbs/Gossiping/M.1597422441.A.F72.html\">[公告] ==八月十五日零時開始不可有拉票行為==</a>\n",
      "\t\t\t\n",
      "\t\t\t</div>\n",
      "\t\t\t<div class=\"meta\">\n",
      "\t\t\t\t<div class=\"author\">hateOnas</div>\n",
      "\t\t\t\t<div class=\"article-menu\">\n",
      "\t\t\t\t\t\n",
      "\t\t\t\t\t<div class=\"trigger\">&#x22ef;</div>\n",
      "\t\t\t\t\t<div class=\"dropdown\">\n",
      "\t\t\t\t\t\t<div class=\"item\"><a href=\"/bbs/Gossiping/search?q=thread%3A%5B%E5%85%AC%E5%91%8A%5D&#43;%3D%3D%E5%85%AB%E6%9C%88%E5%8D%81%E4%BA%94%E6%97%A5%E9%9B%B6%E6%99%82%E9%96%8B%E5%A7%8B%E4%B8%8D%E5%8F%AF%E6%9C%89%E6%8B%89%E7%A5%A8%E8%A1%8C%E7%82%BA%3D%3D\">搜尋同標題文章</a></div>\n",
      "\t\t\t\t\t\t\n",
      "\t\t\t\t\t\t<div class=\"item\"><a href=\"/bbs/Gossiping/search?q=author%3AhateOnas\">搜尋看板內 hateOnas 的文章</a></div>\n",
      "\t\t\t\t\t\t\n",
      "\t\t\t\t\t</div>\n",
      "\t\t\t\t\t\n",
      "\t\t\t\t</div>\n",
      "\t\t\t\t<div class=\"date\"> 8/15</div>\n",
      "\t\t\t\t<div class=\"mark\">M</div>\n",
      "\t\t\t</div>\n",
      "\t\t</div>\n",
      "\n",
      "            \n",
      "        \n",
      "\t</div>\n",
      "\n",
      "    \n",
      "<div class=\"bbs-screen bbs-footer-message\">本網站已依台灣網站內容分級規定處理。此區域為限制級，未滿十八歲者不得瀏覽。</div>\n",
      "\n",
      "</div>\n",
      "\n",
      "\t\t\n",
      "\n",
      "<script>\n",
      "  (function(i,s,o,g,r,a,m){i['GoogleAnalyticsObject']=r;i[r]=i[r]||function(){\n",
      "  (i[r].q=i[r].q||[]).push(arguments)},i[r].l=1*new Date();a=s.createElement(o),\n",
      "  m=s.getElementsByTagName(o)[0];a.async=1;a.src=g;m.parentNode.insertBefore(a,m)\n",
      "  })(window,document,'script','https://www.google-analytics.com/analytics.js','ga');\n",
      "\n",
      "  ga('create', 'UA-32365737-1', {\n",
      "    cookieDomain: 'ptt.cc',\n",
      "    legacyCookieDomain: 'ptt.cc'\n",
      "  });\n",
      "  ga('send', 'pageview');\n",
      "</script>\n",
      "\n",
      "\n",
      "\t\t\n",
      "<script src=\"//ajax.googleapis.com/ajax/libs/jquery/2.1.1/jquery.min.js\"></script>\n",
      "<script src=\"//images.ptt.cc/bbs/v2.27/bbs.js\"></script>\n",
      "\n",
      "    </body>\n",
      "</html>\n",
      "\n"
     ]
    }
   ],
   "source": [
    "response = requests.get(\"https://www.ptt.cc/bbs/Gossiping/index.html\", cookies={'over18': '1'})\n",
    "print(response.text)"
   ]
  },
  {
   "cell_type": "code",
   "execution_count": 16,
   "metadata": {
    "slideshow": {
     "slide_type": "subslide"
    }
   },
   "outputs": [
    {
     "name": "stdout",
     "output_type": "stream",
     "text": [
      "['The Invisible Man', 'Just Mercy', 'Line of Duty', 'Emma', 'Seberg', 'The Last Full Measure', 'The Wave', 'Ordinary Love', '1917', 'Bad Boys for Life', 'Disney and Pixar’s Onward', 'Sonic the Hedgehog', 'The Whistleblower', 'Tora-san, Wish You Were Here', 'The Call of the Wild', 'Wendy', 'Somewhere Winter', 'Talking the Pictures', 'Ashfall', 'The Platform', 'Kim Ji-young: Born 1982', 'Oh Mercy!']\n"
     ]
    }
   ],
   "source": [
    "response = requests.get(\"http://www.fantasy-sky.com/ContentList.aspx?section=002\", cookies={'COOKIE_LANGUAGE': 'en'})\n",
    "soup = BeautifulSoup(response.text)\n",
    "movie_titles = [i.text for i in soup.select(\".movies-name\")]\n",
    "print(movie_titles)"
   ]
  },
  {
   "cell_type": "markdown",
   "metadata": {
    "slideshow": {
     "slide_type": "subslide"
    }
   },
   "source": [
    "## Web Scraping in a Nutshell\n",
    "\n",
    "- 請求資料\n",
    "    - 以 Quick JavaScript Switcher 判斷資料分類在 XHR 或 Doc\n",
    "    - 以 Chrome 開發人員工具檢視 Preview/Response 確認資料格式\n",
    "    - 以 Chrome 開發人員工具檢視請求資料的 Request URL/Request Method/Query String Parameters/Form Data/Cookies\n",
    "    - 以 `requests` 發送請求獲得回應\n",
    "- 解析資料\n",
    "    - 資料是 JSON 格式，呼叫回應的 `.json()` 方法後直接以 Python 資料結構解析\n",
    "    - 資料是 XML 格式，使用回應的 `.text` 屬性後以 `xml` 搭配 XPath 解析\n",
    "    - 資料是 HTML 格式，使用回應的 `.text` 屬性後以 `bs4` 搭配 CSS Selector 解析"
   ]
  },
  {
   "cell_type": "markdown",
   "metadata": {
    "slideshow": {
     "slide_type": "slide"
    }
   },
   "source": [
    "## 瀏覽器自動化"
   ]
  },
  {
   "cell_type": "markdown",
   "metadata": {
    "slideshow": {
     "slide_type": "subslide"
    }
   },
   "source": [
    "## 在研究如何使 `get_movie_data()` 更方便的過程中我們做了幾個動作\n",
    "\n",
    "1. 前往 <https://www.imdb.com/> 首頁\n",
    "2. 輸入電影名稱\n",
    "3. 點選搜尋\n",
    "4. 點選相似度最高的搜尋結果"
   ]
  },
  {
   "cell_type": "markdown",
   "metadata": {
    "slideshow": {
     "slide_type": "subslide"
    }
   },
   "source": [
    "## 這些操作可以利用 `selenium` 來自動化！"
   ]
  },
  {
   "cell_type": "markdown",
   "metadata": {
    "slideshow": {
     "slide_type": "subslide"
    }
   },
   "source": [
    "## 什麼是 Selenium\n",
    "\n",
    "- Selenium 是瀏覽器自動化測試的解決方案\n",
    "- Python 透過 Selenium WebDriver 呼叫瀏覽器驅動程式，再由瀏覽器驅動程式去呼叫瀏覽器\n",
    "- 對 Google Chrome 與 Mozilla Firefox 兩個主流瀏覽器的支援最好"
   ]
  },
  {
   "cell_type": "markdown",
   "metadata": {
    "slideshow": {
     "slide_type": "subslide"
    }
   },
   "source": [
    "## Selenium 環境設定：確認教室電腦中的 Python 版本\n",
    "\n",
    "- Python.org 的版本\n",
    "- Anaconda 的版本"
   ]
  },
  {
   "cell_type": "markdown",
   "metadata": {
    "slideshow": {
     "slide_type": "skip"
    }
   },
   "source": [
    "## Selenium 環境設定：安裝 Miniconda 的步驟\n",
    "\n",
    "1. 前往 [Miniconda](https://docs.conda.io/en/latest/miniconda.html) 下載頁面，依照作業系統點選對應的 Python 3.X 安裝檔\n",
    "2. 依照提示點選下一步\n",
    "3. 選擇安裝路徑\n",
    "4. 依照提示點選我同意\n",
    "5. 等待安裝完成"
   ]
  },
  {
   "cell_type": "markdown",
   "metadata": {
    "slideshow": {
     "slide_type": "skip"
    }
   },
   "source": [
    "## Selenium 環境設定：建立環境步驟\n",
    "\n",
    "1. 開啟 Anaconda Prompt\n",
    "2. 更新 conda\n",
    "3. 安裝 jupyter\n",
    "4. 創建環境\n",
    "5. 啟動環境\n",
    "6. 安裝套件\n",
    "7. 創建 Jupyter Notebook Kernel（在已經啟動環境的情況下）\n",
    "8. 卸載環境\n",
    "9. 開啟 Jupyter Notebook"
   ]
  },
  {
   "cell_type": "markdown",
   "metadata": {
    "slideshow": {
     "slide_type": "subslide"
    }
   },
   "source": [
    "## 開啟 Anaconda Prompt\n",
    "\n",
    "![Imgur](https://i.imgur.com/vcBpOJq.png?1)"
   ]
  },
  {
   "cell_type": "markdown",
   "metadata": {
    "slideshow": {
     "slide_type": "skip"
    }
   },
   "source": [
    "## 更新 conda\n",
    "\n",
    "```shell\n",
    "# run in command line\n",
    "(base) conda update conda\n",
    "```"
   ]
  },
  {
   "cell_type": "markdown",
   "metadata": {
    "slideshow": {
     "slide_type": "subslide"
    }
   },
   "source": [
    "## 安裝 jupyter\n",
    "\n",
    "```shell\n",
    "# run in command line\n",
    "(base) conda install jupyter\n",
    "```"
   ]
  },
  {
   "cell_type": "markdown",
   "metadata": {
    "slideshow": {
     "slide_type": "subslide"
    }
   },
   "source": [
    "## 檢視可用環境\n",
    "\n",
    "```shell\n",
    "# run in command line\n",
    "(base) conda env list\n",
    "```"
   ]
  },
  {
   "cell_type": "markdown",
   "metadata": {
    "slideshow": {
     "slide_type": "skip"
    }
   },
   "source": [
    "## 創建環境\n",
    "\n",
    "```shell\n",
    "# run in command line\n",
    "(base) conda create --name <env_name> python=3.7\n",
    "```"
   ]
  },
  {
   "cell_type": "markdown",
   "metadata": {
    "slideshow": {
     "slide_type": "skip"
    }
   },
   "source": [
    "## 啟動環境\n",
    "\n",
    "```shell\n",
    "# run in command line\n",
    "(base) conda activate <env_name>\n",
    "# conda deactivate # 回到原本的 (base)\n",
    "```"
   ]
  },
  {
   "cell_type": "markdown",
   "metadata": {
    "slideshow": {
     "slide_type": "subslide"
    }
   },
   "source": [
    "## 安裝套件\n",
    "\n",
    "```shell\n",
    "# run in command line\n",
    "(base) conda install selenium\n",
    "```"
   ]
  },
  {
   "cell_type": "markdown",
   "metadata": {
    "slideshow": {
     "slide_type": "skip"
    }
   },
   "source": [
    "## 這些套件的用途分別是\n",
    "\n",
    "- 環境\n",
    "    - ipykernel\n",
    "- 網路爬蟲\n",
    "    - requests\n",
    "    - lxml\n",
    "    - beautifulsoup4\n",
    "    - selenium"
   ]
  },
  {
   "cell_type": "markdown",
   "metadata": {
    "slideshow": {
     "slide_type": "skip"
    }
   },
   "source": [
    "## 創建 Jupyter Notebook Kernel（在已經啟動環境的情況下）\n",
    "\n",
    "```shell\n",
    "# run in command line\n",
    "(env_name) python -m ipykernel install --user --name <kernel_name> --display-name \"Python Web Scraping\"\n",
    "```"
   ]
  },
  {
   "cell_type": "markdown",
   "metadata": {
    "slideshow": {
     "slide_type": "skip"
    }
   },
   "source": [
    "## 檢視可用的 Jupyter Notebook Kernel\n",
    "\n",
    "```shell\n",
    "# run in command line\n",
    "(env_name) jupyter kernelspec list\n",
    "```"
   ]
  },
  {
   "cell_type": "markdown",
   "metadata": {
    "slideshow": {
     "slide_type": "subslide"
    }
   },
   "source": [
    "## Selenium 環境設定：Chrome\n",
    "\n",
    "- 前往 [Chrome 官方網站](https://www.google.com/chrome/)下載最新版的瀏覽器\n",
    "- 下載最新版的瀏覽器驅動程式 [ChromeDriver](http://chromedriver.chromium.org/)\n",
    "- 下載完成以後解壓縮在熟悉路徑讓後續指派較為方便"
   ]
  },
  {
   "cell_type": "markdown",
   "metadata": {
    "slideshow": {
     "slide_type": "subslide"
    }
   },
   "source": [
    "## Selenium 環境設定：Firefox\n",
    "\n",
    "- 前往 [Firefox 官方網站](https://www.mozilla.org/zh-TW/firefox/new/)下載最新版的瀏覽器\n",
    "- 下載最新版的瀏覽器驅動程式 [geckodriver](https://github.com/mozilla/geckodriver/releases)\n",
    "- 下載完成以後解壓縮在熟悉路徑讓後續指派較為方便"
   ]
  },
  {
   "cell_type": "markdown",
   "metadata": {
    "slideshow": {
     "slide_type": "subslide"
    }
   },
   "source": [
    "## 測試 Chrome 是否設定完成\n",
    "\n",
    "用程式碼透過 ChromeDriver 操控 Chrome 瀏覽器前往 IMDB 首頁並將首頁的網址印出再關閉瀏覽器"
   ]
  },
  {
   "cell_type": "code",
   "execution_count": null,
   "metadata": {
    "slideshow": {
     "slide_type": "subslide"
    }
   },
   "outputs": [],
   "source": [
    "from selenium import webdriver\n",
    "\n",
    "driver_path = \"c:/YOUR/PATH/TO/CHROMEDRIVER\"\n",
    "imdb_home = \"https://www.imdb.com/\"\n",
    "driver = webdriver.Chrome(executable_path=driver_path) # Use Chrome\n",
    "driver.get(imdb_home)\n",
    "print(driver.current_url)\n",
    "driver.close()"
   ]
  },
  {
   "cell_type": "markdown",
   "metadata": {
    "slideshow": {
     "slide_type": "subslide"
    }
   },
   "source": [
    "## 測試 Firefox 是否設定完成\n",
    "\n",
    "用程式碼透過 geckodriver 操控 Firefox 瀏覽器前往 IMDB 首頁並將首頁的網址印出再關閉瀏覽器"
   ]
  },
  {
   "cell_type": "code",
   "execution_count": null,
   "metadata": {
    "slideshow": {
     "slide_type": "subslide"
    }
   },
   "outputs": [],
   "source": [
    "from selenium import webdriver\n",
    "\n",
    "driver_path = \"c:/YOUR/PATH/TO/GECKODRIVER\"\n",
    "imdb_home = \"https://www.imdb.com/\"\n",
    "driver = webdriver.Firefox(executable_path=driver_path) # Use Firefox\n",
    "driver.get(imdb_home)\n",
    "print(driver.current_url)\n",
    "driver.close()"
   ]
  },
  {
   "cell_type": "markdown",
   "metadata": {
    "slideshow": {
     "slide_type": "subslide"
    }
   },
   "source": [
    "## 常使用的 `driver` 方法、屬性\n",
    "\n",
    "- `driver.get()` ：前往指定網址\n",
    "- `driver.find_element_by_css_selector()` ：定位搜尋欄位、搜尋按鈕與搜尋結果連結（單數）\n",
    "- `driver.find_elements_by_css_selector()` ：定位搜尋欄位、搜尋按鈕與搜尋結果連結（複數）\n",
    "- `driver.find_element_by_xpath()` ：定位搜尋欄位、搜尋按鈕與搜尋結果連結（單數）\n",
    "- `driver.find_elements_by_xpath()` ：定位搜尋欄位、搜尋按鈕與搜尋結果連結（複數）\n",
    "- `driver.current_url` ：取得當下瀏覽器的網址"
   ]
  },
  {
   "cell_type": "markdown",
   "metadata": {
    "slideshow": {
     "slide_type": "skip"
    }
   },
   "source": [
    "## 幫助檢視 XPath 的 Chrome 外掛\n",
    "\n",
    "[XPath Helper](https://chrome.google.com/webstore/detail/xpath-helper/hgimnogjllphhhkhlmebbmlgjoejdpjl)"
   ]
  },
  {
   "cell_type": "markdown",
   "metadata": {
    "slideshow": {
     "slide_type": "skip"
    }
   },
   "source": [
    "## [XPath Helper](https://chrome.google.com/webstore/detail/xpath-helper/hgimnogjllphhhkhlmebbmlgjoejdpjl) 的使用方法\n",
    "\n",
    "- 點選 XPath Helper 的外掛圖示\n",
    "- 留意 XPath Helper 介面左邊的 XPath 與右邊被定位到的資料\n",
    "- 按住 shift 鍵移動滑鼠到想要定位的元素\n",
    "- 試著縮減 XPath，從最前面開始刪減並置換為 `//`"
   ]
  },
  {
   "cell_type": "markdown",
   "metadata": {
    "slideshow": {
     "slide_type": "skip"
    }
   },
   "source": [
    "## 以 [Avengers: Endgame (2019)](https://www.imdb.com/title/tt4154796) 示範 [XPath Helper](https://chrome.google.com/webstore/detail/xpath-helper/hgimnogjllphhhkhlmebbmlgjoejdpjl) 的使用方法\n",
    "\n",
    "- 電影名稱\n",
    "- 電影海報\n",
    "- 評分\n",
    "- 劇情類型\n",
    "- 演員陣容"
   ]
  },
  {
   "cell_type": "markdown",
   "metadata": {
    "slideshow": {
     "slide_type": "subslide"
    }
   },
   "source": [
    "## 常使用的 `element` 方法、屬性\n",
    "\n",
    "- `element.send_keys()` ：輸入文字\n",
    "- `element.click()` ：按下搜尋按鈕與連結\n",
    "- `element.text`：取出標記中的文字值\n",
    "- `element.get_attribute(ATTR)`：取出標記中的指定屬性"
   ]
  },
  {
   "cell_type": "markdown",
   "metadata": {
    "slideshow": {
     "slide_type": "subslide"
    }
   },
   "source": [
    "## 以 `selenium` 實作 `get_movie_data(movie_title)`"
   ]
  },
  {
   "cell_type": "code",
   "execution_count": null,
   "metadata": {
    "slideshow": {
     "slide_type": "subslide"
    }
   },
   "outputs": [],
   "source": [
    "from selenium import webdriver\n",
    "\n",
    "def get_movie_data(movie_title):\n",
    "    chrome_driver_path = \"/Users/kuoyaojen/Downloads/chromedriver\"\n",
    "    driver = webdriver.Chrome(executable_path=chrome_driver_path)\n",
    "    driver.get(\"https://www.imdb.com\")\n",
    "    elem = driver.find_element_by_css_selector(\"#navbar-query\")\n",
    "    elem.send_keys(movie_title)\n",
    "    elem = driver.find_element_by_css_selector(\"#suggestion-search-button\")\n",
    "    elem.click()\n",
    "    elems = driver.find_elements_by_css_selector(\".result_text a\")\n",
    "    elems[0].click()\n",
    "    elem = driver.find_element_by_css_selector(\"h1\")\n",
    "    movie_title = elem.text\n",
    "    elem = driver.find_element_by_css_selector(\"strong span\")\n",
    "    movie_rating = float(elem.text)\n",
    "    elem = driver.find_element_by_css_selector(\".poster img\")\n",
    "    movie_poster_link = elem.get_attribute(\"src\")\n",
    "    elems = driver.find_elements_by_css_selector(\".subtext a\")\n",
    "    movie_genre = [i.text for i in elems]\n",
    "    movie_genre.pop()\n",
    "    elems = driver.find_elements_by_css_selector(\".primary_photo+ td a\")\n",
    "    movie_cast = [i.text for i in elems]\n",
    "    driver.close()\n",
    "    movie_data = {\n",
    "        \"movieTitle\": movie_title,\n",
    "        \"moviePosterLink\": movie_poster_link,\n",
    "        \"movieRating\": movie_rating,\n",
    "        \"movieGenre\": movie_genre,\n",
    "        \"movieCast\": movie_cast\n",
    "    }\n",
    "    return movie_data"
   ]
  },
  {
   "cell_type": "markdown",
   "metadata": {
    "slideshow": {
     "slide_type": "subslide"
    }
   },
   "source": [
    "## 以 selenium 擷取四部復仇者聯盟的電影資訊\n",
    "\n",
    "```python\n",
    "avengers_movies = [\"The Avengers (2012)\", \"Avengers: Age of Ultron (2015)\", \"Avengers: Infinity War (2018)\", \"Avengers: Endgame (2019)\"]\n",
    "```"
   ]
  },
  {
   "cell_type": "code",
   "execution_count": null,
   "metadata": {
    "slideshow": {
     "slide_type": "subslide"
    }
   },
   "outputs": [],
   "source": [
    "import random\n",
    "import time\n",
    "\n",
    "avengers_movies = [\"The Avengers (2012)\", \"Avengers: Age of Ultron (2015)\", \"Avengers: Infinity War (2018)\", \"Avengers: Endgame (2019)\"]\n",
    "avengers_movie_data = []\n",
    "for am in avengers_movies:\n",
    "    print(\"開始擷取 {} 的電影資訊...\".format(am))\n",
    "    movie_data = get_movie_data(am)\n",
    "    avengers_movie_data.append(movie_data)\n",
    "    sleep_secs = random.randint(3, 10)\n",
    "    print(\"休息 {} 秒...\".format(sleep_secs))\n",
    "    time.sleep(sleep_secs)"
   ]
  },
  {
   "cell_type": "code",
   "execution_count": null,
   "metadata": {
    "slideshow": {
     "slide_type": "subslide"
    }
   },
   "outputs": [],
   "source": [
    "print(avengers_movie_data)"
   ]
  },
  {
   "cell_type": "markdown",
   "metadata": {
    "slideshow": {
     "slide_type": "slide"
    }
   },
   "source": [
    "## 延伸閱讀 \n",
    "\n",
    "- [Requests: HTTP for Humans](http://docs.python-requests.org/en/master/)\n",
    "- [Beautiful Soup Documentation](https://www.crummy.com/software/BeautifulSoup/bs4/doc/#)\n",
    "- [Selenium with Python](https://selenium-python.readthedocs.io/)\n",
    "- [Python 與網頁資料擷取 - DataInPoint](https://medium.com/datainpoint/web-scraping-with-python/home)"
   ]
  },
  {
   "cell_type": "markdown",
   "metadata": {
    "slideshow": {
     "slide_type": "slide"
    }
   },
   "source": [
    "## 隨堂練習\n",
    "\n",
    "[隨堂練習：網頁資料擷取](https://mybinder.org/v2/gh/yaojenkuo/python-data-analysis/master?filepath=exercises%2F01-exercises.ipynb)"
   ]
  },
  {
   "cell_type": "code",
   "execution_count": null,
   "metadata": {
    "slideshow": {
     "slide_type": "subslide"
    }
   },
   "outputs": [],
   "source": [
    "import requests\n",
    "from xml.etree import ElementTree as etree\n",
    "from bs4 import BeautifulSoup\n",
    "import time\n",
    "import random"
   ]
  },
  {
   "cell_type": "markdown",
   "metadata": {
    "slideshow": {
     "slide_type": "subslide"
    }
   },
   "source": [
    "## 隨堂練習：2019-2020 球季 NBA 有幾支球隊？"
   ]
  },
  {
   "cell_type": "code",
   "execution_count": null,
   "metadata": {},
   "outputs": [],
   "source": [
    "def number_of_nba_teams(request_url):\n",
    "    \"\"\"\n",
    "    >>> number_of_nba_teams(\"http://data.nba.net/prod/v2/2019/teams.json\")\n",
    "    30\n",
    "    \"\"\""
   ]
  },
  {
   "cell_type": "markdown",
   "metadata": {
    "slideshow": {
     "slide_type": "subslide"
    }
   },
   "source": [
    "## 隨堂練習：divName 為 Atlantic 與 Southwest 的球隊有哪些？"
   ]
  },
  {
   "cell_type": "code",
   "execution_count": null,
   "metadata": {},
   "outputs": [],
   "source": [
    "def find_atlantic_southwest_teams(request_url):\n",
    "    \"\"\"\n",
    "    >>> atlantic_southwest_teams = find_atlantic_southwest_teams(\"http://data.nba.net/prod/v2/2019/teams.json\")\n",
    "    >>> atlantic_southwest_teams['Atlantic']\n",
    "    ['Boston Celtics', 'Brooklyn Nets', 'New York Knicks', 'Philadelphia 76ers', 'Toronto Raptors']\n",
    "    >>> atlantic_southwest_teams['Southwest']\n",
    "    ['Dallas Mavericks', 'Houston Rockets', 'Memphis Grizzlies', 'New Orleans Pelicans', 'San Antonio Spurs']\n",
    "    \"\"\""
   ]
  },
  {
   "cell_type": "markdown",
   "metadata": {
    "slideshow": {
     "slide_type": "subslide"
    }
   },
   "source": [
    "## 隨堂練習：擷取台北市所有 7-11 商店資訊"
   ]
  },
  {
   "cell_type": "code",
   "execution_count": null,
   "metadata": {},
   "outputs": [],
   "source": [
    "def get_tpe_711_stores(request_url):\n",
    "    \"\"\"\n",
    "    >>> tpe_711_stores = get_tpe_711_stores(\"https://emap.pcsc.com.tw/EMapSDK.aspx\")\n",
    "    >>> tpe_711_stores[\"松山區\"][0]\n",
    "    {'POIID': '170945', 'POIName': '上弘', 'Longitude': 121.548287390895, 'Latitude': 25.056390968531797, 'Address': '台北市松山區敦化北路168號B2'}\n",
    "    >>> tpe_711_stores[\"信義區\"][0]\n",
    "    {'POIID': '167651', 'POIName': '一零一', 'Longitude': 121.565077, 'Latitude': 25.033373, 'Address': '台北市信義區信義路五段7號35樓'}\n",
    "    >>> tpe_711_stores[\"大安區\"][0]\n",
    "    {'POIID': '153319', 'POIName': '大台', 'Longitude': 121.53261437826, 'Latitude': 25.0179598345753, 'Address': '台北市大安區羅斯福路三段283巷14弄16號1樓'}\n",
    "    \"\"\""
   ]
  },
  {
   "cell_type": "markdown",
   "metadata": {
    "slideshow": {
     "slide_type": "subslide"
    }
   },
   "source": [
    "## 隨堂練習：以 `requests` 搭配 `bs4` 擷取 [Avengers: Endgame (2019)](https://www.imdb.com/title/tt4154796) 的劇情類型"
   ]
  },
  {
   "cell_type": "code",
   "execution_count": null,
   "metadata": {},
   "outputs": [],
   "source": [
    "def find_endgame_genre(request_url):\n",
    "    \"\"\"\n",
    "    >>> find_endgame_genre(\"https://www.imdb.com/title/tt4154796\")\n",
    "    ['Action', 'Adventure', 'Drama']\n",
    "    \"\"\""
   ]
  },
  {
   "cell_type": "markdown",
   "metadata": {
    "slideshow": {
     "slide_type": "subslide"
    }
   },
   "source": [
    "## 隨堂練習：以 `requests` 搭配 `bs4` 擷取 [Avengers: Endgame (2019)](https://www.imdb.com/title/tt4154796) 的演員陣容"
   ]
  },
  {
   "cell_type": "code",
   "execution_count": null,
   "metadata": {},
   "outputs": [],
   "source": [
    "def find_endgame_cast(request_url):\n",
    "    \"\"\"\n",
    "    >>> find_endgame_cast(\"https://www.imdb.com/title/tt4154796\")\n",
    "    ['Robert Downey Jr.', 'Chris Evans', 'Mark Ruffalo', 'Chris Hemsworth', 'Scarlett Johansson', 'Jeremy Renner', 'Don Cheadle', 'Paul Rudd', 'Benedict Cumberbatch', 'Chadwick Boseman', 'Brie Larson', 'Tom Holland', 'Karen Gillan', 'Zoe Saldana', 'Evangeline Lilly']\n",
    "    \"\"\""
   ]
  },
  {
   "cell_type": "markdown",
   "metadata": {
    "slideshow": {
     "slide_type": "subslide"
    }
   },
   "source": [
    "## 隨堂練習：自訂函式 `get_movie_data_from_url(request_url)`"
   ]
  },
  {
   "cell_type": "code",
   "execution_count": null,
   "metadata": {},
   "outputs": [],
   "source": [
    "def get_movie_data_from_url(request_url):\n",
    "    \"\"\"\n",
    "    >>> movie_data = get_movie_data_from_url(\"https://www.imdb.com/title/tt4154796\")\n",
    "    >>> movie_data[\"moviePoster\"]\n",
    "    'https://m.media-amazon.com/images/M/MV5BMTc5MDE2ODcwNV5BMl5BanBnXkFtZTgwMzI2NzQ2NzM@._V1_UX182_CR0,0,182,268_AL_.jpg'\n",
    "    >>> movie_data[\"movieGenre\"]\n",
    "    ['Action', 'Adventure', 'Drama']\n",
    "    >>> movie_data[\"movieCast\"]\n",
    "    ['Robert Downey Jr.', 'Chris Evans', 'Mark Ruffalo', 'Chris Hemsworth', 'Scarlett Johansson', 'Jeremy Renner', 'Don Cheadle', 'Paul Rudd', 'Benedict Cumberbatch', 'Chadwick Boseman', 'Brie Larson', 'Tom Holland', 'Karen Gillan', 'Zoe Saldana', 'Evangeline Lilly']\n",
    "    \"\"\""
   ]
  },
  {
   "cell_type": "markdown",
   "metadata": {
    "slideshow": {
     "slide_type": "subslide"
    }
   },
   "source": [
    "## 隨堂練習：自訂函式 `get_movie_data_from_title(movie_title)`"
   ]
  },
  {
   "cell_type": "code",
   "execution_count": null,
   "metadata": {},
   "outputs": [],
   "source": [
    "def get_movie_data_from_title(movie_title):\n",
    "    \"\"\"\n",
    "    >>> movie_data = get_movie_data_from_title(\"Avengers: Endgame (2019)\")\n",
    "    >>> movie_data[\"moviePoster\"]\n",
    "    'https://m.media-amazon.com/images/M/MV5BMTc5MDE2ODcwNV5BMl5BanBnXkFtZTgwMzI2NzQ2NzM@._V1_UX182_CR0,0,182,268_AL_.jpg'\n",
    "    >>> movie_data[\"movieGenre\"]\n",
    "    ['Action', 'Adventure', 'Drama']\n",
    "    >>> movie_data[\"movieCast\"]\n",
    "    ['Robert Downey Jr.', 'Chris Evans', 'Mark Ruffalo', 'Chris Hemsworth', 'Scarlett Johansson', 'Jeremy Renner', 'Don Cheadle', 'Paul Rudd', 'Benedict Cumberbatch', 'Chadwick Boseman', 'Brie Larson', 'Tom Holland', 'Karen Gillan', 'Zoe Saldana', 'Evangeline Lilly']\n",
    "    \"\"\""
   ]
  },
  {
   "cell_type": "markdown",
   "metadata": {
    "slideshow": {
     "slide_type": "subslide"
    }
   },
   "source": [
    "## 隨堂練習：擷取所有華航機上電影清單\n",
    "\n",
    "<http://www.fantasy-sky.com/ContentList.aspx?section=002>"
   ]
  },
  {
   "cell_type": "code",
   "execution_count": null,
   "metadata": {},
   "outputs": [],
   "source": [
    "def get_ca_movie_titles():\n",
    "    \"\"\"\n",
    "    >>> ca_movie_titles = get_ca_movie_titles()\n",
    "    >>> type(ca_movie_titles)\n",
    "    list\n",
    "    \"\"\""
   ]
  },
  {
   "cell_type": "markdown",
   "metadata": {
    "slideshow": {
     "slide_type": "subslide"
    }
   },
   "source": [
    "## 隨堂練習：找出華航機上最高評等的電影"
   ]
  },
  {
   "cell_type": "code",
   "execution_count": null,
   "metadata": {},
   "outputs": [],
   "source": [
    "def find_highest_rated_movies():\n",
    "    \"\"\"\n",
    "    >>> find_highest_rated_movies()\n",
    "    ['Inception']\n",
    "    \"\"\""
   ]
  },
  {
   "cell_type": "markdown",
   "metadata": {
    "slideshow": {
     "slide_type": "slide"
    }
   },
   "source": [
    "## 隨堂練習參考解答\n",
    "\n",
    "[隨堂練習：網頁資料擷取參考解答](https://mybinder.org/v2/gh/yaojenkuo/python-data-analysis/master?filepath=suggested_answers%2F01-suggested-answers.ipynb)"
   ]
  }
 ],
 "metadata": {
  "celltoolbar": "Slideshow",
  "kernelspec": {
   "display_name": "Python Web Scraping",
   "language": "python",
   "name": "pywebscraping"
  },
  "language_info": {
   "codemirror_mode": {
    "name": "ipython",
    "version": 3
   },
   "file_extension": ".py",
   "mimetype": "text/x-python",
   "name": "python",
   "nbconvert_exporter": "python",
   "pygments_lexer": "ipython3",
   "version": "3.7.7"
  }
 },
 "nbformat": 4,
 "nbformat_minor": 2
}
