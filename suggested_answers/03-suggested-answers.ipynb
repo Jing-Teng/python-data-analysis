{
 "cells": [
  {
   "cell_type": "markdown",
   "metadata": {
    "slideshow": {
     "slide_type": "slide"
    }
   },
   "source": [
    "# 成為資料分析師 | Python 與資料科學應用\n",
    "\n",
    "> 隨堂練習：奧運獎牌排行參考解答\n",
    "\n",
    "## 郭耀仁"
   ]
  },
  {
   "cell_type": "markdown",
   "metadata": {
    "slideshow": {
     "slide_type": "slide"
    }
   },
   "source": [
    "## 隨堂練習：奧運獎牌排行"
   ]
  },
  {
   "cell_type": "code",
   "execution_count": 1,
   "metadata": {},
   "outputs": [],
   "source": [
    "import requests\n",
    "import pandas as pd"
   ]
  },
  {
   "cell_type": "markdown",
   "metadata": {
    "slideshow": {
     "slide_type": "subslide"
    }
   },
   "source": [
    "## 題庫\n",
    "\n",
    "[Introduction to Data Science in Python](https://www.coursera.org/learn/python-data-analysis/home/welcome)"
   ]
  },
  {
   "cell_type": "code",
   "execution_count": 2,
   "metadata": {
    "slideshow": {
     "slide_type": "subslide"
    }
   },
   "outputs": [],
   "source": [
    "request_url = \"https://en.wikipedia.org/wiki/All-time_Olympic_Games_medal_table\"\n",
    "html_tables = pd.read_html(request_url)\n",
    "olympic_medal_table = html_tables[1]\n",
    "column_names = ['team', 'no_summer_games', 'no_summer_golds', 'no_summer_silvers', 'no_summer_bronzes', 'no_summer_totals',\n",
    "               'no_winter_games', 'no_winter_golds', 'no_winter_silvers', 'no_winter_bronzes', 'no_winter_totals',\n",
    "               'no_combined_games', 'no_combined_golds', 'no_combined_silvers', 'no_combined_bronzes', 'no_combined_totals']\n",
    "olympic_medal_table.columns = column_names\n",
    "team_name_split = olympic_medal_table['team'].str.split('\\(|\\)|\\[|\\]', expand=True)\n",
    "team_names = team_name_split[0].str.strip()\n",
    "team_ioc = team_name_split[1].str.strip()\n",
    "olympic_medal_table.insert(0, 'team_name', team_names.values)\n",
    "olympic_medal_table.insert(1, 'team_ioc', team_ioc.values)\n",
    "olympic_medal_table = olympic_medal_table.drop('team', axis=1)"
   ]
  },
  {
   "cell_type": "code",
   "execution_count": 3,
   "metadata": {
    "slideshow": {
     "slide_type": "subslide"
    }
   },
   "outputs": [
    {
     "data": {
      "text/html": [
       "<div>\n",
       "<style scoped>\n",
       "    .dataframe tbody tr th:only-of-type {\n",
       "        vertical-align: middle;\n",
       "    }\n",
       "\n",
       "    .dataframe tbody tr th {\n",
       "        vertical-align: top;\n",
       "    }\n",
       "\n",
       "    .dataframe thead th {\n",
       "        text-align: right;\n",
       "    }\n",
       "</style>\n",
       "<table border=\"1\" class=\"dataframe\">\n",
       "  <thead>\n",
       "    <tr style=\"text-align: right;\">\n",
       "      <th></th>\n",
       "      <th>team_name</th>\n",
       "      <th>team_ioc</th>\n",
       "      <th>no_summer_games</th>\n",
       "      <th>no_summer_golds</th>\n",
       "      <th>no_summer_silvers</th>\n",
       "      <th>no_summer_bronzes</th>\n",
       "      <th>no_summer_totals</th>\n",
       "      <th>no_winter_games</th>\n",
       "      <th>no_winter_golds</th>\n",
       "      <th>no_winter_silvers</th>\n",
       "      <th>no_winter_bronzes</th>\n",
       "      <th>no_winter_totals</th>\n",
       "      <th>no_combined_games</th>\n",
       "      <th>no_combined_golds</th>\n",
       "      <th>no_combined_silvers</th>\n",
       "      <th>no_combined_bronzes</th>\n",
       "      <th>no_combined_totals</th>\n",
       "    </tr>\n",
       "  </thead>\n",
       "  <tbody>\n",
       "    <tr>\n",
       "      <th>0</th>\n",
       "      <td>Afghanistan</td>\n",
       "      <td>AFG</td>\n",
       "      <td>14</td>\n",
       "      <td>0</td>\n",
       "      <td>0</td>\n",
       "      <td>2</td>\n",
       "      <td>2</td>\n",
       "      <td>0</td>\n",
       "      <td>0</td>\n",
       "      <td>0</td>\n",
       "      <td>0</td>\n",
       "      <td>0</td>\n",
       "      <td>14</td>\n",
       "      <td>0</td>\n",
       "      <td>0</td>\n",
       "      <td>2</td>\n",
       "      <td>2</td>\n",
       "    </tr>\n",
       "    <tr>\n",
       "      <th>1</th>\n",
       "      <td>Algeria</td>\n",
       "      <td>ALG</td>\n",
       "      <td>13</td>\n",
       "      <td>5</td>\n",
       "      <td>4</td>\n",
       "      <td>8</td>\n",
       "      <td>17</td>\n",
       "      <td>3</td>\n",
       "      <td>0</td>\n",
       "      <td>0</td>\n",
       "      <td>0</td>\n",
       "      <td>0</td>\n",
       "      <td>16</td>\n",
       "      <td>5</td>\n",
       "      <td>4</td>\n",
       "      <td>8</td>\n",
       "      <td>17</td>\n",
       "    </tr>\n",
       "    <tr>\n",
       "      <th>2</th>\n",
       "      <td>Argentina</td>\n",
       "      <td>ARG</td>\n",
       "      <td>24</td>\n",
       "      <td>21</td>\n",
       "      <td>25</td>\n",
       "      <td>28</td>\n",
       "      <td>74</td>\n",
       "      <td>19</td>\n",
       "      <td>0</td>\n",
       "      <td>0</td>\n",
       "      <td>0</td>\n",
       "      <td>0</td>\n",
       "      <td>43</td>\n",
       "      <td>21</td>\n",
       "      <td>25</td>\n",
       "      <td>28</td>\n",
       "      <td>74</td>\n",
       "    </tr>\n",
       "    <tr>\n",
       "      <th>3</th>\n",
       "      <td>Armenia</td>\n",
       "      <td>ARM</td>\n",
       "      <td>6</td>\n",
       "      <td>2</td>\n",
       "      <td>6</td>\n",
       "      <td>6</td>\n",
       "      <td>14</td>\n",
       "      <td>7</td>\n",
       "      <td>0</td>\n",
       "      <td>0</td>\n",
       "      <td>0</td>\n",
       "      <td>0</td>\n",
       "      <td>13</td>\n",
       "      <td>2</td>\n",
       "      <td>6</td>\n",
       "      <td>6</td>\n",
       "      <td>14</td>\n",
       "    </tr>\n",
       "    <tr>\n",
       "      <th>4</th>\n",
       "      <td>Australasia</td>\n",
       "      <td>ANZ</td>\n",
       "      <td>2</td>\n",
       "      <td>3</td>\n",
       "      <td>4</td>\n",
       "      <td>5</td>\n",
       "      <td>12</td>\n",
       "      <td>0</td>\n",
       "      <td>0</td>\n",
       "      <td>0</td>\n",
       "      <td>0</td>\n",
       "      <td>0</td>\n",
       "      <td>2</td>\n",
       "      <td>3</td>\n",
       "      <td>4</td>\n",
       "      <td>5</td>\n",
       "      <td>12</td>\n",
       "    </tr>\n",
       "  </tbody>\n",
       "</table>\n",
       "</div>"
      ],
      "text/plain": [
       "     team_name team_ioc  no_summer_games  no_summer_golds  no_summer_silvers  \\\n",
       "0  Afghanistan      AFG               14                0                  0   \n",
       "1      Algeria      ALG               13                5                  4   \n",
       "2    Argentina      ARG               24               21                 25   \n",
       "3      Armenia      ARM                6                2                  6   \n",
       "4  Australasia      ANZ                2                3                  4   \n",
       "\n",
       "   no_summer_bronzes  no_summer_totals  no_winter_games  no_winter_golds  \\\n",
       "0                  2                 2                0                0   \n",
       "1                  8                17                3                0   \n",
       "2                 28                74               19                0   \n",
       "3                  6                14                7                0   \n",
       "4                  5                12                0                0   \n",
       "\n",
       "   no_winter_silvers  no_winter_bronzes  no_winter_totals  no_combined_games  \\\n",
       "0                  0                  0                 0                 14   \n",
       "1                  0                  0                 0                 16   \n",
       "2                  0                  0                 0                 43   \n",
       "3                  0                  0                 0                 13   \n",
       "4                  0                  0                 0                  2   \n",
       "\n",
       "   no_combined_golds  no_combined_silvers  no_combined_bronzes  \\\n",
       "0                  0                    0                    2   \n",
       "1                  5                    4                    8   \n",
       "2                 21                   25                   28   \n",
       "3                  2                    6                    6   \n",
       "4                  3                    4                    5   \n",
       "\n",
       "   no_combined_totals  \n",
       "0                   2  \n",
       "1                  17  \n",
       "2                  74  \n",
       "3                  14  \n",
       "4                  12  "
      ]
     },
     "execution_count": 3,
     "metadata": {},
     "output_type": "execute_result"
    }
   ],
   "source": [
    "olympic_medal_table.head()"
   ]
  },
  {
   "cell_type": "code",
   "execution_count": 4,
   "metadata": {
    "slideshow": {
     "slide_type": "subslide"
    }
   },
   "outputs": [
    {
     "data": {
      "text/html": [
       "<div>\n",
       "<style scoped>\n",
       "    .dataframe tbody tr th:only-of-type {\n",
       "        vertical-align: middle;\n",
       "    }\n",
       "\n",
       "    .dataframe tbody tr th {\n",
       "        vertical-align: top;\n",
       "    }\n",
       "\n",
       "    .dataframe thead th {\n",
       "        text-align: right;\n",
       "    }\n",
       "</style>\n",
       "<table border=\"1\" class=\"dataframe\">\n",
       "  <thead>\n",
       "    <tr style=\"text-align: right;\">\n",
       "      <th></th>\n",
       "      <th>team_name</th>\n",
       "      <th>team_ioc</th>\n",
       "      <th>no_summer_games</th>\n",
       "      <th>no_summer_golds</th>\n",
       "      <th>no_summer_silvers</th>\n",
       "      <th>no_summer_bronzes</th>\n",
       "      <th>no_summer_totals</th>\n",
       "      <th>no_winter_games</th>\n",
       "      <th>no_winter_golds</th>\n",
       "      <th>no_winter_silvers</th>\n",
       "      <th>no_winter_bronzes</th>\n",
       "      <th>no_winter_totals</th>\n",
       "      <th>no_combined_games</th>\n",
       "      <th>no_combined_golds</th>\n",
       "      <th>no_combined_silvers</th>\n",
       "      <th>no_combined_bronzes</th>\n",
       "      <th>no_combined_totals</th>\n",
       "    </tr>\n",
       "  </thead>\n",
       "  <tbody>\n",
       "    <tr>\n",
       "      <th>148</th>\n",
       "      <td>Zimbabwe</td>\n",
       "      <td>ZIM</td>\n",
       "      <td>13</td>\n",
       "      <td>3</td>\n",
       "      <td>4</td>\n",
       "      <td>1</td>\n",
       "      <td>8</td>\n",
       "      <td>1</td>\n",
       "      <td>0</td>\n",
       "      <td>0</td>\n",
       "      <td>0</td>\n",
       "      <td>0</td>\n",
       "      <td>14</td>\n",
       "      <td>3</td>\n",
       "      <td>4</td>\n",
       "      <td>1</td>\n",
       "      <td>8</td>\n",
       "    </tr>\n",
       "    <tr>\n",
       "      <th>149</th>\n",
       "      <td>Independent Olympic Athletes</td>\n",
       "      <td>IOA</td>\n",
       "      <td>3</td>\n",
       "      <td>1</td>\n",
       "      <td>0</td>\n",
       "      <td>1</td>\n",
       "      <td>2</td>\n",
       "      <td>0</td>\n",
       "      <td>0</td>\n",
       "      <td>0</td>\n",
       "      <td>0</td>\n",
       "      <td>0</td>\n",
       "      <td>3</td>\n",
       "      <td>1</td>\n",
       "      <td>0</td>\n",
       "      <td>1</td>\n",
       "      <td>2</td>\n",
       "    </tr>\n",
       "    <tr>\n",
       "      <th>150</th>\n",
       "      <td>Independent Olympic Participants</td>\n",
       "      <td>IOP</td>\n",
       "      <td>1</td>\n",
       "      <td>0</td>\n",
       "      <td>1</td>\n",
       "      <td>2</td>\n",
       "      <td>3</td>\n",
       "      <td>0</td>\n",
       "      <td>0</td>\n",
       "      <td>0</td>\n",
       "      <td>0</td>\n",
       "      <td>0</td>\n",
       "      <td>1</td>\n",
       "      <td>0</td>\n",
       "      <td>1</td>\n",
       "      <td>2</td>\n",
       "      <td>3</td>\n",
       "    </tr>\n",
       "    <tr>\n",
       "      <th>151</th>\n",
       "      <td>Mixed team</td>\n",
       "      <td>ZZX</td>\n",
       "      <td>3</td>\n",
       "      <td>8</td>\n",
       "      <td>5</td>\n",
       "      <td>4</td>\n",
       "      <td>17</td>\n",
       "      <td>0</td>\n",
       "      <td>0</td>\n",
       "      <td>0</td>\n",
       "      <td>0</td>\n",
       "      <td>0</td>\n",
       "      <td>3</td>\n",
       "      <td>8</td>\n",
       "      <td>5</td>\n",
       "      <td>4</td>\n",
       "      <td>17</td>\n",
       "    </tr>\n",
       "    <tr>\n",
       "      <th>152</th>\n",
       "      <td>Totals</td>\n",
       "      <td>None</td>\n",
       "      <td>28</td>\n",
       "      <td>5116</td>\n",
       "      <td>5081</td>\n",
       "      <td>5488</td>\n",
       "      <td>15685</td>\n",
       "      <td>23</td>\n",
       "      <td>1062</td>\n",
       "      <td>1058</td>\n",
       "      <td>1050</td>\n",
       "      <td>3170</td>\n",
       "      <td>51</td>\n",
       "      <td>6178</td>\n",
       "      <td>6139</td>\n",
       "      <td>6538</td>\n",
       "      <td>18855</td>\n",
       "    </tr>\n",
       "  </tbody>\n",
       "</table>\n",
       "</div>"
      ],
      "text/plain": [
       "                            team_name team_ioc  no_summer_games  \\\n",
       "148                          Zimbabwe      ZIM               13   \n",
       "149      Independent Olympic Athletes      IOA                3   \n",
       "150  Independent Olympic Participants      IOP                1   \n",
       "151                        Mixed team      ZZX                3   \n",
       "152                            Totals     None               28   \n",
       "\n",
       "     no_summer_golds  no_summer_silvers  no_summer_bronzes  no_summer_totals  \\\n",
       "148                3                  4                  1                 8   \n",
       "149                1                  0                  1                 2   \n",
       "150                0                  1                  2                 3   \n",
       "151                8                  5                  4                17   \n",
       "152             5116               5081               5488             15685   \n",
       "\n",
       "     no_winter_games  no_winter_golds  no_winter_silvers  no_winter_bronzes  \\\n",
       "148                1                0                  0                  0   \n",
       "149                0                0                  0                  0   \n",
       "150                0                0                  0                  0   \n",
       "151                0                0                  0                  0   \n",
       "152               23             1062               1058               1050   \n",
       "\n",
       "     no_winter_totals  no_combined_games  no_combined_golds  \\\n",
       "148                 0                 14                  3   \n",
       "149                 0                  3                  1   \n",
       "150                 0                  1                  0   \n",
       "151                 0                  3                  8   \n",
       "152              3170                 51               6178   \n",
       "\n",
       "     no_combined_silvers  no_combined_bronzes  no_combined_totals  \n",
       "148                    4                    1                   8  \n",
       "149                    0                    1                   2  \n",
       "150                    1                    2                   3  \n",
       "151                    5                    4                  17  \n",
       "152                 6139                 6538               18855  "
      ]
     },
     "execution_count": 4,
     "metadata": {},
     "output_type": "execute_result"
    }
   ],
   "source": [
    "olympic_medal_table.tail()"
   ]
  },
  {
   "cell_type": "markdown",
   "metadata": {
    "slideshow": {
     "slide_type": "subslide"
    }
   },
   "source": [
    "## 隨堂練習：哪個國家贏得的夏季奧運金牌數最多？"
   ]
  },
  {
   "cell_type": "code",
   "execution_count": 5,
   "metadata": {
    "slideshow": {
     "slide_type": "-"
    }
   },
   "outputs": [],
   "source": [
    "def most_summer_gold_country(olympic_medal_table):\n",
    "    \"\"\"\n",
    "    >>> most_summer_gold_country(olympic_medal_table)\n",
    "    'United States'\n",
    "    \"\"\"\n",
    "    without_totals = olympic_medal_table[olympic_medal_table['team_name'] != 'Totals']\n",
    "    without_totals = without_totals.set_index('team_name')\n",
    "    return without_totals[\"no_summer_golds\"].idxmax()"
   ]
  },
  {
   "cell_type": "markdown",
   "metadata": {
    "slideshow": {
     "slide_type": "subslide"
    }
   },
   "source": [
    "## 隨堂練習：哪個國家夏季奧運與冬季奧運的金牌數差距數最大？"
   ]
  },
  {
   "cell_type": "code",
   "execution_count": 6,
   "metadata": {
    "slideshow": {
     "slide_type": "-"
    }
   },
   "outputs": [],
   "source": [
    "def largest_gold_difference(olympic_medal_table):\n",
    "    \"\"\"\n",
    "    >>> largest_gold_difference(olympic_medal_table)\n",
    "    'United States'\n",
    "    \"\"\"\n",
    "    without_totals = olympic_medal_table[olympic_medal_table['team_name'] != 'Totals']\n",
    "    without_totals = without_totals.set_index('team_name')\n",
    "    diff = without_totals[\"no_summer_golds\"] - without_totals[\"no_winter_golds\"]\n",
    "    diff_abs = diff.abs()\n",
    "    return diff_abs.idxmax()"
   ]
  },
  {
   "cell_type": "markdown",
   "metadata": {
    "slideshow": {
     "slide_type": "subslide"
    }
   },
   "source": [
    "## 隨堂練習：哪個國家夏季奧運與冬季奧運的金牌數差距除以總金牌數的比例最大？（僅考慮至少有一個夏季金牌與一個冬季金牌的國家）\n",
    "\n",
    "$$\\text{Ratio} = \\frac{\\text{Summer Gold} - \\text{Winter Gold}}{\\text{Total Gold}}$$"
   ]
  },
  {
   "cell_type": "code",
   "execution_count": 7,
   "metadata": {
    "slideshow": {
     "slide_type": "-"
    }
   },
   "outputs": [],
   "source": [
    "def largest_ratio(olympic_medal_table):\n",
    "    \"\"\"\n",
    "    >>> largest_ratio(olympic_medal_table)\n",
    "    'Hungary'\n",
    "    \"\"\"\n",
    "    without_totals = olympic_medal_table[olympic_medal_table['team_name'] != 'Totals']\n",
    "    without_totals = without_totals.set_index('team_name')\n",
    "    summer_gold = without_totals[\"no_summer_golds\"]\n",
    "    winter_gold = without_totals[\"no_winter_golds\"]\n",
    "    total_gold = without_totals[\"no_combined_golds\"]\n",
    "    ratio = (summer_gold - winter_gold)/total_gold\n",
    "    ratio_not_one = ratio[ratio < 1]\n",
    "    return ratio_not_one.idxmax()"
   ]
  },
  {
   "cell_type": "code",
   "execution_count": 8,
   "metadata": {
    "slideshow": {
     "slide_type": "subslide"
    }
   },
   "outputs": [
    {
     "name": "stderr",
     "output_type": "stream",
     "text": [
      "test_largest_gold_difference (__main__.TestPandas101) ... ok\n",
      "test_largest_ratio (__main__.TestPandas101) ... ok\n",
      "test_most_summer_gold_country (__main__.TestPandas101) ... ok\n",
      "\n",
      "----------------------------------------------------------------------\n",
      "Ran 3 tests in 0.013s\n",
      "\n",
      "OK\n"
     ]
    }
   ],
   "source": [
    "# %load ../test_cases/test_cases_03.py\n",
    "import unittest\n",
    "\n",
    "class TestPandas101(unittest.TestCase):\n",
    "    def test_most_summer_gold_country(self):\n",
    "        self.assertEqual(most_summer_gold_country(olympic_medal_table), 'United States')\n",
    "    def test_largest_gold_difference(self):\n",
    "        self.assertEqual(largest_gold_difference(olympic_medal_table), 'United States')\n",
    "    def test_largest_ratio(self):\n",
    "        self.assertEqual(largest_ratio(olympic_medal_table), 'Hungary')\n",
    "\n",
    "suite = unittest.TestLoader().loadTestsFromTestCase(TestPandas101)\n",
    "runner = unittest.TextTestRunner(verbosity=2)\n",
    "test_results = runner.run(suite)"
   ]
  }
 ],
 "metadata": {
  "celltoolbar": "Slideshow",
  "kernelspec": {
   "display_name": "Python Web Scraping",
   "language": "python",
   "name": "pywebscraping"
  },
  "language_info": {
   "codemirror_mode": {
    "name": "ipython",
    "version": 3
   },
   "file_extension": ".py",
   "mimetype": "text/x-python",
   "name": "python",
   "nbconvert_exporter": "python",
   "pygments_lexer": "ipython3",
   "version": "3.7.7"
  }
 },
 "nbformat": 4,
 "nbformat_minor": 2
}
