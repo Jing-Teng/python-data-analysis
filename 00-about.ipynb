{
 "cells": [
  {
   "cell_type": "markdown",
   "metadata": {
    "slideshow": {
     "slide_type": "slide"
    }
   },
   "source": [
    "# 成為資料分析師 | Python 與資料科學應用\n",
    "\n",
    "> 簡介\n",
    "\n",
    "## 郭耀仁"
   ]
  },
  {
   "cell_type": "markdown",
   "metadata": {
    "slideshow": {
     "slide_type": "subslide"
    }
   },
   "source": [
    "## 在這門課程中，我們要學習 Python 與資料科學應用\n",
    "\n",
    "- [網頁資料擷取](https://yaojenkuo.io/python-data-analysis/01-web-scraping-101.slides.html)\n",
    "- [NumPy 101](https://yaojenkuo.io/python-data-analysis/02-numpy-101.slides.html)\n",
    "- [Pandas 101](https://yaojenkuo.io/python-data-analysis/03-pandas-101.slides.html)\n",
    "- [Pandas 專題](https://yaojenkuo.io/python-data-analysis/04-pandas-data-wrangling.slides.html)\n",
    "- [Matplotlib 101](https://yaojenkuo.io/python-data-analysis/05-matplotlib-101.slides.html)"
   ]
  },
  {
   "cell_type": "markdown",
   "metadata": {
    "slideshow": {
     "slide_type": "subslide"
    }
   },
   "source": [
    "## 課程進行的方式\n",
    "\n",
    "- 首先是授課\n",
    "- 接著是範例\n",
    "- 最後是隨堂練習"
   ]
  },
  {
   "cell_type": "markdown",
   "metadata": {
    "slideshow": {
     "slide_type": "subslide"
    }
   },
   "source": [
    "## 我們將從網頁資料擷取開始到視覺化\n",
    "\n",
    "![Imgur](https://i.imgur.com/din6Ig6.png)\n",
    "\n",
    "Source: [R for Data Science](https://r4ds.had.co.nz/)"
   ]
  },
  {
   "cell_type": "markdown",
   "metadata": {
    "slideshow": {
     "slide_type": "subslide"
    }
   },
   "source": [
    "## 在資料科學專案的管線中涵蓋這幾個環節\n",
    "\n",
    "- Import\n",
    "- Tidy\n",
    "- Transform\n",
    "- Visualise"
   ]
  },
  {
   "cell_type": "markdown",
   "metadata": {
    "slideshow": {
     "slide_type": "subslide"
    }
   },
   "source": [
    "## 為了讓學生能夠直接進入學習的環節，我們設置了一個[雲端環境](https://mybinder.org/v2/gh/yaojenkuo/python-data-analysis/master)\n",
    "\n",
    "這個[雲端環境](https://mybinder.org/v2/gh/yaojenkuo/python-data-analysis/master)是透過下面幾個應用程式所搭建而成：\n",
    "- [Binder](https://mybinder.org/)\n",
    "- [GitHub](https://github.com/)\n",
    "- [Project Jupyter](https://jupyter.org/)\n",
    "- [Python](https://www.python.org/)"
   ]
  },
  {
   "cell_type": "markdown",
   "metadata": {
    "slideshow": {
     "slide_type": "subslide"
    }
   },
   "source": [
    "## [雲端環境](https://mybinder.org/v2/gh/yaojenkuo/python-data-analysis/master)該如何使用？\n",
    "\n",
    "當作一個重新啟動後會「還原」的 Jupyter Notebook 伺服器"
   ]
  },
  {
   "cell_type": "markdown",
   "metadata": {
    "slideshow": {
     "slide_type": "subslide"
    }
   },
   "source": [
    "## 已知的限制\n",
    "\n",
    "- 閒置 10 分鐘環境會關閉\n",
    "- 重新啟動環境後所有的變更都會還原"
   ]
  },
  {
   "cell_type": "markdown",
   "metadata": {
    "slideshow": {
     "slide_type": "subslide"
    }
   },
   "source": [
    "## About me\n",
    "\n",
    "A data enthusiast and instructor focused on practical Python/R/SQL."
   ]
  },
  {
   "cell_type": "markdown",
   "metadata": {
    "slideshow": {
     "slide_type": "subslide"
    }
   },
   "source": [
    "## Teaching practical data science online/offline\n",
    "\n",
    "- [如何成為資料分析師：從問題解決到行動方案，Hahow 好學校](https://hahow.in/cr/dajourney)\n",
    "- Visualization and modern data science, Adjunct Instructor, National Taiwan University\n",
    "- Python for data analysis, Instructor, Chunghwa Telecom Academy\n",
    "- Python for data science, Machine learning from scratch, Senior Instructor, CSIE Train, National Taiwan University"
   ]
  },
  {
   "cell_type": "markdown",
   "metadata": {
    "slideshow": {
     "slide_type": "subslide"
    }
   },
   "source": [
    "## Data science instructor focused on commercial banking clients\n",
    "\n",
    "- 2020 DBS Python Training Program\n",
    "- 2019 HNCB Python Training Program\n",
    "- 2017 ESUN Python Training Program"
   ]
  },
  {
   "cell_type": "markdown",
   "metadata": {
    "slideshow": {
     "slide_type": "subslide"
    }
   },
   "source": [
    "## Writing books on data science\n",
    "\n",
    "- [輕鬆學習 R 語言](https://www.datainpoint.com/r-essentials/)\n",
    "- [進擊的資料科學](https://www.datainpoint.com/data-science-in-action/)\n",
    "- [新手村逃脫！初心者的 Python 機器學習攻略](https://yaojenkuo.io/ml-newbies/index.html)"
   ]
  },
  {
   "cell_type": "markdown",
   "metadata": {
    "slideshow": {
     "slide_type": "subslide"
    }
   },
   "source": [
    "## Writing tutorials on [Medium](https://medium.com/) with 3k+ followers\n",
    "\n",
    "- Follow my Medium account [@tonykuoyj](https://medium.com/@tonykuoyj)\n",
    "- Or, follow my publication [DataInPoint](https://medium.com/datainpoint)\n",
    "- Or, follow [DataInPoint](https://www.facebook.com/datainpoint) on Facebook"
   ]
  },
  {
   "cell_type": "markdown",
   "metadata": {
    "slideshow": {
     "slide_type": "subslide"
    }
   },
   "source": [
    "## Working experience\n",
    "\n",
    "- Senior Data Analyst, Coupang Shanghai\n",
    "- Analytical Consultant, SAS Taiwan\n",
    "- Management Associate, Chinatrust Banking Corporation Taiwan\n",
    "- Research Assistant, McKinsey & Company Taiwan"
   ]
  },
  {
   "cell_type": "markdown",
   "metadata": {
    "slideshow": {
     "slide_type": "subslide"
    }
   },
   "source": [
    "## Education\n",
    "\n",
    "- MBA, National Taiwan University\n",
    "- BA, National Taiwan University"
   ]
  },
  {
   "cell_type": "markdown",
   "metadata": {
    "slideshow": {
     "slide_type": "subslide"
    }
   },
   "source": [
    "## Loves running with a marathon PR of 2:43:12 at 2019 Seoul Marathon"
   ]
  },
  {
   "cell_type": "markdown",
   "metadata": {
    "slideshow": {
     "slide_type": "subslide"
    }
   },
   "source": [
    "## Future initiatives\n",
    "\n",
    "Make [DataInPoint](https://www.datainpoint.com/) a text-based, in-browser, and subscription-only data science bootcamp. "
   ]
  }
 ],
 "metadata": {
  "celltoolbar": "Slideshow",
  "kernelspec": {
   "display_name": "Python Machine Learning",
   "language": "python",
   "name": "pyml"
  },
  "language_info": {
   "codemirror_mode": {
    "name": "ipython",
    "version": 3
   },
   "file_extension": ".py",
   "mimetype": "text/x-python",
   "name": "python",
   "nbconvert_exporter": "python",
   "pygments_lexer": "ipython3",
   "version": "3.6.8"
  }
 },
 "nbformat": 4,
 "nbformat_minor": 2
}
