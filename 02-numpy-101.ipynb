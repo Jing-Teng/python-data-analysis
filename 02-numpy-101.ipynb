{
 "cells": [
  {
   "cell_type": "markdown",
   "metadata": {
    "slideshow": {
     "slide_type": "slide"
    }
   },
   "source": [
    "# 成為資料分析師 | Python 與資料科學應用\n",
    "\n",
    "> NumPy 101：實踐科學計算的 Python 套件\n",
    "\n",
    "## 郭耀仁"
   ]
  },
  {
   "cell_type": "markdown",
   "metadata": {
    "slideshow": {
     "slide_type": "subslide"
    }
   },
   "source": [
    "## 大綱\n",
    "\n",
    "- 為什麼資料分析師需要 NumPy\n",
    "- NumPy 基礎\n",
    "- 陣列處理\n",
    "- 陣列運算\n",
    "- 延伸閱讀"
   ]
  },
  {
   "cell_type": "markdown",
   "metadata": {
    "slideshow": {
     "slide_type": "slide"
    }
   },
   "source": [
    "## 為什麼資料分析師需要 NumPy"
   ]
  },
  {
   "cell_type": "markdown",
   "metadata": {
    "slideshow": {
     "slide_type": "subslide"
    }
   },
   "source": [
    "## 1 公里是 0.62137 英里，將這幾個長跑距離（公里）轉換為英里"
   ]
  },
  {
   "cell_type": "code",
   "execution_count": null,
   "metadata": {
    "slideshow": {
     "slide_type": "-"
    }
   },
   "outputs": [],
   "source": [
    "distances = [1, 1.6, 3, 5, 10, 21.097, 42.195]"
   ]
  },
  {
   "cell_type": "code",
   "execution_count": null,
   "metadata": {
    "slideshow": {
     "slide_type": "subslide"
    }
   },
   "outputs": [],
   "source": [
    "# conventional\n",
    "dist_in_mile = []\n",
    "for d in distances:\n",
    "    dist_in_mile.append(d * 0.62137)\n",
    "print(dist_in_mile)"
   ]
  },
  {
   "cell_type": "code",
   "execution_count": null,
   "metadata": {
    "slideshow": {
     "slide_type": "subslide"
    }
   },
   "outputs": [],
   "source": [
    "# list comprehension\n",
    "dist_in_mile = [d * 0.62137 for d in distances]\n",
    "print(dist_in_mile)"
   ]
  },
  {
   "cell_type": "code",
   "execution_count": null,
   "metadata": {
    "slideshow": {
     "slide_type": "subslide"
    }
   },
   "outputs": [],
   "source": [
    "# generator\n",
    "dist_in_mile = (d * 0.62137 for d in distances)\n",
    "print(list(dist_in_mile))"
   ]
  },
  {
   "cell_type": "code",
   "execution_count": null,
   "metadata": {
    "slideshow": {
     "slide_type": "subslide"
    }
   },
   "outputs": [],
   "source": [
    "# lambda expression + map\n",
    "dist_in_mile = list(map(lambda d : d * 0.62137, distances))\n",
    "print(dist_in_mile)"
   ]
  },
  {
   "cell_type": "markdown",
   "metadata": {
    "slideshow": {
     "slide_type": "subslide"
    }
   },
   "source": [
    "## 計算 A 與 B 的內積 C\n",
    "\n",
    "$$\n",
    "C_{i, j} = \\sum{A_{i, k}B_{k, j}}\n",
    "$$"
   ]
  },
  {
   "cell_type": "code",
   "execution_count": null,
   "metadata": {
    "slideshow": {
     "slide_type": "-"
    }
   },
   "outputs": [],
   "source": [
    "A = [\n",
    "    [1, 2],\n",
    "    [4, 5]\n",
    "]\n",
    "B = [\n",
    "    [4, 3],\n",
    "    [2, 1]\n",
    "]\n",
    "# C = ?"
   ]
  },
  {
   "cell_type": "code",
   "execution_count": null,
   "metadata": {
    "slideshow": {
     "slide_type": "subslide"
    }
   },
   "outputs": [],
   "source": [
    "# C is 2X2\n",
    "C = [\n",
    "    [0, 0],\n",
    "    [0, 0]\n",
    "]\n",
    "I = len(A)\n",
    "K = len(A[0])\n",
    "J = len(B[0])\n",
    "\n",
    "for i in range(I):\n",
    "    for k in range(K):\n",
    "        for j in range(J):\n",
    "            C[i][j] += A[i][k] * B[k][j]\n",
    "print(C)"
   ]
  },
  {
   "cell_type": "markdown",
   "metadata": {
    "slideshow": {
     "slide_type": "subslide"
    }
   },
   "source": [
    "## 讓內積的計算能夠泛用"
   ]
  },
  {
   "cell_type": "code",
   "execution_count": null,
   "metadata": {
    "slideshow": {
     "slide_type": "-"
    }
   },
   "outputs": [],
   "source": [
    "def get_mat_dot(A, B):\n",
    "    I = len(A)\n",
    "    K_A = len(A[0])\n",
    "    K_B = len(B)\n",
    "    J = len(B[0])\n",
    "    if K_A != K_B:\n",
    "        raise ValueError(\"shapes ({},{}) and ({},{}) not aligned: {} (dim 1) != {} (dim 0)\".format(I, K_A, K_B, J, K_A, K_B))\n",
    "    C = [[0 for j in range(J)] for i in range(I)]\n",
    "    for i in range(I):\n",
    "        for k in range(K_A):\n",
    "            for j in range(J):\n",
    "                C[i][j] += A[i][k] * B[k][j]\n",
    "    return C"
   ]
  },
  {
   "cell_type": "code",
   "execution_count": null,
   "metadata": {
    "slideshow": {
     "slide_type": "subslide"
    }
   },
   "outputs": [],
   "source": [
    "A = [\n",
    "    [1, 2],\n",
    "    [4, 5]\n",
    "]\n",
    "B = [\n",
    "    [4, 3],\n",
    "    [2, 1]\n",
    "]\n",
    "\n",
    "get_mat_dot(A, B)"
   ]
  },
  {
   "cell_type": "code",
   "execution_count": null,
   "metadata": {
    "slideshow": {
     "slide_type": "subslide"
    }
   },
   "outputs": [],
   "source": [
    "A = [\n",
    "    [1, 2],\n",
    "    [4, 5]\n",
    "]\n",
    "B = [\n",
    "    [4, 3],\n",
    "    [2, 1],\n",
    "    [4, 9]\n",
    "]\n",
    "\n",
    "get_mat_dot(A, B)"
   ]
  },
  {
   "cell_type": "markdown",
   "metadata": {
    "slideshow": {
     "slide_type": "subslide"
    }
   },
   "source": [
    "## 在科學計算使用者眼裡\n",
    "\n",
    "- 以純量（scalar）作為運算單位還是太麻煩\n",
    "- 哪些程式語言內建了 Vectorization（向量化）功能？\n",
    "    - Matlab\n",
    "    - R\n",
    "    - Julia\n",
    "    - ...etc."
   ]
  },
  {
   "cell_type": "markdown",
   "metadata": {
    "slideshow": {
     "slide_type": "subslide"
    }
   },
   "source": [
    "## NumPy to the Rescue!"
   ]
  },
  {
   "cell_type": "code",
   "execution_count": null,
   "metadata": {},
   "outputs": [],
   "source": [
    "import numpy as np"
   ]
  },
  {
   "cell_type": "markdown",
   "metadata": {
    "slideshow": {
     "slide_type": "subslide"
    }
   },
   "source": [
    "## 1 公里是 0.62137 英里，將這幾個長跑距離（公里）轉換為英里"
   ]
  },
  {
   "cell_type": "code",
   "execution_count": null,
   "metadata": {
    "slideshow": {
     "slide_type": "-"
    }
   },
   "outputs": [],
   "source": [
    "distances = [1, 1.6, 3, 5, 10, 21.097, 42.195]"
   ]
  },
  {
   "cell_type": "code",
   "execution_count": null,
   "metadata": {
    "slideshow": {
     "slide_type": "subslide"
    }
   },
   "outputs": [],
   "source": [
    "distances = np.array(distances)\n",
    "dist_in_mile = distances * 0.62137\n",
    "print(dist_in_mile)"
   ]
  },
  {
   "cell_type": "markdown",
   "metadata": {
    "slideshow": {
     "slide_type": "subslide"
    }
   },
   "source": [
    "## 計算 A 與 B 的內積 C\n",
    "\n",
    "$$\n",
    "C_{i, j} = \\sum{A_{i, k}B_{k, j}}\n",
    "$$"
   ]
  },
  {
   "cell_type": "code",
   "execution_count": null,
   "metadata": {
    "slideshow": {
     "slide_type": "subslide"
    }
   },
   "outputs": [],
   "source": [
    "A = [\n",
    "    [1, 2],\n",
    "    [4, 5]\n",
    "]\n",
    "B = [\n",
    "    [4, 3],\n",
    "    [2, 1]\n",
    "]"
   ]
  },
  {
   "cell_type": "code",
   "execution_count": null,
   "metadata": {
    "slideshow": {
     "slide_type": "subslide"
    }
   },
   "outputs": [],
   "source": [
    "A = np.array(A)\n",
    "B = np.array(B)\n",
    "C = A.dot(B)\n",
    "print(C)"
   ]
  },
  {
   "cell_type": "markdown",
   "metadata": {
    "slideshow": {
     "slide_type": "slide"
    }
   },
   "source": [
    "## NumPy 基礎"
   ]
  },
  {
   "cell_type": "markdown",
   "metadata": {
    "slideshow": {
     "slide_type": "subslide"
    }
   },
   "source": [
    "## 什麼是 NumPy\n",
    "\n",
    "> NumPy is the fundamental package for scientific computing in Python. It is a Python library that provides a multidimensional array object, various derived objects (such as masked arrays and matrices), and an assortment of routines for fast operations on arrays, including mathematical, logical, shape manipulation, sorting, selecting, I/O, discrete Fourier transforms, basic linear algebra, basic statistical operations, random simulation and much more."
   ]
  },
  {
   "cell_type": "markdown",
   "metadata": {
    "slideshow": {
     "slide_type": "subslide"
    }
   },
   "source": [
    "## NumPy: Numerical Python\n",
    "\n",
    "創建一種稱為 ndarray 的類別，彌補了原生 list 缺少的向量化運算（vectorization）功能"
   ]
  },
  {
   "cell_type": "markdown",
   "metadata": {
    "slideshow": {
     "slide_type": "subslide"
    }
   },
   "source": [
    "## ndarray 類別與 `list` 的差異\n",
    "\n",
    "> At the core of the NumPy package, is the ndarray object. This encapsulates n-dimensional arrays of homogeneous data types, with many operations being performed in compiled code for performance.\n",
    "\n",
    "- 僅能容納相同的資料類型\n",
    "- 具有特殊的索引功能：fancy indexing/boolean indexing"
   ]
  },
  {
   "cell_type": "markdown",
   "metadata": {
    "slideshow": {
     "slide_type": "subslide"
    }
   },
   "source": [
    "## 安裝與載入 NumPy\n",
    "\n",
    "- 安裝\n",
    "\n",
    "```bash\n",
    "# run in bash shell\n",
    "pip install numpy\n",
    "```\n",
    "\n",
    "- 載入\n",
    "\n",
    "```py\n",
    "# run in python console\n",
    "import numpy as np\n",
    "```"
   ]
  },
  {
   "cell_type": "markdown",
   "metadata": {
    "slideshow": {
     "slide_type": "subslide"
    }
   },
   "source": [
    "## 如何創建 ndarray\n",
    "\n",
    "- 使用 `np.array()` 函數由既有的 list 轉換而成\n",
    "- 使用多樣式的 NumPy 函數直接創建"
   ]
  },
  {
   "cell_type": "markdown",
   "metadata": {
    "slideshow": {
     "slide_type": "subslide"
    }
   },
   "source": [
    "## 使用 `np.array()` 函數由既有的 list 轉換而成"
   ]
  },
  {
   "cell_type": "code",
   "execution_count": null,
   "metadata": {},
   "outputs": [],
   "source": [
    "import numpy as np\n",
    "\n",
    "homogeneous_list = [1, 2, 3, 4, 5]\n",
    "print(type(homogeneous_list))\n",
    "arr = np.array(homogeneous_list)\n",
    "print(type(arr))\n",
    "print(arr)\n",
    "print(arr.dtype)"
   ]
  },
  {
   "cell_type": "markdown",
   "metadata": {
    "slideshow": {
     "slide_type": "subslide"
    }
   },
   "source": [
    "## 可以搭配 `dtype` 參數指定資料型態\n",
    "\n",
    "- `int` ：可指定 8 到 64 位元的整數型態\n",
    "- `float` ：可指定 16 到 64 位元的浮點數型態\n",
    "- `bool` ：布林型態"
   ]
  },
  {
   "cell_type": "code",
   "execution_count": null,
   "metadata": {},
   "outputs": [],
   "source": [
    "import numpy as np\n",
    "\n",
    "homogeneous_list = [1, 2, 3, 4, 5]\n",
    "arr = np.array(homogeneous_list, dtype=int)\n",
    "print(arr.dtype)\n",
    "arr = np.array(homogeneous_list, dtype=float)\n",
    "print(arr.dtype)"
   ]
  },
  {
   "cell_type": "markdown",
   "metadata": {
    "slideshow": {
     "slide_type": "subslide"
    }
   },
   "source": [
    "## 常見創建陣列錯誤"
   ]
  },
  {
   "cell_type": "code",
   "execution_count": null,
   "metadata": {},
   "outputs": [],
   "source": [
    "#arr = np.array(1, 2, 3, 4)    # WRONG\n",
    "arr = np.array([1, 2, 3, 4])  # RIGHT"
   ]
  },
  {
   "cell_type": "markdown",
   "metadata": {
    "slideshow": {
     "slide_type": "subslide"
    }
   },
   "source": [
    "## 使用多樣式的 NumPy 函數直接創建\n",
    "\n",
    "- `np.zeros(shape)` 創建指定外觀充滿 0 的數值陣列\n",
    "- `np.ones(shape)` 創建指定外觀充滿 1 的數值陣列\n",
    "- `np.full(shape, fill_value)` 創建指定外觀充滿 fill_value 的數值陣列\n",
    "- `np.arange(start, stop, step)` 創建從 start （包含）間隔 step 至 stop （不包含）的等差數列，使用方式同內建函數 `range()`\n",
    "- `np.linspace(start, stop, num)` 創建從 start （包含）至 stop （包含）的均勻切割為 num 個資料點的數值陣列\n",
    "- `np.random.random(size)` 創建指定外觀介於 0, 1 之間、並符合均勻分佈的數值陣列\n",
    "- `np.random.normal(loc, scale, size)` 創建指定外觀以 loc 為平均數、 scale 為標準差常態分佈的數值陣列\n",
    "- `np.random.randint(low, high, size)` 創建指定外觀於 low （包含）到 high （不包含）之間隨機抽樣之正整數的數值陣列"
   ]
  },
  {
   "cell_type": "markdown",
   "metadata": {
    "slideshow": {
     "slide_type": "subslide"
    }
   },
   "source": [
    "## 使用多樣式的 NumPy 函數直接創建\n",
    "\n",
    "- `np.zeros(shape)`\n",
    "- `np.ones(shape)`\n",
    "- `np.full(shape, fill_value)`"
   ]
  },
  {
   "cell_type": "code",
   "execution_count": null,
   "metadata": {},
   "outputs": [],
   "source": [
    "import numpy as np\n",
    "\n",
    "print(np.zeros(5, dtype=int))\n",
    "print(np.ones((2, 2), dtype=float))\n",
    "print(np.full((2, 2), 5566, dtype=int))"
   ]
  },
  {
   "cell_type": "markdown",
   "metadata": {
    "slideshow": {
     "slide_type": "subslide"
    }
   },
   "source": [
    "## 使用多樣式的 NumPy 函數直接創建\n",
    "\n",
    "- `np.arange(start, stop, step)`\n",
    "- `np.linspace(start, stop, num)`"
   ]
  },
  {
   "cell_type": "code",
   "execution_count": null,
   "metadata": {},
   "outputs": [],
   "source": [
    "print(np.arange(1, 10, 2))\n",
    "print(np.linspace(1, 9, 5, dtype=int))"
   ]
  },
  {
   "cell_type": "markdown",
   "metadata": {
    "slideshow": {
     "slide_type": "subslide"
    }
   },
   "source": [
    "## 使用多樣式的 NumPy 函數直接創建\n",
    "\n",
    "- `np.random.random(size)`\n",
    "- `np.random.normal(loc, scale, size)`\n",
    "- `np.random.randint(low, high, size)`"
   ]
  },
  {
   "cell_type": "code",
   "execution_count": null,
   "metadata": {
    "slideshow": {
     "slide_type": "subslide"
    }
   },
   "outputs": [],
   "source": [
    "import matplotlib.pyplot as plt\n",
    "\n",
    "arr = np.random.random(10000)\n",
    "fig = plt.figure()\n",
    "ax = plt.axes()\n",
    "ax.hist(arr)\n",
    "plt.show()"
   ]
  },
  {
   "cell_type": "code",
   "execution_count": null,
   "metadata": {
    "slideshow": {
     "slide_type": "subslide"
    }
   },
   "outputs": [],
   "source": [
    "arr = np.random.normal(0, 1, 10000)\n",
    "fig = plt.figure()\n",
    "ax = plt.axes()\n",
    "ax.hist(arr)\n",
    "plt.show()"
   ]
  },
  {
   "cell_type": "code",
   "execution_count": null,
   "metadata": {
    "slideshow": {
     "slide_type": "subslide"
    }
   },
   "outputs": [],
   "source": [
    "print(np.random.randint(1, 7, size=6))"
   ]
  },
  {
   "cell_type": "markdown",
   "metadata": {
    "slideshow": {
     "slide_type": "slide"
    }
   },
   "source": [
    "## 陣列處理"
   ]
  },
  {
   "cell_type": "markdown",
   "metadata": {
    "slideshow": {
     "slide_type": "subslide"
    }
   },
   "source": [
    "## ndarray 的屬性\n",
    "\n",
    "- `arr.ndim` ：檢視 arr 有幾個維度\n",
    "- `arr.shape` ：檢視 arr 的外型\n",
    "- `arr.size` ：檢視 arr 的資料筆數，對一維陣列的意涵就像內建函數 `len()` 作用在 list 上一般\n",
    "- `arr.dtype` ：檢視 arr 中同質資料的型態"
   ]
  },
  {
   "cell_type": "code",
   "execution_count": null,
   "metadata": {
    "slideshow": {
     "slide_type": "subslide"
    }
   },
   "outputs": [],
   "source": [
    "zero_d = np.array(5566)            # 零維陣列，純量\n",
    "one_d = np.array([55, 66, 5566])   # 一維陣列\n",
    "two_d = np.ones((3, 3), dtype=int) # 二維陣列"
   ]
  },
  {
   "cell_type": "code",
   "execution_count": null,
   "metadata": {
    "slideshow": {
     "slide_type": "subslide"
    }
   },
   "outputs": [],
   "source": [
    "print(\"ndim:\")\n",
    "print(zero_d.ndim)\n",
    "print(one_d.ndim)\n",
    "print(two_d.ndim)\n",
    "print(\"shape:\")\n",
    "print(zero_d.shape)\n",
    "print(one_d.shape)\n",
    "print(two_d.shape)\n",
    "print(\"size:\")\n",
    "print(zero_d.size)\n",
    "print(one_d.size)\n",
    "print(two_d.size)\n",
    "print(\"dtype:\")\n",
    "print(zero_d.dtype)\n",
    "print(one_d.dtype)\n",
    "print(two_d.dtype)"
   ]
  },
  {
   "cell_type": "markdown",
   "metadata": {
    "slideshow": {
     "slide_type": "subslide"
    }
   },
   "source": [
    "## ndarray 較少被檢視的屬性\n",
    "\n",
    "- `arr.itemsize` 檢視 arr 中每一筆資料所使用的位元組（bytes）多寡\n",
    "- `arr.nbytes` 檢視 arr 整個物件所使用的位元組（bytes）多寡，一般來說我們期待 arr.nbytes = arr.itemsize x arr.size"
   ]
  },
  {
   "cell_type": "code",
   "execution_count": null,
   "metadata": {},
   "outputs": [],
   "source": [
    "arr = np.arange(1, 6)\n",
    "print(arr.dtype) # 64 bits\n",
    "print(arr.itemsize) # 8 bytes = 64 bits\n",
    "print(arr.itemsize * arr.size)\n",
    "print(arr.nbytes)"
   ]
  },
  {
   "cell_type": "markdown",
   "metadata": {
    "slideshow": {
     "slide_type": "subslide"
    }
   },
   "source": [
    "## ndarray 的索引（indexing）\n",
    "\n",
    "從 ndarray 中取出單個資料值的方式與 list 相同，使用 `arr[INDEX]` 取值"
   ]
  },
  {
   "cell_type": "code",
   "execution_count": null,
   "metadata": {},
   "outputs": [],
   "source": [
    "arr = np.array([55, 66, 56, 5566])\n",
    "print(\"From start to stop:\")\n",
    "print(arr[0])\n",
    "print(arr[1])\n",
    "print(arr[2])\n",
    "print(arr[arr.size - 1])\n",
    "print(\"From stop to start:\")\n",
    "print(arr[-1])\n",
    "print(arr[-2])\n",
    "print(arr[-3])\n",
    "print(arr[-arr.size])"
   ]
  },
  {
   "cell_type": "markdown",
   "metadata": {
    "slideshow": {
     "slide_type": "subslide"
    }
   },
   "source": [
    "## 面對二維以上的陣列，ndarray 支援使用 `[i, j, …]` 的方式取出位於第 i 列（row）、第 j 欄（column）… 的資料"
   ]
  },
  {
   "cell_type": "code",
   "execution_count": null,
   "metadata": {},
   "outputs": [],
   "source": [
    "np.random.seed(42)\n",
    "arr = np.random.randint(1, 10, size=(3, 4))\n",
    "print(arr)\n",
    "print(arr[1, 1]) # 3 located at (1, 1)\n",
    "print(arr[2, -3]) # 4 located at (2, -3)"
   ]
  },
  {
   "cell_type": "markdown",
   "metadata": {
    "slideshow": {
     "slide_type": "subslide"
    }
   },
   "source": [
    "## ndarray 的索引與 list 同樣具有更新的特性，值得注意的是由於同質資料緣故，更新資料會被隱性地轉換型態"
   ]
  },
  {
   "cell_type": "code",
   "execution_count": null,
   "metadata": {},
   "outputs": [],
   "source": [
    "np.random.seed(42)\n",
    "arr = np.random.randint(1, 10, size=(3, 4))\n",
    "print(arr)\n",
    "arr[2, 3] = 5566\n",
    "print(arr)\n",
    "arr[2, 3] = 55.66\n",
    "print(arr)\n",
    "arr[2, 3] = False\n",
    "print(arr)"
   ]
  },
  {
   "cell_type": "markdown",
   "metadata": {
    "slideshow": {
     "slide_type": "subslide"
    }
   },
   "source": [
    "## ndarray 的切割（slicing）\n",
    "\n",
    "與 list 相同，使用 `arr[start:stop:step]` 取出陣列的片段"
   ]
  },
  {
   "cell_type": "code",
   "execution_count": null,
   "metadata": {},
   "outputs": [],
   "source": [
    "arr = np.arange(10, 20)\n",
    "print(arr[::]) # all defaults\n",
    "print(arr[::2]) # step=2\n",
    "print(arr[:5]) # stop=5, exclusive\n",
    "print(arr[5:]) # start=5, inclusive\n",
    "print(arr[::-1]) # step=-1, reverse"
   ]
  },
  {
   "cell_type": "markdown",
   "metadata": {
    "slideshow": {
     "slide_type": "subslide"
    }
   },
   "source": [
    "## ndarray 特別的索引\n",
    "\n",
    "- 華麗索引（Fancy indexing）\n",
    "- 布林索引（Boolean indexing）"
   ]
  },
  {
   "cell_type": "markdown",
   "metadata": {
    "slideshow": {
     "slide_type": "subslide"
    }
   },
   "source": [
    "## 華麗索引（Fancy indexing）指的是以陣列傳入不規則的索引值選取資料值，不用遷就 `arr[start:stop:step]` 的規則"
   ]
  },
  {
   "cell_type": "code",
   "execution_count": null,
   "metadata": {},
   "outputs": [],
   "source": [
    "np.random.seed(0)\n",
    "arr = np.random.randint(1, 100, size=(10))\n",
    "odd_indices =  [0, 2, 8]\n",
    "print(arr)\n",
    "print(arr[odd_indices])"
   ]
  },
  {
   "cell_type": "markdown",
   "metadata": {
    "slideshow": {
     "slide_type": "subslide"
    }
   },
   "source": [
    "## 布林索引（Boolean indexing）指的是以外觀相同的陣列傳入布林值，將位置為 True 的資料篩選出來"
   ]
  },
  {
   "cell_type": "code",
   "execution_count": null,
   "metadata": {
    "slideshow": {
     "slide_type": "-"
    }
   },
   "outputs": [],
   "source": [
    "np.random.seed(0)\n",
    "arr = np.random.randint(1, 100, size=(10))\n",
    "is_odd = arr % 2 == 1\n",
    "print(arr)\n",
    "print(is_odd)\n",
    "print(arr[is_odd])"
   ]
  },
  {
   "cell_type": "markdown",
   "metadata": {
    "slideshow": {
     "slide_type": "subslide"
    }
   },
   "source": [
    "## 重塑外觀\n",
    "\n",
    "- `arr.reshape(m, n, ...)` 將數值陣列重塑成運算所需要的外觀\n",
    "- `arr.ravel()` 將外觀為 (m, n, …) 的數值陣列調整回一維"
   ]
  },
  {
   "cell_type": "code",
   "execution_count": null,
   "metadata": {
    "slideshow": {
     "slide_type": "subslide"
    }
   },
   "outputs": [],
   "source": [
    "# reshape\n",
    "arr = np.arange(1, 10)\n",
    "print(arr)\n",
    "print(arr.shape)\n",
    "print(arr.reshape(3, 3))\n",
    "print(arr.reshape(3, 3).shape)"
   ]
  },
  {
   "cell_type": "code",
   "execution_count": null,
   "metadata": {
    "slideshow": {
     "slide_type": "subslide"
    }
   },
   "outputs": [],
   "source": [
    "# reshape conveniently\n",
    "arr = np.arange(1, 10)\n",
    "print(arr.reshape(3, -1))\n",
    "print(arr.reshape(-1, 3))"
   ]
  },
  {
   "cell_type": "code",
   "execution_count": null,
   "metadata": {
    "slideshow": {
     "slide_type": "subslide"
    }
   },
   "outputs": [],
   "source": [
    "# ravel\n",
    "arr = np.arange(1, 10).reshape(3, 3)\n",
    "print(arr.shape)\n",
    "print(arr.ndim)\n",
    "print(arr.ravel().shape)\n",
    "print(arr.ravel().ndim)"
   ]
  },
  {
   "cell_type": "markdown",
   "metadata": {
    "slideshow": {
     "slide_type": "subslide"
    }
   },
   "source": [
    "## 印出陣列\n",
    "\n",
    "- 陣列如果太巨大，NumPy 會自動忽略中間的資訊\n",
    "- 可以利用 `np.set_printoptions(threshold=)` 印出更多內容"
   ]
  },
  {
   "cell_type": "code",
   "execution_count": null,
   "metadata": {},
   "outputs": [],
   "source": [
    "print(np.arange(10000))\n",
    "print(np.arange(10000).reshape(100,100))"
   ]
  },
  {
   "cell_type": "code",
   "execution_count": null,
   "metadata": {
    "slideshow": {
     "slide_type": "subslide"
    }
   },
   "outputs": [],
   "source": [
    "# 還原預設值\n",
    "#np.set_printoptions(edgeitems=3,infstr='inf',\n",
    "#                    linewidth=75, nanstr='nan', precision=8,\n",
    "#                    suppress=False, threshold=1000, formatter=None)"
   ]
  },
  {
   "cell_type": "markdown",
   "metadata": {
    "slideshow": {
     "slide_type": "subslide"
    }
   },
   "source": [
    "## 複製陣列\n",
    "\n",
    "ndarray 有一個重要的預設特性稱為「不複製」，因此不論在切割或重新宣告的情境中都是創建陣列的 View，而非複製另一個陣列，這代表著對以 View 型式存在的子陣列（Sub-array）更新會改動到原始陣列"
   ]
  },
  {
   "cell_type": "code",
   "execution_count": null,
   "metadata": {},
   "outputs": [],
   "source": [
    "arr = np.arange(1, 10)\n",
    "mat = arr.reshape(3, 3)\n",
    "mat[1, 1] = 5566\n",
    "print(mat)\n",
    "print(arr)"
   ]
  },
  {
   "cell_type": "markdown",
   "metadata": {
    "slideshow": {
     "slide_type": "subslide"
    }
   },
   "source": [
    "## 若希望實踐陣列的複製，可以運用其 .copy() 方法"
   ]
  },
  {
   "cell_type": "code",
   "execution_count": null,
   "metadata": {},
   "outputs": [],
   "source": [
    "arr = np.arange(1, 10)\n",
    "mat = arr.copy()\n",
    "mat = mat.reshape(3, 3)\n",
    "mat[1, 1] = 5566\n",
    "print(mat)\n",
    "print(arr)"
   ]
  },
  {
   "cell_type": "markdown",
   "metadata": {
    "slideshow": {
     "slide_type": "subslide"
    }
   },
   "source": [
    "## 合併陣列\n",
    "\n",
    "- `np.concatenate([arr0, arr1, ...], axis)`\n",
    "- `np.vstack([arr0, arr1, ...])`\n",
    "- `np.hstack([arr0, arr1, ...])`"
   ]
  },
  {
   "cell_type": "code",
   "execution_count": null,
   "metadata": {
    "slideshow": {
     "slide_type": "subslide"
    }
   },
   "outputs": [],
   "source": [
    "upper_arr = np.arange(1, 5).reshape(2, 2)\n",
    "lower_arr = np.arange(5, 9).reshape(2, 2)\n",
    "print(\"Merge with np.concatenate():\")\n",
    "print(np.concatenate([upper_arr, lower_arr])) # default axis=0\n",
    "print(\"Merge with np.vstack():\")\n",
    "print(np.vstack([upper_arr, lower_arr]))"
   ]
  },
  {
   "cell_type": "markdown",
   "metadata": {
    "slideshow": {
     "slide_type": "subslide"
    }
   },
   "source": [
    "## 當 `axis=1` 的時候效果與 `np.hstack()` 函數相同，是以水平方向進行合併"
   ]
  },
  {
   "cell_type": "code",
   "execution_count": null,
   "metadata": {},
   "outputs": [],
   "source": [
    "left_arr = np.zeros(4, dtype=int).reshape(-1, 1)\n",
    "right_arr = np.ones(4, dtype=int).reshape(-1, 1)\n",
    "print(\"Merge with np.concatenate():\")\n",
    "print(np.concatenate([left_arr, right_arr], axis=1))\n",
    "print(\"Merge with np.hstack():\")\n",
    "print(np.hstack([left_arr, right_arr]))"
   ]
  },
  {
   "cell_type": "markdown",
   "metadata": {
    "slideshow": {
     "slide_type": "subslide"
    }
   },
   "source": [
    "## 拆分陣列\n",
    "\n",
    "- `np.split()`\n",
    "- `np.vsplit()`\n",
    "- `np.hsplit()`"
   ]
  },
  {
   "cell_type": "code",
   "execution_count": null,
   "metadata": {
    "slideshow": {
     "slide_type": "subslide"
    }
   },
   "outputs": [],
   "source": [
    "arr = np.arange(11, 21)\n",
    "arr0, arr1, arr2 = np.split(arr, [2, 5])\n",
    "print(arr0, arr1, arr2)"
   ]
  },
  {
   "cell_type": "code",
   "execution_count": null,
   "metadata": {
    "slideshow": {
     "slide_type": "subslide"
    }
   },
   "outputs": [],
   "source": [
    "arr = np.arange(24).reshape(6, 4)\n",
    "print(arr)\n",
    "print(\"======\")\n",
    "arr0, arr1, arr2 = np.vsplit(arr, [1, 3])\n",
    "print(arr0)\n",
    "print(\"======\")\n",
    "print(arr1)\n",
    "print(\"======\")\n",
    "print(arr2)"
   ]
  },
  {
   "cell_type": "code",
   "execution_count": null,
   "metadata": {
    "slideshow": {
     "slide_type": "subslide"
    }
   },
   "outputs": [],
   "source": [
    "arr = np.arange(24).reshape(4, 6)\n",
    "print(arr)\n",
    "print(\"======\")\n",
    "arr0, arr1, arr2 = np.hsplit(arr, [1, 3])\n",
    "print(arr0)\n",
    "print(\"======\")\n",
    "print(arr1)\n",
    "print(\"======\")\n",
    "print(arr2)"
   ]
  },
  {
   "cell_type": "markdown",
   "metadata": {
    "slideshow": {
     "slide_type": "slide"
    }
   },
   "source": [
    "## 陣列運算"
   ]
  },
  {
   "cell_type": "markdown",
   "metadata": {
    "slideshow": {
     "slide_type": "subslide"
    }
   },
   "source": [
    "## 如何透過 NumPy 的通用函數（Universal Functions）與聚合函數（Aggregate Functions）運算數值陣列"
   ]
  },
  {
   "cell_type": "markdown",
   "metadata": {
    "slideshow": {
     "slide_type": "subslide"
    }
   },
   "source": [
    "## 較緩慢的迭代運算\n",
    "\n",
    "我們可以使用 `%timeit` 得知若想以迭代對一百萬筆隨機整數進行「倒數」的運算要花多少時間"
   ]
  },
  {
   "cell_type": "code",
   "execution_count": null,
   "metadata": {
    "slideshow": {
     "slide_type": "-"
    }
   },
   "outputs": [],
   "source": [
    "long_arr = np.random.randint(1, 101, size=1000000)\n",
    "%timeit [1/i for i in long_arr]"
   ]
  },
  {
   "cell_type": "markdown",
   "metadata": {
    "slideshow": {
     "slide_type": "subslide"
    }
   },
   "source": [
    "## 使用 ndarray 的通用函數運算，就像是利用已經編譯過的程式對固定物件類型計算，效率較高"
   ]
  },
  {
   "cell_type": "code",
   "execution_count": null,
   "metadata": {
    "slideshow": {
     "slide_type": "-"
    }
   },
   "outputs": [],
   "source": [
    "long_arr = np.random.randint(1, 101, size=1000000)\n",
    "%timeit 1 / long_arr"
   ]
  },
  {
   "cell_type": "markdown",
   "metadata": {
    "slideshow": {
     "slide_type": "subslide"
    }
   },
   "source": [
    "## 入門的通用函數與純量的數值運算符相同\n",
    "\n",
    "- `np.add()` ：同 + 運算符\n",
    "- `np.subtract()` ：同 - 運算符\n",
    "- `np.multiply()` ：同 * 運算符\n",
    "- `np.divide()` ：同 / 運算符\n",
    "- `np.power()` ：同 ** 運算符\n",
    "- `np.floor_divide()` ：同 // 運算符\n",
    "- `np.mod()` ：同 % 運算符"
   ]
  },
  {
   "cell_type": "markdown",
   "metadata": {
    "slideshow": {
     "slide_type": "subslide"
    }
   },
   "source": [
    "## 使用運算符的時候，如果任一邊的長度為 1（或為純量外觀），就會產生廣播（Broadcasting）"
   ]
  },
  {
   "cell_type": "code",
   "execution_count": null,
   "metadata": {},
   "outputs": [],
   "source": [
    "arr = np.array([2, 2, 2, 2, 2])\n",
    "powers = np.arange(1, 6)\n",
    "print(arr)\n",
    "print(powers)\n",
    "print(arr**powers)\n",
    "print(\"Broadcasting:\")\n",
    "print(2 ** powers)"
   ]
  },
  {
   "cell_type": "markdown",
   "metadata": {
    "slideshow": {
     "slide_type": "subslide"
    }
   },
   "source": [
    "## 比較、布林運算符也都一併適用廣播（Broadcasting）"
   ]
  },
  {
   "cell_type": "code",
   "execution_count": null,
   "metadata": {},
   "outputs": [],
   "source": [
    "arr = np.arange(9)\n",
    "print(arr % 2 == 0)\n",
    "print(arr[arr % 2 == 0])"
   ]
  },
  {
   "cell_type": "markdown",
   "metadata": {
    "slideshow": {
     "slide_type": "subslide"
    }
   },
   "source": [
    "## 從隨機陣列中挑出偶數"
   ]
  },
  {
   "cell_type": "code",
   "execution_count": null,
   "metadata": {},
   "outputs": [],
   "source": [
    "arr = np.floor(100* np.random.random(20))\n",
    "print(arr)"
   ]
  },
  {
   "cell_type": "code",
   "execution_count": null,
   "metadata": {
    "slideshow": {
     "slide_type": "subslide"
    }
   },
   "outputs": [],
   "source": [
    "# conventional\n",
    "ans = list(filter(lambda x: x % 2 == 0, list(arr)))\n",
    "print(ans)"
   ]
  },
  {
   "cell_type": "code",
   "execution_count": null,
   "metadata": {
    "slideshow": {
     "slide_type": "subslide"
    }
   },
   "outputs": [],
   "source": [
    "ans = arr[arr % 2 == 0]\n",
    "print(ans)"
   ]
  },
  {
   "cell_type": "markdown",
   "metadata": {
    "slideshow": {
     "slide_type": "subslide"
    }
   },
   "source": [
    "## 從隨機陣列中挑出質數"
   ]
  },
  {
   "cell_type": "code",
   "execution_count": null,
   "metadata": {},
   "outputs": [],
   "source": [
    "arr = np.floor(100* np.random.random(50))\n",
    "arr = arr.astype(int)\n",
    "print(arr)"
   ]
  },
  {
   "cell_type": "markdown",
   "metadata": {
    "slideshow": {
     "slide_type": "subslide"
    }
   },
   "source": [
    "## 假如希望對數值陣列使用的通用函數是為自己需求量身訂製的，這時可以將函數定義後以 `np.vectorize()` 轉換為一個通用函數"
   ]
  },
  {
   "cell_type": "code",
   "execution_count": null,
   "metadata": {
    "slideshow": {
     "slide_type": "subslide"
    }
   },
   "outputs": [],
   "source": [
    "import numpy as np\n",
    "\n",
    "def is_prime(x):\n",
    "    div_cnt = 0\n",
    "    for i in range(1, x+1):\n",
    "        if x % i == 0:\n",
    "            div_cnt += 1\n",
    "        if div_cnt > 2:\n",
    "            break\n",
    "    return div_cnt == 2\n",
    "\n",
    "is_prime_ufunc = np.vectorize(is_prime)"
   ]
  },
  {
   "cell_type": "code",
   "execution_count": null,
   "metadata": {
    "slideshow": {
     "slide_type": "subslide"
    }
   },
   "outputs": [],
   "source": [
    "print(arr)\n",
    "print(\"Whether or not it is a prime:\", )\n",
    "print(is_prime_ufunc(arr))\n",
    "print(arr[is_prime_ufunc(arr)])"
   ]
  },
  {
   "cell_type": "markdown",
   "metadata": {
    "slideshow": {
     "slide_type": "subslide"
    }
   },
   "source": [
    "## 聚合函數\n",
    "\n",
    "通用與聚合函數最大差異點就在於輸入與輸出的數值陣列長度，不同於通用函數，聚合函數所輸出的數值陣列多數僅有長度 1，或遠小於輸入數值陣列的長度。"
   ]
  },
  {
   "cell_type": "markdown",
   "metadata": {
    "slideshow": {
     "slide_type": "subslide"
    }
   },
   "source": [
    "## 聚合函數的兩個特性\n",
    "\n",
    "- 能沿指定維度聚合\n",
    "- 多數具有可運算遺漏值的相對應函數"
   ]
  },
  {
   "cell_type": "markdown",
   "metadata": {
    "slideshow": {
     "slide_type": "subslide"
    }
   },
   "source": [
    "## 能沿指定維度聚合"
   ]
  },
  {
   "cell_type": "code",
   "execution_count": null,
   "metadata": {},
   "outputs": [],
   "source": [
    "mat = np.arange(1, 16).reshape(3, 5).astype(float)\n",
    "print(mat)\n",
    "print(np.sum(mat)) # 1 個輸出\n",
    "print(np.sum(mat, axis=0)) # 5 個輸出\n",
    "print(np.sum(mat, axis=1)) # 3 個輸出"
   ]
  },
  {
   "cell_type": "markdown",
   "metadata": {
    "slideshow": {
     "slide_type": "subslide"
    }
   },
   "source": [
    "## 多數具有可運算遺漏值的相對應函式\n",
    "\n",
    "- np.sum 與 np.nansum\n",
    "- np.prod 與 np.nanprod\n",
    "- np.mean 與 np.nanmean\n",
    "- np.median 與 np.nanmedian\n",
    "- np.std 與 np.nanstd\n",
    "- np.var 與 np.nanvar\n",
    "- np.min 與 np.nanmin\n",
    "- np.max 與 np.nanmax\n",
    "- np.argmin 與 np.nanargmin\n",
    "- np.argmax 與 np.nanargmax"
   ]
  },
  {
   "cell_type": "code",
   "execution_count": null,
   "metadata": {
    "slideshow": {
     "slide_type": "subslide"
    }
   },
   "outputs": [],
   "source": [
    "mat[2, 4] = np.nan\n",
    "print(mat)\n",
    "print(np.sum(mat))\n",
    "print(np.nansum(mat))"
   ]
  },
  {
   "cell_type": "markdown",
   "metadata": {
    "slideshow": {
     "slide_type": "slide"
    }
   },
   "source": [
    "## 延伸閱讀\n",
    "\n",
    "[NumPy User Guide](https://www.numpy.org/devdocs/user/index.html)"
   ]
  },
  {
   "cell_type": "markdown",
   "metadata": {
    "slideshow": {
     "slide_type": "slide"
    }
   },
   "source": [
    "## 隨堂練習\n",
    "\n",
    "[隨堂練習：NumPy 101](https://mybinder.org/v2/gh/yaojenkuo/python-data-analysis/master?filepath=exercises%2F02-exercises.ipynb)"
   ]
  },
  {
   "cell_type": "markdown",
   "metadata": {
    "slideshow": {
     "slide_type": "subslide"
    }
   },
   "source": [
    "## 隨堂練習：創建一個九九乘法表的二維陣列"
   ]
  },
  {
   "cell_type": "code",
   "execution_count": null,
   "metadata": {
    "slideshow": {
     "slide_type": "-"
    }
   },
   "outputs": [],
   "source": [
    "def create_99_array():\n",
    "    \"\"\"\n",
    "    >>> create_99_array()\n",
    "    array([[ 1,  2,  3,  4,  5,  6,  7,  8,  9],\n",
    "           [ 2,  4,  6,  8, 10, 12, 14, 16, 18],\n",
    "           [ 3,  6,  9, 12, 15, 18, 21, 24, 27],\n",
    "           [ 4,  8, 12, 16, 20, 24, 28, 32, 36],\n",
    "           [ 5, 10, 15, 20, 25, 30, 35, 40, 45],\n",
    "           [ 6, 12, 18, 24, 30, 36, 42, 48, 54],\n",
    "           [ 7, 14, 21, 28, 35, 42, 49, 56, 63],\n",
    "           [ 8, 16, 24, 32, 40, 48, 56, 64, 72],\n",
    "           [ 9, 18, 27, 36, 45, 54, 63, 72, 81]])\n",
    "    \"\"\""
   ]
  },
  {
   "cell_type": "markdown",
   "metadata": {
    "slideshow": {
     "slide_type": "subslide"
    }
   },
   "source": [
    "## 隨堂練習：寫作一個可以計算陣列[變異數](https://zh.wikipedia.org/zh-tw/%E6%96%B9%E5%B7%AE)的函式 `var(x)`\n",
    "\n",
    "$$Var(x) = \\frac{1}{N}\\sum_{n=1}^{N}(x_n - \\bar{x})^2$$"
   ]
  },
  {
   "cell_type": "code",
   "execution_count": null,
   "metadata": {},
   "outputs": [],
   "source": [
    "def var(x):\n",
    "    \"\"\"\n",
    "    >>> var(np.arange(10))\n",
    "    8.25\n",
    "    >>> var(np.arange(100))\n",
    "    833.25\n",
    "    \"\"\""
   ]
  },
  {
   "cell_type": "markdown",
   "metadata": {
    "slideshow": {
     "slide_type": "subslide"
    }
   },
   "source": [
    "## 隨堂練習：寫作一個可以計算陣列[標準差](https://zh.wikipedia.org/wiki/%E6%A8%99%E6%BA%96%E5%B7%AE)的函式 `std(x, ddof=0)`\n",
    "\n",
    "$$SD(x) = \\sqrt{\\frac{1}{N- ddof}\\sum_{i=1}^{N}(x_i - \\bar{x})^2}$$"
   ]
  },
  {
   "cell_type": "code",
   "execution_count": null,
   "metadata": {
    "slideshow": {
     "slide_type": "-"
    }
   },
   "outputs": [],
   "source": [
    "def std(x, ddof=0):\n",
    "    \"\"\"\n",
    "    >>> std(np.arange(10))\n",
    "    2.8722813232690143\n",
    "    >>> std(np.arange(10), 1)\n",
    "    3.0276503540974917\n",
    "    >>> std(np.arange(1))\n",
    "    ValueError: The length of array must be larger than 1.\n",
    "    \"\"\""
   ]
  },
  {
   "cell_type": "markdown",
   "metadata": {
    "slideshow": {
     "slide_type": "subslide"
    }
   },
   "source": [
    "## 隨堂練習：計算 $x$ 與 $y$ 的[共變異數](https://zh.wikipedia.org/wiki/%E5%8D%8F%E6%96%B9%E5%B7%AE)\n",
    "\n",
    "$$cov(x, y) = \\frac{1}{N}\\sum_{n=1}^{N}(x_n-\\bar{x})(y_n-\\bar{y})$$"
   ]
  },
  {
   "cell_type": "code",
   "execution_count": null,
   "metadata": {},
   "outputs": [],
   "source": [
    "def cov(x, y):\n",
    "    \"\"\"\n",
    "    >>> np.random.seed(123)\n",
    "    >>> x = np.random.randint(0, 50, 10)\n",
    "    >>> y = np.random.randint(0, 50, 10)\n",
    "    >>> cov(x, y)\n",
    "    -54.7\n",
    "    \"\"\""
   ]
  },
  {
   "cell_type": "markdown",
   "metadata": {
    "slideshow": {
     "slide_type": "subslide"
    }
   },
   "source": [
    "## 隨堂練習：計算 $x$ 與 $y$ 的[相關係數](https://zh.wikipedia.org/wiki/%E7%9B%B8%E5%85%B3) $r_{xy}$\n",
    "\n",
    "$$r_{xy} = \\frac{cov(x, y)}{\\sqrt{cov(x, x)cov(y, y)}}$$"
   ]
  },
  {
   "cell_type": "code",
   "execution_count": null,
   "metadata": {},
   "outputs": [],
   "source": [
    "def corr(x, y):\n",
    "    \"\"\"\n",
    "    >>> np.random.seed(123)\n",
    "    >>> x = np.random.randint(0, 50, 10)\n",
    "    >>> y = np.random.randint(0, 50, 10)\n",
    "    >>> corr(x, y)\n",
    "    -0.3409853364175933\n",
    "    \"\"\""
   ]
  },
  {
   "cell_type": "markdown",
   "metadata": {
    "slideshow": {
     "slide_type": "slide"
    }
   },
   "source": [
    "## 隨堂練習參考解答\n",
    "\n",
    "[隨堂練習：NumPy 101 參考解答](https://mybinder.org/v2/gh/yaojenkuo/python-data-analysis/master?filepath=suggested_answers%2F02-suggested-answers.ipynb)"
   ]
  }
 ],
 "metadata": {
  "celltoolbar": "Slideshow",
  "kernelspec": {
   "display_name": "Python Data Analysis",
   "language": "python",
   "name": "pyda"
  },
  "language_info": {
   "codemirror_mode": {
    "name": "ipython",
    "version": 3
   },
   "file_extension": ".py",
   "mimetype": "text/x-python",
   "name": "python",
   "nbconvert_exporter": "python",
   "pygments_lexer": "ipython3",
   "version": "3.6.8"
  }
 },
 "nbformat": 4,
 "nbformat_minor": 2
}
