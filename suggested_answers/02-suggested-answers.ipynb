{
 "cells": [
  {
   "cell_type": "markdown",
   "metadata": {
    "slideshow": {
     "slide_type": "slide"
    }
   },
   "source": [
    "# 成為資料分析師 | Python 與資料科學應用\n",
    "\n",
    "> NumPy 101：隨堂練習參考解答\n",
    "\n",
    "## 郭耀仁"
   ]
  },
  {
   "cell_type": "code",
   "execution_count": 1,
   "metadata": {
    "slideshow": {
     "slide_type": "subslide"
    }
   },
   "outputs": [],
   "source": [
    "import numpy as np"
   ]
  },
  {
   "cell_type": "markdown",
   "metadata": {
    "slideshow": {
     "slide_type": "subslide"
    }
   },
   "source": [
    "## 隨堂練習：創建一個九九乘法表的二維陣列"
   ]
  },
  {
   "cell_type": "code",
   "execution_count": 2,
   "metadata": {
    "slideshow": {
     "slide_type": "-"
    }
   },
   "outputs": [],
   "source": [
    "def create_99_array():\n",
    "    \"\"\"\n",
    "    >>> create_99_array()\n",
    "    array([[ 1,  2,  3,  4,  5,  6,  7,  8,  9],\n",
    "           [ 2,  4,  6,  8, 10, 12, 14, 16, 18],\n",
    "           [ 3,  6,  9, 12, 15, 18, 21, 24, 27],\n",
    "           [ 4,  8, 12, 16, 20, 24, 28, 32, 36],\n",
    "           [ 5, 10, 15, 20, 25, 30, 35, 40, 45],\n",
    "           [ 6, 12, 18, 24, 30, 36, 42, 48, 54],\n",
    "           [ 7, 14, 21, 28, 35, 42, 49, 56, 63],\n",
    "           [ 8, 16, 24, 32, 40, 48, 56, 64, 72],\n",
    "           [ 9, 18, 27, 36, 45, 54, 63, 72, 81]])\n",
    "    \"\"\"\n",
    "    A = np.arange(1, 10, dtype=int).reshape(9, 1)\n",
    "    B = np.arange(1, 10, dtype=int).reshape(1, 9)\n",
    "    return np.dot(A, B)"
   ]
  },
  {
   "cell_type": "markdown",
   "metadata": {
    "slideshow": {
     "slide_type": "subslide"
    }
   },
   "source": [
    "## 隨堂練習：寫作一個可以計算陣列[變異數](https://zh.wikipedia.org/zh-tw/%E6%96%B9%E5%B7%AE)的函式 `var(x)`\n",
    "\n",
    "$$Var(x) = \\frac{1}{N}\\sum_{n=1}^{N}(x_n - \\bar{x})^2$$"
   ]
  },
  {
   "cell_type": "code",
   "execution_count": 3,
   "metadata": {},
   "outputs": [],
   "source": [
    "def var(x):\n",
    "    \"\"\"\n",
    "    >>> var(np.arange(10))\n",
    "    8.25\n",
    "    >>> var(np.arange(100))\n",
    "    833.25\n",
    "    \"\"\"\n",
    "    N = x.size\n",
    "    x_bar = x.mean()\n",
    "    errors = x - x_bar\n",
    "    squared_errors = errors**2\n",
    "    sum_squared_errors = squared_errors.sum()\n",
    "    return sum_squared_errors / N"
   ]
  },
  {
   "cell_type": "markdown",
   "metadata": {
    "slideshow": {
     "slide_type": "subslide"
    }
   },
   "source": [
    "## 隨堂練習：寫作一個可以計算陣列[標準差](https://zh.wikipedia.org/wiki/%E6%A8%99%E6%BA%96%E5%B7%AE)的函式 `std(x, ddof=0)`\n",
    "\n",
    "$$SD(x) = \\sqrt{\\frac{1}{N- ddof}\\sum_{i=1}^{N}(x_i - \\bar{x})^2}$$"
   ]
  },
  {
   "cell_type": "code",
   "execution_count": 4,
   "metadata": {
    "slideshow": {
     "slide_type": "-"
    }
   },
   "outputs": [],
   "source": [
    "def std(x, ddof=0):\n",
    "    \"\"\"\n",
    "    >>> std(np.arange(10))\n",
    "    2.8722813232690143\n",
    "    >>> std(np.arange(10), 1)\n",
    "    3.0276503540974917\n",
    "    >>> std(np.arange(1))\n",
    "    ValueError: The length of array must be larger than 1.\n",
    "    \"\"\"\n",
    "    N = x.size\n",
    "    if N == 1:\n",
    "        raise ValueError('The length of array must be larger than 1.')\n",
    "    x_bar = x.mean()\n",
    "    errors = x - x_bar\n",
    "    squared_errors = errors**2\n",
    "    sum_squared_errors = squared_errors.sum()\n",
    "    sd = np.sqrt(sum_squared_errors / (N - ddof))\n",
    "    return sd"
   ]
  },
  {
   "cell_type": "markdown",
   "metadata": {
    "slideshow": {
     "slide_type": "subslide"
    }
   },
   "source": [
    "## 隨堂練習：計算 $x$ 與 $y$ 的[共變異數](https://zh.wikipedia.org/wiki/%E5%8D%8F%E6%96%B9%E5%B7%AE)\n",
    "\n",
    "$$cov(x, y) = \\frac{1}{N}\\sum_{n=1}^{N}(x_n-\\bar{x})(y_n-\\bar{y})$$"
   ]
  },
  {
   "cell_type": "code",
   "execution_count": 5,
   "metadata": {},
   "outputs": [],
   "source": [
    "def cov(x, y):\n",
    "    \"\"\"\n",
    "    >>> np.random.seed(123)\n",
    "    >>> x = np.random.randint(0, 50, 10)\n",
    "    >>> y = np.random.randint(0, 50, 10)\n",
    "    >>> cov(x, y)\n",
    "    -54.7\n",
    "    \"\"\"\n",
    "    N = x.size\n",
    "    x_bar = x.mean()\n",
    "    y_bar = y.mean()\n",
    "    errors = (x - x_bar) * (y - y_bar)\n",
    "    sum_errors = errors.sum()\n",
    "    return sum_errors / N"
   ]
  },
  {
   "cell_type": "markdown",
   "metadata": {
    "slideshow": {
     "slide_type": "subslide"
    }
   },
   "source": [
    "## 隨堂練習：計算 $x$ 與 $y$ 的[相關係數](https://zh.wikipedia.org/wiki/%E7%9B%B8%E5%85%B3) $r_{xy}$\n",
    "\n",
    "$$r_{xy} = \\frac{cov(x, y)}{\\sqrt{cov(x, x)cov(y, y)}}$$"
   ]
  },
  {
   "cell_type": "code",
   "execution_count": 6,
   "metadata": {},
   "outputs": [],
   "source": [
    "def corr(x, y):\n",
    "    \"\"\"\n",
    "    >>> np.random.seed(123)\n",
    "    >>> x = np.random.randint(0, 50, 10)\n",
    "    >>> y = np.random.randint(0, 50, 10)\n",
    "    >>> corr(x, y)\n",
    "    -0.3409853364175933\n",
    "    \"\"\"\n",
    "    N = x.size\n",
    "    x_bar = x.mean()\n",
    "    y_bar = y.mean()\n",
    "    cov_xy = ((x - x_bar) * (y - y_bar)).sum() / N\n",
    "    cov_xx = ((x - x_bar)**2).sum() / N\n",
    "    cov_yy = ((y - y_bar)**2).sum() / N\n",
    "    return cov_xy / np.sqrt(cov_xx * cov_yy)"
   ]
  },
  {
   "cell_type": "code",
   "execution_count": 7,
   "metadata": {},
   "outputs": [
    {
     "name": "stderr",
     "output_type": "stream",
     "text": [
      "test_corr (__main__.TestNumpy) ... ok\n",
      "test_cov (__main__.TestNumpy) ... ok\n",
      "test_create_99_array (__main__.TestNumpy) ... ok\n",
      "test_std (__main__.TestNumpy) ... ok\n",
      "test_var (__main__.TestNumpy) ... ok\n",
      "\n",
      "----------------------------------------------------------------------\n",
      "Ran 5 tests in 0.008s\n",
      "\n",
      "OK\n"
     ]
    }
   ],
   "source": [
    "# %load ../test_cases/test_cases_02.py\n",
    "import unittest\n",
    "\n",
    "class TestNumpy(unittest.TestCase):\n",
    "    def test_create_99_array(self):\n",
    "        np.testing.assert_almost_equal(create_99_array(), np.array([[ 1,  2,  3,  4,  5,  6,  7,  8,  9],\n",
    "           [ 2,  4,  6,  8, 10, 12, 14, 16, 18],\n",
    "           [ 3,  6,  9, 12, 15, 18, 21, 24, 27],\n",
    "           [ 4,  8, 12, 16, 20, 24, 28, 32, 36],\n",
    "           [ 5, 10, 15, 20, 25, 30, 35, 40, 45],\n",
    "           [ 6, 12, 18, 24, 30, 36, 42, 48, 54],\n",
    "           [ 7, 14, 21, 28, 35, 42, 49, 56, 63],\n",
    "           [ 8, 16, 24, 32, 40, 48, 56, 64, 72],\n",
    "           [ 9, 18, 27, 36, 45, 54, 63, 72, 81]]))\n",
    "    def test_var(self):\n",
    "        self.assertAlmostEqual(var(np.arange(10)), 8.25)\n",
    "        self.assertAlmostEqual(var(np.arange(100)), 833.25)\n",
    "    def test_std(self):\n",
    "        self.assertAlmostEqual(std(np.arange(10)), 2.8722813232690143)\n",
    "        self.assertAlmostEqual(std(np.arange(10), 1), 3.0276503540974917)\n",
    "        self.assertRaises(ValueError, std, np.arange(1))\n",
    "    def test_cov(self):\n",
    "        np.random.seed(123)\n",
    "        x = np.random.randint(0, 50, 10)\n",
    "        y = np.random.randint(0, 50, 10)\n",
    "        self.assertAlmostEqual(cov(x, y), -54.7)\n",
    "    def test_corr(self):\n",
    "        np.random.seed(123)\n",
    "        x = np.random.randint(0, 50, 10)\n",
    "        y = np.random.randint(0, 50, 10)\n",
    "        self.assertAlmostEqual(corr(x, y), -0.3409853364175933)\n",
    "\n",
    "suite = unittest.TestLoader().loadTestsFromTestCase(TestNumpy)\n",
    "runner = unittest.TextTestRunner(verbosity=2)\n",
    "test_results = runner.run(suite)"
   ]
  }
 ],
 "metadata": {
  "celltoolbar": "Slideshow",
  "kernelspec": {
   "display_name": "Python Data Analysis",
   "language": "python",
   "name": "pyda"
  },
  "language_info": {
   "codemirror_mode": {
    "name": "ipython",
    "version": 3
   },
   "file_extension": ".py",
   "mimetype": "text/x-python",
   "name": "python",
   "nbconvert_exporter": "python",
   "pygments_lexer": "ipython3",
   "version": "3.6.8"
  }
 },
 "nbformat": 4,
 "nbformat_minor": 2
}
