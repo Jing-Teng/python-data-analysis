{
 "cells": [
  {
   "cell_type": "markdown",
   "metadata": {
    "slideshow": {
     "slide_type": "slide"
    }
   },
   "source": [
    "# 成為資料分析師 | Python 與資料科學應用\n",
    "\n",
    "> Pandas 101：處理表格式資料的 Python 套件\n",
    "\n",
    "## 郭耀仁"
   ]
  },
  {
   "cell_type": "markdown",
   "metadata": {
    "slideshow": {
     "slide_type": "subslide"
    }
   },
   "source": [
    "## 大綱\n",
    "\n",
    "- pandas 解決了什麼問題\n",
    "- pandas 基礎\n",
    "- Series 與 DataFrame 的基礎操作\n",
    "- 奧運獎牌排行\n",
    "- DataFrame 的進階操作\n",
    "- 美國普查"
   ]
  },
  {
   "cell_type": "markdown",
   "metadata": {
    "slideshow": {
     "slide_type": "slide"
    }
   },
   "source": [
    "## pandas 解決了什麼問題"
   ]
  },
  {
   "cell_type": "markdown",
   "metadata": {
    "slideshow": {
     "slide_type": "subslide"
    }
   },
   "source": [
    "## 隨堂練習：請計算註冊於開曼群島的上市公司股價中位數\n",
    "\n",
    "<https://tw.stock.yahoo.com/d/i/rank.php?t=pri&e=tse&n=100>"
   ]
  },
  {
   "cell_type": "code",
   "execution_count": 1,
   "metadata": {
    "slideshow": {
     "slide_type": "skip"
    }
   },
   "outputs": [],
   "source": [
    "import requests\n",
    "from bs4 import BeautifulSoup\n",
    "\n",
    "def get_price_rank():\n",
    "    page_url = \"https://tw.stock.yahoo.com/d/i/rank.php?t=pri&e=tse&n=100\"\n",
    "    r = requests.get(page_url)\n",
    "    soup = BeautifulSoup(r.text)\n",
    "    stock_tickers = []\n",
    "    stock_names = []\n",
    "    for i in soup.select(\".name a\"):\n",
    "        stock_ticker = i.text.split()[0]\n",
    "        stock_name = i.text.split()[1]\n",
    "        stock_tickers.append(stock_ticker)\n",
    "        stock_names.append(stock_name)\n",
    "    prices = []\n",
    "    for i in range(5, 5+10*100, 10):\n",
    "        price = soup.find_all(\"table\")[2].find_all(\"td\")[0].find_all(\"td\")[i].text\n",
    "        prices.append(float(price))\n",
    "    return stock_tickers, stock_names, prices"
   ]
  },
  {
   "cell_type": "code",
   "execution_count": 2,
   "metadata": {
    "slideshow": {
     "slide_type": "fragment"
    }
   },
   "outputs": [
    {
     "name": "stdout",
     "output_type": "stream",
     "text": [
      "['3008', '6415', '5269', '6409', '6669', '2207', '3406', '1590', '2454', '2327', '3563', '1476', '2059', '3533', '2330', '2049', '2395', '2912', '8454', '2227', '8464', '2379', '3443', '6414', '2474', '3661', '2231', '4137', '1256', '6230', '8341', '2357', '3665', '2492', '3034', '3653', '6452', '2404', '8462', '3413', '6670', '9921', '1707', '9910', '4551', '4439', '9914', '8070', '4968', '6666', '2345', '6491', '2707', '8016', '6271', '2439', '6451', '2360', '4943', '8422', '3130', '1477', '1537', '8482', '2308', '3376', '4766', '4935', '4438', '6213', '6504', '9802', '5871', '4536', '3023', '8480', '2383', '4763', '4958', '6533', '1558', '2456', '8081', '6706', '3044', '4977', '2723', '4572', '1723', '1232', '1536', '6531', '5288', '6269', '9941', '6464', '4190', '8210', '6176', '6278']\n",
      "['大立光', '矽力-KY', '祥碩', '旭隼', '緯穎', '和泰車', '玉晶光', '亞德客-KY', '聯發科', '國巨', '牧德', '儒鴻', '川湖', '嘉澤', '台積電', '上銀', '研華', '統一超', '富邦媒', '裕日車', '億豐', '瑞昱', '創意', '樺漢', '可成', '世芯-KY', '為升', '麗豐-KY', '鮮活果汁-KY', '超眾', '日友', '華碩', '貿聯-KY', '華新科', '聯詠', '健策', '康友-KY', '漢唐', '柏文', '京鼎', '復盛應用', '巨大', '葡萄王', '豐泰', '智伸科', '冠星-KY', '美利達', '長華', '立積', '羅麗芬-KY', '智邦', '晶碩', '晶華', '矽創', '同欣電', '美律', '訊芯-KY', '致茂', '康控-KY', '可寧衛', '一零四', '聚陽', '廣隆', '商億-KY', '台達電', '新日興', '南寶', '茂林-KY', '廣越', '聯茂', '南六', '鈺齊-KY', '中租-KY', '拓凱', '信邦', '泰昇-KY', '台光電', '材料-KY', '臻鼎-KY', '晶心科', '伸興', '奇力新', '致新', '惠特', '健鼎', '眾達-KY', '美食-KY', '駐龍', '中碳', '大統益', '和大', '愛普', '豐祥-KY', '台郡', '裕融', '台數科', '佐登-KY', '勤誠', '瑞儀', '台表科']\n",
      "[4975.0, 1105.0, 818.0, 740.0, 721.0, 702.0, 590.0, 520.0, 419.0, 415.5, 414.5, 402.5, 360.0, 343.5, 333.0, 330.5, 314.5, 308.0, 303.0, 287.5, 285.0, 260.5, 260.0, 255.5, 254.5, 253.0, 252.5, 246.0, 240.0, 238.0, 238.0, 236.0, 232.0, 232.0, 230.5, 226.0, 223.5, 198.0, 195.0, 194.5, 194.5, 194.0, 193.5, 190.0, 189.0, 181.0, 176.0, 175.0, 174.0, 174.0, 174.0, 172.5, 167.5, 167.0, 166.5, 165.0, 159.0, 158.5, 158.5, 157.5, 156.5, 155.0, 153.0, 152.5, 152.5, 152.0, 151.5, 148.0, 147.5, 147.0, 146.5, 146.0, 142.5, 141.0, 138.0, 136.5, 136.0, 135.0, 134.5, 133.5, 133.0, 133.0, 129.0, 129.0, 128.0, 126.5, 126.5, 125.5, 124.0, 123.5, 122.5, 122.0, 121.0, 118.5, 118.0, 117.5, 117.0, 116.0, 115.0, 114.5]\n"
     ]
    }
   ],
   "source": [
    "stock_tickers, stock_names, prices = get_price_rank()\n",
    "print(stock_tickers)\n",
    "print(stock_names)\n",
    "print(prices)"
   ]
  },
  {
   "cell_type": "code",
   "execution_count": 3,
   "metadata": {
    "slideshow": {
     "slide_type": "subslide"
    }
   },
   "outputs": [
    {
     "name": "stdout",
     "output_type": "stream",
     "text": [
      "155.5\n"
     ]
    }
   ],
   "source": [
    "from statistics import median\n",
    "\n",
    "ky_prices = [price for stock_name, price in zip(stock_names, prices) if \"KY\" in stock_name]\n",
    "print(median(ky_prices))"
   ]
  },
  {
   "cell_type": "markdown",
   "metadata": {
    "slideshow": {
     "slide_type": "subslide"
    }
   },
   "source": [
    "## Python 一直以來都非常適合資料處理，但她的分析能力很薄弱，`pandas` 的開發有助於補足 Python 資料分析的需求，讓使用者能夠在 Python 中執行完整的資料分析流程，而無需切換到 data-centric 的特定語言，如 R。"
   ]
  },
  {
   "cell_type": "code",
   "execution_count": 4,
   "metadata": {
    "slideshow": {
     "slide_type": "subslide"
    }
   },
   "outputs": [
    {
     "data": {
      "text/html": [
       "<div>\n",
       "<style scoped>\n",
       "    .dataframe tbody tr th:only-of-type {\n",
       "        vertical-align: middle;\n",
       "    }\n",
       "\n",
       "    .dataframe tbody tr th {\n",
       "        vertical-align: top;\n",
       "    }\n",
       "\n",
       "    .dataframe thead th {\n",
       "        text-align: right;\n",
       "    }\n",
       "</style>\n",
       "<table border=\"1\" class=\"dataframe\">\n",
       "  <thead>\n",
       "    <tr style=\"text-align: right;\">\n",
       "      <th></th>\n",
       "      <th>ticker</th>\n",
       "      <th>stock_name</th>\n",
       "      <th>price</th>\n",
       "    </tr>\n",
       "  </thead>\n",
       "  <tbody>\n",
       "    <tr>\n",
       "      <td>0</td>\n",
       "      <td>3008</td>\n",
       "      <td>大立光</td>\n",
       "      <td>4975.0</td>\n",
       "    </tr>\n",
       "    <tr>\n",
       "      <td>1</td>\n",
       "      <td>6415</td>\n",
       "      <td>矽力-KY</td>\n",
       "      <td>1105.0</td>\n",
       "    </tr>\n",
       "    <tr>\n",
       "      <td>2</td>\n",
       "      <td>5269</td>\n",
       "      <td>祥碩</td>\n",
       "      <td>818.0</td>\n",
       "    </tr>\n",
       "    <tr>\n",
       "      <td>3</td>\n",
       "      <td>6409</td>\n",
       "      <td>旭隼</td>\n",
       "      <td>740.0</td>\n",
       "    </tr>\n",
       "    <tr>\n",
       "      <td>4</td>\n",
       "      <td>6669</td>\n",
       "      <td>緯穎</td>\n",
       "      <td>721.0</td>\n",
       "    </tr>\n",
       "  </tbody>\n",
       "</table>\n",
       "</div>"
      ],
      "text/plain": [
       "  ticker stock_name   price\n",
       "0   3008        大立光  4975.0\n",
       "1   6415      矽力-KY  1105.0\n",
       "2   5269         祥碩   818.0\n",
       "3   6409         旭隼   740.0\n",
       "4   6669         緯穎   721.0"
      ]
     },
     "execution_count": 4,
     "metadata": {},
     "output_type": "execute_result"
    }
   ],
   "source": [
    "import pandas as pd\n",
    "\n",
    "df = pd.DataFrame()\n",
    "df[\"ticker\"] = stock_tickers\n",
    "df[\"stock_name\"] = stock_names\n",
    "df[\"price\"] = prices\n",
    "df.head()"
   ]
  },
  {
   "cell_type": "code",
   "execution_count": 5,
   "metadata": {
    "slideshow": {
     "slide_type": "subslide"
    }
   },
   "outputs": [
    {
     "data": {
      "text/plain": [
       "155.5"
      ]
     },
     "execution_count": 5,
     "metadata": {},
     "output_type": "execute_result"
    }
   ],
   "source": [
    "df[df[\"stock_name\"].str.contains(\"KY\")][\"price\"].median()"
   ]
  },
  {
   "cell_type": "markdown",
   "metadata": {
    "slideshow": {
     "slide_type": "subslide"
    }
   },
   "source": [
    "## pandas 提供了新的資料結構\n",
    "\n",
    "- Series 是具備索引的 ndarray\n",
    "- DataFrame 能完美處理表格式資料（tabular data）\n",
    "- Panel 能為 DataFrame 加入第三個維度，通常為時間（自 Pandas 0.20.0 版本之後取消了此類別）"
   ]
  },
  {
   "cell_type": "markdown",
   "metadata": {
    "slideshow": {
     "slide_type": "subslide"
    }
   },
   "source": [
    "## pandas 主要的應用場景\n",
    "\n",
    "- 表格式資料的讀取\n",
    "- 豐富的資料清理與分析函數\n",
    "- 視覺化：包裝了常用的 matplotlib.pyplot 圖形"
   ]
  },
  {
   "cell_type": "markdown",
   "metadata": {
    "slideshow": {
     "slide_type": "slide"
    }
   },
   "source": [
    "## pandas 基礎"
   ]
  },
  {
   "cell_type": "markdown",
   "metadata": {
    "slideshow": {
     "slide_type": "subslide"
    }
   },
   "source": [
    "## 什麼是 pandas？\n",
    "\n",
    "> Flexible and powerful data analysis / manipulation library for Python, providing labeled data structures similar to R data.frame objects, statistical functions, and much more."
   ]
  },
  {
   "cell_type": "markdown",
   "metadata": {
    "slideshow": {
     "slide_type": "subslide"
    }
   },
   "source": [
    "## 安裝與載入 pandas\n",
    "\n",
    "- 安裝\n",
    "\n",
    "```bash\n",
    "# run in bash shell\n",
    "pip install pandas\n",
    "```\n",
    "\n",
    "- 載入\n",
    "\n",
    "```py\n",
    "# run in python console\n",
    "import pandas as pd\n",
    "```"
   ]
  },
  {
   "cell_type": "markdown",
   "metadata": {
    "slideshow": {
     "slide_type": "subslide"
    }
   },
   "source": [
    "## pandas 的命名源自她的資料結構\n",
    "\n",
    "- **Pan**el（自 Pandas 0.20.0 版本之後取消了此類別）\n",
    "- **Da**taFrame\n",
    "- **S**eries\n",
    "- Index"
   ]
  },
  {
   "cell_type": "markdown",
   "metadata": {
    "slideshow": {
     "slide_type": "subslide"
    }
   },
   "source": [
    "## pandas 中的 Series\n",
    "\n",
    "使用 `pd.Series()` 函數創建 Series 類別，Series 從 ndarray 繼承了所有特性，並加上一組 Index。"
   ]
  },
  {
   "cell_type": "code",
   "execution_count": 6,
   "metadata": {},
   "outputs": [
    {
     "name": "stdout",
     "output_type": "stream",
     "text": [
      "<class 'pandas.core.series.Series'>\n",
      "0    8.0\n",
      "1    7.3\n",
      "2    8.5\n",
      "3    8.6\n",
      "dtype: float64\n",
      "8.6\n"
     ]
    }
   ],
   "source": [
    "import pandas as pd\n",
    "\n",
    "movie_ratings = [8.0, 7.3, 8.5, 8.6]\n",
    "ser = pd.Series(movie_ratings)\n",
    "print(type(ser))\n",
    "print(ser)\n",
    "print(ser[3])"
   ]
  },
  {
   "cell_type": "markdown",
   "metadata": {
    "slideshow": {
     "slide_type": "subslide"
    }
   },
   "source": [
    "## 這使得她不只能夠透過絕對位置來索引，亦可以透過像操作 dict 一般，以鍵（Key）作為選擇索引依據"
   ]
  },
  {
   "cell_type": "code",
   "execution_count": 7,
   "metadata": {},
   "outputs": [
    {
     "name": "stdout",
     "output_type": "stream",
     "text": [
      "The Avengers               8.0\n",
      "Avengers: Age of Ultron    7.3\n",
      "Avengers: Infinity War     8.5\n",
      "Avengers: Endgame          8.6\n",
      "dtype: float64\n",
      "8.6\n"
     ]
    }
   ],
   "source": [
    "movie_ratings = [8.0, 7.3, 8.5, 8.6]\n",
    "movie_titles = [\"The Avengers\", \"Avengers: Age of Ultron\", \"Avengers: Infinity War\", \"Avengers: Endgame\"]\n",
    "ser = pd.Series(movie_ratings, index=movie_titles)\n",
    "print(ser)\n",
    "print(ser[\"Avengers: Endgame\"])"
   ]
  },
  {
   "cell_type": "markdown",
   "metadata": {
    "slideshow": {
     "slide_type": "subslide"
    }
   },
   "source": [
    "## 可以將 Series 視為一種較為泛用的 ndarray，同時具備 list 和 dict 的特性，以 .index 屬性與 .values 屬性可以將 Series 拆分為 Index 類別與 ndarray"
   ]
  },
  {
   "cell_type": "code",
   "execution_count": 8,
   "metadata": {},
   "outputs": [
    {
     "name": "stdout",
     "output_type": "stream",
     "text": [
      "Index(['The Avengers', 'Avengers: Age of Ultron', 'Avengers: Infinity War',\n",
      "       'Avengers: Endgame'],\n",
      "      dtype='object')\n",
      "[8.  7.3 8.5 8.6]\n",
      "<class 'pandas.core.indexes.base.Index'>\n",
      "<class 'numpy.ndarray'>\n"
     ]
    }
   ],
   "source": [
    "movie_ratings = [8.0, 7.3, 8.5, 8.6]\n",
    "movie_titles = [\"The Avengers\", \"Avengers: Age of Ultron\", \"Avengers: Infinity War\", \"Avengers: Endgame\"]\n",
    "ser = pd.Series(movie_ratings, index=movie_titles)\n",
    "print(ser.index)\n",
    "print(ser.values)\n",
    "print(type(ser.index))\n",
    "print(type(ser.values))"
   ]
  },
  {
   "cell_type": "markdown",
   "metadata": {
    "slideshow": {
     "slide_type": "subslide"
    }
   },
   "source": [
    "## pandas 中的 DataFrame\n",
    "\n",
    "我們可以使用 `pd.DataFrame()` 函數創建 DataFrame 類別。"
   ]
  },
  {
   "cell_type": "code",
   "execution_count": 9,
   "metadata": {},
   "outputs": [
    {
     "name": "stdout",
     "output_type": "stream",
     "text": [
      "<class 'pandas.core.frame.DataFrame'>\n"
     ]
    },
    {
     "data": {
      "text/html": [
       "<div>\n",
       "<style scoped>\n",
       "    .dataframe tbody tr th:only-of-type {\n",
       "        vertical-align: middle;\n",
       "    }\n",
       "\n",
       "    .dataframe tbody tr th {\n",
       "        vertical-align: top;\n",
       "    }\n",
       "\n",
       "    .dataframe thead th {\n",
       "        text-align: right;\n",
       "    }\n",
       "</style>\n",
       "<table border=\"1\" class=\"dataframe\">\n",
       "  <thead>\n",
       "    <tr style=\"text-align: right;\">\n",
       "      <th></th>\n",
       "      <th>title</th>\n",
       "      <th>rating</th>\n",
       "    </tr>\n",
       "  </thead>\n",
       "  <tbody>\n",
       "    <tr>\n",
       "      <td>0</td>\n",
       "      <td>The Avengers</td>\n",
       "      <td>8.0</td>\n",
       "    </tr>\n",
       "    <tr>\n",
       "      <td>1</td>\n",
       "      <td>Avengers: Age of Ultron</td>\n",
       "      <td>7.3</td>\n",
       "    </tr>\n",
       "    <tr>\n",
       "      <td>2</td>\n",
       "      <td>Avengers: Infinity War</td>\n",
       "      <td>8.5</td>\n",
       "    </tr>\n",
       "    <tr>\n",
       "      <td>3</td>\n",
       "      <td>Avengers: Endgame</td>\n",
       "      <td>8.6</td>\n",
       "    </tr>\n",
       "  </tbody>\n",
       "</table>\n",
       "</div>"
      ],
      "text/plain": [
       "                     title  rating\n",
       "0             The Avengers     8.0\n",
       "1  Avengers: Age of Ultron     7.3\n",
       "2   Avengers: Infinity War     8.5\n",
       "3        Avengers: Endgame     8.6"
      ]
     },
     "execution_count": 9,
     "metadata": {},
     "output_type": "execute_result"
    }
   ],
   "source": [
    "movie_ratings = [8.0, 7.3, 8.5, 8.6]\n",
    "movie_titles = [\"The Avengers\", \"Avengers: Age of Ultron\", \"Avengers: Infinity War\", \"Avengers: Endgame\"]\n",
    "df = pd.DataFrame()\n",
    "df[\"title\"] = movie_titles\n",
    "df[\"rating\"] = movie_ratings\n",
    "print(type(df))\n",
    "df"
   ]
  },
  {
   "cell_type": "markdown",
   "metadata": {
    "slideshow": {
     "slide_type": "subslide"
    }
   },
   "source": [
    "## DataFrame 將多組共享 Index 的 Series 組合為一個具備列索引（row index）與欄標籤（column label）的資料集，我們可以進一步分拆成列索引、欄標籤與 Series"
   ]
  },
  {
   "cell_type": "code",
   "execution_count": 10,
   "metadata": {},
   "outputs": [
    {
     "name": "stdout",
     "output_type": "stream",
     "text": [
      "RangeIndex(start=0, stop=4, step=1)\n",
      "Index(['title', 'rating'], dtype='object')\n",
      "0               The Avengers\n",
      "1    Avengers: Age of Ultron\n",
      "2     Avengers: Infinity War\n",
      "3          Avengers: Endgame\n",
      "Name: title, dtype: object\n",
      "0    8.0\n",
      "1    7.3\n",
      "2    8.5\n",
      "3    8.6\n",
      "Name: rating, dtype: float64\n"
     ]
    }
   ],
   "source": [
    "movie_ratings = [8.0, 7.3, 8.5, 8.6]\n",
    "movie_titles = [\"The Avengers\", \"Avengers: Age of Ultron\", \"Avengers: Infinity War\", \"Avengers: Endgame\"]\n",
    "df = pd.DataFrame()\n",
    "df[\"title\"] = movie_titles\n",
    "df[\"rating\"] = movie_ratings\n",
    "print(df.index)\n",
    "print(df.columns)\n",
    "print(df[\"title\"])\n",
    "print(df[\"rating\"])"
   ]
  },
  {
   "cell_type": "markdown",
   "metadata": {
    "slideshow": {
     "slide_type": "subslide"
    }
   },
   "source": [
    "## pandas 中的 Index\n",
    "\n",
    "不論是 Series 或 DataFrame 物件都包含一個 Index 類別，作為萃取以及更新資料的根據，Index 可以被視為是一種結合了 tuple 的不可變（Immutable）特性以及 set 集合運算特性的資料結構類別，我們可以使用 `pd.Index()` 函數創建出下列的範例"
   ]
  },
  {
   "cell_type": "code",
   "execution_count": 11,
   "metadata": {
    "slideshow": {
     "slide_type": "subslide"
    }
   },
   "outputs": [
    {
     "name": "stdout",
     "output_type": "stream",
     "text": [
      "<class 'pandas.core.indexes.numeric.Int64Index'>\n",
      "Int64Index([0, 2, 3, 4], dtype='int64')\n"
     ]
    },
    {
     "ename": "TypeError",
     "evalue": "Index does not support mutable operations",
     "output_type": "error",
     "traceback": [
      "\u001b[0;31m---------------------------------------------------------------------------\u001b[0m",
      "\u001b[0;31mTypeError\u001b[0m                                 Traceback (most recent call last)",
      "\u001b[0;32m<ipython-input-11-b5275c789408>\u001b[0m in \u001b[0;36m<module>\u001b[0;34m\u001b[0m\n\u001b[1;32m      2\u001b[0m \u001b[0mprint\u001b[0m\u001b[0;34m(\u001b[0m\u001b[0mtype\u001b[0m\u001b[0;34m(\u001b[0m\u001b[0mpd_index\u001b[0m\u001b[0;34m)\u001b[0m\u001b[0;34m)\u001b[0m\u001b[0;34m\u001b[0m\u001b[0;34m\u001b[0m\u001b[0m\n\u001b[1;32m      3\u001b[0m \u001b[0mprint\u001b[0m\u001b[0;34m(\u001b[0m\u001b[0mpd_index\u001b[0m\u001b[0;34m)\u001b[0m\u001b[0;34m\u001b[0m\u001b[0;34m\u001b[0m\u001b[0m\n\u001b[0;32m----> 4\u001b[0;31m \u001b[0mpd_index\u001b[0m\u001b[0;34m[\u001b[0m\u001b[0;36m0\u001b[0m\u001b[0;34m]\u001b[0m \u001b[0;34m=\u001b[0m \u001b[0;36m1\u001b[0m\u001b[0;34m\u001b[0m\u001b[0;34m\u001b[0m\u001b[0m\n\u001b[0m",
      "\u001b[0;32m~/.local/lib/python3.7/site-packages/pandas/core/indexes/base.py\u001b[0m in \u001b[0;36m__setitem__\u001b[0;34m(self, key, value)\u001b[0m\n\u001b[1;32m   4258\u001b[0m \u001b[0;34m\u001b[0m\u001b[0m\n\u001b[1;32m   4259\u001b[0m     \u001b[0;32mdef\u001b[0m \u001b[0m__setitem__\u001b[0m\u001b[0;34m(\u001b[0m\u001b[0mself\u001b[0m\u001b[0;34m,\u001b[0m \u001b[0mkey\u001b[0m\u001b[0;34m,\u001b[0m \u001b[0mvalue\u001b[0m\u001b[0;34m)\u001b[0m\u001b[0;34m:\u001b[0m\u001b[0;34m\u001b[0m\u001b[0;34m\u001b[0m\u001b[0m\n\u001b[0;32m-> 4260\u001b[0;31m         \u001b[0;32mraise\u001b[0m \u001b[0mTypeError\u001b[0m\u001b[0;34m(\u001b[0m\u001b[0;34m\"Index does not support mutable operations\"\u001b[0m\u001b[0;34m)\u001b[0m\u001b[0;34m\u001b[0m\u001b[0;34m\u001b[0m\u001b[0m\n\u001b[0m\u001b[1;32m   4261\u001b[0m \u001b[0;34m\u001b[0m\u001b[0m\n\u001b[1;32m   4262\u001b[0m     \u001b[0;32mdef\u001b[0m \u001b[0m__getitem__\u001b[0m\u001b[0;34m(\u001b[0m\u001b[0mself\u001b[0m\u001b[0;34m,\u001b[0m \u001b[0mkey\u001b[0m\u001b[0;34m)\u001b[0m\u001b[0;34m:\u001b[0m\u001b[0;34m\u001b[0m\u001b[0;34m\u001b[0m\u001b[0m\n",
      "\u001b[0;31mTypeError\u001b[0m: Index does not support mutable operations"
     ]
    }
   ],
   "source": [
    "pd_index = pd.Index([0, 2, 3, 4])\n",
    "print(type(pd_index))\n",
    "print(pd_index)\n",
    "pd_index[0] = 1"
   ]
  },
  {
   "cell_type": "markdown",
   "metadata": {
    "slideshow": {
     "slide_type": "subslide"
    }
   },
   "source": [
    "## 創建後不能更新，Index 也支援 Set 類別的集合運算，可以對兩組 Index 類別（如例子中的五個奇數、四個質數）使用交集、聯集與 XOR（Exclusive OR）"
   ]
  },
  {
   "cell_type": "code",
   "execution_count": 12,
   "metadata": {},
   "outputs": [
    {
     "name": "stdout",
     "output_type": "stream",
     "text": [
      "Int64Index([3, 5, 7], dtype='int64')\n",
      "Int64Index([1, 2, 3, 5, 7, 9], dtype='int64')\n",
      "Int64Index([1, 2, 9], dtype='int64')\n"
     ]
    }
   ],
   "source": [
    "odds_index = pd.Index([1, 3, 5, 7, 9])\n",
    "primes_index = pd.Index([2, 3, 5, 7])\n",
    "print(odds_index & primes_index) # and\n",
    "print(odds_index | primes_index) # or\n",
    "print(odds_index ^ primes_index) # exclusive or"
   ]
  },
  {
   "cell_type": "markdown",
   "metadata": {
    "slideshow": {
     "slide_type": "slide"
    }
   },
   "source": [
    "## Series 與 DataFrame 的基礎技巧"
   ]
  },
  {
   "cell_type": "markdown",
   "metadata": {
    "slideshow": {
     "slide_type": "subslide"
    }
   },
   "source": [
    "## 基礎技巧包含\n",
    "\n",
    "- 創建\n",
    "- 資料載入\n",
    "- 索引、切割與篩選\n",
    "- 排序\n",
    "- 衍生變數\n",
    "- 摘要、分組摘要"
   ]
  },
  {
   "cell_type": "markdown",
   "metadata": {
    "slideshow": {
     "slide_type": "subslide"
    }
   },
   "source": [
    "## 常見創建 Series 的方式是使用 `pd.Series()` 函數傳入一個「類似清單（list-like）」的物件，包含 list 、tuple 或 ndarray，如果沒有指定另外一個「類似清單」的物件作為索引，Series 會自動以類似 `range()` 函數設定對應長度的索引"
   ]
  },
  {
   "cell_type": "code",
   "execution_count": 13,
   "metadata": {},
   "outputs": [
    {
     "name": "stdout",
     "output_type": "stream",
     "text": [
      "0    9.0\n",
      "1    8.9\n",
      "2    8.8\n",
      "3    8.7\n",
      "dtype: float64\n"
     ]
    }
   ],
   "source": [
    "movie_ratings = [9.0, 8.9, 8.8, 8.7]\n",
    "ser = pd.Series(movie_ratings)\n",
    "print(ser)"
   ]
  },
  {
   "cell_type": "markdown",
   "metadata": {
    "slideshow": {
     "slide_type": "subslide"
    }
   },
   "source": [
    "## 在 `pd.Series()` 函數中加入 index 參數指定對應長度的索引"
   ]
  },
  {
   "cell_type": "code",
   "execution_count": 14,
   "metadata": {},
   "outputs": [
    {
     "name": "stdout",
     "output_type": "stream",
     "text": [
      "Index(['The Dark Knight', 'Schindler's List', 'Forrest Gump', 'Inception'], dtype='object')\n",
      "[9.  8.9 8.8 8.7]\n",
      "The Dark Knight     9.0\n",
      "Schindler's List    8.9\n",
      "Forrest Gump        8.8\n",
      "Inception           8.7\n",
      "dtype: float64\n"
     ]
    }
   ],
   "source": [
    "movie_ratings = [9.0, 8.9, 8.8, 8.7]\n",
    "movie_titles = [\"The Dark Knight\", \"Schindler's List\", \"Forrest Gump\", \"Inception\"]\n",
    "ser = pd.Series(movie_ratings, index=movie_titles)\n",
    "print(ser.index)\n",
    "print(ser.values)\n",
    "print(ser)"
   ]
  },
  {
   "cell_type": "markdown",
   "metadata": {
    "slideshow": {
     "slide_type": "subslide"
    }
   },
   "source": [
    "## Series 被設計成由一組索引與一組資料所搭建而成的資料結構，因此我們亦可以在 `pd.Series()` 函數中傳入 dict，如此一來字典中的鍵（Keys）會被記錄成為索引、字典中的值（Values）則會被記錄成為陣列中的資料"
   ]
  },
  {
   "cell_type": "code",
   "execution_count": 15,
   "metadata": {
    "slideshow": {
     "slide_type": "subslide"
    }
   },
   "outputs": [
    {
     "name": "stdout",
     "output_type": "stream",
     "text": [
      "dict_keys(['The Dark Knight', \"Schindler's List\", 'Forrest Gump', 'Inception'])\n",
      "dict_values([9.0, 8.9, 8.8, 8.7])\n",
      "\n",
      "\n",
      "Index(['The Dark Knight', 'Schindler's List', 'Forrest Gump', 'Inception'], dtype='object')\n",
      "[9.  8.9 8.8 8.7]\n",
      "The Dark Knight     9.0\n",
      "Schindler's List    8.9\n",
      "Forrest Gump        8.8\n",
      "Inception           8.7\n",
      "dtype: float64\n"
     ]
    }
   ],
   "source": [
    "movie_dict = {\n",
    "    \"The Dark Knight\": 9.0,\n",
    "    \"Schindler's List\": 8.9,\n",
    "    \"Forrest Gump\": 8.8,\n",
    "    \"Inception\": 8.7\n",
    "}\n",
    "ser = pd.Series(movie_dict)\n",
    "print(movie_dict.keys())\n",
    "print(movie_dict.values())\n",
    "print(\"\\n\")\n",
    "print(ser.index)\n",
    "print(ser.values)\n",
    "print(ser)"
   ]
  },
  {
   "cell_type": "markdown",
   "metadata": {
    "slideshow": {
     "slide_type": "subslide"
    }
   },
   "source": [
    "## 常見創建 DataFrame 的方式是使用 `pd.DataFrame()` 函數傳入多個「類似清單（list-like）」的物件，包含 list 、tuple 或 ndarray，並視需求指定變數名稱或索引；同樣地，若是在沒有指定索引的情況下，DataFrame 會自動以類似 `range()` 函數設定對應長度的索引"
   ]
  },
  {
   "cell_type": "code",
   "execution_count": 16,
   "metadata": {
    "slideshow": {
     "slide_type": "-"
    }
   },
   "outputs": [
    {
     "data": {
      "text/html": [
       "<div>\n",
       "<style scoped>\n",
       "    .dataframe tbody tr th:only-of-type {\n",
       "        vertical-align: middle;\n",
       "    }\n",
       "\n",
       "    .dataframe tbody tr th {\n",
       "        vertical-align: top;\n",
       "    }\n",
       "\n",
       "    .dataframe thead th {\n",
       "        text-align: right;\n",
       "    }\n",
       "</style>\n",
       "<table border=\"1\" class=\"dataframe\">\n",
       "  <thead>\n",
       "    <tr style=\"text-align: right;\">\n",
       "      <th></th>\n",
       "      <th>title</th>\n",
       "      <th>rating</th>\n",
       "    </tr>\n",
       "  </thead>\n",
       "  <tbody>\n",
       "    <tr>\n",
       "      <td>0</td>\n",
       "      <td>The Dark Knight</td>\n",
       "      <td>9.0</td>\n",
       "    </tr>\n",
       "    <tr>\n",
       "      <td>1</td>\n",
       "      <td>Schindler's List</td>\n",
       "      <td>8.9</td>\n",
       "    </tr>\n",
       "    <tr>\n",
       "      <td>2</td>\n",
       "      <td>Forrest Gump</td>\n",
       "      <td>8.8</td>\n",
       "    </tr>\n",
       "    <tr>\n",
       "      <td>3</td>\n",
       "      <td>Inception</td>\n",
       "      <td>8.7</td>\n",
       "    </tr>\n",
       "  </tbody>\n",
       "</table>\n",
       "</div>"
      ],
      "text/plain": [
       "              title  rating\n",
       "0   The Dark Knight     9.0\n",
       "1  Schindler's List     8.9\n",
       "2      Forrest Gump     8.8\n",
       "3         Inception     8.7"
      ]
     },
     "execution_count": 16,
     "metadata": {},
     "output_type": "execute_result"
    }
   ],
   "source": [
    "movie_ratings = [9.0, 8.9, 8.8, 8.7]\n",
    "movie_titles = [\"The Dark Knight\", \"Schindler's List\", \"Forrest Gump\", \"Inception\"]\n",
    "df = pd.DataFrame()\n",
    "df[\"title\"] = movie_titles\n",
    "df[\"rating\"] = movie_ratings\n",
    "df"
   ]
  },
  {
   "cell_type": "markdown",
   "metadata": {
    "slideshow": {
     "slide_type": "subslide"
    }
   },
   "source": [
    "## 與 Series 相同，DataFrame 被設計成由一組索引與多組類似清單資料所搭建而成的資料結構，因此我們亦可以在 `pd.DataFrame()` 函數中傳入 dict，如此一來字典中的鍵（Keys）會被記錄成為變數名稱、字典中的值（Values）則會被記錄成為陣列中的資料"
   ]
  },
  {
   "cell_type": "code",
   "execution_count": 17,
   "metadata": {},
   "outputs": [
    {
     "data": {
      "text/html": [
       "<div>\n",
       "<style scoped>\n",
       "    .dataframe tbody tr th:only-of-type {\n",
       "        vertical-align: middle;\n",
       "    }\n",
       "\n",
       "    .dataframe tbody tr th {\n",
       "        vertical-align: top;\n",
       "    }\n",
       "\n",
       "    .dataframe thead th {\n",
       "        text-align: right;\n",
       "    }\n",
       "</style>\n",
       "<table border=\"1\" class=\"dataframe\">\n",
       "  <thead>\n",
       "    <tr style=\"text-align: right;\">\n",
       "      <th></th>\n",
       "      <th>title</th>\n",
       "      <th>rating</th>\n",
       "    </tr>\n",
       "  </thead>\n",
       "  <tbody>\n",
       "    <tr>\n",
       "      <td>0</td>\n",
       "      <td>The Dark Knight</td>\n",
       "      <td>9.0</td>\n",
       "    </tr>\n",
       "    <tr>\n",
       "      <td>1</td>\n",
       "      <td>Schindler's List</td>\n",
       "      <td>8.9</td>\n",
       "    </tr>\n",
       "    <tr>\n",
       "      <td>2</td>\n",
       "      <td>Forrest Gump</td>\n",
       "      <td>8.8</td>\n",
       "    </tr>\n",
       "    <tr>\n",
       "      <td>3</td>\n",
       "      <td>Inception</td>\n",
       "      <td>8.7</td>\n",
       "    </tr>\n",
       "  </tbody>\n",
       "</table>\n",
       "</div>"
      ],
      "text/plain": [
       "              title  rating\n",
       "0   The Dark Knight     9.0\n",
       "1  Schindler's List     8.9\n",
       "2      Forrest Gump     8.8\n",
       "3         Inception     8.7"
      ]
     },
     "execution_count": 17,
     "metadata": {},
     "output_type": "execute_result"
    }
   ],
   "source": [
    "movie_dict = {\n",
    "    \"title\": [\"The Dark Knight\", \"Schindler's List\", \"Forrest Gump\", \"Inception\"],\n",
    "    \"rating\": [9.0, 8.9, 8.8, 8.7]\n",
    "}\n",
    "df = pd.DataFrame(movie_dict)\n",
    "df"
   ]
  },
  {
   "cell_type": "markdown",
   "metadata": {
    "slideshow": {
     "slide_type": "subslide"
    }
   },
   "source": [
    "## 實務應用資料框物件時，多數情況都不會是手動輸入資料內容，而是由外部資料源載入\n",
    "\n",
    "- 以逗號區隔變數的 CSV 文字檔\n",
    "- 以 JSON 所組成的陣列文字檔\n",
    "- 試算表\n",
    "- 資料庫中的表格"
   ]
  },
  {
   "cell_type": "markdown",
   "metadata": {
    "slideshow": {
     "slide_type": "subslide"
    }
   },
   "source": [
    "## 使用 `pd.read_csv()` 函數讀入以逗號區隔變數的 CSV 文字檔"
   ]
  },
  {
   "cell_type": "code",
   "execution_count": 18,
   "metadata": {},
   "outputs": [
    {
     "data": {
      "text/html": [
       "<div>\n",
       "<style scoped>\n",
       "    .dataframe tbody tr th:only-of-type {\n",
       "        vertical-align: middle;\n",
       "    }\n",
       "\n",
       "    .dataframe tbody tr th {\n",
       "        vertical-align: top;\n",
       "    }\n",
       "\n",
       "    .dataframe thead th {\n",
       "        text-align: right;\n",
       "    }\n",
       "</style>\n",
       "<table border=\"1\" class=\"dataframe\">\n",
       "  <thead>\n",
       "    <tr style=\"text-align: right;\">\n",
       "      <th></th>\n",
       "      <th>title</th>\n",
       "      <th>rating</th>\n",
       "    </tr>\n",
       "  </thead>\n",
       "  <tbody>\n",
       "    <tr>\n",
       "      <td>0</td>\n",
       "      <td>The Dark Knight</td>\n",
       "      <td>9.0</td>\n",
       "    </tr>\n",
       "    <tr>\n",
       "      <td>1</td>\n",
       "      <td>Schindler's List</td>\n",
       "      <td>8.9</td>\n",
       "    </tr>\n",
       "    <tr>\n",
       "      <td>2</td>\n",
       "      <td>Forrest Gump</td>\n",
       "      <td>8.8</td>\n",
       "    </tr>\n",
       "    <tr>\n",
       "      <td>3</td>\n",
       "      <td>Inception</td>\n",
       "      <td>8.7</td>\n",
       "    </tr>\n",
       "  </tbody>\n",
       "</table>\n",
       "</div>"
      ],
      "text/plain": [
       "              title  rating\n",
       "0   The Dark Knight     9.0\n",
       "1  Schindler's List     8.9\n",
       "2      Forrest Gump     8.8\n",
       "3         Inception     8.7"
      ]
     },
     "execution_count": 18,
     "metadata": {},
     "output_type": "execute_result"
    }
   ],
   "source": [
    "df = pd.read_csv(\"https://python4ds.s3-ap-northeast-1.amazonaws.com/movies.csv\")\n",
    "df"
   ]
  },
  {
   "cell_type": "markdown",
   "metadata": {
    "slideshow": {
     "slide_type": "subslide"
    }
   },
   "source": [
    "## 使用 `pd.read_json()` 函數讀入以 JSON 所組成的陣列文字檔"
   ]
  },
  {
   "cell_type": "code",
   "execution_count": 19,
   "metadata": {},
   "outputs": [
    {
     "data": {
      "text/html": [
       "<div>\n",
       "<style scoped>\n",
       "    .dataframe tbody tr th:only-of-type {\n",
       "        vertical-align: middle;\n",
       "    }\n",
       "\n",
       "    .dataframe tbody tr th {\n",
       "        vertical-align: top;\n",
       "    }\n",
       "\n",
       "    .dataframe thead th {\n",
       "        text-align: right;\n",
       "    }\n",
       "</style>\n",
       "<table border=\"1\" class=\"dataframe\">\n",
       "  <thead>\n",
       "    <tr style=\"text-align: right;\">\n",
       "      <th></th>\n",
       "      <th>title</th>\n",
       "      <th>rating</th>\n",
       "    </tr>\n",
       "  </thead>\n",
       "  <tbody>\n",
       "    <tr>\n",
       "      <td>0</td>\n",
       "      <td>The Dark Knight</td>\n",
       "      <td>9.0</td>\n",
       "    </tr>\n",
       "    <tr>\n",
       "      <td>1</td>\n",
       "      <td>Schindler's List</td>\n",
       "      <td>8.9</td>\n",
       "    </tr>\n",
       "    <tr>\n",
       "      <td>2</td>\n",
       "      <td>Forrest Gump</td>\n",
       "      <td>8.8</td>\n",
       "    </tr>\n",
       "    <tr>\n",
       "      <td>3</td>\n",
       "      <td>Inception</td>\n",
       "      <td>8.7</td>\n",
       "    </tr>\n",
       "  </tbody>\n",
       "</table>\n",
       "</div>"
      ],
      "text/plain": [
       "              title  rating\n",
       "0   The Dark Knight     9.0\n",
       "1  Schindler's List     8.9\n",
       "2      Forrest Gump     8.8\n",
       "3         Inception     8.7"
      ]
     },
     "execution_count": 19,
     "metadata": {},
     "output_type": "execute_result"
    }
   ],
   "source": [
    "df = pd.read_json(\"https://python4ds.s3-ap-northeast-1.amazonaws.com/movies.json\")\n",
    "df"
   ]
  },
  {
   "cell_type": "markdown",
   "metadata": {
    "slideshow": {
     "slide_type": "subslide"
    }
   },
   "source": [
    "## 使用 `pd.read_excel()` 函數讀入試算表"
   ]
  },
  {
   "cell_type": "code",
   "execution_count": 20,
   "metadata": {},
   "outputs": [
    {
     "data": {
      "text/html": [
       "<div>\n",
       "<style scoped>\n",
       "    .dataframe tbody tr th:only-of-type {\n",
       "        vertical-align: middle;\n",
       "    }\n",
       "\n",
       "    .dataframe tbody tr th {\n",
       "        vertical-align: top;\n",
       "    }\n",
       "\n",
       "    .dataframe thead th {\n",
       "        text-align: right;\n",
       "    }\n",
       "</style>\n",
       "<table border=\"1\" class=\"dataframe\">\n",
       "  <thead>\n",
       "    <tr style=\"text-align: right;\">\n",
       "      <th></th>\n",
       "      <th>title</th>\n",
       "      <th>rating</th>\n",
       "    </tr>\n",
       "  </thead>\n",
       "  <tbody>\n",
       "    <tr>\n",
       "      <td>0</td>\n",
       "      <td>The Dark Knight</td>\n",
       "      <td>9.0</td>\n",
       "    </tr>\n",
       "    <tr>\n",
       "      <td>1</td>\n",
       "      <td>Schindler's List</td>\n",
       "      <td>8.9</td>\n",
       "    </tr>\n",
       "    <tr>\n",
       "      <td>2</td>\n",
       "      <td>Forrest Gump</td>\n",
       "      <td>8.8</td>\n",
       "    </tr>\n",
       "    <tr>\n",
       "      <td>3</td>\n",
       "      <td>Inception</td>\n",
       "      <td>8.7</td>\n",
       "    </tr>\n",
       "  </tbody>\n",
       "</table>\n",
       "</div>"
      ],
      "text/plain": [
       "              title  rating\n",
       "0   The Dark Knight     9.0\n",
       "1  Schindler's List     8.9\n",
       "2      Forrest Gump     8.8\n",
       "3         Inception     8.7"
      ]
     },
     "execution_count": 20,
     "metadata": {},
     "output_type": "execute_result"
    }
   ],
   "source": [
    "df = pd.read_excel(\"https://python4ds.s3-ap-northeast-1.amazonaws.com/movies.xlsx\")\n",
    "df"
   ]
  },
  {
   "cell_type": "markdown",
   "metadata": {
    "slideshow": {
     "slide_type": "subslide"
    }
   },
   "source": [
    "## 使用 `pd.read_sql()` 函數讀入資料庫中的表格"
   ]
  },
  {
   "cell_type": "code",
   "execution_count": 21,
   "metadata": {},
   "outputs": [
    {
     "data": {
      "text/html": [
       "<div>\n",
       "<style scoped>\n",
       "    .dataframe tbody tr th:only-of-type {\n",
       "        vertical-align: middle;\n",
       "    }\n",
       "\n",
       "    .dataframe tbody tr th {\n",
       "        vertical-align: top;\n",
       "    }\n",
       "\n",
       "    .dataframe thead th {\n",
       "        text-align: right;\n",
       "    }\n",
       "</style>\n",
       "<table border=\"1\" class=\"dataframe\">\n",
       "  <thead>\n",
       "    <tr style=\"text-align: right;\">\n",
       "      <th></th>\n",
       "      <th>title</th>\n",
       "      <th>rating</th>\n",
       "    </tr>\n",
       "  </thead>\n",
       "  <tbody>\n",
       "    <tr>\n",
       "      <td>0</td>\n",
       "      <td>Schindler's List</td>\n",
       "      <td>8.9</td>\n",
       "    </tr>\n",
       "    <tr>\n",
       "      <td>1</td>\n",
       "      <td>Forrest Gump</td>\n",
       "      <td>8.8</td>\n",
       "    </tr>\n",
       "    <tr>\n",
       "      <td>2</td>\n",
       "      <td>Inception</td>\n",
       "      <td>8.7</td>\n",
       "    </tr>\n",
       "  </tbody>\n",
       "</table>\n",
       "</div>"
      ],
      "text/plain": [
       "              title  rating\n",
       "0  Schindler's List     8.9\n",
       "1      Forrest Gump     8.8\n",
       "2         Inception     8.7"
      ]
     },
     "execution_count": 21,
     "metadata": {},
     "output_type": "execute_result"
    }
   ],
   "source": [
    "import sqlite3\n",
    "\n",
    "# Creating a demo.db database in working directory\n",
    "conn = sqlite3.connect('demo.db')\n",
    "# Importing a table\n",
    "movie_ratings = [9.0, 8.9, 8.8, 8.7]\n",
    "movie_titles = [\"The Dark Knight\", \"Schindler's List\", \"Forrest Gump\", \"Inception\"]\n",
    "df = pd.DataFrame()\n",
    "df[\"title\"] = movie_titles\n",
    "df[\"rating\"] = movie_ratings\n",
    "df.to_sql(\"movies\", index=False, con=conn, if_exists='replace')\n",
    "# Importing data from demo.movies\n",
    "query_str = \"\"\"\n",
    "SELECT *\n",
    "    FROM movies\n",
    "    WHERE rating < 9.0;\n",
    "\"\"\"\n",
    "pd.read_sql(query_str, con=conn)"
   ]
  },
  {
   "cell_type": "markdown",
   "metadata": {
    "slideshow": {
     "slide_type": "subslide"
    }
   },
   "source": [
    "## Series 的索引、切割與篩選"
   ]
  },
  {
   "cell_type": "code",
   "execution_count": 22,
   "metadata": {},
   "outputs": [
    {
     "name": "stdout",
     "output_type": "stream",
     "text": [
      "The Dark Knight     9.0\n",
      "Schindler's List    8.9\n",
      "Forrest Gump        8.8\n",
      "Inception           8.7\n",
      "dtype: float64\n",
      "9.0\n",
      "8.8\n"
     ]
    }
   ],
   "source": [
    "movie_ratings = [9.0, 8.9, 8.8, 8.7]\n",
    "movie_titles = [\"The Dark Knight\", \"Schindler's List\", \"Forrest Gump\", \"Inception\"]\n",
    "ser = pd.Series(movie_ratings, index=movie_titles)\n",
    "print(ser)\n",
    "print(ser[0])\n",
    "print(ser[\"Forrest Gump\"])"
   ]
  },
  {
   "cell_type": "markdown",
   "metadata": {
    "slideshow": {
     "slide_type": "subslide"
    }
   },
   "source": [
    "## 進行資料值的切割時，可以在中括號輸入所需資料的起點與終點，傳入絕對位置則與 Python 慣例一致：不包含終點；若是傳入索引值則會包含終點"
   ]
  },
  {
   "cell_type": "code",
   "execution_count": 23,
   "metadata": {},
   "outputs": [
    {
     "name": "stdout",
     "output_type": "stream",
     "text": [
      "Schindler's List    8.9\n",
      "Forrest Gump        8.8\n",
      "Inception           8.7\n",
      "dtype: float64\n",
      "Schindler's List    8.9\n",
      "Forrest Gump        8.8\n",
      "Inception           8.7\n",
      "dtype: float64\n"
     ]
    }
   ],
   "source": [
    "movie_ratings = [9.0, 8.9, 8.8, 8.7]\n",
    "movie_titles = [\"The Dark Knight\", \"Schindler's List\", \"Forrest Gump\", \"Inception\"]\n",
    "ser = pd.Series(movie_ratings, index=movie_titles)\n",
    "print(ser[1:4])\n",
    "print(ser[\"Schindler's List\":\"Inception\"])"
   ]
  },
  {
   "cell_type": "markdown",
   "metadata": {
    "slideshow": {
     "slide_type": "subslide"
    }
   },
   "source": [
    "## Series 繼承了 ndarray 的所有特性，因此完全適用華麗索引與布林索引這兩個便利的技法"
   ]
  },
  {
   "cell_type": "code",
   "execution_count": 24,
   "metadata": {},
   "outputs": [
    {
     "name": "stdout",
     "output_type": "stream",
     "text": [
      "Schindler's List    8.9\n",
      "Forrest Gump        8.8\n",
      "Inception           8.7\n",
      "dtype: float64\n",
      "Schindler's List    8.9\n",
      "Forrest Gump        8.8\n",
      "Inception           8.7\n",
      "dtype: float64\n",
      "The Dark Knight     False\n",
      "Schindler's List     True\n",
      "Forrest Gump         True\n",
      "Inception            True\n",
      "dtype: bool\n",
      "Schindler's List    8.9\n",
      "Forrest Gump        8.8\n",
      "Inception           8.7\n",
      "dtype: float64\n"
     ]
    }
   ],
   "source": [
    "movie_ratings = [9.0, 8.9, 8.8, 8.7]\n",
    "movie_titles = [\"The Dark Knight\", \"Schindler's List\", \"Forrest Gump\", \"Inception\"]\n",
    "ser = pd.Series(movie_ratings, index=movie_titles)\n",
    "# Fancy indexing\n",
    "print(ser[[1, 2, 3]])\n",
    "print(ser[[\"Schindler's List\", \"Forrest Gump\", \"Inception\"]])\n",
    "# Boolean indexing\n",
    "print(ser < 9)\n",
    "print(ser[ser < 9])"
   ]
  },
  {
   "cell_type": "markdown",
   "metadata": {
    "slideshow": {
     "slide_type": "subslide"
    }
   },
   "source": [
    "## DataFrame 的選擇與篩選\n",
    "\n",
    "利用 `[COLUMN]` 或 `.COLUMN` 能夠從資料框中選擇出單一或多個變數，成為一個 Series 或者變數欄位較少的資料框子集，實踐 SQL 語法中的 SELECT"
   ]
  },
  {
   "cell_type": "code",
   "execution_count": 25,
   "metadata": {},
   "outputs": [
    {
     "name": "stdout",
     "output_type": "stream",
     "text": [
      "0     The Dark Knight\n",
      "1    Schindler's List\n",
      "2        Forrest Gump\n",
      "3           Inception\n",
      "Name: title, dtype: object\n",
      "0    9.0\n",
      "1    8.9\n",
      "2    8.8\n",
      "3    8.7\n",
      "Name: rating, dtype: float64\n"
     ]
    },
    {
     "data": {
      "text/html": [
       "<div>\n",
       "<style scoped>\n",
       "    .dataframe tbody tr th:only-of-type {\n",
       "        vertical-align: middle;\n",
       "    }\n",
       "\n",
       "    .dataframe tbody tr th {\n",
       "        vertical-align: top;\n",
       "    }\n",
       "\n",
       "    .dataframe thead th {\n",
       "        text-align: right;\n",
       "    }\n",
       "</style>\n",
       "<table border=\"1\" class=\"dataframe\">\n",
       "  <thead>\n",
       "    <tr style=\"text-align: right;\">\n",
       "      <th></th>\n",
       "      <th>title</th>\n",
       "      <th>release_year</th>\n",
       "    </tr>\n",
       "  </thead>\n",
       "  <tbody>\n",
       "    <tr>\n",
       "      <td>0</td>\n",
       "      <td>The Dark Knight</td>\n",
       "      <td>2008</td>\n",
       "    </tr>\n",
       "    <tr>\n",
       "      <td>1</td>\n",
       "      <td>Schindler's List</td>\n",
       "      <td>1993</td>\n",
       "    </tr>\n",
       "    <tr>\n",
       "      <td>2</td>\n",
       "      <td>Forrest Gump</td>\n",
       "      <td>1994</td>\n",
       "    </tr>\n",
       "    <tr>\n",
       "      <td>3</td>\n",
       "      <td>Inception</td>\n",
       "      <td>2010</td>\n",
       "    </tr>\n",
       "  </tbody>\n",
       "</table>\n",
       "</div>"
      ],
      "text/plain": [
       "              title  release_year\n",
       "0   The Dark Knight          2008\n",
       "1  Schindler's List          1993\n",
       "2      Forrest Gump          1994\n",
       "3         Inception          2010"
      ]
     },
     "execution_count": 25,
     "metadata": {},
     "output_type": "execute_result"
    }
   ],
   "source": [
    "movie_ratings = [9.0, 8.9, 8.8, 8.7]\n",
    "movie_titles = [\"The Dark Knight\", \"Schindler's List\", \"Forrest Gump\", \"Inception\"]\n",
    "release_years = [2008, 1993, 1994, 2010]\n",
    "df = pd.DataFrame()\n",
    "df[\"title\"] = movie_titles\n",
    "df[\"rating\"] = movie_ratings\n",
    "df[\"release_year\"] = release_years\n",
    "print(df[\"title\"])\n",
    "print(df.rating)\n",
    "df[[\"title\", \"release_year\"]]"
   ]
  },
  {
   "cell_type": "markdown",
   "metadata": {
    "slideshow": {
     "slide_type": "subslide"
    }
   },
   "source": [
    "## 對資料框直接應用布林索引可以挑出符合條件（條件判斷結果為 True）的觀測值列數，實踐 SQL 語法中的 WHERE"
   ]
  },
  {
   "cell_type": "code",
   "execution_count": 26,
   "metadata": {},
   "outputs": [
    {
     "name": "stdout",
     "output_type": "stream",
     "text": [
      "0     True\n",
      "1    False\n",
      "2    False\n",
      "3     True\n",
      "Name: release_year, dtype: bool\n"
     ]
    },
    {
     "data": {
      "text/html": [
       "<div>\n",
       "<style scoped>\n",
       "    .dataframe tbody tr th:only-of-type {\n",
       "        vertical-align: middle;\n",
       "    }\n",
       "\n",
       "    .dataframe tbody tr th {\n",
       "        vertical-align: top;\n",
       "    }\n",
       "\n",
       "    .dataframe thead th {\n",
       "        text-align: right;\n",
       "    }\n",
       "</style>\n",
       "<table border=\"1\" class=\"dataframe\">\n",
       "  <thead>\n",
       "    <tr style=\"text-align: right;\">\n",
       "      <th></th>\n",
       "      <th>title</th>\n",
       "      <th>rating</th>\n",
       "      <th>release_year</th>\n",
       "    </tr>\n",
       "  </thead>\n",
       "  <tbody>\n",
       "    <tr>\n",
       "      <td>0</td>\n",
       "      <td>The Dark Knight</td>\n",
       "      <td>9.0</td>\n",
       "      <td>2008</td>\n",
       "    </tr>\n",
       "    <tr>\n",
       "      <td>3</td>\n",
       "      <td>Inception</td>\n",
       "      <td>8.7</td>\n",
       "      <td>2010</td>\n",
       "    </tr>\n",
       "  </tbody>\n",
       "</table>\n",
       "</div>"
      ],
      "text/plain": [
       "             title  rating  release_year\n",
       "0  The Dark Knight     9.0          2008\n",
       "3        Inception     8.7          2010"
      ]
     },
     "execution_count": 26,
     "metadata": {},
     "output_type": "execute_result"
    }
   ],
   "source": [
    "movie_ratings = [9.0, 8.9, 8.8, 8.7]\n",
    "movie_titles = [\"The Dark Knight\", \"Schindler's List\", \"Forrest Gump\", \"Inception\"]\n",
    "release_years = [2008, 1993, 1994, 2010]\n",
    "df = pd.DataFrame()\n",
    "df[\"title\"] = movie_titles\n",
    "df[\"rating\"] = movie_ratings\n",
    "df[\"release_year\"] = release_years\n",
    "print(df[\"release_year\"] > 2000)\n",
    "df[df[\"release_year\"] > 2000]"
   ]
  },
  {
   "cell_type": "markdown",
   "metadata": {
    "slideshow": {
     "slide_type": "subslide"
    }
   },
   "source": [
    "## 資料框類別尚有兩個索引語法（Indexer）可以方便使用者在一次的函數呼叫中就完成選擇與篩選兩個任務\n",
    "\n",
    "- `.loc[ROW_LABEL, COLUMN_LABEL]` ：純粹以列、欄標籤為準進行選擇跟篩選\n",
    "- `.iloc[ROW_INDEX, COLUMN_INDEX]` ：純粹以資料的整數位置（integer location）為準進行選擇跟篩選"
   ]
  },
  {
   "cell_type": "code",
   "execution_count": 27,
   "metadata": {
    "slideshow": {
     "slide_type": "subslide"
    }
   },
   "outputs": [
    {
     "data": {
      "text/html": [
       "<div>\n",
       "<style scoped>\n",
       "    .dataframe tbody tr th:only-of-type {\n",
       "        vertical-align: middle;\n",
       "    }\n",
       "\n",
       "    .dataframe tbody tr th {\n",
       "        vertical-align: top;\n",
       "    }\n",
       "\n",
       "    .dataframe thead th {\n",
       "        text-align: right;\n",
       "    }\n",
       "</style>\n",
       "<table border=\"1\" class=\"dataframe\">\n",
       "  <thead>\n",
       "    <tr style=\"text-align: right;\">\n",
       "      <th></th>\n",
       "      <th>rating</th>\n",
       "      <th>release_year</th>\n",
       "    </tr>\n",
       "  </thead>\n",
       "  <tbody>\n",
       "    <tr>\n",
       "      <td>The Dark Knight</td>\n",
       "      <td>9.0</td>\n",
       "      <td>2008</td>\n",
       "    </tr>\n",
       "    <tr>\n",
       "      <td>Schindler's List</td>\n",
       "      <td>8.9</td>\n",
       "      <td>1993</td>\n",
       "    </tr>\n",
       "    <tr>\n",
       "      <td>Forrest Gump</td>\n",
       "      <td>8.8</td>\n",
       "      <td>1994</td>\n",
       "    </tr>\n",
       "    <tr>\n",
       "      <td>Inception</td>\n",
       "      <td>8.7</td>\n",
       "      <td>2010</td>\n",
       "    </tr>\n",
       "  </tbody>\n",
       "</table>\n",
       "</div>"
      ],
      "text/plain": [
       "                  rating  release_year\n",
       "The Dark Knight      9.0          2008\n",
       "Schindler's List     8.9          1993\n",
       "Forrest Gump         8.8          1994\n",
       "Inception            8.7          2010"
      ]
     },
     "execution_count": 27,
     "metadata": {},
     "output_type": "execute_result"
    }
   ],
   "source": [
    "movie_ratings = [9.0, 8.9, 8.8, 8.7]\n",
    "movie_titles = [\"The Dark Knight\", \"Schindler's List\", \"Forrest Gump\", \"Inception\"]\n",
    "release_years = [2008, 1993, 1994, 2010]\n",
    "df = pd.DataFrame()\n",
    "df[\"rating\"] = movie_ratings\n",
    "df[\"release_year\"] = release_years\n",
    "df.index = movie_titles\n",
    "df"
   ]
  },
  {
   "cell_type": "markdown",
   "metadata": {
    "slideshow": {
     "slide_type": "subslide"
    }
   },
   "source": [
    "## 希望將上映年份在 2000 年之後的 “The Dark Knight” 與 “Inception” 利用索引語法選出來\n",
    "\n",
    "使用 `.loc[]` 時必須傳入列標籤（電影名稱）與欄標籤（評等和上映年份）"
   ]
  },
  {
   "cell_type": "code",
   "execution_count": 28,
   "metadata": {},
   "outputs": [
    {
     "data": {
      "text/html": [
       "<div>\n",
       "<style scoped>\n",
       "    .dataframe tbody tr th:only-of-type {\n",
       "        vertical-align: middle;\n",
       "    }\n",
       "\n",
       "    .dataframe tbody tr th {\n",
       "        vertical-align: top;\n",
       "    }\n",
       "\n",
       "    .dataframe thead th {\n",
       "        text-align: right;\n",
       "    }\n",
       "</style>\n",
       "<table border=\"1\" class=\"dataframe\">\n",
       "  <thead>\n",
       "    <tr style=\"text-align: right;\">\n",
       "      <th></th>\n",
       "      <th>rating</th>\n",
       "      <th>release_year</th>\n",
       "    </tr>\n",
       "  </thead>\n",
       "  <tbody>\n",
       "    <tr>\n",
       "      <td>The Dark Knight</td>\n",
       "      <td>9.0</td>\n",
       "      <td>2008</td>\n",
       "    </tr>\n",
       "    <tr>\n",
       "      <td>Inception</td>\n",
       "      <td>8.7</td>\n",
       "      <td>2010</td>\n",
       "    </tr>\n",
       "  </tbody>\n",
       "</table>\n",
       "</div>"
      ],
      "text/plain": [
       "                 rating  release_year\n",
       "The Dark Knight     9.0          2008\n",
       "Inception           8.7          2010"
      ]
     },
     "execution_count": 28,
     "metadata": {},
     "output_type": "execute_result"
    }
   ],
   "source": [
    "movie_ratings = [9.0, 8.9, 8.8, 8.7]\n",
    "movie_titles = [\"The Dark Knight\", \"Schindler's List\", \"Forrest Gump\", \"Inception\"]\n",
    "release_years = [2008, 1993, 1994, 2010]\n",
    "df = pd.DataFrame()\n",
    "df[\"rating\"] = movie_ratings\n",
    "df[\"release_year\"] = release_years\n",
    "df.index = movie_titles\n",
    "df.loc[[\"The Dark Knight\", \"Inception\"], [\"rating\", \"release_year\"]]"
   ]
  },
  {
   "cell_type": "markdown",
   "metadata": {
    "slideshow": {
     "slide_type": "subslide"
    }
   },
   "source": [
    "## 希望將上映年份在 2000 年之後的 “The Dark Knight” 與 “Inception” 利用索引語法選出來\n",
    "\n",
    "使用 `.iloc[]` 時必須傳入 “The Dark Knight” 與 “Inception” 的列整數位置（第 0 與 3 列）與欄整數位置（第 0 與 1 欄）"
   ]
  },
  {
   "cell_type": "code",
   "execution_count": 29,
   "metadata": {},
   "outputs": [
    {
     "data": {
      "text/html": [
       "<div>\n",
       "<style scoped>\n",
       "    .dataframe tbody tr th:only-of-type {\n",
       "        vertical-align: middle;\n",
       "    }\n",
       "\n",
       "    .dataframe tbody tr th {\n",
       "        vertical-align: top;\n",
       "    }\n",
       "\n",
       "    .dataframe thead th {\n",
       "        text-align: right;\n",
       "    }\n",
       "</style>\n",
       "<table border=\"1\" class=\"dataframe\">\n",
       "  <thead>\n",
       "    <tr style=\"text-align: right;\">\n",
       "      <th></th>\n",
       "      <th>rating</th>\n",
       "      <th>release_year</th>\n",
       "    </tr>\n",
       "  </thead>\n",
       "  <tbody>\n",
       "    <tr>\n",
       "      <td>The Dark Knight</td>\n",
       "      <td>9.0</td>\n",
       "      <td>2008</td>\n",
       "    </tr>\n",
       "    <tr>\n",
       "      <td>Inception</td>\n",
       "      <td>8.7</td>\n",
       "      <td>2010</td>\n",
       "    </tr>\n",
       "  </tbody>\n",
       "</table>\n",
       "</div>"
      ],
      "text/plain": [
       "                 rating  release_year\n",
       "The Dark Knight     9.0          2008\n",
       "Inception           8.7          2010"
      ]
     },
     "execution_count": 29,
     "metadata": {},
     "output_type": "execute_result"
    }
   ],
   "source": [
    "movie_ratings = [9.0, 8.9, 8.8, 8.7]\n",
    "movie_titles = [\"The Dark Knight\", \"Schindler's List\", \"Forrest Gump\", \"Inception\"]\n",
    "release_years = [2008, 1993, 1994, 2010]\n",
    "df = pd.DataFrame()\n",
    "df[\"rating\"] = movie_ratings\n",
    "df[\"release_year\"] = release_years\n",
    "df.index = movie_titles\n",
    "df.iloc[[0, 3], [0, 1]]"
   ]
  },
  {
   "cell_type": "markdown",
   "metadata": {
    "slideshow": {
     "slide_type": "subslide"
    }
   },
   "source": [
    "## 排序\n",
    "\n",
    "- `df.sort_index()` ：依照資料框的列標籤遞增（預設）或遞減排序\n",
    "- `df.sort_values()` ：依照指定的資料框欄標籤遞增（預設）或遞減排序"
   ]
  },
  {
   "cell_type": "code",
   "execution_count": 30,
   "metadata": {
    "slideshow": {
     "slide_type": "subslide"
    }
   },
   "outputs": [
    {
     "data": {
      "text/html": [
       "<div>\n",
       "<style scoped>\n",
       "    .dataframe tbody tr th:only-of-type {\n",
       "        vertical-align: middle;\n",
       "    }\n",
       "\n",
       "    .dataframe tbody tr th {\n",
       "        vertical-align: top;\n",
       "    }\n",
       "\n",
       "    .dataframe thead th {\n",
       "        text-align: right;\n",
       "    }\n",
       "</style>\n",
       "<table border=\"1\" class=\"dataframe\">\n",
       "  <thead>\n",
       "    <tr style=\"text-align: right;\">\n",
       "      <th></th>\n",
       "      <th>title</th>\n",
       "      <th>rating</th>\n",
       "      <th>release_year</th>\n",
       "    </tr>\n",
       "  </thead>\n",
       "  <tbody>\n",
       "    <tr>\n",
       "      <td>0</td>\n",
       "      <td>The Dark Knight</td>\n",
       "      <td>9.0</td>\n",
       "      <td>2008</td>\n",
       "    </tr>\n",
       "    <tr>\n",
       "      <td>1</td>\n",
       "      <td>Schindler's List</td>\n",
       "      <td>8.9</td>\n",
       "      <td>1993</td>\n",
       "    </tr>\n",
       "    <tr>\n",
       "      <td>2</td>\n",
       "      <td>Forrest Gump</td>\n",
       "      <td>8.8</td>\n",
       "      <td>1994</td>\n",
       "    </tr>\n",
       "    <tr>\n",
       "      <td>3</td>\n",
       "      <td>Inception</td>\n",
       "      <td>8.7</td>\n",
       "      <td>2010</td>\n",
       "    </tr>\n",
       "  </tbody>\n",
       "</table>\n",
       "</div>"
      ],
      "text/plain": [
       "              title  rating  release_year\n",
       "0   The Dark Knight     9.0          2008\n",
       "1  Schindler's List     8.9          1993\n",
       "2      Forrest Gump     8.8          1994\n",
       "3         Inception     8.7          2010"
      ]
     },
     "execution_count": 30,
     "metadata": {},
     "output_type": "execute_result"
    }
   ],
   "source": [
    "movie_ratings = [9.0, 8.9, 8.8, 8.7]\n",
    "movie_titles = [\"The Dark Knight\", \"Schindler's List\", \"Forrest Gump\", \"Inception\"]\n",
    "release_years = [2008, 1993, 1994, 2010]\n",
    "df = pd.DataFrame()\n",
    "df[\"title\"] = movie_titles\n",
    "df[\"rating\"] = movie_ratings\n",
    "df[\"release_year\"] = release_years\n",
    "df.sort_index() # default: ascending"
   ]
  },
  {
   "cell_type": "code",
   "execution_count": 31,
   "metadata": {
    "slideshow": {
     "slide_type": "fragment"
    }
   },
   "outputs": [
    {
     "data": {
      "text/html": [
       "<div>\n",
       "<style scoped>\n",
       "    .dataframe tbody tr th:only-of-type {\n",
       "        vertical-align: middle;\n",
       "    }\n",
       "\n",
       "    .dataframe tbody tr th {\n",
       "        vertical-align: top;\n",
       "    }\n",
       "\n",
       "    .dataframe thead th {\n",
       "        text-align: right;\n",
       "    }\n",
       "</style>\n",
       "<table border=\"1\" class=\"dataframe\">\n",
       "  <thead>\n",
       "    <tr style=\"text-align: right;\">\n",
       "      <th></th>\n",
       "      <th>title</th>\n",
       "      <th>rating</th>\n",
       "      <th>release_year</th>\n",
       "    </tr>\n",
       "  </thead>\n",
       "  <tbody>\n",
       "    <tr>\n",
       "      <td>3</td>\n",
       "      <td>Inception</td>\n",
       "      <td>8.7</td>\n",
       "      <td>2010</td>\n",
       "    </tr>\n",
       "    <tr>\n",
       "      <td>2</td>\n",
       "      <td>Forrest Gump</td>\n",
       "      <td>8.8</td>\n",
       "      <td>1994</td>\n",
       "    </tr>\n",
       "    <tr>\n",
       "      <td>1</td>\n",
       "      <td>Schindler's List</td>\n",
       "      <td>8.9</td>\n",
       "      <td>1993</td>\n",
       "    </tr>\n",
       "    <tr>\n",
       "      <td>0</td>\n",
       "      <td>The Dark Knight</td>\n",
       "      <td>9.0</td>\n",
       "      <td>2008</td>\n",
       "    </tr>\n",
       "  </tbody>\n",
       "</table>\n",
       "</div>"
      ],
      "text/plain": [
       "              title  rating  release_year\n",
       "3         Inception     8.7          2010\n",
       "2      Forrest Gump     8.8          1994\n",
       "1  Schindler's List     8.9          1993\n",
       "0   The Dark Knight     9.0          2008"
      ]
     },
     "execution_count": 31,
     "metadata": {},
     "output_type": "execute_result"
    }
   ],
   "source": [
    "df.sort_index(ascending=False)"
   ]
  },
  {
   "cell_type": "code",
   "execution_count": 32,
   "metadata": {
    "slideshow": {
     "slide_type": "subslide"
    }
   },
   "outputs": [
    {
     "data": {
      "text/html": [
       "<div>\n",
       "<style scoped>\n",
       "    .dataframe tbody tr th:only-of-type {\n",
       "        vertical-align: middle;\n",
       "    }\n",
       "\n",
       "    .dataframe tbody tr th {\n",
       "        vertical-align: top;\n",
       "    }\n",
       "\n",
       "    .dataframe thead th {\n",
       "        text-align: right;\n",
       "    }\n",
       "</style>\n",
       "<table border=\"1\" class=\"dataframe\">\n",
       "  <thead>\n",
       "    <tr style=\"text-align: right;\">\n",
       "      <th></th>\n",
       "      <th>title</th>\n",
       "      <th>rating</th>\n",
       "      <th>release_year</th>\n",
       "    </tr>\n",
       "  </thead>\n",
       "  <tbody>\n",
       "    <tr>\n",
       "      <td>2</td>\n",
       "      <td>Forrest Gump</td>\n",
       "      <td>8.8</td>\n",
       "      <td>1994</td>\n",
       "    </tr>\n",
       "    <tr>\n",
       "      <td>3</td>\n",
       "      <td>Inception</td>\n",
       "      <td>8.7</td>\n",
       "      <td>2010</td>\n",
       "    </tr>\n",
       "    <tr>\n",
       "      <td>1</td>\n",
       "      <td>Schindler's List</td>\n",
       "      <td>8.9</td>\n",
       "      <td>1993</td>\n",
       "    </tr>\n",
       "    <tr>\n",
       "      <td>0</td>\n",
       "      <td>The Dark Knight</td>\n",
       "      <td>9.0</td>\n",
       "      <td>2008</td>\n",
       "    </tr>\n",
       "  </tbody>\n",
       "</table>\n",
       "</div>"
      ],
      "text/plain": [
       "              title  rating  release_year\n",
       "2      Forrest Gump     8.8          1994\n",
       "3         Inception     8.7          2010\n",
       "1  Schindler's List     8.9          1993\n",
       "0   The Dark Knight     9.0          2008"
      ]
     },
     "execution_count": 32,
     "metadata": {},
     "output_type": "execute_result"
    }
   ],
   "source": [
    "movie_ratings = [9.0, 8.9, 8.8, 8.7]\n",
    "movie_titles = [\"The Dark Knight\", \"Schindler's List\", \"Forrest Gump\", \"Inception\"]\n",
    "release_years = [2008, 1993, 1994, 2010]\n",
    "df = pd.DataFrame()\n",
    "df[\"title\"] = movie_titles\n",
    "df[\"rating\"] = movie_ratings\n",
    "df[\"release_year\"] = release_years\n",
    "df.sort_values(\"title\")"
   ]
  },
  {
   "cell_type": "code",
   "execution_count": 33,
   "metadata": {
    "slideshow": {
     "slide_type": "fragment"
    }
   },
   "outputs": [
    {
     "data": {
      "text/html": [
       "<div>\n",
       "<style scoped>\n",
       "    .dataframe tbody tr th:only-of-type {\n",
       "        vertical-align: middle;\n",
       "    }\n",
       "\n",
       "    .dataframe tbody tr th {\n",
       "        vertical-align: top;\n",
       "    }\n",
       "\n",
       "    .dataframe thead th {\n",
       "        text-align: right;\n",
       "    }\n",
       "</style>\n",
       "<table border=\"1\" class=\"dataframe\">\n",
       "  <thead>\n",
       "    <tr style=\"text-align: right;\">\n",
       "      <th></th>\n",
       "      <th>title</th>\n",
       "      <th>rating</th>\n",
       "      <th>release_year</th>\n",
       "    </tr>\n",
       "  </thead>\n",
       "  <tbody>\n",
       "    <tr>\n",
       "      <td>1</td>\n",
       "      <td>Schindler's List</td>\n",
       "      <td>8.9</td>\n",
       "      <td>1993</td>\n",
       "    </tr>\n",
       "    <tr>\n",
       "      <td>2</td>\n",
       "      <td>Forrest Gump</td>\n",
       "      <td>8.8</td>\n",
       "      <td>1994</td>\n",
       "    </tr>\n",
       "    <tr>\n",
       "      <td>0</td>\n",
       "      <td>The Dark Knight</td>\n",
       "      <td>9.0</td>\n",
       "      <td>2008</td>\n",
       "    </tr>\n",
       "    <tr>\n",
       "      <td>3</td>\n",
       "      <td>Inception</td>\n",
       "      <td>8.7</td>\n",
       "      <td>2010</td>\n",
       "    </tr>\n",
       "  </tbody>\n",
       "</table>\n",
       "</div>"
      ],
      "text/plain": [
       "              title  rating  release_year\n",
       "1  Schindler's List     8.9          1993\n",
       "2      Forrest Gump     8.8          1994\n",
       "0   The Dark Knight     9.0          2008\n",
       "3         Inception     8.7          2010"
      ]
     },
     "execution_count": 33,
     "metadata": {},
     "output_type": "execute_result"
    }
   ],
   "source": [
    "df.sort_values(\"release_year\")"
   ]
  },
  {
   "cell_type": "code",
   "execution_count": 34,
   "metadata": {
    "slideshow": {
     "slide_type": "fragment"
    }
   },
   "outputs": [
    {
     "data": {
      "text/html": [
       "<div>\n",
       "<style scoped>\n",
       "    .dataframe tbody tr th:only-of-type {\n",
       "        vertical-align: middle;\n",
       "    }\n",
       "\n",
       "    .dataframe tbody tr th {\n",
       "        vertical-align: top;\n",
       "    }\n",
       "\n",
       "    .dataframe thead th {\n",
       "        text-align: right;\n",
       "    }\n",
       "</style>\n",
       "<table border=\"1\" class=\"dataframe\">\n",
       "  <thead>\n",
       "    <tr style=\"text-align: right;\">\n",
       "      <th></th>\n",
       "      <th>title</th>\n",
       "      <th>rating</th>\n",
       "      <th>release_year</th>\n",
       "    </tr>\n",
       "  </thead>\n",
       "  <tbody>\n",
       "    <tr>\n",
       "      <td>3</td>\n",
       "      <td>Inception</td>\n",
       "      <td>8.7</td>\n",
       "      <td>2010</td>\n",
       "    </tr>\n",
       "    <tr>\n",
       "      <td>0</td>\n",
       "      <td>The Dark Knight</td>\n",
       "      <td>9.0</td>\n",
       "      <td>2008</td>\n",
       "    </tr>\n",
       "    <tr>\n",
       "      <td>2</td>\n",
       "      <td>Forrest Gump</td>\n",
       "      <td>8.8</td>\n",
       "      <td>1994</td>\n",
       "    </tr>\n",
       "    <tr>\n",
       "      <td>1</td>\n",
       "      <td>Schindler's List</td>\n",
       "      <td>8.9</td>\n",
       "      <td>1993</td>\n",
       "    </tr>\n",
       "  </tbody>\n",
       "</table>\n",
       "</div>"
      ],
      "text/plain": [
       "              title  rating  release_year\n",
       "3         Inception     8.7          2010\n",
       "0   The Dark Knight     9.0          2008\n",
       "2      Forrest Gump     8.8          1994\n",
       "1  Schindler's List     8.9          1993"
      ]
     },
     "execution_count": 34,
     "metadata": {},
     "output_type": "execute_result"
    }
   ],
   "source": [
    "df.sort_values(\"release_year\", ascending=False)"
   ]
  },
  {
   "cell_type": "markdown",
   "metadata": {
    "slideshow": {
     "slide_type": "subslide"
    }
   },
   "source": [
    "## 衍生變數\n",
    "\n",
    "- 簡單運算\n",
    "- 類別對應類別\n",
    "- 數值對應類別\n",
    "- 函數映射"
   ]
  },
  {
   "cell_type": "markdown",
   "metadata": {
    "slideshow": {
     "slide_type": "subslide"
    }
   },
   "source": [
    "## 簡單運算\n",
    "\n",
    "透過 Series 從 ndarray 繼承而來的元素級別運算（element-wise operation）特性即可實踐，像是運用身高、體重這兩個欄位衍生出球員的 BMI"
   ]
  },
  {
   "cell_type": "code",
   "execution_count": 35,
   "metadata": {
    "slideshow": {
     "slide_type": "subslide"
    }
   },
   "outputs": [
    {
     "data": {
      "text/html": [
       "<div>\n",
       "<style scoped>\n",
       "    .dataframe tbody tr th:only-of-type {\n",
       "        vertical-align: middle;\n",
       "    }\n",
       "\n",
       "    .dataframe tbody tr th {\n",
       "        vertical-align: top;\n",
       "    }\n",
       "\n",
       "    .dataframe thead th {\n",
       "        text-align: right;\n",
       "    }\n",
       "</style>\n",
       "<table border=\"1\" class=\"dataframe\">\n",
       "  <thead>\n",
       "    <tr style=\"text-align: right;\">\n",
       "      <th></th>\n",
       "      <th>temporaryDisplayName</th>\n",
       "      <th>bmi</th>\n",
       "    </tr>\n",
       "  </thead>\n",
       "  <tbody>\n",
       "    <tr>\n",
       "      <td>0</td>\n",
       "      <td>Adams, Steven</td>\n",
       "      <td>26.493861</td>\n",
       "    </tr>\n",
       "    <tr>\n",
       "      <td>1</td>\n",
       "      <td>Adebayo, Bam</td>\n",
       "      <td>26.742788</td>\n",
       "    </tr>\n",
       "    <tr>\n",
       "      <td>2</td>\n",
       "      <td>Adel, Deng</td>\n",
       "      <td>22.449939</td>\n",
       "    </tr>\n",
       "    <tr>\n",
       "      <td>3</td>\n",
       "      <td>Aldridge, LaMarcus</td>\n",
       "      <td>26.481885</td>\n",
       "    </tr>\n",
       "    <tr>\n",
       "      <td>4</td>\n",
       "      <td>Alexander, Kyle</td>\n",
       "      <td>22.416388</td>\n",
       "    </tr>\n",
       "  </tbody>\n",
       "</table>\n",
       "</div>"
      ],
      "text/plain": [
       "  temporaryDisplayName        bmi\n",
       "0        Adams, Steven  26.493861\n",
       "1         Adebayo, Bam  26.742788\n",
       "2           Adel, Deng  22.449939\n",
       "3   Aldridge, LaMarcus  26.481885\n",
       "4      Alexander, Kyle  22.416388"
      ]
     },
     "execution_count": 35,
     "metadata": {},
     "output_type": "execute_result"
    }
   ],
   "source": [
    "player_profile = pd.read_csv(\"https://python4ds.s3-ap-northeast-1.amazonaws.com/player_profile.csv\")\n",
    "player_profile[\"bmi\"] = player_profile[\"weightKilograms\"] / player_profile[\"heightMeters\"]**2\n",
    "player_profile[[\"temporaryDisplayName\", \"bmi\"]].head()"
   ]
  },
  {
   "cell_type": "markdown",
   "metadata": {
    "slideshow": {
     "slide_type": "subslide"
    }
   },
   "source": [
    "## 類別對應類別\n",
    "\n",
    "透過 Series 的 `.map()` 方法來實踐，傳入 dict 作為對應的準則，字典的鍵（Key）為對應前的原始類別，字典的值（Value）為對應後的類別，例如將本來分類較細膩的鋒衛對應為較粗略的前場、後場"
   ]
  },
  {
   "cell_type": "code",
   "execution_count": 36,
   "metadata": {
    "slideshow": {
     "slide_type": "subslide"
    }
   },
   "outputs": [
    {
     "name": "stdout",
     "output_type": "stream",
     "text": [
      "Pos before mapping:\n"
     ]
    },
    {
     "data": {
      "text/plain": [
       "G      200\n",
       "F      186\n",
       "C       51\n",
       "G-F     39\n",
       "F-C     20\n",
       "F-G     15\n",
       "C-F     13\n",
       "Name: pos, dtype: int64"
      ]
     },
     "execution_count": 36,
     "metadata": {},
     "output_type": "execute_result"
    }
   ],
   "source": [
    "pos_dict = {\n",
    "    \"G\": \"Backcourt\",\n",
    "    \"F\": \"Frontcourt\",\n",
    "    \"C\": \"Frontcourt\",\n",
    "    \"G-F\": \"Backcourt\",\n",
    "    \"F-C\": \"Frontcourt\",\n",
    "    \"F-G\": \"Frontcourt\",\n",
    "    \"C-F\": \"Frontcourt\"\n",
    "}\n",
    "player_profile = pd.read_csv(\"https://python4ds.s3-ap-northeast-1.amazonaws.com/player_profile.csv\")\n",
    "print(\"Pos before mapping:\")\n",
    "player_profile[\"pos\"].value_counts()"
   ]
  },
  {
   "cell_type": "code",
   "execution_count": 37,
   "metadata": {
    "slideshow": {
     "slide_type": "subslide"
    }
   },
   "outputs": [
    {
     "name": "stdout",
     "output_type": "stream",
     "text": [
      "Pos after mapping:\n"
     ]
    },
    {
     "data": {
      "text/plain": [
       "Frontcourt    285\n",
       "Backcourt     239\n",
       "Name: pos_recoded, dtype: int64"
      ]
     },
     "execution_count": 37,
     "metadata": {},
     "output_type": "execute_result"
    }
   ],
   "source": [
    "print(\"Pos after mapping:\")\n",
    "player_profile[\"pos_recoded\"] = player_profile[\"pos\"].map(pos_dict)\n",
    "player_profile[\"pos_recoded\"].value_counts()"
   ]
  },
  {
   "cell_type": "markdown",
   "metadata": {
    "slideshow": {
     "slide_type": "subslide"
    }
   },
   "source": [
    "## 數值對應類別\n",
    "\n",
    "透過 `pd.cut()` 函數將數值變數依照指定的門檻值或箱數切分成為類別變數，舉例來說將身高對應為小於等於 2 公尺以及超過 2 公尺兩個類別"
   ]
  },
  {
   "cell_type": "code",
   "execution_count": 38,
   "metadata": {
    "slideshow": {
     "slide_type": "subslide"
    }
   },
   "outputs": [
    {
     "data": {
      "text/html": [
       "<div>\n",
       "<style scoped>\n",
       "    .dataframe tbody tr th:only-of-type {\n",
       "        vertical-align: middle;\n",
       "    }\n",
       "\n",
       "    .dataframe tbody tr th {\n",
       "        vertical-align: top;\n",
       "    }\n",
       "\n",
       "    .dataframe thead th {\n",
       "        text-align: right;\n",
       "    }\n",
       "</style>\n",
       "<table border=\"1\" class=\"dataframe\">\n",
       "  <thead>\n",
       "    <tr style=\"text-align: right;\">\n",
       "      <th></th>\n",
       "      <th>temporaryDisplayName</th>\n",
       "      <th>heightMeters</th>\n",
       "      <th>heightCategory</th>\n",
       "    </tr>\n",
       "  </thead>\n",
       "  <tbody>\n",
       "    <tr>\n",
       "      <td>0</td>\n",
       "      <td>Adams, Steven</td>\n",
       "      <td>2.13</td>\n",
       "      <td>&gt; 2m</td>\n",
       "    </tr>\n",
       "    <tr>\n",
       "      <td>1</td>\n",
       "      <td>Adebayo, Bam</td>\n",
       "      <td>2.08</td>\n",
       "      <td>&gt; 2m</td>\n",
       "    </tr>\n",
       "    <tr>\n",
       "      <td>2</td>\n",
       "      <td>Adel, Deng</td>\n",
       "      <td>2.01</td>\n",
       "      <td>&gt; 2m</td>\n",
       "    </tr>\n",
       "    <tr>\n",
       "      <td>3</td>\n",
       "      <td>Aldridge, LaMarcus</td>\n",
       "      <td>2.11</td>\n",
       "      <td>&gt; 2m</td>\n",
       "    </tr>\n",
       "    <tr>\n",
       "      <td>4</td>\n",
       "      <td>Alexander, Kyle</td>\n",
       "      <td>2.11</td>\n",
       "      <td>&gt; 2m</td>\n",
       "    </tr>\n",
       "    <tr>\n",
       "      <td>5</td>\n",
       "      <td>Alexander-Walker, Nickeil</td>\n",
       "      <td>1.96</td>\n",
       "      <td>&lt;= 2m</td>\n",
       "    </tr>\n",
       "    <tr>\n",
       "      <td>6</td>\n",
       "      <td>Allen, Grayson</td>\n",
       "      <td>1.96</td>\n",
       "      <td>&lt;= 2m</td>\n",
       "    </tr>\n",
       "    <tr>\n",
       "      <td>7</td>\n",
       "      <td>Allen, Jarrett</td>\n",
       "      <td>2.11</td>\n",
       "      <td>&gt; 2m</td>\n",
       "    </tr>\n",
       "    <tr>\n",
       "      <td>8</td>\n",
       "      <td>Allen, Kadeem</td>\n",
       "      <td>1.90</td>\n",
       "      <td>&lt;= 2m</td>\n",
       "    </tr>\n",
       "    <tr>\n",
       "      <td>9</td>\n",
       "      <td>Aminu, Al-Farouq</td>\n",
       "      <td>2.06</td>\n",
       "      <td>&gt; 2m</td>\n",
       "    </tr>\n",
       "  </tbody>\n",
       "</table>\n",
       "</div>"
      ],
      "text/plain": [
       "        temporaryDisplayName  heightMeters heightCategory\n",
       "0              Adams, Steven          2.13           > 2m\n",
       "1               Adebayo, Bam          2.08           > 2m\n",
       "2                 Adel, Deng          2.01           > 2m\n",
       "3         Aldridge, LaMarcus          2.11           > 2m\n",
       "4            Alexander, Kyle          2.11           > 2m\n",
       "5  Alexander-Walker, Nickeil          1.96          <= 2m\n",
       "6             Allen, Grayson          1.96          <= 2m\n",
       "7             Allen, Jarrett          2.11           > 2m\n",
       "8              Allen, Kadeem          1.90          <= 2m\n",
       "9           Aminu, Al-Farouq          2.06           > 2m"
      ]
     },
     "execution_count": 38,
     "metadata": {},
     "output_type": "execute_result"
    }
   ],
   "source": [
    "import numpy as np\n",
    "\n",
    "player_profile = pd.read_csv(\"https://python4ds.s3-ap-northeast-1.amazonaws.com/player_profile.csv\")\n",
    "player_profile[\"heightCategory\"] = pd.cut(player_profile[\"heightMeters\"], [0, 2, np.Inf], labels=[\"<= 2m\", \"> 2m\"])\n",
    "player_profile[[\"temporaryDisplayName\", \"heightMeters\", \"heightCategory\"]].head(10)"
   ]
  },
  {
   "cell_type": "markdown",
   "metadata": {
    "slideshow": {
     "slide_type": "subslide"
    }
   },
   "source": [
    "## 函數映射\n",
    "\n",
    "透過 `.apply()` 方法來實踐，傳入函數或 lambda 表示式作為映射的準則，例如將本來分類較細膩的鋒衛對應為較粗略的 G、F 與 C"
   ]
  },
  {
   "cell_type": "code",
   "execution_count": 39,
   "metadata": {
    "slideshow": {
     "slide_type": "subslide"
    }
   },
   "outputs": [
    {
     "name": "stdout",
     "output_type": "stream",
     "text": [
      "Pos before applying:\n"
     ]
    },
    {
     "data": {
      "text/plain": [
       "G      200\n",
       "F      186\n",
       "C       51\n",
       "G-F     39\n",
       "F-C     20\n",
       "F-G     15\n",
       "C-F     13\n",
       "Name: pos, dtype: int64"
      ]
     },
     "execution_count": 39,
     "metadata": {},
     "output_type": "execute_result"
    }
   ],
   "source": [
    "def recode_pos(x):\n",
    "    if x[0] == 'G':\n",
    "        return 'G'\n",
    "    elif x[0] == 'F':\n",
    "        return 'F'\n",
    "    elif x[0] == 'C':\n",
    "        return 'C'\n",
    "\n",
    "player_profile = pd.read_csv(\"https://python4ds.s3-ap-northeast-1.amazonaws.com/player_profile.csv\")\n",
    "player_profile[\"pos_recoded\"] = player_profile[\"pos\"].apply(recode_pos)\n",
    "print(\"Pos before applying:\")\n",
    "player_profile[\"pos\"].value_counts()"
   ]
  },
  {
   "cell_type": "code",
   "execution_count": 40,
   "metadata": {
    "slideshow": {
     "slide_type": "subslide"
    }
   },
   "outputs": [
    {
     "name": "stdout",
     "output_type": "stream",
     "text": [
      "Pos after applying:\n"
     ]
    },
    {
     "data": {
      "text/plain": [
       "G    239\n",
       "F    221\n",
       "C     64\n",
       "Name: pos_recoded, dtype: int64"
      ]
     },
     "execution_count": 40,
     "metadata": {},
     "output_type": "execute_result"
    }
   ],
   "source": [
    "print(\"Pos after applying:\")\n",
    "player_profile[\"pos_recoded\"].value_counts()"
   ]
  },
  {
   "cell_type": "markdown",
   "metadata": {
    "slideshow": {
     "slide_type": "subslide"
    }
   },
   "source": [
    "## 摘要\n",
    "\n",
    "對資料框呼叫常用的摘要方法\n",
    "\n",
    "- `.count()` 計算列數\n",
    "- `.mean()` 與 `.median()` 計算平均和中位數\n",
    "- `.min()` 與 `.max()` 計算最小和最大值\n",
    "- `.std()` 與 `.var()` 計算標準差和變異數\n",
    "- `.prod()` 計算乘積\n",
    "- `.sum()` 計算總和"
   ]
  },
  {
   "cell_type": "markdown",
   "metadata": {
    "slideshow": {
     "slide_type": "subslide"
    }
   },
   "source": [
    "## 摘要方法預設作用的維度是資料框的欄位，比方從上映年份、評等與片長三個變數中取出各自的最大值"
   ]
  },
  {
   "cell_type": "code",
   "execution_count": 41,
   "metadata": {
    "slideshow": {
     "slide_type": "subslide"
    }
   },
   "outputs": [
    {
     "name": "stdout",
     "output_type": "stream",
     "text": [
      "rating                  9.0\n",
      "release_year         2010.0\n",
      "movie_length_mins     195.0\n",
      "dtype: float64\n",
      "\n",
      "\n",
      "The Dark Knight     2008.0\n",
      "Schindler's List    1993.0\n",
      "Forrest Gump        1994.0\n",
      "Inception           2010.0\n",
      "dtype: float64\n"
     ]
    }
   ],
   "source": [
    "movie_ratings = [9.0, 8.9, 8.8, 8.7]\n",
    "movie_titles = [\"The Dark Knight\", \"Schindler's List\", \"Forrest Gump\", \"Inception\"]\n",
    "release_years = [2008, 1993, 1994, 2010]\n",
    "movie_length_mins = [152, 195, 142, 148]\n",
    "df = pd.DataFrame()\n",
    "df[\"rating\"] = movie_ratings\n",
    "df[\"release_year\"] = release_years\n",
    "df[\"movie_length_mins\"] = movie_length_mins\n",
    "df.index = movie_titles\n",
    "print(df.max())\n",
    "print(\"\\n\")\n",
    "print(df.max(axis=1))"
   ]
  },
  {
   "cell_type": "markdown",
   "metadata": {
    "slideshow": {
     "slide_type": "subslide"
    }
   },
   "source": [
    "## 獲取資料的最大值最小值\n",
    "\n",
    "- `df[\"col_name\"].max()`\n",
    "- `df[\"col_name\"].min()`"
   ]
  },
  {
   "cell_type": "markdown",
   "metadata": {
    "slideshow": {
     "slide_type": "subslide"
    }
   },
   "source": [
    "## 獲取資料最大最小的索引值\n",
    "\n",
    "- `df[\"col_name\"].idxmax()`\n",
    "- `df[\"col_name\"].idxmin()`"
   ]
  },
  {
   "cell_type": "markdown",
   "metadata": {
    "slideshow": {
     "slide_type": "subslide"
    }
   },
   "source": [
    "## 隨堂練習：誰的背號數字最大？"
   ]
  },
  {
   "cell_type": "code",
   "execution_count": 42,
   "metadata": {
    "slideshow": {
     "slide_type": "-"
    }
   },
   "outputs": [
    {
     "data": {
      "text/html": [
       "<div>\n",
       "<style scoped>\n",
       "    .dataframe tbody tr th:only-of-type {\n",
       "        vertical-align: middle;\n",
       "    }\n",
       "\n",
       "    .dataframe tbody tr th {\n",
       "        vertical-align: top;\n",
       "    }\n",
       "\n",
       "    .dataframe thead th {\n",
       "        text-align: right;\n",
       "    }\n",
       "</style>\n",
       "<table border=\"1\" class=\"dataframe\">\n",
       "  <thead>\n",
       "    <tr style=\"text-align: right;\">\n",
       "      <th></th>\n",
       "      <th>number</th>\n",
       "      <th>player</th>\n",
       "    </tr>\n",
       "  </thead>\n",
       "  <tbody>\n",
       "    <tr>\n",
       "      <td>0</td>\n",
       "      <td>9</td>\n",
       "      <td>Ron Harper</td>\n",
       "    </tr>\n",
       "    <tr>\n",
       "      <td>1</td>\n",
       "      <td>23</td>\n",
       "      <td>Michael Jordan</td>\n",
       "    </tr>\n",
       "    <tr>\n",
       "      <td>2</td>\n",
       "      <td>33</td>\n",
       "      <td>Scottie Pippen</td>\n",
       "    </tr>\n",
       "    <tr>\n",
       "      <td>3</td>\n",
       "      <td>91</td>\n",
       "      <td>Dennis Rodman</td>\n",
       "    </tr>\n",
       "    <tr>\n",
       "      <td>4</td>\n",
       "      <td>13</td>\n",
       "      <td>Luc Longley</td>\n",
       "    </tr>\n",
       "  </tbody>\n",
       "</table>\n",
       "</div>"
      ],
      "text/plain": [
       "   number          player\n",
       "0       9      Ron Harper\n",
       "1      23  Michael Jordan\n",
       "2      33  Scottie Pippen\n",
       "3      91   Dennis Rodman\n",
       "4      13     Luc Longley"
      ]
     },
     "execution_count": 42,
     "metadata": {},
     "output_type": "execute_result"
    }
   ],
   "source": [
    "import pandas as pd\n",
    "\n",
    "numbers = [9, 23, 33, 91, 13]\n",
    "players = [\"Ron Harper\", \"Michael Jordan\", \"Scottie Pippen\", \"Dennis Rodman\", \"Luc Longley\"]\n",
    "df = pd.DataFrame()\n",
    "df[\"number\"] = numbers\n",
    "df[\"player\"] = players\n",
    "df"
   ]
  },
  {
   "cell_type": "code",
   "execution_count": 43,
   "metadata": {
    "slideshow": {
     "slide_type": "subslide"
    }
   },
   "outputs": [
    {
     "data": {
      "text/plain": [
       "'Dennis Rodman'"
      ]
     },
     "execution_count": 43,
     "metadata": {},
     "output_type": "execute_result"
    }
   ],
   "source": [
    "max_number = df[\"number\"].max()\n",
    "df[df[\"number\"] == max_number][\"player\"][3]"
   ]
  },
  {
   "cell_type": "code",
   "execution_count": 44,
   "metadata": {
    "slideshow": {
     "slide_type": "subslide"
    }
   },
   "outputs": [
    {
     "data": {
      "text/plain": [
       "'Dennis Rodman'"
      ]
     },
     "execution_count": 44,
     "metadata": {},
     "output_type": "execute_result"
    }
   ],
   "source": [
    "df.set_index(\"player\")[\"number\"].idxmax()"
   ]
  },
  {
   "cell_type": "markdown",
   "metadata": {
    "slideshow": {
     "slide_type": "subslide"
    }
   },
   "source": [
    "## 隨堂練習：誰的背號數字最小？"
   ]
  },
  {
   "cell_type": "code",
   "execution_count": 45,
   "metadata": {
    "slideshow": {
     "slide_type": "subslide"
    }
   },
   "outputs": [
    {
     "data": {
      "text/plain": [
       "'Ron Harper'"
      ]
     },
     "execution_count": 45,
     "metadata": {},
     "output_type": "execute_result"
    }
   ],
   "source": [
    "min_number = df[\"number\"].min()\n",
    "df[df[\"number\"] == min_number][\"player\"][0]"
   ]
  },
  {
   "cell_type": "code",
   "execution_count": 46,
   "metadata": {
    "slideshow": {
     "slide_type": "subslide"
    }
   },
   "outputs": [
    {
     "data": {
      "text/plain": [
       "'Ron Harper'"
      ]
     },
     "execution_count": 46,
     "metadata": {},
     "output_type": "execute_result"
    }
   ],
   "source": [
    "df.set_index(\"player\")[\"number\"].idxmin()"
   ]
  },
  {
   "cell_type": "markdown",
   "metadata": {
    "slideshow": {
     "slide_type": "subslide"
    }
   },
   "source": [
    "## 獲取類別資料的摘要\n",
    "\n",
    "- `df[\"col_name\"].nunique()`\n",
    "- `df[\"col_name\"].unique()`\n",
    "- `df[\"col_name\"].value_counts()`"
   ]
  },
  {
   "cell_type": "code",
   "execution_count": 47,
   "metadata": {
    "slideshow": {
     "slide_type": "subslide"
    }
   },
   "outputs": [
    {
     "name": "stdout",
     "output_type": "stream",
     "text": [
      "524\n",
      "42\n",
      "['New Zealand' 'USA' 'South Sudan' 'Canada' 'Greece' 'United Kingdom'\n",
      " 'Bahamas' 'France' 'Australia' 'Italy' 'Croatia' 'Latvia' 'Georgia'\n",
      " 'Democratic Republic of the Congo' 'Serbia' 'Sudan' 'Germany' 'Lithuania'\n",
      " 'Brazil' 'Slovenia' 'Switzerland' nan 'Mali' 'Senegal' 'Guinea'\n",
      " 'Cameroon' 'Angola' ' ' 'Spain' 'Yugoslavia' 'Japan' 'Dominican Republic'\n",
      " 'Turkey' 'Haiti' 'Ukraine' 'Finland' 'Bosnia and Herzegovina' 'Egypt'\n",
      " 'Nigeria' 'Austria' 'Czech Republic' 'Gabon' 'Montenegro']\n",
      "USA                                 393\n",
      "Canada                               20\n",
      "France                               12\n",
      "Australia                            10\n",
      "Croatia                               7\n",
      "Germany                               6\n",
      "Serbia                                6\n",
      "Spain                                 5\n",
      "Lithuania                             4\n",
      "Turkey                                4\n",
      "Brazil                                3\n",
      "Slovenia                              3\n",
      "Latvia                                3\n",
      "Democratic Republic of the Congo      3\n",
      "Italy                                 3\n",
      "Greece                                3\n",
      "Sudan                                 2\n",
      "United Kingdom                        2\n",
      "Senegal                               2\n",
      "South Sudan                           2\n",
      "Mali                                  2\n",
      "Japan                                 2\n",
      "Bosnia and Herzegovina                2\n",
      "Bahamas                               2\n",
      "Cameroon                              2\n",
      "Ukraine                               2\n",
      "Haiti                                 1\n",
      "Yugoslavia                            1\n",
      "Guinea                                1\n",
      "New Zealand                           1\n",
      "Switzerland                           1\n",
      "Dominican Republic                    1\n",
      "Montenegro                            1\n",
      "Nigeria                               1\n",
      "Georgia                               1\n",
      "Finland                               1\n",
      "Angola                                1\n",
      "Austria                               1\n",
      "Gabon                                 1\n",
      "Egypt                                 1\n",
      "                                      1\n",
      "Czech Republic                        1\n",
      "Name: country, dtype: int64\n"
     ]
    }
   ],
   "source": [
    "player_profile = pd.read_csv(\"https://python4ds.s3-ap-northeast-1.amazonaws.com/player_profile.csv\")\n",
    "print(player_profile[\"country\"].size)\n",
    "print(player_profile[\"country\"].nunique())\n",
    "print(player_profile[\"country\"].unique())\n",
    "print(player_profile[\"country\"].value_counts())"
   ]
  },
  {
   "cell_type": "markdown",
   "metadata": {
    "slideshow": {
     "slide_type": "subslide"
    }
   },
   "source": [
    "## 分組摘要\n",
    "\n",
    "更多的應用情境中我們會指定一些類別變數分組，在分組的前提下對資料框變數呼叫簡單的摘要方法，這樣的操作源自於 SQL 資料庫查詢語言的 GROUP BY 語法"
   ]
  },
  {
   "cell_type": "code",
   "execution_count": 48,
   "metadata": {},
   "outputs": [
    {
     "name": "stdout",
     "output_type": "stream",
     "text": [
      "pos\n",
      "C      2.126863\n",
      "C-F    2.090000\n",
      "F      2.044378\n",
      "F-C    2.107500\n",
      "F-G    1.995333\n",
      "G      1.924800\n",
      "G-F    2.000000\n",
      "Name: heightMeters, dtype: float64\n",
      "\n",
      "\n",
      "pos\n",
      "C      114.335294\n",
      "C-F    110.676923\n",
      "F      101.589730\n",
      "F-C    110.855000\n",
      "F-G     95.126667\n",
      "G       88.896000\n",
      "G-F     95.717949\n",
      "Name: weightKilograms, dtype: float64\n"
     ]
    }
   ],
   "source": [
    "player_profile = pd.read_csv(\"https://python4ds.s3-ap-northeast-1.amazonaws.com/player_profile.csv\")\n",
    "groupby_object = player_profile.groupby(\"pos\")\n",
    "print(groupby_object[\"heightMeters\"].mean()) # Average height by pos\n",
    "print(\"\\n\")\n",
    "print(groupby_object[\"weightKilograms\"].mean()) # Average weight by pos"
   ]
  },
  {
   "cell_type": "markdown",
   "metadata": {
    "slideshow": {
     "slide_type": "subslide"
    }
   },
   "source": [
    "## 常用的列索引相關方法\n",
    "\n",
    "- `df.set_index(\"col_name\")`\n",
    "- `df.reset_index()`"
   ]
  },
  {
   "cell_type": "code",
   "execution_count": 49,
   "metadata": {
    "slideshow": {
     "slide_type": "subslide"
    }
   },
   "outputs": [
    {
     "data": {
      "text/html": [
       "<div>\n",
       "<style scoped>\n",
       "    .dataframe tbody tr th:only-of-type {\n",
       "        vertical-align: middle;\n",
       "    }\n",
       "\n",
       "    .dataframe tbody tr th {\n",
       "        vertical-align: top;\n",
       "    }\n",
       "\n",
       "    .dataframe thead th {\n",
       "        text-align: right;\n",
       "    }\n",
       "</style>\n",
       "<table border=\"1\" class=\"dataframe\">\n",
       "  <thead>\n",
       "    <tr style=\"text-align: right;\">\n",
       "      <th></th>\n",
       "      <th>title</th>\n",
       "      <th>rating</th>\n",
       "      <th>release_year</th>\n",
       "    </tr>\n",
       "  </thead>\n",
       "  <tbody>\n",
       "    <tr>\n",
       "      <td>0</td>\n",
       "      <td>The Dark Knight</td>\n",
       "      <td>9.0</td>\n",
       "      <td>2008</td>\n",
       "    </tr>\n",
       "    <tr>\n",
       "      <td>1</td>\n",
       "      <td>Schindler's List</td>\n",
       "      <td>8.9</td>\n",
       "      <td>1993</td>\n",
       "    </tr>\n",
       "    <tr>\n",
       "      <td>2</td>\n",
       "      <td>Forrest Gump</td>\n",
       "      <td>8.8</td>\n",
       "      <td>1994</td>\n",
       "    </tr>\n",
       "    <tr>\n",
       "      <td>3</td>\n",
       "      <td>Inception</td>\n",
       "      <td>8.7</td>\n",
       "      <td>2010</td>\n",
       "    </tr>\n",
       "  </tbody>\n",
       "</table>\n",
       "</div>"
      ],
      "text/plain": [
       "              title  rating  release_year\n",
       "0   The Dark Knight     9.0          2008\n",
       "1  Schindler's List     8.9          1993\n",
       "2      Forrest Gump     8.8          1994\n",
       "3         Inception     8.7          2010"
      ]
     },
     "execution_count": 49,
     "metadata": {},
     "output_type": "execute_result"
    }
   ],
   "source": [
    "movie_ratings = [9.0, 8.9, 8.8, 8.7]\n",
    "movie_titles = [\"The Dark Knight\", \"Schindler's List\", \"Forrest Gump\", \"Inception\"]\n",
    "release_years = [2008, 1993, 1994, 2010]\n",
    "df = pd.DataFrame()\n",
    "df[\"title\"] = movie_titles\n",
    "df[\"rating\"] = movie_ratings\n",
    "df[\"release_year\"] = release_years\n",
    "df"
   ]
  },
  {
   "cell_type": "code",
   "execution_count": 50,
   "metadata": {
    "slideshow": {
     "slide_type": "subslide"
    }
   },
   "outputs": [
    {
     "data": {
      "text/html": [
       "<div>\n",
       "<style scoped>\n",
       "    .dataframe tbody tr th:only-of-type {\n",
       "        vertical-align: middle;\n",
       "    }\n",
       "\n",
       "    .dataframe tbody tr th {\n",
       "        vertical-align: top;\n",
       "    }\n",
       "\n",
       "    .dataframe thead th {\n",
       "        text-align: right;\n",
       "    }\n",
       "</style>\n",
       "<table border=\"1\" class=\"dataframe\">\n",
       "  <thead>\n",
       "    <tr style=\"text-align: right;\">\n",
       "      <th></th>\n",
       "      <th>rating</th>\n",
       "      <th>release_year</th>\n",
       "    </tr>\n",
       "    <tr>\n",
       "      <th>title</th>\n",
       "      <th></th>\n",
       "      <th></th>\n",
       "    </tr>\n",
       "  </thead>\n",
       "  <tbody>\n",
       "    <tr>\n",
       "      <td>The Dark Knight</td>\n",
       "      <td>9.0</td>\n",
       "      <td>2008</td>\n",
       "    </tr>\n",
       "    <tr>\n",
       "      <td>Schindler's List</td>\n",
       "      <td>8.9</td>\n",
       "      <td>1993</td>\n",
       "    </tr>\n",
       "    <tr>\n",
       "      <td>Forrest Gump</td>\n",
       "      <td>8.8</td>\n",
       "      <td>1994</td>\n",
       "    </tr>\n",
       "    <tr>\n",
       "      <td>Inception</td>\n",
       "      <td>8.7</td>\n",
       "      <td>2010</td>\n",
       "    </tr>\n",
       "  </tbody>\n",
       "</table>\n",
       "</div>"
      ],
      "text/plain": [
       "                  rating  release_year\n",
       "title                                 \n",
       "The Dark Knight      9.0          2008\n",
       "Schindler's List     8.9          1993\n",
       "Forrest Gump         8.8          1994\n",
       "Inception            8.7          2010"
      ]
     },
     "execution_count": 50,
     "metadata": {},
     "output_type": "execute_result"
    }
   ],
   "source": [
    "df = df.set_index(\"title\")\n",
    "df"
   ]
  },
  {
   "cell_type": "code",
   "execution_count": 51,
   "metadata": {
    "slideshow": {
     "slide_type": "subslide"
    }
   },
   "outputs": [
    {
     "data": {
      "text/html": [
       "<div>\n",
       "<style scoped>\n",
       "    .dataframe tbody tr th:only-of-type {\n",
       "        vertical-align: middle;\n",
       "    }\n",
       "\n",
       "    .dataframe tbody tr th {\n",
       "        vertical-align: top;\n",
       "    }\n",
       "\n",
       "    .dataframe thead th {\n",
       "        text-align: right;\n",
       "    }\n",
       "</style>\n",
       "<table border=\"1\" class=\"dataframe\">\n",
       "  <thead>\n",
       "    <tr style=\"text-align: right;\">\n",
       "      <th></th>\n",
       "      <th>title</th>\n",
       "      <th>rating</th>\n",
       "      <th>release_year</th>\n",
       "    </tr>\n",
       "  </thead>\n",
       "  <tbody>\n",
       "    <tr>\n",
       "      <td>0</td>\n",
       "      <td>The Dark Knight</td>\n",
       "      <td>9.0</td>\n",
       "      <td>2008</td>\n",
       "    </tr>\n",
       "    <tr>\n",
       "      <td>1</td>\n",
       "      <td>Schindler's List</td>\n",
       "      <td>8.9</td>\n",
       "      <td>1993</td>\n",
       "    </tr>\n",
       "    <tr>\n",
       "      <td>2</td>\n",
       "      <td>Forrest Gump</td>\n",
       "      <td>8.8</td>\n",
       "      <td>1994</td>\n",
       "    </tr>\n",
       "    <tr>\n",
       "      <td>3</td>\n",
       "      <td>Inception</td>\n",
       "      <td>8.7</td>\n",
       "      <td>2010</td>\n",
       "    </tr>\n",
       "  </tbody>\n",
       "</table>\n",
       "</div>"
      ],
      "text/plain": [
       "              title  rating  release_year\n",
       "0   The Dark Knight     9.0          2008\n",
       "1  Schindler's List     8.9          1993\n",
       "2      Forrest Gump     8.8          1994\n",
       "3         Inception     8.7          2010"
      ]
     },
     "execution_count": 51,
     "metadata": {},
     "output_type": "execute_result"
    }
   ],
   "source": [
    "df = df.reset_index()\n",
    "df"
   ]
  },
  {
   "cell_type": "markdown",
   "metadata": {
    "slideshow": {
     "slide_type": "slide"
    }
   },
   "source": [
    "## 奧運獎牌排行"
   ]
  },
  {
   "cell_type": "markdown",
   "metadata": {
    "slideshow": {
     "slide_type": "subslide"
    }
   },
   "source": [
    "## 來源\n",
    "\n",
    "[Coursera](https://www.coursera.org/) 的 [Introduction to Data Science in Python](https://www.coursera.org/learn/python-data-analysis/home/welcome) 課程作業"
   ]
  },
  {
   "cell_type": "code",
   "execution_count": 52,
   "metadata": {
    "slideshow": {
     "slide_type": "subslide"
    }
   },
   "outputs": [],
   "source": [
    "import pandas as pd\n",
    "\n",
    "df = pd.read_csv(\"https://python4ds.s3-ap-northeast-1.amazonaws.com/olympics.csv\", index_col=0)"
   ]
  },
  {
   "cell_type": "code",
   "execution_count": 53,
   "metadata": {
    "slideshow": {
     "slide_type": "subslide"
    }
   },
   "outputs": [
    {
     "data": {
      "text/html": [
       "<div>\n",
       "<style scoped>\n",
       "    .dataframe tbody tr th:only-of-type {\n",
       "        vertical-align: middle;\n",
       "    }\n",
       "\n",
       "    .dataframe tbody tr th {\n",
       "        vertical-align: top;\n",
       "    }\n",
       "\n",
       "    .dataframe thead th {\n",
       "        text-align: right;\n",
       "    }\n",
       "</style>\n",
       "<table border=\"1\" class=\"dataframe\">\n",
       "  <thead>\n",
       "    <tr style=\"text-align: right;\">\n",
       "      <th></th>\n",
       "      <th># Summer</th>\n",
       "      <th>Gold</th>\n",
       "      <th>Silver</th>\n",
       "      <th>Bronze</th>\n",
       "      <th>Total</th>\n",
       "      <th># Winter</th>\n",
       "      <th>Gold.1</th>\n",
       "      <th>Silver.1</th>\n",
       "      <th>Bronze.1</th>\n",
       "      <th>Total.1</th>\n",
       "      <th># Games</th>\n",
       "      <th>Gold.2</th>\n",
       "      <th>Silver.2</th>\n",
       "      <th>Bronze.2</th>\n",
       "      <th>Combined total</th>\n",
       "      <th>ID</th>\n",
       "    </tr>\n",
       "  </thead>\n",
       "  <tbody>\n",
       "    <tr>\n",
       "      <td>Afghanistan</td>\n",
       "      <td>13</td>\n",
       "      <td>0</td>\n",
       "      <td>0</td>\n",
       "      <td>2</td>\n",
       "      <td>2</td>\n",
       "      <td>0</td>\n",
       "      <td>0</td>\n",
       "      <td>0</td>\n",
       "      <td>0</td>\n",
       "      <td>0</td>\n",
       "      <td>13</td>\n",
       "      <td>0</td>\n",
       "      <td>0</td>\n",
       "      <td>2</td>\n",
       "      <td>2</td>\n",
       "      <td>AFG</td>\n",
       "    </tr>\n",
       "    <tr>\n",
       "      <td>Algeria</td>\n",
       "      <td>12</td>\n",
       "      <td>5</td>\n",
       "      <td>2</td>\n",
       "      <td>8</td>\n",
       "      <td>15</td>\n",
       "      <td>3</td>\n",
       "      <td>0</td>\n",
       "      <td>0</td>\n",
       "      <td>0</td>\n",
       "      <td>0</td>\n",
       "      <td>15</td>\n",
       "      <td>5</td>\n",
       "      <td>2</td>\n",
       "      <td>8</td>\n",
       "      <td>15</td>\n",
       "      <td>ALG</td>\n",
       "    </tr>\n",
       "    <tr>\n",
       "      <td>Argentina</td>\n",
       "      <td>23</td>\n",
       "      <td>18</td>\n",
       "      <td>24</td>\n",
       "      <td>28</td>\n",
       "      <td>70</td>\n",
       "      <td>18</td>\n",
       "      <td>0</td>\n",
       "      <td>0</td>\n",
       "      <td>0</td>\n",
       "      <td>0</td>\n",
       "      <td>41</td>\n",
       "      <td>18</td>\n",
       "      <td>24</td>\n",
       "      <td>28</td>\n",
       "      <td>70</td>\n",
       "      <td>ARG</td>\n",
       "    </tr>\n",
       "    <tr>\n",
       "      <td>Armenia</td>\n",
       "      <td>5</td>\n",
       "      <td>1</td>\n",
       "      <td>2</td>\n",
       "      <td>9</td>\n",
       "      <td>12</td>\n",
       "      <td>6</td>\n",
       "      <td>0</td>\n",
       "      <td>0</td>\n",
       "      <td>0</td>\n",
       "      <td>0</td>\n",
       "      <td>11</td>\n",
       "      <td>1</td>\n",
       "      <td>2</td>\n",
       "      <td>9</td>\n",
       "      <td>12</td>\n",
       "      <td>ARM</td>\n",
       "    </tr>\n",
       "    <tr>\n",
       "      <td>Australasia</td>\n",
       "      <td>2</td>\n",
       "      <td>3</td>\n",
       "      <td>4</td>\n",
       "      <td>5</td>\n",
       "      <td>12</td>\n",
       "      <td>0</td>\n",
       "      <td>0</td>\n",
       "      <td>0</td>\n",
       "      <td>0</td>\n",
       "      <td>0</td>\n",
       "      <td>2</td>\n",
       "      <td>3</td>\n",
       "      <td>4</td>\n",
       "      <td>5</td>\n",
       "      <td>12</td>\n",
       "      <td>ANZ</td>\n",
       "    </tr>\n",
       "  </tbody>\n",
       "</table>\n",
       "</div>"
      ],
      "text/plain": [
       "             # Summer  Gold  Silver  Bronze  Total  # Winter  Gold.1  \\\n",
       "Afghanistan        13     0       0       2      2         0       0   \n",
       "Algeria            12     5       2       8     15         3       0   \n",
       "Argentina          23    18      24      28     70        18       0   \n",
       "Armenia             5     1       2       9     12         6       0   \n",
       "Australasia         2     3       4       5     12         0       0   \n",
       "\n",
       "             Silver.1  Bronze.1  Total.1  # Games  Gold.2  Silver.2  Bronze.2  \\\n",
       "Afghanistan         0         0        0       13       0         0         2   \n",
       "Algeria             0         0        0       15       5         2         8   \n",
       "Argentina           0         0        0       41      18        24        28   \n",
       "Armenia             0         0        0       11       1         2         9   \n",
       "Australasia         0         0        0        2       3         4         5   \n",
       "\n",
       "             Combined total   ID  \n",
       "Afghanistan               2  AFG  \n",
       "Algeria                  15  ALG  \n",
       "Argentina                70  ARG  \n",
       "Armenia                  12  ARM  \n",
       "Australasia              12  ANZ  "
      ]
     },
     "execution_count": 53,
     "metadata": {},
     "output_type": "execute_result"
    }
   ],
   "source": [
    "df.head()"
   ]
  },
  {
   "cell_type": "markdown",
   "metadata": {
    "slideshow": {
     "slide_type": "subslide"
    }
   },
   "source": [
    "## 隨堂練習：哪個國家贏得的夏季奧運金牌數最多？\n",
    "\n",
    "```python\n",
    "def answer_one(df):\n",
    "    \"\"\"\n",
    "    這個函數應該回傳一個文字，國家名\n",
    "    \"\"\"\n",
    "    return \"答案\"\n",
    "```"
   ]
  },
  {
   "cell_type": "code",
   "execution_count": 54,
   "metadata": {
    "slideshow": {
     "slide_type": "skip"
    }
   },
   "outputs": [],
   "source": [
    "def answer_one(df):\n",
    "    return df[\"Gold\"].idxmax()"
   ]
  },
  {
   "cell_type": "code",
   "execution_count": 55,
   "metadata": {
    "slideshow": {
     "slide_type": "fragment"
    }
   },
   "outputs": [
    {
     "data": {
      "text/plain": [
       "'United States'"
      ]
     },
     "execution_count": 55,
     "metadata": {},
     "output_type": "execute_result"
    }
   ],
   "source": [
    "answer_one(df)"
   ]
  },
  {
   "cell_type": "markdown",
   "metadata": {
    "slideshow": {
     "slide_type": "subslide"
    }
   },
   "source": [
    "## 隨堂練習：哪個國家夏季奧運與冬季奧運的金牌數差距數最大？\n",
    "\n",
    "```python\n",
    "def answer_two(df):\n",
    "    \"\"\"\n",
    "    這個函數應該回傳一個文字，國家名\n",
    "    \"\"\"\n",
    "    return \"答案\"\n",
    "```"
   ]
  },
  {
   "cell_type": "code",
   "execution_count": 56,
   "metadata": {
    "slideshow": {
     "slide_type": "skip"
    }
   },
   "outputs": [],
   "source": [
    "def answer_two(df):\n",
    "    diff = df[\"Gold\"] - df[\"Gold.1\"]\n",
    "    diff_abs = diff.abs()\n",
    "    return diff_abs.idxmax()"
   ]
  },
  {
   "cell_type": "code",
   "execution_count": 57,
   "metadata": {
    "slideshow": {
     "slide_type": "fragment"
    }
   },
   "outputs": [
    {
     "data": {
      "text/plain": [
       "'United States'"
      ]
     },
     "execution_count": 57,
     "metadata": {},
     "output_type": "execute_result"
    }
   ],
   "source": [
    "answer_two(df)"
   ]
  },
  {
   "cell_type": "markdown",
   "metadata": {
    "slideshow": {
     "slide_type": "subslide"
    }
   },
   "source": [
    "## 隨堂練習：哪個國家夏季奧運與冬季奧運的金牌數差距除以總金牌數的比例最大？（僅考慮至少有一個夏季金牌與一個冬季金牌的國家）\n",
    "\n",
    "$$\\text{Ratio} = \\frac{\\text{Summer Gold} - \\text{Winter Gold}}{\\text{Total Gold}}$$\n",
    "\n",
    "```python\n",
    "def answer_three(df):\n",
    "    \"\"\"\n",
    "    這個函數應該回傳一個文字，國家名\n",
    "    \"\"\"\n",
    "    return \"答案\"\n",
    "```"
   ]
  },
  {
   "cell_type": "code",
   "execution_count": 58,
   "metadata": {
    "slideshow": {
     "slide_type": "skip"
    }
   },
   "outputs": [],
   "source": [
    "def answer_three(df):\n",
    "    summer_gold = df[\"Gold\"]\n",
    "    winter_gold = df[\"Gold.1\"]\n",
    "    total_gold = df[\"Gold.2\"]\n",
    "    ratio = (summer_gold - winter_gold)/total_gold\n",
    "    ratio_not_one = ratio[ratio < 1]\n",
    "    return ratio_not_one.idxmax()"
   ]
  },
  {
   "cell_type": "code",
   "execution_count": 59,
   "metadata": {
    "slideshow": {
     "slide_type": "fragment"
    }
   },
   "outputs": [
    {
     "data": {
      "text/plain": [
       "'Bulgaria'"
      ]
     },
     "execution_count": 59,
     "metadata": {},
     "output_type": "execute_result"
    }
   ],
   "source": [
    "answer_three(df)"
   ]
  },
  {
   "cell_type": "markdown",
   "metadata": {
    "slideshow": {
     "slide_type": "subslide"
    }
   },
   "source": [
    "## 隨堂練習：計算 146 個國家的獎牌點數，金牌 3 點、銀牌 2 點、銅牌 1 點。\n",
    "\n",
    "```python\n",
    "def answer_four(df):\n",
    "    \"\"\"\n",
    "    這個函數應該回傳一個 Series，長度為 146\n",
    "    \"\"\"\n",
    "    return \"答案\"\n",
    "```"
   ]
  },
  {
   "cell_type": "code",
   "execution_count": 60,
   "metadata": {
    "slideshow": {
     "slide_type": "skip"
    }
   },
   "outputs": [],
   "source": [
    "def answer_four(df):\n",
    "    total_gold = df[\"Gold.2\"]\n",
    "    total_silver = df[\"Silver.2\"]\n",
    "    total_bronze = df[\"Bronze.2\"]\n",
    "    points = 3*total_gold + 2*total_silver + total_bronze\n",
    "    return points"
   ]
  },
  {
   "cell_type": "code",
   "execution_count": 61,
   "metadata": {
    "slideshow": {
     "slide_type": "fragment"
    }
   },
   "outputs": [
    {
     "data": {
      "text/plain": [
       "Afghanistan      2\n",
       "Algeria         27\n",
       "Argentina      130\n",
       "Armenia         16\n",
       "Australasia     22\n",
       "Australia      923\n",
       "Austria        569\n",
       "Azerbaijan      43\n",
       "Bahamas         24\n",
       "Bahrain          1\n",
       "dtype: int64"
      ]
     },
     "execution_count": 61,
     "metadata": {},
     "output_type": "execute_result"
    }
   ],
   "source": [
    "answer_four(df)[:10]"
   ]
  },
  {
   "cell_type": "markdown",
   "metadata": {
    "slideshow": {
     "slide_type": "slide"
    }
   },
   "source": [
    "## DataFrame 的進階操作"
   ]
  },
  {
   "cell_type": "markdown",
   "metadata": {
    "slideshow": {
     "slide_type": "subslide"
    }
   },
   "source": [
    "## 不那麼基礎的 DataFrame 操作\n",
    "\n",
    "- 處理遺漏值\n",
    "- 多層索引值\n",
    "- 轉置\n",
    "- 合併"
   ]
  },
  {
   "cell_type": "markdown",
   "metadata": {
    "slideshow": {
     "slide_type": "subslide"
    }
   },
   "source": [
    "## Pandas 常用於判斷、刪除和填補遺漏值的方法有四個：\n",
    "\n",
    "- `.isnull()`\n",
    "- `.notnull()`\n",
    "- `.dropna()`\n",
    "- `.fillna()`"
   ]
  },
  {
   "cell_type": "markdown",
   "metadata": {
    "slideshow": {
     "slide_type": "subslide"
    }
   },
   "source": [
    "## .isnull() 方法能夠輸出一個布林陣列將遺漏值標記為 True ，非遺漏值記錄為 False ；而 .notnull() 則是輸出與前者恰恰相反的布林陣列"
   ]
  },
  {
   "cell_type": "code",
   "execution_count": 62,
   "metadata": {},
   "outputs": [
    {
     "name": "stdout",
     "output_type": "stream",
     "text": [
      "0    False\n",
      "1     True\n",
      "2    False\n",
      "3     True\n",
      "dtype: bool\n",
      "\n",
      "\n",
      "0     True\n",
      "1    False\n",
      "2     True\n",
      "3    False\n",
      "dtype: bool\n"
     ]
    }
   ],
   "source": [
    "ser = pd.Series([5, None, 6, np.NaN])\n",
    "print(ser.isnull())\n",
    "print(\"\\n\")\n",
    "print(ser.notnull())"
   ]
  },
  {
   "cell_type": "markdown",
   "metadata": {
    "slideshow": {
     "slide_type": "subslide"
    }
   },
   "source": [
    "## .dropna() 方法能夠將資料中遺漏值的部分捨棄，輸出非遺漏值的資料"
   ]
  },
  {
   "cell_type": "code",
   "execution_count": 63,
   "metadata": {},
   "outputs": [
    {
     "name": "stdout",
     "output_type": "stream",
     "text": [
      "0    5.0\n",
      "1    NaN\n",
      "2    6.0\n",
      "3    NaN\n",
      "dtype: float64\n",
      "\n",
      "\n"
     ]
    },
    {
     "data": {
      "text/plain": [
       "0    5.0\n",
       "2    6.0\n",
       "dtype: float64"
      ]
     },
     "execution_count": 63,
     "metadata": {},
     "output_type": "execute_result"
    }
   ],
   "source": [
    "ser = pd.Series([5, None, 6, np.NaN])\n",
    "print(ser)\n",
    "print(\"\\n\")\n",
    "ser.dropna()"
   ]
  },
  {
   "cell_type": "markdown",
   "metadata": {
    "slideshow": {
     "slide_type": "subslide"
    }
   },
   "source": [
    "## 對 Series 來說，.dropna() 方法運作的方式非常直觀；但是面對資料框我們無法捨棄單一個資料點，只能夠選擇捨棄一整個列（觀測值）或一整個欄（變數），這時可以傳入參數 axis=0 指定列（預設）、axis=1 指定欄"
   ]
  },
  {
   "cell_type": "code",
   "execution_count": 64,
   "metadata": {
    "slideshow": {
     "slide_type": "subslide"
    }
   },
   "outputs": [
    {
     "data": {
      "text/html": [
       "<div>\n",
       "<style scoped>\n",
       "    .dataframe tbody tr th:only-of-type {\n",
       "        vertical-align: middle;\n",
       "    }\n",
       "\n",
       "    .dataframe tbody tr th {\n",
       "        vertical-align: top;\n",
       "    }\n",
       "\n",
       "    .dataframe thead th {\n",
       "        text-align: right;\n",
       "    }\n",
       "</style>\n",
       "<table border=\"1\" class=\"dataframe\">\n",
       "  <thead>\n",
       "    <tr style=\"text-align: right;\">\n",
       "      <th></th>\n",
       "      <th>0</th>\n",
       "      <th>1</th>\n",
       "      <th>2</th>\n",
       "    </tr>\n",
       "  </thead>\n",
       "  <tbody>\n",
       "    <tr>\n",
       "      <td>0</td>\n",
       "      <td>1.0</td>\n",
       "      <td>NaN</td>\n",
       "      <td>7.0</td>\n",
       "    </tr>\n",
       "    <tr>\n",
       "      <td>1</td>\n",
       "      <td>2.0</td>\n",
       "      <td>5.0</td>\n",
       "      <td>8.0</td>\n",
       "    </tr>\n",
       "    <tr>\n",
       "      <td>2</td>\n",
       "      <td>NaN</td>\n",
       "      <td>6.0</td>\n",
       "      <td>9.0</td>\n",
       "    </tr>\n",
       "  </tbody>\n",
       "</table>\n",
       "</div>"
      ],
      "text/plain": [
       "     0    1    2\n",
       "0  1.0  NaN  7.0\n",
       "1  2.0  5.0  8.0\n",
       "2  NaN  6.0  9.0"
      ]
     },
     "execution_count": 64,
     "metadata": {},
     "output_type": "execute_result"
    }
   ],
   "source": [
    "df = pd.DataFrame([\n",
    "    [1,      np.nan, 7.],\n",
    "    [2,      5,      8.],\n",
    "    [np.nan, 6,      9.]\n",
    "])\n",
    "df"
   ]
  },
  {
   "cell_type": "code",
   "execution_count": 65,
   "metadata": {
    "slideshow": {
     "slide_type": "fragment"
    }
   },
   "outputs": [
    {
     "data": {
      "text/html": [
       "<div>\n",
       "<style scoped>\n",
       "    .dataframe tbody tr th:only-of-type {\n",
       "        vertical-align: middle;\n",
       "    }\n",
       "\n",
       "    .dataframe tbody tr th {\n",
       "        vertical-align: top;\n",
       "    }\n",
       "\n",
       "    .dataframe thead th {\n",
       "        text-align: right;\n",
       "    }\n",
       "</style>\n",
       "<table border=\"1\" class=\"dataframe\">\n",
       "  <thead>\n",
       "    <tr style=\"text-align: right;\">\n",
       "      <th></th>\n",
       "      <th>0</th>\n",
       "      <th>1</th>\n",
       "      <th>2</th>\n",
       "    </tr>\n",
       "  </thead>\n",
       "  <tbody>\n",
       "    <tr>\n",
       "      <td>1</td>\n",
       "      <td>2.0</td>\n",
       "      <td>5.0</td>\n",
       "      <td>8.0</td>\n",
       "    </tr>\n",
       "  </tbody>\n",
       "</table>\n",
       "</div>"
      ],
      "text/plain": [
       "     0    1    2\n",
       "1  2.0  5.0  8.0"
      ]
     },
     "execution_count": 65,
     "metadata": {},
     "output_type": "execute_result"
    }
   ],
   "source": [
    "df.dropna() # default dropping rows with any NaN"
   ]
  },
  {
   "cell_type": "code",
   "execution_count": 66,
   "metadata": {
    "slideshow": {
     "slide_type": "fragment"
    }
   },
   "outputs": [
    {
     "data": {
      "text/html": [
       "<div>\n",
       "<style scoped>\n",
       "    .dataframe tbody tr th:only-of-type {\n",
       "        vertical-align: middle;\n",
       "    }\n",
       "\n",
       "    .dataframe tbody tr th {\n",
       "        vertical-align: top;\n",
       "    }\n",
       "\n",
       "    .dataframe thead th {\n",
       "        text-align: right;\n",
       "    }\n",
       "</style>\n",
       "<table border=\"1\" class=\"dataframe\">\n",
       "  <thead>\n",
       "    <tr style=\"text-align: right;\">\n",
       "      <th></th>\n",
       "      <th>2</th>\n",
       "    </tr>\n",
       "  </thead>\n",
       "  <tbody>\n",
       "    <tr>\n",
       "      <td>0</td>\n",
       "      <td>7.0</td>\n",
       "    </tr>\n",
       "    <tr>\n",
       "      <td>1</td>\n",
       "      <td>8.0</td>\n",
       "    </tr>\n",
       "    <tr>\n",
       "      <td>2</td>\n",
       "      <td>9.0</td>\n",
       "    </tr>\n",
       "  </tbody>\n",
       "</table>\n",
       "</div>"
      ],
      "text/plain": [
       "     2\n",
       "0  7.0\n",
       "1  8.0\n",
       "2  9.0"
      ]
     },
     "execution_count": 66,
     "metadata": {},
     "output_type": "execute_result"
    }
   ],
   "source": [
    "df.dropna(axis=1) # dropping columns with any NaN"
   ]
  },
  {
   "cell_type": "markdown",
   "metadata": {
    "slideshow": {
     "slide_type": "subslide"
    }
   },
   "source": [
    "## 面對遺漏值我們會選擇填補而非捨棄，Pandas 提供了.fillna() 方法，輸出以指定值替代 NaN 的資料"
   ]
  },
  {
   "cell_type": "code",
   "execution_count": 67,
   "metadata": {
    "slideshow": {
     "slide_type": "subslide"
    }
   },
   "outputs": [
    {
     "name": "stdout",
     "output_type": "stream",
     "text": [
      "0    5.0\n",
      "1    NaN\n",
      "2    6.0\n",
      "3    NaN\n",
      "dtype: float64\n",
      "\n",
      "\n"
     ]
    },
    {
     "data": {
      "text/plain": [
       "0       5.0\n",
       "1    5566.0\n",
       "2       6.0\n",
       "3    5566.0\n",
       "dtype: float64"
      ]
     },
     "execution_count": 67,
     "metadata": {},
     "output_type": "execute_result"
    }
   ],
   "source": [
    "ser = pd.Series([5, None, 6, np.NaN])\n",
    "print(ser)\n",
    "print(\"\\n\")\n",
    "ser.fillna(5566)"
   ]
  },
  {
   "cell_type": "markdown",
   "metadata": {
    "slideshow": {
     "slide_type": "subslide"
    }
   },
   "source": [
    "## 除了以指定值填補遺漏值以外，亦可使用參數 method='ffill' 規則為碰到遺漏值時用前一筆資料填補，同理參數 method='bfill' 規則恰好相反，碰到遺漏值時用後一筆資料填補"
   ]
  },
  {
   "cell_type": "code",
   "execution_count": 68,
   "metadata": {
    "slideshow": {
     "slide_type": "subslide"
    }
   },
   "outputs": [
    {
     "name": "stdout",
     "output_type": "stream",
     "text": [
      "0    5.0\n",
      "1    NaN\n",
      "2    6.0\n",
      "3    NaN\n",
      "4    7.0\n",
      "dtype: float64\n",
      "\n",
      "\n",
      "0    5.0\n",
      "1    5.0\n",
      "2    6.0\n",
      "3    6.0\n",
      "4    7.0\n",
      "dtype: float64\n",
      "\n",
      "\n",
      "0    5.0\n",
      "1    6.0\n",
      "2    6.0\n",
      "3    7.0\n",
      "4    7.0\n",
      "dtype: float64\n"
     ]
    }
   ],
   "source": [
    "ser = pd.Series([5, None, 6, np.NaN, 7])\n",
    "print(ser)\n",
    "print(\"\\n\")\n",
    "print(ser.fillna(method='ffill'))\n",
    "print(\"\\n\")\n",
    "print(ser.fillna(method='bfill'))"
   ]
  },
  {
   "cell_type": "markdown",
   "metadata": {
    "slideshow": {
     "slide_type": "subslide"
    }
   },
   "source": [
    "## 對資料框應用「分組摘要」的技巧在一些特殊情況之下我們會得到一個索引值比較複雜的 Series 輸出，例如在 .groupby() 方法之中傳入兩個以上的類別變數作為分組依據，這時我們將會得到一種名為 MultiIndex 的類別，所謂的多層索引值"
   ]
  },
  {
   "cell_type": "code",
   "execution_count": 69,
   "metadata": {
    "slideshow": {
     "slide_type": "subslide"
    }
   },
   "outputs": [
    {
     "name": "stdout",
     "output_type": "stream",
     "text": [
      "pos  country               \n",
      "C    Austria                   2.130000\n",
      "     Bahamas                   2.160000\n",
      "     Bosnia and Herzegovina    2.130000\n",
      "     Canada                    2.060000\n",
      "     Croatia                   2.135000\n",
      "                                 ...   \n",
      "G-F  France                    2.006667\n",
      "     Italy                     1.960000\n",
      "     Japan                     2.060000\n",
      "     Turkey                    2.010000\n",
      "     USA                       1.993214\n",
      "Name: heightMeters, Length: 88, dtype: float64\n",
      "<class 'pandas.core.indexes.multi.MultiIndex'>\n"
     ]
    }
   ],
   "source": [
    "player_profile = pd.read_csv(\"https://python4ds.s3-ap-northeast-1.amazonaws.com/player_profile.csv\")\n",
    "groupby_object = player_profile.groupby([\"pos\", \"country\"])\n",
    "print(groupby_object[\"heightMeters\"].mean()) # Average height by pos and country\n",
    "print(type(groupby_object[\"heightMeters\"].mean().index))"
   ]
  },
  {
   "cell_type": "markdown",
   "metadata": {
    "slideshow": {
     "slide_type": "subslide"
    }
   },
   "source": [
    "## 面對具有多層索引值的 Series ，數值部分同樣使用 .values 屬性即可拆解，至於索引值的拆解較為複雜，必須像是面對多維度陣列的索引，運用 [m, n, ...] 的方式選取所需資料，例如想知道前述例子中，聯盟中的美國（USA）後衛（G）平均身高，就可以運用 [\"G\", \"USA\"] 取值；假如想知道聯盟中的美國（USA）搖擺人（G-F、F-G）平均身高，就運用 [[\"G-F\", \"F-G\"]][:, \"USA\"] 取值"
   ]
  },
  {
   "cell_type": "code",
   "execution_count": 70,
   "metadata": {
    "slideshow": {
     "slide_type": "subslide"
    }
   },
   "outputs": [
    {
     "name": "stdout",
     "output_type": "stream",
     "text": [
      "[2.13       2.16       2.13       2.06       2.135      2.06\n",
      " 2.13333333 2.11       2.11       2.13       2.13       2.13\n",
      " 2.2        2.17       2.135      2.18       2.08       2.11\n",
      " 2.11961538 2.16       2.08       2.08       2.08       2.08\n",
      " 2.13       2.09       2.06       2.08       2.055      2.06\n",
      " 2.06       2.07       2.082      1.98       2.13       2.00666667\n",
      " 2.06       2.07       2.06666667 2.06       2.11       2.07\n",
      " 2.03       2.07       2.06       2.045      2.07       2.06\n",
      " 2.085      2.06       2.06       2.055      2.03795455 1.995\n",
      " 2.08       2.13       2.11       2.13       2.21       2.09933333\n",
      " 2.02       2.03       2.01       1.98636364 1.92       1.93\n",
      " 1.85       1.94142857 1.96       1.97       1.94       2.03\n",
      " 1.93       1.98       1.9        1.93       1.9216763  2.03\n",
      " 1.98       2.045      2.06       1.98       2.01       2.00666667\n",
      " 1.96       2.06       2.01       1.99321429]\n",
      "1.9216763005780348\n",
      "pos\n",
      "F-G    1.986364\n",
      "G-F    1.993214\n",
      "Name: heightMeters, dtype: float64\n"
     ]
    }
   ],
   "source": [
    "player_profile = pd.read_csv(\"https://python4ds.s3-ap-northeast-1.amazonaws.com/player_profile.csv\")\n",
    "groupby_object = player_profile.groupby([\"pos\", \"country\"])\n",
    "ser_w_multi_index = groupby_object[\"heightMeters\"].mean() # Average height by pos and country\n",
    "print(ser_w_multi_index.values) # values attribute of a multi-index series\n",
    "print(ser_w_multi_index[\"G\", \"USA\"]) # average height of USA's guards\n",
    "print(ser_w_multi_index[[\"G-F\", \"F-G\"]][:, \"USA\"]) # average heights of USA's swingmen"
   ]
  },
  {
   "cell_type": "markdown",
   "metadata": {
    "slideshow": {
     "slide_type": "subslide"
    }
   },
   "source": [
    "## 常見的轉置應用是寬表格（Wide Format）與長表格（Long Format）之間的互相轉換"
   ]
  },
  {
   "cell_type": "markdown",
   "metadata": {
    "slideshow": {
     "slide_type": "subslide"
    }
   },
   "source": [
    "## 寬表格是比較熟悉的資料框樣式，一列是獨立的觀測值，加入資訊是以增添欄位方式實踐，故得其名為寬表格；長表格是比較陌生的資料框樣式，具有以一欄 key 搭配一欄 value 來紀錄資料的項目與值，加入資訊是以增添列數方式實踐，故得其名為長表格"
   ]
  },
  {
   "cell_type": "markdown",
   "metadata": {
    "slideshow": {
     "slide_type": "subslide"
    }
   },
   "source": [
    "## 多數時候我們所使用的資料皆是寬表格的外觀，像是 NBA 球員的基本資料，一列是獨特的一名球員"
   ]
  },
  {
   "cell_type": "code",
   "execution_count": 71,
   "metadata": {},
   "outputs": [
    {
     "data": {
      "text/html": [
       "<div>\n",
       "<style scoped>\n",
       "    .dataframe tbody tr th:only-of-type {\n",
       "        vertical-align: middle;\n",
       "    }\n",
       "\n",
       "    .dataframe tbody tr th {\n",
       "        vertical-align: top;\n",
       "    }\n",
       "\n",
       "    .dataframe thead th {\n",
       "        text-align: right;\n",
       "    }\n",
       "</style>\n",
       "<table border=\"1\" class=\"dataframe\">\n",
       "  <thead>\n",
       "    <tr style=\"text-align: right;\">\n",
       "      <th></th>\n",
       "      <th>temporaryDisplayName</th>\n",
       "      <th>heightMeters</th>\n",
       "      <th>weightKilograms</th>\n",
       "    </tr>\n",
       "  </thead>\n",
       "  <tbody>\n",
       "    <tr>\n",
       "      <td>0</td>\n",
       "      <td>Adams, Steven</td>\n",
       "      <td>2.13</td>\n",
       "      <td>120.2</td>\n",
       "    </tr>\n",
       "    <tr>\n",
       "      <td>1</td>\n",
       "      <td>Adebayo, Bam</td>\n",
       "      <td>2.08</td>\n",
       "      <td>115.7</td>\n",
       "    </tr>\n",
       "    <tr>\n",
       "      <td>2</td>\n",
       "      <td>Adel, Deng</td>\n",
       "      <td>2.01</td>\n",
       "      <td>90.7</td>\n",
       "    </tr>\n",
       "    <tr>\n",
       "      <td>3</td>\n",
       "      <td>Aldridge, LaMarcus</td>\n",
       "      <td>2.11</td>\n",
       "      <td>117.9</td>\n",
       "    </tr>\n",
       "    <tr>\n",
       "      <td>4</td>\n",
       "      <td>Alexander, Kyle</td>\n",
       "      <td>2.11</td>\n",
       "      <td>99.8</td>\n",
       "    </tr>\n",
       "  </tbody>\n",
       "</table>\n",
       "</div>"
      ],
      "text/plain": [
       "  temporaryDisplayName  heightMeters  weightKilograms\n",
       "0        Adams, Steven          2.13            120.2\n",
       "1         Adebayo, Bam          2.08            115.7\n",
       "2           Adel, Deng          2.01             90.7\n",
       "3   Aldridge, LaMarcus          2.11            117.9\n",
       "4      Alexander, Kyle          2.11             99.8"
      ]
     },
     "execution_count": 71,
     "metadata": {},
     "output_type": "execute_result"
    }
   ],
   "source": [
    "player_profile = pd.read_csv(\"https://python4ds.s3-ap-northeast-1.amazonaws.com/player_profile.csv\")\n",
    "wide_format = player_profile[[\"temporaryDisplayName\", \"heightMeters\", \"weightKilograms\"]]\n",
    "wide_format.head()"
   ]
  },
  {
   "cell_type": "markdown",
   "metadata": {
    "slideshow": {
     "slide_type": "subslide"
    }
   },
   "source": [
    "## 將寬表格的外觀轉換為長表格，表示以一個變數（Key）記錄身高或體重，再以一個變數（Value）記錄身高的高度與體重的重量，我們可以使用 pd.melt() 函數"
   ]
  },
  {
   "cell_type": "code",
   "execution_count": 72,
   "metadata": {},
   "outputs": [
    {
     "data": {
      "text/html": [
       "<div>\n",
       "<style scoped>\n",
       "    .dataframe tbody tr th:only-of-type {\n",
       "        vertical-align: middle;\n",
       "    }\n",
       "\n",
       "    .dataframe tbody tr th {\n",
       "        vertical-align: top;\n",
       "    }\n",
       "\n",
       "    .dataframe thead th {\n",
       "        text-align: right;\n",
       "    }\n",
       "</style>\n",
       "<table border=\"1\" class=\"dataframe\">\n",
       "  <thead>\n",
       "    <tr style=\"text-align: right;\">\n",
       "      <th></th>\n",
       "      <th>temporaryDisplayName</th>\n",
       "      <th>key</th>\n",
       "      <th>value</th>\n",
       "    </tr>\n",
       "  </thead>\n",
       "  <tbody>\n",
       "    <tr>\n",
       "      <td>0</td>\n",
       "      <td>Adams, Steven</td>\n",
       "      <td>heightMeters</td>\n",
       "      <td>2.13</td>\n",
       "    </tr>\n",
       "    <tr>\n",
       "      <td>524</td>\n",
       "      <td>Adams, Steven</td>\n",
       "      <td>weightKilograms</td>\n",
       "      <td>120.20</td>\n",
       "    </tr>\n",
       "    <tr>\n",
       "      <td>525</td>\n",
       "      <td>Adebayo, Bam</td>\n",
       "      <td>weightKilograms</td>\n",
       "      <td>115.70</td>\n",
       "    </tr>\n",
       "    <tr>\n",
       "      <td>1</td>\n",
       "      <td>Adebayo, Bam</td>\n",
       "      <td>heightMeters</td>\n",
       "      <td>2.08</td>\n",
       "    </tr>\n",
       "    <tr>\n",
       "      <td>2</td>\n",
       "      <td>Adel, Deng</td>\n",
       "      <td>heightMeters</td>\n",
       "      <td>2.01</td>\n",
       "    </tr>\n",
       "    <tr>\n",
       "      <td>526</td>\n",
       "      <td>Adel, Deng</td>\n",
       "      <td>weightKilograms</td>\n",
       "      <td>90.70</td>\n",
       "    </tr>\n",
       "    <tr>\n",
       "      <td>3</td>\n",
       "      <td>Aldridge, LaMarcus</td>\n",
       "      <td>heightMeters</td>\n",
       "      <td>2.11</td>\n",
       "    </tr>\n",
       "    <tr>\n",
       "      <td>527</td>\n",
       "      <td>Aldridge, LaMarcus</td>\n",
       "      <td>weightKilograms</td>\n",
       "      <td>117.90</td>\n",
       "    </tr>\n",
       "    <tr>\n",
       "      <td>4</td>\n",
       "      <td>Alexander, Kyle</td>\n",
       "      <td>heightMeters</td>\n",
       "      <td>2.11</td>\n",
       "    </tr>\n",
       "    <tr>\n",
       "      <td>528</td>\n",
       "      <td>Alexander, Kyle</td>\n",
       "      <td>weightKilograms</td>\n",
       "      <td>99.80</td>\n",
       "    </tr>\n",
       "  </tbody>\n",
       "</table>\n",
       "</div>"
      ],
      "text/plain": [
       "    temporaryDisplayName              key   value\n",
       "0          Adams, Steven     heightMeters    2.13\n",
       "524        Adams, Steven  weightKilograms  120.20\n",
       "525         Adebayo, Bam  weightKilograms  115.70\n",
       "1           Adebayo, Bam     heightMeters    2.08\n",
       "2             Adel, Deng     heightMeters    2.01\n",
       "526           Adel, Deng  weightKilograms   90.70\n",
       "3     Aldridge, LaMarcus     heightMeters    2.11\n",
       "527   Aldridge, LaMarcus  weightKilograms  117.90\n",
       "4        Alexander, Kyle     heightMeters    2.11\n",
       "528      Alexander, Kyle  weightKilograms   99.80"
      ]
     },
     "execution_count": 72,
     "metadata": {},
     "output_type": "execute_result"
    }
   ],
   "source": [
    "player_profile = pd.read_csv(\"https://python4ds.s3-ap-northeast-1.amazonaws.com/player_profile.csv\")\n",
    "wide_format = player_profile[[\"temporaryDisplayName\", \"heightMeters\", \"weightKilograms\"]]\n",
    "long_format = pd.melt(wide_format, id_vars=\"temporaryDisplayName\", value_vars=[\"heightMeters\", \"weightKilograms\"], var_name=\"key\", value_name=\"value\")\n",
    "long_format.sort_values(\"temporaryDisplayName\").head(10)"
   ]
  },
  {
   "cell_type": "code",
   "execution_count": 73,
   "metadata": {
    "slideshow": {
     "slide_type": "subslide"
    }
   },
   "outputs": [
    {
     "data": {
      "text/html": [
       "<div>\n",
       "<style scoped>\n",
       "    .dataframe tbody tr th:only-of-type {\n",
       "        vertical-align: middle;\n",
       "    }\n",
       "\n",
       "    .dataframe tbody tr th {\n",
       "        vertical-align: top;\n",
       "    }\n",
       "\n",
       "    .dataframe thead th {\n",
       "        text-align: right;\n",
       "    }\n",
       "</style>\n",
       "<table border=\"1\" class=\"dataframe\">\n",
       "  <thead>\n",
       "    <tr style=\"text-align: right;\">\n",
       "      <th></th>\n",
       "      <th>temporaryDisplayName</th>\n",
       "      <th>key</th>\n",
       "      <th>value</th>\n",
       "    </tr>\n",
       "  </thead>\n",
       "  <tbody>\n",
       "    <tr>\n",
       "      <td>0</td>\n",
       "      <td>Adams, Steven</td>\n",
       "      <td>heightMeters</td>\n",
       "      <td>2.13</td>\n",
       "    </tr>\n",
       "    <tr>\n",
       "      <td>524</td>\n",
       "      <td>Adams, Steven</td>\n",
       "      <td>weightKilograms</td>\n",
       "      <td>120.20</td>\n",
       "    </tr>\n",
       "    <tr>\n",
       "      <td>525</td>\n",
       "      <td>Adebayo, Bam</td>\n",
       "      <td>weightKilograms</td>\n",
       "      <td>115.70</td>\n",
       "    </tr>\n",
       "    <tr>\n",
       "      <td>1</td>\n",
       "      <td>Adebayo, Bam</td>\n",
       "      <td>heightMeters</td>\n",
       "      <td>2.08</td>\n",
       "    </tr>\n",
       "    <tr>\n",
       "      <td>2</td>\n",
       "      <td>Adel, Deng</td>\n",
       "      <td>heightMeters</td>\n",
       "      <td>2.01</td>\n",
       "    </tr>\n",
       "    <tr>\n",
       "      <td>526</td>\n",
       "      <td>Adel, Deng</td>\n",
       "      <td>weightKilograms</td>\n",
       "      <td>90.70</td>\n",
       "    </tr>\n",
       "    <tr>\n",
       "      <td>3</td>\n",
       "      <td>Aldridge, LaMarcus</td>\n",
       "      <td>heightMeters</td>\n",
       "      <td>2.11</td>\n",
       "    </tr>\n",
       "    <tr>\n",
       "      <td>527</td>\n",
       "      <td>Aldridge, LaMarcus</td>\n",
       "      <td>weightKilograms</td>\n",
       "      <td>117.90</td>\n",
       "    </tr>\n",
       "    <tr>\n",
       "      <td>4</td>\n",
       "      <td>Alexander, Kyle</td>\n",
       "      <td>heightMeters</td>\n",
       "      <td>2.11</td>\n",
       "    </tr>\n",
       "    <tr>\n",
       "      <td>528</td>\n",
       "      <td>Alexander, Kyle</td>\n",
       "      <td>weightKilograms</td>\n",
       "      <td>99.80</td>\n",
       "    </tr>\n",
       "  </tbody>\n",
       "</table>\n",
       "</div>"
      ],
      "text/plain": [
       "    temporaryDisplayName              key   value\n",
       "0          Adams, Steven     heightMeters    2.13\n",
       "524        Adams, Steven  weightKilograms  120.20\n",
       "525         Adebayo, Bam  weightKilograms  115.70\n",
       "1           Adebayo, Bam     heightMeters    2.08\n",
       "2             Adel, Deng     heightMeters    2.01\n",
       "526           Adel, Deng  weightKilograms   90.70\n",
       "3     Aldridge, LaMarcus     heightMeters    2.11\n",
       "527   Aldridge, LaMarcus  weightKilograms  117.90\n",
       "4        Alexander, Kyle     heightMeters    2.11\n",
       "528      Alexander, Kyle  weightKilograms   99.80"
      ]
     },
     "execution_count": 73,
     "metadata": {},
     "output_type": "execute_result"
    }
   ],
   "source": [
    "long_format.sort_values(\"temporaryDisplayName\").head(10)"
   ]
  },
  {
   "cell_type": "markdown",
   "metadata": {
    "slideshow": {
     "slide_type": "subslide"
    }
   },
   "source": [
    "## 將長表格的外觀轉換為寬表格，會應用到類似分組的操作，以球員姓名作為分組依據，將數值資料樞紐回兩個變數，使用資料框的 .pivot() 方法"
   ]
  },
  {
   "cell_type": "code",
   "execution_count": 74,
   "metadata": {},
   "outputs": [
    {
     "data": {
      "text/html": [
       "<div>\n",
       "<style scoped>\n",
       "    .dataframe tbody tr th:only-of-type {\n",
       "        vertical-align: middle;\n",
       "    }\n",
       "\n",
       "    .dataframe tbody tr th {\n",
       "        vertical-align: top;\n",
       "    }\n",
       "\n",
       "    .dataframe thead th {\n",
       "        text-align: right;\n",
       "    }\n",
       "</style>\n",
       "<table border=\"1\" class=\"dataframe\">\n",
       "  <thead>\n",
       "    <tr style=\"text-align: right;\">\n",
       "      <th>key</th>\n",
       "      <th>heightMeters</th>\n",
       "      <th>weightKilograms</th>\n",
       "    </tr>\n",
       "    <tr>\n",
       "      <th>temporaryDisplayName</th>\n",
       "      <th></th>\n",
       "      <th></th>\n",
       "    </tr>\n",
       "  </thead>\n",
       "  <tbody>\n",
       "    <tr>\n",
       "      <td>Adams, Steven</td>\n",
       "      <td>2.13</td>\n",
       "      <td>120.2</td>\n",
       "    </tr>\n",
       "    <tr>\n",
       "      <td>Adebayo, Bam</td>\n",
       "      <td>2.08</td>\n",
       "      <td>115.7</td>\n",
       "    </tr>\n",
       "    <tr>\n",
       "      <td>Adel, Deng</td>\n",
       "      <td>2.01</td>\n",
       "      <td>90.7</td>\n",
       "    </tr>\n",
       "    <tr>\n",
       "      <td>Aldridge, LaMarcus</td>\n",
       "      <td>2.11</td>\n",
       "      <td>117.9</td>\n",
       "    </tr>\n",
       "    <tr>\n",
       "      <td>Alexander, Kyle</td>\n",
       "      <td>2.11</td>\n",
       "      <td>99.8</td>\n",
       "    </tr>\n",
       "  </tbody>\n",
       "</table>\n",
       "</div>"
      ],
      "text/plain": [
       "key                   heightMeters  weightKilograms\n",
       "temporaryDisplayName                               \n",
       "Adams, Steven                 2.13            120.2\n",
       "Adebayo, Bam                  2.08            115.7\n",
       "Adel, Deng                    2.01             90.7\n",
       "Aldridge, LaMarcus            2.11            117.9\n",
       "Alexander, Kyle               2.11             99.8"
      ]
     },
     "execution_count": 74,
     "metadata": {},
     "output_type": "execute_result"
    }
   ],
   "source": [
    "player_profile = pd.read_csv(\"https://python4ds.s3-ap-northeast-1.amazonaws.com/player_profile.csv\")\n",
    "wide_format = player_profile[[\"temporaryDisplayName\", \"heightMeters\", \"weightKilograms\"]]\n",
    "long_format = pd.melt(wide_format, id_vars=\"temporaryDisplayName\", value_vars=[\"heightMeters\", \"weightKilograms\"], var_name=\"key\", value_name=\"value\")\n",
    "long_format.pivot(index=\"temporaryDisplayName\", columns=\"key\", values=\"value\").head()"
   ]
  },
  {
   "cell_type": "markdown",
   "metadata": {
    "slideshow": {
     "slide_type": "subslide"
    }
   },
   "source": [
    "## 最後稍微整理一下，利用 .reset_index() 以及刪除列索引的名稱，就能將樞紐後的表格回復成與原本一模一樣的寬表格"
   ]
  },
  {
   "cell_type": "code",
   "execution_count": 75,
   "metadata": {
    "slideshow": {
     "slide_type": "-"
    }
   },
   "outputs": [
    {
     "data": {
      "text/html": [
       "<div>\n",
       "<style scoped>\n",
       "    .dataframe tbody tr th:only-of-type {\n",
       "        vertical-align: middle;\n",
       "    }\n",
       "\n",
       "    .dataframe tbody tr th {\n",
       "        vertical-align: top;\n",
       "    }\n",
       "\n",
       "    .dataframe thead th {\n",
       "        text-align: right;\n",
       "    }\n",
       "</style>\n",
       "<table border=\"1\" class=\"dataframe\">\n",
       "  <thead>\n",
       "    <tr style=\"text-align: right;\">\n",
       "      <th></th>\n",
       "      <th>temporaryDisplayName</th>\n",
       "      <th>heightMeters</th>\n",
       "      <th>weightKilograms</th>\n",
       "    </tr>\n",
       "  </thead>\n",
       "  <tbody>\n",
       "    <tr>\n",
       "      <td>0</td>\n",
       "      <td>Adams, Steven</td>\n",
       "      <td>2.13</td>\n",
       "      <td>120.2</td>\n",
       "    </tr>\n",
       "    <tr>\n",
       "      <td>1</td>\n",
       "      <td>Adebayo, Bam</td>\n",
       "      <td>2.08</td>\n",
       "      <td>115.7</td>\n",
       "    </tr>\n",
       "    <tr>\n",
       "      <td>2</td>\n",
       "      <td>Adel, Deng</td>\n",
       "      <td>2.01</td>\n",
       "      <td>90.7</td>\n",
       "    </tr>\n",
       "    <tr>\n",
       "      <td>3</td>\n",
       "      <td>Aldridge, LaMarcus</td>\n",
       "      <td>2.11</td>\n",
       "      <td>117.9</td>\n",
       "    </tr>\n",
       "    <tr>\n",
       "      <td>4</td>\n",
       "      <td>Alexander, Kyle</td>\n",
       "      <td>2.11</td>\n",
       "      <td>99.8</td>\n",
       "    </tr>\n",
       "  </tbody>\n",
       "</table>\n",
       "</div>"
      ],
      "text/plain": [
       "  temporaryDisplayName  heightMeters  weightKilograms\n",
       "0        Adams, Steven          2.13            120.2\n",
       "1         Adebayo, Bam          2.08            115.7\n",
       "2           Adel, Deng          2.01             90.7\n",
       "3   Aldridge, LaMarcus          2.11            117.9\n",
       "4      Alexander, Kyle          2.11             99.8"
      ]
     },
     "execution_count": 75,
     "metadata": {},
     "output_type": "execute_result"
    }
   ],
   "source": [
    "player_profile = pd.read_csv(\"https://python4ds.s3-ap-northeast-1.amazonaws.com/player_profile.csv\")\n",
    "wide_format = player_profile[[\"temporaryDisplayName\", \"heightMeters\", \"weightKilograms\"]]\n",
    "long_format = pd.melt(wide_format, id_vars=\"temporaryDisplayName\", value_vars=[\"heightMeters\", \"weightKilograms\"], var_name=\"key\", value_name=\"value\")\n",
    "wide_format = long_format.pivot(index=\"temporaryDisplayName\", columns=\"key\", values=\"value\").reset_index()\n",
    "wide_format = wide_format.rename_axis(None, axis=1)\n",
    "wide_format.head()"
   ]
  },
  {
   "cell_type": "markdown",
   "metadata": {
    "slideshow": {
     "slide_type": "subslide"
    }
   },
   "source": [
    "## Pandas 套件有四種常用函數或方法能夠協助使用者合併不同資料源\n",
    "\n",
    "- `pd.concat()`\n",
    "- `df.append()`\n",
    "- `pd.merge()`\n",
    "- `df.join()`"
   ]
  },
  {
   "cell_type": "markdown",
   "metadata": {
    "slideshow": {
     "slide_type": "subslide"
    }
   },
   "source": [
    "## 簡單合併 pd.concat()"
   ]
  },
  {
   "cell_type": "code",
   "execution_count": 76,
   "metadata": {},
   "outputs": [],
   "source": [
    "upper_df = pd.DataFrame()\n",
    "lower_df = pd.DataFrame()\n",
    "upper_df[\"character\"] = [\"Rachel Green\", \"Monica Geller\", \"Phoebe Buffay\"]\n",
    "upper_df[\"cast\"] = [\"Jennifer Aniston\", \"Courteney Cox\", \"Lisa Kudrow\"]\n",
    "lower_df[\"character\"] = [\"Joey Tribbiani\", \"Chandler Bing\", \"Ross Geller\"]\n",
    "lower_df[\"cast\"] = [\"Matt LeBlanc\", \"Matthew Perry\", \"David Schwimmer\"]"
   ]
  },
  {
   "cell_type": "code",
   "execution_count": 77,
   "metadata": {
    "slideshow": {
     "slide_type": "subslide"
    }
   },
   "outputs": [
    {
     "name": "stdout",
     "output_type": "stream",
     "text": [
      "Upper df:\n",
      "Lower df:\n",
      "Concatenated vertically:\n"
     ]
    },
    {
     "data": {
      "text/html": [
       "<div>\n",
       "<style scoped>\n",
       "    .dataframe tbody tr th:only-of-type {\n",
       "        vertical-align: middle;\n",
       "    }\n",
       "\n",
       "    .dataframe tbody tr th {\n",
       "        vertical-align: top;\n",
       "    }\n",
       "\n",
       "    .dataframe thead th {\n",
       "        text-align: right;\n",
       "    }\n",
       "</style>\n",
       "<table border=\"1\" class=\"dataframe\">\n",
       "  <thead>\n",
       "    <tr style=\"text-align: right;\">\n",
       "      <th></th>\n",
       "      <th>character</th>\n",
       "      <th>cast</th>\n",
       "    </tr>\n",
       "  </thead>\n",
       "  <tbody>\n",
       "    <tr>\n",
       "      <td>0</td>\n",
       "      <td>Rachel Green</td>\n",
       "      <td>Jennifer Aniston</td>\n",
       "    </tr>\n",
       "    <tr>\n",
       "      <td>1</td>\n",
       "      <td>Monica Geller</td>\n",
       "      <td>Courteney Cox</td>\n",
       "    </tr>\n",
       "    <tr>\n",
       "      <td>2</td>\n",
       "      <td>Phoebe Buffay</td>\n",
       "      <td>Lisa Kudrow</td>\n",
       "    </tr>\n",
       "    <tr>\n",
       "      <td>0</td>\n",
       "      <td>Joey Tribbiani</td>\n",
       "      <td>Matt LeBlanc</td>\n",
       "    </tr>\n",
       "    <tr>\n",
       "      <td>1</td>\n",
       "      <td>Chandler Bing</td>\n",
       "      <td>Matthew Perry</td>\n",
       "    </tr>\n",
       "    <tr>\n",
       "      <td>2</td>\n",
       "      <td>Ross Geller</td>\n",
       "      <td>David Schwimmer</td>\n",
       "    </tr>\n",
       "  </tbody>\n",
       "</table>\n",
       "</div>"
      ],
      "text/plain": [
       "        character              cast\n",
       "0    Rachel Green  Jennifer Aniston\n",
       "1   Monica Geller     Courteney Cox\n",
       "2   Phoebe Buffay       Lisa Kudrow\n",
       "0  Joey Tribbiani      Matt LeBlanc\n",
       "1   Chandler Bing     Matthew Perry\n",
       "2     Ross Geller   David Schwimmer"
      ]
     },
     "execution_count": 77,
     "metadata": {},
     "output_type": "execute_result"
    }
   ],
   "source": [
    "print(\"Upper df:\")\n",
    "upper_df\n",
    "print(\"Lower df:\")\n",
    "lower_df\n",
    "print(\"Concatenated vertically:\")\n",
    "pd.concat([upper_df, lower_df]) # axis=0 as default"
   ]
  },
  {
   "cell_type": "markdown",
   "metadata": {
    "slideshow": {
     "slide_type": "subslide"
    }
   },
   "source": [
    "## 合併後的資料框具備了重複的列索引，如果希望可以重設列索引，可以在 pd.concat() 函數中加入參數 ignore_index=True"
   ]
  },
  {
   "cell_type": "markdown",
   "metadata": {
    "slideshow": {
     "slide_type": "subslide"
    }
   },
   "source": [
    "## 指定參數 axis=1 則為水平合併"
   ]
  },
  {
   "cell_type": "code",
   "execution_count": 78,
   "metadata": {},
   "outputs": [],
   "source": [
    "left_df = pd.DataFrame()\n",
    "right_df = pd.DataFrame()\n",
    "left_df[\"character\"] = [\"Rachel Green\", \"Monica Geller\", \"Phoebe Buffay\", \"Joey Tribbiani\", \"Chandler Bing\", \"Ross Geller\"]\n",
    "right_df[\"cast\"] = [\"Jennifer Aniston\", \"Courteney Cox\", \"Lisa Kudrow\", \"Matt LeBlanc\", \"Matthew Perry\", \"David Schwimmer\"]"
   ]
  },
  {
   "cell_type": "code",
   "execution_count": 79,
   "metadata": {
    "slideshow": {
     "slide_type": "subslide"
    }
   },
   "outputs": [
    {
     "name": "stdout",
     "output_type": "stream",
     "text": [
      "Left df:\n",
      "Right df:\n",
      "Concatenated horizontally:\n"
     ]
    },
    {
     "data": {
      "text/html": [
       "<div>\n",
       "<style scoped>\n",
       "    .dataframe tbody tr th:only-of-type {\n",
       "        vertical-align: middle;\n",
       "    }\n",
       "\n",
       "    .dataframe tbody tr th {\n",
       "        vertical-align: top;\n",
       "    }\n",
       "\n",
       "    .dataframe thead th {\n",
       "        text-align: right;\n",
       "    }\n",
       "</style>\n",
       "<table border=\"1\" class=\"dataframe\">\n",
       "  <thead>\n",
       "    <tr style=\"text-align: right;\">\n",
       "      <th></th>\n",
       "      <th>character</th>\n",
       "      <th>cast</th>\n",
       "    </tr>\n",
       "  </thead>\n",
       "  <tbody>\n",
       "    <tr>\n",
       "      <td>0</td>\n",
       "      <td>Rachel Green</td>\n",
       "      <td>Jennifer Aniston</td>\n",
       "    </tr>\n",
       "    <tr>\n",
       "      <td>1</td>\n",
       "      <td>Monica Geller</td>\n",
       "      <td>Courteney Cox</td>\n",
       "    </tr>\n",
       "    <tr>\n",
       "      <td>2</td>\n",
       "      <td>Phoebe Buffay</td>\n",
       "      <td>Lisa Kudrow</td>\n",
       "    </tr>\n",
       "    <tr>\n",
       "      <td>3</td>\n",
       "      <td>Joey Tribbiani</td>\n",
       "      <td>Matt LeBlanc</td>\n",
       "    </tr>\n",
       "    <tr>\n",
       "      <td>4</td>\n",
       "      <td>Chandler Bing</td>\n",
       "      <td>Matthew Perry</td>\n",
       "    </tr>\n",
       "    <tr>\n",
       "      <td>5</td>\n",
       "      <td>Ross Geller</td>\n",
       "      <td>David Schwimmer</td>\n",
       "    </tr>\n",
       "  </tbody>\n",
       "</table>\n",
       "</div>"
      ],
      "text/plain": [
       "        character              cast\n",
       "0    Rachel Green  Jennifer Aniston\n",
       "1   Monica Geller     Courteney Cox\n",
       "2   Phoebe Buffay       Lisa Kudrow\n",
       "3  Joey Tribbiani      Matt LeBlanc\n",
       "4   Chandler Bing     Matthew Perry\n",
       "5     Ross Geller   David Schwimmer"
      ]
     },
     "execution_count": 79,
     "metadata": {},
     "output_type": "execute_result"
    }
   ],
   "source": [
    "print(\"Left df:\")\n",
    "left_df\n",
    "print(\"Right df:\")\n",
    "right_df\n",
    "print(\"Concatenated horizontally:\")\n",
    "pd.concat([left_df, right_df], axis=1)"
   ]
  },
  {
   "cell_type": "markdown",
   "metadata": {
    "slideshow": {
     "slide_type": "subslide"
    }
   },
   "source": [
    "## 垂直合併 df.append()"
   ]
  },
  {
   "cell_type": "code",
   "execution_count": 80,
   "metadata": {},
   "outputs": [],
   "source": [
    "upper_df = pd.DataFrame()\n",
    "lower_df = pd.DataFrame()\n",
    "upper_df[\"character\"] = [\"Rachel Green\", \"Monica Geller\", \"Phoebe Buffay\"]\n",
    "upper_df[\"cast\"] = [\"Jennifer Aniston\", \"Courteney Cox\", \"Lisa Kudrow\"]\n",
    "lower_df[\"character\"] = [\"Joey Tribbiani\", \"Chandler Bing\", \"Ross Geller\"]\n",
    "lower_df[\"cast\"] = [\"Matt LeBlanc\", \"Matthew Perry\", \"David Schwimmer\"]"
   ]
  },
  {
   "cell_type": "code",
   "execution_count": 81,
   "metadata": {},
   "outputs": [
    {
     "name": "stdout",
     "output_type": "stream",
     "text": [
      "Upper df:\n",
      "Lower df:\n",
      "Concatenated vertically using append method:\n"
     ]
    },
    {
     "data": {
      "text/html": [
       "<div>\n",
       "<style scoped>\n",
       "    .dataframe tbody tr th:only-of-type {\n",
       "        vertical-align: middle;\n",
       "    }\n",
       "\n",
       "    .dataframe tbody tr th {\n",
       "        vertical-align: top;\n",
       "    }\n",
       "\n",
       "    .dataframe thead th {\n",
       "        text-align: right;\n",
       "    }\n",
       "</style>\n",
       "<table border=\"1\" class=\"dataframe\">\n",
       "  <thead>\n",
       "    <tr style=\"text-align: right;\">\n",
       "      <th></th>\n",
       "      <th>character</th>\n",
       "      <th>cast</th>\n",
       "    </tr>\n",
       "  </thead>\n",
       "  <tbody>\n",
       "    <tr>\n",
       "      <td>0</td>\n",
       "      <td>Rachel Green</td>\n",
       "      <td>Jennifer Aniston</td>\n",
       "    </tr>\n",
       "    <tr>\n",
       "      <td>1</td>\n",
       "      <td>Monica Geller</td>\n",
       "      <td>Courteney Cox</td>\n",
       "    </tr>\n",
       "    <tr>\n",
       "      <td>2</td>\n",
       "      <td>Phoebe Buffay</td>\n",
       "      <td>Lisa Kudrow</td>\n",
       "    </tr>\n",
       "    <tr>\n",
       "      <td>0</td>\n",
       "      <td>Joey Tribbiani</td>\n",
       "      <td>Matt LeBlanc</td>\n",
       "    </tr>\n",
       "    <tr>\n",
       "      <td>1</td>\n",
       "      <td>Chandler Bing</td>\n",
       "      <td>Matthew Perry</td>\n",
       "    </tr>\n",
       "    <tr>\n",
       "      <td>2</td>\n",
       "      <td>Ross Geller</td>\n",
       "      <td>David Schwimmer</td>\n",
       "    </tr>\n",
       "  </tbody>\n",
       "</table>\n",
       "</div>"
      ],
      "text/plain": [
       "        character              cast\n",
       "0    Rachel Green  Jennifer Aniston\n",
       "1   Monica Geller     Courteney Cox\n",
       "2   Phoebe Buffay       Lisa Kudrow\n",
       "0  Joey Tribbiani      Matt LeBlanc\n",
       "1   Chandler Bing     Matthew Perry\n",
       "2     Ross Geller   David Schwimmer"
      ]
     },
     "execution_count": 81,
     "metadata": {},
     "output_type": "execute_result"
    }
   ],
   "source": [
    "print(\"Upper df:\")\n",
    "upper_df\n",
    "print(\"Lower df:\")\n",
    "lower_df\n",
    "print(\"Concatenated vertically using append method:\")\n",
    "upper_df.append(lower_df)"
   ]
  },
  {
   "cell_type": "markdown",
   "metadata": {
    "slideshow": {
     "slide_type": "subslide"
    }
   },
   "source": [
    "## 聯結 pd.merge()\n",
    "\n",
    "在 Pandas 中若想要高效能操作類似關聯式資料庫表格聯結和合併，主要的實踐函數是 pd.merge() ，她沿用關聯式資料庫的正規法則 Relational Algebra，實踐正規法則所規範四種基礎聯結\n",
    "\n",
    "- 一對一聯結（one-to-one）\n",
    "- 一對多聯結（one-to-many）\n",
    "- 多對一聯結（many-to-one）\n",
    "- 多對多聯結（many-to-many）"
   ]
  },
  {
   "cell_type": "code",
   "execution_count": 82,
   "metadata": {
    "slideshow": {
     "slide_type": "subslide"
    }
   },
   "outputs": [
    {
     "data": {
      "text/html": [
       "<div>\n",
       "<style scoped>\n",
       "    .dataframe tbody tr th:only-of-type {\n",
       "        vertical-align: middle;\n",
       "    }\n",
       "\n",
       "    .dataframe tbody tr th {\n",
       "        vertical-align: top;\n",
       "    }\n",
       "\n",
       "    .dataframe thead th {\n",
       "        text-align: right;\n",
       "    }\n",
       "</style>\n",
       "<table border=\"1\" class=\"dataframe\">\n",
       "  <thead>\n",
       "    <tr style=\"text-align: right;\">\n",
       "      <th></th>\n",
       "      <th>title</th>\n",
       "      <th>release_year</th>\n",
       "      <th>rating</th>\n",
       "    </tr>\n",
       "  </thead>\n",
       "  <tbody>\n",
       "    <tr>\n",
       "      <td>0</td>\n",
       "      <td>The Avengers</td>\n",
       "      <td>2012</td>\n",
       "      <td>8.5</td>\n",
       "    </tr>\n",
       "    <tr>\n",
       "      <td>1</td>\n",
       "      <td>Avengers: Age of Ultron</td>\n",
       "      <td>2015</td>\n",
       "      <td>7.3</td>\n",
       "    </tr>\n",
       "    <tr>\n",
       "      <td>2</td>\n",
       "      <td>Avengers: Infinity War</td>\n",
       "      <td>2018</td>\n",
       "      <td>8.5</td>\n",
       "    </tr>\n",
       "    <tr>\n",
       "      <td>3</td>\n",
       "      <td>Avengers: Endgame</td>\n",
       "      <td>2019</td>\n",
       "      <td>8.6</td>\n",
       "    </tr>\n",
       "  </tbody>\n",
       "</table>\n",
       "</div>"
      ],
      "text/plain": [
       "                     title  release_year  rating\n",
       "0             The Avengers          2012     8.5\n",
       "1  Avengers: Age of Ultron          2015     7.3\n",
       "2   Avengers: Infinity War          2018     8.5\n",
       "3        Avengers: Endgame          2019     8.6"
      ]
     },
     "execution_count": 82,
     "metadata": {},
     "output_type": "execute_result"
    }
   ],
   "source": [
    "#一對一聯結（one-to-one）\n",
    "left_df = pd.DataFrame()\n",
    "right_df = pd.DataFrame()\n",
    "left_df[\"title\"] = [\"The Avengers\", \"Avengers: Age of Ultron\", \"Avengers: Infinity War\", \"Avengers: Endgame\"]\n",
    "left_df[\"release_year\"] = [2012, 2015, 2018, 2019]\n",
    "right_df[\"title\"] = [\"Avengers: Infinity War\", \"Avengers: Endgame\", \"The Avengers\", \"Avengers: Age of Ultron\"]\n",
    "right_df[\"rating\"] = [8.5, 8.6, 8.5, 7.3]\n",
    "left_df\n",
    "right_df\n",
    "pd.merge(left_df, right_df)"
   ]
  },
  {
   "cell_type": "code",
   "execution_count": 83,
   "metadata": {
    "slideshow": {
     "slide_type": "subslide"
    }
   },
   "outputs": [
    {
     "data": {
      "text/html": [
       "<div>\n",
       "<style scoped>\n",
       "    .dataframe tbody tr th:only-of-type {\n",
       "        vertical-align: middle;\n",
       "    }\n",
       "\n",
       "    .dataframe tbody tr th {\n",
       "        vertical-align: top;\n",
       "    }\n",
       "\n",
       "    .dataframe thead th {\n",
       "        text-align: right;\n",
       "    }\n",
       "</style>\n",
       "<table border=\"1\" class=\"dataframe\">\n",
       "  <thead>\n",
       "    <tr style=\"text-align: right;\">\n",
       "      <th></th>\n",
       "      <th>title</th>\n",
       "      <th>release_year</th>\n",
       "      <th>genre</th>\n",
       "    </tr>\n",
       "  </thead>\n",
       "  <tbody>\n",
       "    <tr>\n",
       "      <td>0</td>\n",
       "      <td>The Avengers</td>\n",
       "      <td>2012</td>\n",
       "      <td>Action</td>\n",
       "    </tr>\n",
       "    <tr>\n",
       "      <td>1</td>\n",
       "      <td>The Avengers</td>\n",
       "      <td>2012</td>\n",
       "      <td>Adventure</td>\n",
       "    </tr>\n",
       "    <tr>\n",
       "      <td>2</td>\n",
       "      <td>The Avengers</td>\n",
       "      <td>2012</td>\n",
       "      <td>Sci-Fi</td>\n",
       "    </tr>\n",
       "  </tbody>\n",
       "</table>\n",
       "</div>"
      ],
      "text/plain": [
       "          title  release_year      genre\n",
       "0  The Avengers          2012     Action\n",
       "1  The Avengers          2012  Adventure\n",
       "2  The Avengers          2012     Sci-Fi"
      ]
     },
     "execution_count": 83,
     "metadata": {},
     "output_type": "execute_result"
    }
   ],
   "source": [
    "#一對多聯結（one-to-many）\n",
    "left_df = pd.DataFrame()\n",
    "right_df = pd.DataFrame()\n",
    "left_df[\"title\"] = [\"The Avengers\"]\n",
    "left_df[\"release_year\"] = [2012]\n",
    "right_df[\"title\"] = [\"The Avengers\", \"The Avengers\", \"The Avengers\"]\n",
    "right_df[\"genre\"] = [\"Action\", \"Adventure\", \"Sci-Fi\"]\n",
    "left_df\n",
    "right_df\n",
    "pd.merge(left_df, right_df)"
   ]
  },
  {
   "cell_type": "code",
   "execution_count": 84,
   "metadata": {
    "slideshow": {
     "slide_type": "subslide"
    }
   },
   "outputs": [
    {
     "data": {
      "text/html": [
       "<div>\n",
       "<style scoped>\n",
       "    .dataframe tbody tr th:only-of-type {\n",
       "        vertical-align: middle;\n",
       "    }\n",
       "\n",
       "    .dataframe tbody tr th {\n",
       "        vertical-align: top;\n",
       "    }\n",
       "\n",
       "    .dataframe thead th {\n",
       "        text-align: right;\n",
       "    }\n",
       "</style>\n",
       "<table border=\"1\" class=\"dataframe\">\n",
       "  <thead>\n",
       "    <tr style=\"text-align: right;\">\n",
       "      <th></th>\n",
       "      <th>title</th>\n",
       "      <th>genre</th>\n",
       "      <th>release_year</th>\n",
       "    </tr>\n",
       "  </thead>\n",
       "  <tbody>\n",
       "    <tr>\n",
       "      <td>0</td>\n",
       "      <td>The Avengers</td>\n",
       "      <td>Action</td>\n",
       "      <td>2012</td>\n",
       "    </tr>\n",
       "    <tr>\n",
       "      <td>1</td>\n",
       "      <td>The Avengers</td>\n",
       "      <td>Adventure</td>\n",
       "      <td>2012</td>\n",
       "    </tr>\n",
       "    <tr>\n",
       "      <td>2</td>\n",
       "      <td>The Avengers</td>\n",
       "      <td>Sci-Fi</td>\n",
       "      <td>2012</td>\n",
       "    </tr>\n",
       "  </tbody>\n",
       "</table>\n",
       "</div>"
      ],
      "text/plain": [
       "          title      genre  release_year\n",
       "0  The Avengers     Action          2012\n",
       "1  The Avengers  Adventure          2012\n",
       "2  The Avengers     Sci-Fi          2012"
      ]
     },
     "execution_count": 84,
     "metadata": {},
     "output_type": "execute_result"
    }
   ],
   "source": [
    "#多對一聯結（many-to-one）\n",
    "left_df = pd.DataFrame()\n",
    "right_df = pd.DataFrame()\n",
    "left_df[\"title\"] = [\"The Avengers\", \"The Avengers\", \"The Avengers\"]\n",
    "left_df[\"genre\"] = [\"Action\", \"Adventure\", \"Sci-Fi\"]\n",
    "right_df[\"title\"] = [\"The Avengers\"]\n",
    "right_df[\"release_year\"] = [2012]\n",
    "left_df\n",
    "right_df\n",
    "pd.merge(left_df, right_df)"
   ]
  },
  {
   "cell_type": "code",
   "execution_count": 85,
   "metadata": {
    "slideshow": {
     "slide_type": "subslide"
    }
   },
   "outputs": [
    {
     "data": {
      "text/html": [
       "<div>\n",
       "<style scoped>\n",
       "    .dataframe tbody tr th:only-of-type {\n",
       "        vertical-align: middle;\n",
       "    }\n",
       "\n",
       "    .dataframe tbody tr th {\n",
       "        vertical-align: top;\n",
       "    }\n",
       "\n",
       "    .dataframe thead th {\n",
       "        text-align: right;\n",
       "    }\n",
       "</style>\n",
       "<table border=\"1\" class=\"dataframe\">\n",
       "  <thead>\n",
       "    <tr style=\"text-align: right;\">\n",
       "      <th></th>\n",
       "      <th>title</th>\n",
       "      <th>genre</th>\n",
       "      <th>avengers</th>\n",
       "    </tr>\n",
       "  </thead>\n",
       "  <tbody>\n",
       "    <tr>\n",
       "      <td>0</td>\n",
       "      <td>The Avengers</td>\n",
       "      <td>Action</td>\n",
       "      <td>Ironman</td>\n",
       "    </tr>\n",
       "    <tr>\n",
       "      <td>1</td>\n",
       "      <td>The Avengers</td>\n",
       "      <td>Action</td>\n",
       "      <td>Captain America</td>\n",
       "    </tr>\n",
       "    <tr>\n",
       "      <td>2</td>\n",
       "      <td>The Avengers</td>\n",
       "      <td>Action</td>\n",
       "      <td>The Hulk</td>\n",
       "    </tr>\n",
       "    <tr>\n",
       "      <td>3</td>\n",
       "      <td>The Avengers</td>\n",
       "      <td>Action</td>\n",
       "      <td>Thor</td>\n",
       "    </tr>\n",
       "    <tr>\n",
       "      <td>4</td>\n",
       "      <td>The Avengers</td>\n",
       "      <td>Action</td>\n",
       "      <td>Black Widow</td>\n",
       "    </tr>\n",
       "    <tr>\n",
       "      <td>5</td>\n",
       "      <td>The Avengers</td>\n",
       "      <td>Action</td>\n",
       "      <td>Hawkeye</td>\n",
       "    </tr>\n",
       "    <tr>\n",
       "      <td>6</td>\n",
       "      <td>The Avengers</td>\n",
       "      <td>Adventure</td>\n",
       "      <td>Ironman</td>\n",
       "    </tr>\n",
       "    <tr>\n",
       "      <td>7</td>\n",
       "      <td>The Avengers</td>\n",
       "      <td>Adventure</td>\n",
       "      <td>Captain America</td>\n",
       "    </tr>\n",
       "    <tr>\n",
       "      <td>8</td>\n",
       "      <td>The Avengers</td>\n",
       "      <td>Adventure</td>\n",
       "      <td>The Hulk</td>\n",
       "    </tr>\n",
       "    <tr>\n",
       "      <td>9</td>\n",
       "      <td>The Avengers</td>\n",
       "      <td>Adventure</td>\n",
       "      <td>Thor</td>\n",
       "    </tr>\n",
       "    <tr>\n",
       "      <td>10</td>\n",
       "      <td>The Avengers</td>\n",
       "      <td>Adventure</td>\n",
       "      <td>Black Widow</td>\n",
       "    </tr>\n",
       "    <tr>\n",
       "      <td>11</td>\n",
       "      <td>The Avengers</td>\n",
       "      <td>Adventure</td>\n",
       "      <td>Hawkeye</td>\n",
       "    </tr>\n",
       "    <tr>\n",
       "      <td>12</td>\n",
       "      <td>The Avengers</td>\n",
       "      <td>Sci-Fi</td>\n",
       "      <td>Ironman</td>\n",
       "    </tr>\n",
       "    <tr>\n",
       "      <td>13</td>\n",
       "      <td>The Avengers</td>\n",
       "      <td>Sci-Fi</td>\n",
       "      <td>Captain America</td>\n",
       "    </tr>\n",
       "    <tr>\n",
       "      <td>14</td>\n",
       "      <td>The Avengers</td>\n",
       "      <td>Sci-Fi</td>\n",
       "      <td>The Hulk</td>\n",
       "    </tr>\n",
       "    <tr>\n",
       "      <td>15</td>\n",
       "      <td>The Avengers</td>\n",
       "      <td>Sci-Fi</td>\n",
       "      <td>Thor</td>\n",
       "    </tr>\n",
       "    <tr>\n",
       "      <td>16</td>\n",
       "      <td>The Avengers</td>\n",
       "      <td>Sci-Fi</td>\n",
       "      <td>Black Widow</td>\n",
       "    </tr>\n",
       "    <tr>\n",
       "      <td>17</td>\n",
       "      <td>The Avengers</td>\n",
       "      <td>Sci-Fi</td>\n",
       "      <td>Hawkeye</td>\n",
       "    </tr>\n",
       "  </tbody>\n",
       "</table>\n",
       "</div>"
      ],
      "text/plain": [
       "           title      genre         avengers\n",
       "0   The Avengers     Action          Ironman\n",
       "1   The Avengers     Action  Captain America\n",
       "2   The Avengers     Action         The Hulk\n",
       "3   The Avengers     Action             Thor\n",
       "4   The Avengers     Action      Black Widow\n",
       "5   The Avengers     Action          Hawkeye\n",
       "6   The Avengers  Adventure          Ironman\n",
       "7   The Avengers  Adventure  Captain America\n",
       "8   The Avengers  Adventure         The Hulk\n",
       "9   The Avengers  Adventure             Thor\n",
       "10  The Avengers  Adventure      Black Widow\n",
       "11  The Avengers  Adventure          Hawkeye\n",
       "12  The Avengers     Sci-Fi          Ironman\n",
       "13  The Avengers     Sci-Fi  Captain America\n",
       "14  The Avengers     Sci-Fi         The Hulk\n",
       "15  The Avengers     Sci-Fi             Thor\n",
       "16  The Avengers     Sci-Fi      Black Widow\n",
       "17  The Avengers     Sci-Fi          Hawkeye"
      ]
     },
     "execution_count": 85,
     "metadata": {},
     "output_type": "execute_result"
    }
   ],
   "source": [
    "#多對多聯結（many-to-many）\n",
    "left_df = pd.DataFrame()\n",
    "right_df = pd.DataFrame()\n",
    "left_df[\"title\"] = [\"The Avengers\", \"The Avengers\", \"The Avengers\"]\n",
    "left_df[\"genre\"] = [\"Action\", \"Adventure\", \"Sci-Fi\"]\n",
    "right_df[\"title\"] = [\"The Avengers\"]*6\n",
    "right_df[\"avengers\"] = [\"Ironman\", \"Captain America\", \"The Hulk\", \"Thor\", \"Black Widow\", \"Hawkeye\"]\n",
    "left_df\n",
    "right_df\n",
    "pd.merge(left_df, right_df)"
   ]
  },
  {
   "cell_type": "markdown",
   "metadata": {
    "slideshow": {
     "slide_type": "subslide"
    }
   },
   "source": [
    "## 加入 left_on 與 right_on 參數指定要用哪些變數進行聯結的對照依據"
   ]
  },
  {
   "cell_type": "code",
   "execution_count": 86,
   "metadata": {},
   "outputs": [
    {
     "data": {
      "text/html": [
       "<div>\n",
       "<style scoped>\n",
       "    .dataframe tbody tr th:only-of-type {\n",
       "        vertical-align: middle;\n",
       "    }\n",
       "\n",
       "    .dataframe tbody tr th {\n",
       "        vertical-align: top;\n",
       "    }\n",
       "\n",
       "    .dataframe thead th {\n",
       "        text-align: right;\n",
       "    }\n",
       "</style>\n",
       "<table border=\"1\" class=\"dataframe\">\n",
       "  <thead>\n",
       "    <tr style=\"text-align: right;\">\n",
       "      <th></th>\n",
       "      <th>title</th>\n",
       "      <th>release_year</th>\n",
       "      <th>movie_name</th>\n",
       "      <th>rating</th>\n",
       "    </tr>\n",
       "  </thead>\n",
       "  <tbody>\n",
       "    <tr>\n",
       "      <td>0</td>\n",
       "      <td>The Avengers</td>\n",
       "      <td>2012</td>\n",
       "      <td>The Avengers</td>\n",
       "      <td>8.5</td>\n",
       "    </tr>\n",
       "    <tr>\n",
       "      <td>1</td>\n",
       "      <td>Avengers: Age of Ultron</td>\n",
       "      <td>2015</td>\n",
       "      <td>Avengers: Age of Ultron</td>\n",
       "      <td>7.3</td>\n",
       "    </tr>\n",
       "    <tr>\n",
       "      <td>2</td>\n",
       "      <td>Avengers: Infinity War</td>\n",
       "      <td>2018</td>\n",
       "      <td>Avengers: Infinity War</td>\n",
       "      <td>8.5</td>\n",
       "    </tr>\n",
       "    <tr>\n",
       "      <td>3</td>\n",
       "      <td>Avengers: Endgame</td>\n",
       "      <td>2019</td>\n",
       "      <td>Avengers: Endgame</td>\n",
       "      <td>8.6</td>\n",
       "    </tr>\n",
       "  </tbody>\n",
       "</table>\n",
       "</div>"
      ],
      "text/plain": [
       "                     title  release_year               movie_name  rating\n",
       "0             The Avengers          2012             The Avengers     8.5\n",
       "1  Avengers: Age of Ultron          2015  Avengers: Age of Ultron     7.3\n",
       "2   Avengers: Infinity War          2018   Avengers: Infinity War     8.5\n",
       "3        Avengers: Endgame          2019        Avengers: Endgame     8.6"
      ]
     },
     "execution_count": 86,
     "metadata": {},
     "output_type": "execute_result"
    }
   ],
   "source": [
    "left_df = pd.DataFrame()\n",
    "right_df = pd.DataFrame()\n",
    "left_df[\"title\"] = [\"The Avengers\", \"Avengers: Age of Ultron\", \"Avengers: Infinity War\", \"Avengers: Endgame\"]\n",
    "left_df[\"release_year\"] = [2012, 2015, 2018, 2019]\n",
    "right_df[\"movie_name\"] = [\"Avengers: Infinity War\", \"Avengers: Endgame\", \"The Avengers\", \"Avengers: Age of Ultron\"]\n",
    "right_df[\"rating\"] = [8.5, 8.6, 8.5, 7.3]\n",
    "left_df\n",
    "right_df\n",
    "pd.merge(left_df, right_df, left_on=\"title\", right_on=\"movie_name\")"
   ]
  },
  {
   "cell_type": "markdown",
   "metadata": {
    "slideshow": {
     "slide_type": "subslide"
    }
   },
   "source": [
    "## 加入 how 參數則可以指定聯結後的資料框要採用交集（預設）、以左邊資料框存在的觀測值為主、以右邊資料框存在的觀測值為主或聯集"
   ]
  },
  {
   "cell_type": "code",
   "execution_count": 87,
   "metadata": {
    "slideshow": {
     "slide_type": "subslide"
    }
   },
   "outputs": [
    {
     "name": "stdout",
     "output_type": "stream",
     "text": [
      "Inner join:\n"
     ]
    },
    {
     "data": {
      "text/html": [
       "<div>\n",
       "<style scoped>\n",
       "    .dataframe tbody tr th:only-of-type {\n",
       "        vertical-align: middle;\n",
       "    }\n",
       "\n",
       "    .dataframe tbody tr th {\n",
       "        vertical-align: top;\n",
       "    }\n",
       "\n",
       "    .dataframe thead th {\n",
       "        text-align: right;\n",
       "    }\n",
       "</style>\n",
       "<table border=\"1\" class=\"dataframe\">\n",
       "  <thead>\n",
       "    <tr style=\"text-align: right;\">\n",
       "      <th></th>\n",
       "      <th>title</th>\n",
       "      <th>release_year</th>\n",
       "      <th>rating</th>\n",
       "    </tr>\n",
       "  </thead>\n",
       "  <tbody>\n",
       "    <tr>\n",
       "      <td>0</td>\n",
       "      <td>Avengers: Age of Ultron</td>\n",
       "      <td>2015</td>\n",
       "      <td>7.3</td>\n",
       "    </tr>\n",
       "    <tr>\n",
       "      <td>1</td>\n",
       "      <td>Avengers: Infinity War</td>\n",
       "      <td>2018</td>\n",
       "      <td>8.5</td>\n",
       "    </tr>\n",
       "  </tbody>\n",
       "</table>\n",
       "</div>"
      ],
      "text/plain": [
       "                     title  release_year  rating\n",
       "0  Avengers: Age of Ultron          2015     7.3\n",
       "1   Avengers: Infinity War          2018     8.5"
      ]
     },
     "execution_count": 87,
     "metadata": {},
     "output_type": "execute_result"
    }
   ],
   "source": [
    "#交集（預設）\n",
    "left_df = pd.DataFrame()\n",
    "right_df = pd.DataFrame()\n",
    "left_df[\"title\"] = [\"The Avengers\", \"Avengers: Age of Ultron\", \"Avengers: Infinity War\"]\n",
    "left_df[\"release_year\"] = [2012, 2015, 2018]\n",
    "right_df[\"title\"] = [\"Avengers: Infinity War\", \"Avengers: Endgame\", \"Avengers: Age of Ultron\"]\n",
    "right_df[\"rating\"] = [8.5, 8.6, 7.3]\n",
    "left_df\n",
    "right_df\n",
    "print(\"Inner join:\")\n",
    "pd.merge(left_df, right_df)"
   ]
  },
  {
   "cell_type": "code",
   "execution_count": 88,
   "metadata": {
    "slideshow": {
     "slide_type": "subslide"
    }
   },
   "outputs": [
    {
     "name": "stdout",
     "output_type": "stream",
     "text": [
      "Left join:\n"
     ]
    },
    {
     "data": {
      "text/html": [
       "<div>\n",
       "<style scoped>\n",
       "    .dataframe tbody tr th:only-of-type {\n",
       "        vertical-align: middle;\n",
       "    }\n",
       "\n",
       "    .dataframe tbody tr th {\n",
       "        vertical-align: top;\n",
       "    }\n",
       "\n",
       "    .dataframe thead th {\n",
       "        text-align: right;\n",
       "    }\n",
       "</style>\n",
       "<table border=\"1\" class=\"dataframe\">\n",
       "  <thead>\n",
       "    <tr style=\"text-align: right;\">\n",
       "      <th></th>\n",
       "      <th>title</th>\n",
       "      <th>release_year</th>\n",
       "      <th>rating</th>\n",
       "    </tr>\n",
       "  </thead>\n",
       "  <tbody>\n",
       "    <tr>\n",
       "      <td>0</td>\n",
       "      <td>The Avengers</td>\n",
       "      <td>2012</td>\n",
       "      <td>NaN</td>\n",
       "    </tr>\n",
       "    <tr>\n",
       "      <td>1</td>\n",
       "      <td>Avengers: Age of Ultron</td>\n",
       "      <td>2015</td>\n",
       "      <td>7.3</td>\n",
       "    </tr>\n",
       "    <tr>\n",
       "      <td>2</td>\n",
       "      <td>Avengers: Infinity War</td>\n",
       "      <td>2018</td>\n",
       "      <td>8.5</td>\n",
       "    </tr>\n",
       "  </tbody>\n",
       "</table>\n",
       "</div>"
      ],
      "text/plain": [
       "                     title  release_year  rating\n",
       "0             The Avengers          2012     NaN\n",
       "1  Avengers: Age of Ultron          2015     7.3\n",
       "2   Avengers: Infinity War          2018     8.5"
      ]
     },
     "execution_count": 88,
     "metadata": {},
     "output_type": "execute_result"
    }
   ],
   "source": [
    "#以左邊資料框存在的觀測值為主\n",
    "left_df = pd.DataFrame()\n",
    "right_df = pd.DataFrame()\n",
    "left_df[\"title\"] = [\"The Avengers\", \"Avengers: Age of Ultron\", \"Avengers: Infinity War\"]\n",
    "left_df[\"release_year\"] = [2012, 2015, 2018]\n",
    "right_df[\"title\"] = [\"Avengers: Infinity War\", \"Avengers: Endgame\", \"Avengers: Age of Ultron\"]\n",
    "right_df[\"rating\"] = [8.5, 8.6, 7.3]\n",
    "left_df\n",
    "right_df\n",
    "print(\"Left join:\")\n",
    "pd.merge(left_df, right_df, how=\"left\")"
   ]
  },
  {
   "cell_type": "code",
   "execution_count": 89,
   "metadata": {
    "slideshow": {
     "slide_type": "subslide"
    }
   },
   "outputs": [
    {
     "name": "stdout",
     "output_type": "stream",
     "text": [
      "Right join:\n"
     ]
    },
    {
     "data": {
      "text/html": [
       "<div>\n",
       "<style scoped>\n",
       "    .dataframe tbody tr th:only-of-type {\n",
       "        vertical-align: middle;\n",
       "    }\n",
       "\n",
       "    .dataframe tbody tr th {\n",
       "        vertical-align: top;\n",
       "    }\n",
       "\n",
       "    .dataframe thead th {\n",
       "        text-align: right;\n",
       "    }\n",
       "</style>\n",
       "<table border=\"1\" class=\"dataframe\">\n",
       "  <thead>\n",
       "    <tr style=\"text-align: right;\">\n",
       "      <th></th>\n",
       "      <th>title</th>\n",
       "      <th>release_year</th>\n",
       "      <th>rating</th>\n",
       "    </tr>\n",
       "  </thead>\n",
       "  <tbody>\n",
       "    <tr>\n",
       "      <td>0</td>\n",
       "      <td>Avengers: Age of Ultron</td>\n",
       "      <td>2015.0</td>\n",
       "      <td>7.3</td>\n",
       "    </tr>\n",
       "    <tr>\n",
       "      <td>1</td>\n",
       "      <td>Avengers: Infinity War</td>\n",
       "      <td>2018.0</td>\n",
       "      <td>8.5</td>\n",
       "    </tr>\n",
       "    <tr>\n",
       "      <td>2</td>\n",
       "      <td>Avengers: Endgame</td>\n",
       "      <td>NaN</td>\n",
       "      <td>8.6</td>\n",
       "    </tr>\n",
       "  </tbody>\n",
       "</table>\n",
       "</div>"
      ],
      "text/plain": [
       "                     title  release_year  rating\n",
       "0  Avengers: Age of Ultron        2015.0     7.3\n",
       "1   Avengers: Infinity War        2018.0     8.5\n",
       "2        Avengers: Endgame           NaN     8.6"
      ]
     },
     "execution_count": 89,
     "metadata": {},
     "output_type": "execute_result"
    }
   ],
   "source": [
    "#以右邊資料框存在的觀測值為主\n",
    "left_df = pd.DataFrame()\n",
    "right_df = pd.DataFrame()\n",
    "left_df[\"title\"] = [\"The Avengers\", \"Avengers: Age of Ultron\", \"Avengers: Infinity War\"]\n",
    "left_df[\"release_year\"] = [2012, 2015, 2018]\n",
    "right_df[\"title\"] = [\"Avengers: Infinity War\", \"Avengers: Endgame\", \"Avengers: Age of Ultron\"]\n",
    "right_df[\"rating\"] = [8.5, 8.6, 7.3]\n",
    "left_df\n",
    "right_df\n",
    "print(\"Right join:\")\n",
    "pd.merge(left_df, right_df, how=\"right\")"
   ]
  },
  {
   "cell_type": "code",
   "execution_count": 90,
   "metadata": {
    "slideshow": {
     "slide_type": "subslide"
    }
   },
   "outputs": [
    {
     "name": "stdout",
     "output_type": "stream",
     "text": [
      "Outer join:\n"
     ]
    },
    {
     "data": {
      "text/html": [
       "<div>\n",
       "<style scoped>\n",
       "    .dataframe tbody tr th:only-of-type {\n",
       "        vertical-align: middle;\n",
       "    }\n",
       "\n",
       "    .dataframe tbody tr th {\n",
       "        vertical-align: top;\n",
       "    }\n",
       "\n",
       "    .dataframe thead th {\n",
       "        text-align: right;\n",
       "    }\n",
       "</style>\n",
       "<table border=\"1\" class=\"dataframe\">\n",
       "  <thead>\n",
       "    <tr style=\"text-align: right;\">\n",
       "      <th></th>\n",
       "      <th>title</th>\n",
       "      <th>release_year</th>\n",
       "      <th>rating</th>\n",
       "    </tr>\n",
       "  </thead>\n",
       "  <tbody>\n",
       "    <tr>\n",
       "      <td>0</td>\n",
       "      <td>The Avengers</td>\n",
       "      <td>2012.0</td>\n",
       "      <td>NaN</td>\n",
       "    </tr>\n",
       "    <tr>\n",
       "      <td>1</td>\n",
       "      <td>Avengers: Age of Ultron</td>\n",
       "      <td>2015.0</td>\n",
       "      <td>7.3</td>\n",
       "    </tr>\n",
       "    <tr>\n",
       "      <td>2</td>\n",
       "      <td>Avengers: Infinity War</td>\n",
       "      <td>2018.0</td>\n",
       "      <td>8.5</td>\n",
       "    </tr>\n",
       "    <tr>\n",
       "      <td>3</td>\n",
       "      <td>Avengers: Endgame</td>\n",
       "      <td>NaN</td>\n",
       "      <td>8.6</td>\n",
       "    </tr>\n",
       "  </tbody>\n",
       "</table>\n",
       "</div>"
      ],
      "text/plain": [
       "                     title  release_year  rating\n",
       "0             The Avengers        2012.0     NaN\n",
       "1  Avengers: Age of Ultron        2015.0     7.3\n",
       "2   Avengers: Infinity War        2018.0     8.5\n",
       "3        Avengers: Endgame           NaN     8.6"
      ]
     },
     "execution_count": 90,
     "metadata": {},
     "output_type": "execute_result"
    }
   ],
   "source": [
    "#聯集\n",
    "left_df = pd.DataFrame()\n",
    "right_df = pd.DataFrame()\n",
    "left_df[\"title\"] = [\"The Avengers\", \"Avengers: Age of Ultron\", \"Avengers: Infinity War\"]\n",
    "left_df[\"release_year\"] = [2012, 2015, 2018]\n",
    "right_df[\"title\"] = [\"Avengers: Infinity War\", \"Avengers: Endgame\", \"Avengers: Age of Ultron\"]\n",
    "right_df[\"rating\"] = [8.5, 8.6, 7.3]\n",
    "left_df\n",
    "right_df\n",
    "print(\"Outer join:\")\n",
    "pd.merge(left_df, right_df, how=\"outer\")"
   ]
  },
  {
   "cell_type": "markdown",
   "metadata": {
    "slideshow": {
     "slide_type": "subslide"
    }
   },
   "source": [
    "## 用列索引聯結 df.join()"
   ]
  },
  {
   "cell_type": "code",
   "execution_count": 91,
   "metadata": {},
   "outputs": [
    {
     "data": {
      "text/html": [
       "<div>\n",
       "<style scoped>\n",
       "    .dataframe tbody tr th:only-of-type {\n",
       "        vertical-align: middle;\n",
       "    }\n",
       "\n",
       "    .dataframe tbody tr th {\n",
       "        vertical-align: top;\n",
       "    }\n",
       "\n",
       "    .dataframe thead th {\n",
       "        text-align: right;\n",
       "    }\n",
       "</style>\n",
       "<table border=\"1\" class=\"dataframe\">\n",
       "  <thead>\n",
       "    <tr style=\"text-align: right;\">\n",
       "      <th></th>\n",
       "      <th>release_year</th>\n",
       "      <th>rating</th>\n",
       "    </tr>\n",
       "    <tr>\n",
       "      <th>title</th>\n",
       "      <th></th>\n",
       "      <th></th>\n",
       "    </tr>\n",
       "  </thead>\n",
       "  <tbody>\n",
       "    <tr>\n",
       "      <td>The Avengers</td>\n",
       "      <td>2012</td>\n",
       "      <td>8.5</td>\n",
       "    </tr>\n",
       "    <tr>\n",
       "      <td>Avengers: Age of Ultron</td>\n",
       "      <td>2015</td>\n",
       "      <td>7.3</td>\n",
       "    </tr>\n",
       "    <tr>\n",
       "      <td>Avengers: Infinity War</td>\n",
       "      <td>2018</td>\n",
       "      <td>8.5</td>\n",
       "    </tr>\n",
       "    <tr>\n",
       "      <td>Avengers: Endgame</td>\n",
       "      <td>2019</td>\n",
       "      <td>8.6</td>\n",
       "    </tr>\n",
       "  </tbody>\n",
       "</table>\n",
       "</div>"
      ],
      "text/plain": [
       "                         release_year  rating\n",
       "title                                        \n",
       "The Avengers                     2012     8.5\n",
       "Avengers: Age of Ultron          2015     7.3\n",
       "Avengers: Infinity War           2018     8.5\n",
       "Avengers: Endgame                2019     8.6"
      ]
     },
     "execution_count": 91,
     "metadata": {},
     "output_type": "execute_result"
    }
   ],
   "source": [
    "left_df = pd.DataFrame()\n",
    "right_df = pd.DataFrame()\n",
    "left_df[\"title\"] = [\"The Avengers\", \"Avengers: Age of Ultron\", \"Avengers: Infinity War\", \"Avengers: Endgame\"]\n",
    "left_df[\"release_year\"] = [2012, 2015, 2018, 2019]\n",
    "right_df[\"title\"] = [\"Avengers: Infinity War\", \"Avengers: Endgame\", \"The Avengers\", \"Avengers: Age of Ultron\"]\n",
    "right_df[\"rating\"] = [8.5, 8.6, 8.5, 7.3]\n",
    "left_df = left_df.set_index(\"title\")\n",
    "right_df = right_df.set_index(\"title\")\n",
    "left_df\n",
    "right_df\n",
    "left_df.join(right_df)"
   ]
  },
  {
   "cell_type": "markdown",
   "metadata": {
    "slideshow": {
     "slide_type": "slide"
    }
   },
   "source": [
    "## 美國普查"
   ]
  },
  {
   "cell_type": "markdown",
   "metadata": {
    "slideshow": {
     "slide_type": "subslide"
    }
   },
   "source": [
    "## 來源\n",
    "\n",
    "[Coursera](https://www.coursera.org/) 的 [Introduction to Data Science in Python](https://www.coursera.org/learn/python-data-analysis/home/welcome) 課程作業"
   ]
  },
  {
   "cell_type": "code",
   "execution_count": 92,
   "metadata": {
    "slideshow": {
     "slide_type": "subslide"
    }
   },
   "outputs": [
    {
     "data": {
      "text/plain": [
       "(3193, 100)"
      ]
     },
     "execution_count": 92,
     "metadata": {},
     "output_type": "execute_result"
    }
   ],
   "source": [
    "import pandas as pd\n",
    "\n",
    "census_df = pd.read_csv('https://storage.googleapis.com/py_ml_datasets/census.csv')\n",
    "census_df.shape"
   ]
  },
  {
   "cell_type": "code",
   "execution_count": 93,
   "metadata": {
    "slideshow": {
     "slide_type": "subslide"
    }
   },
   "outputs": [
    {
     "data": {
      "text/html": [
       "<div>\n",
       "<style scoped>\n",
       "    .dataframe tbody tr th:only-of-type {\n",
       "        vertical-align: middle;\n",
       "    }\n",
       "\n",
       "    .dataframe tbody tr th {\n",
       "        vertical-align: top;\n",
       "    }\n",
       "\n",
       "    .dataframe thead th {\n",
       "        text-align: right;\n",
       "    }\n",
       "</style>\n",
       "<table border=\"1\" class=\"dataframe\">\n",
       "  <thead>\n",
       "    <tr style=\"text-align: right;\">\n",
       "      <th></th>\n",
       "      <th>SUMLEV</th>\n",
       "      <th>REGION</th>\n",
       "      <th>DIVISION</th>\n",
       "      <th>STATE</th>\n",
       "      <th>COUNTY</th>\n",
       "      <th>STNAME</th>\n",
       "      <th>CTYNAME</th>\n",
       "      <th>CENSUS2010POP</th>\n",
       "      <th>ESTIMATESBASE2010</th>\n",
       "      <th>POPESTIMATE2010</th>\n",
       "      <th>...</th>\n",
       "      <th>RDOMESTICMIG2011</th>\n",
       "      <th>RDOMESTICMIG2012</th>\n",
       "      <th>RDOMESTICMIG2013</th>\n",
       "      <th>RDOMESTICMIG2014</th>\n",
       "      <th>RDOMESTICMIG2015</th>\n",
       "      <th>RNETMIG2011</th>\n",
       "      <th>RNETMIG2012</th>\n",
       "      <th>RNETMIG2013</th>\n",
       "      <th>RNETMIG2014</th>\n",
       "      <th>RNETMIG2015</th>\n",
       "    </tr>\n",
       "  </thead>\n",
       "  <tbody>\n",
       "    <tr>\n",
       "      <td>0</td>\n",
       "      <td>40</td>\n",
       "      <td>3</td>\n",
       "      <td>6</td>\n",
       "      <td>1</td>\n",
       "      <td>0</td>\n",
       "      <td>Alabama</td>\n",
       "      <td>Alabama</td>\n",
       "      <td>4779736</td>\n",
       "      <td>4780127</td>\n",
       "      <td>4785161</td>\n",
       "      <td>...</td>\n",
       "      <td>0.002295</td>\n",
       "      <td>-0.193196</td>\n",
       "      <td>0.381066</td>\n",
       "      <td>0.582002</td>\n",
       "      <td>-0.467369</td>\n",
       "      <td>1.030015</td>\n",
       "      <td>0.826644</td>\n",
       "      <td>1.383282</td>\n",
       "      <td>1.724718</td>\n",
       "      <td>0.712594</td>\n",
       "    </tr>\n",
       "    <tr>\n",
       "      <td>1</td>\n",
       "      <td>50</td>\n",
       "      <td>3</td>\n",
       "      <td>6</td>\n",
       "      <td>1</td>\n",
       "      <td>1</td>\n",
       "      <td>Alabama</td>\n",
       "      <td>Autauga County</td>\n",
       "      <td>54571</td>\n",
       "      <td>54571</td>\n",
       "      <td>54660</td>\n",
       "      <td>...</td>\n",
       "      <td>7.242091</td>\n",
       "      <td>-2.915927</td>\n",
       "      <td>-3.012349</td>\n",
       "      <td>2.265971</td>\n",
       "      <td>-2.530799</td>\n",
       "      <td>7.606016</td>\n",
       "      <td>-2.626146</td>\n",
       "      <td>-2.722002</td>\n",
       "      <td>2.592270</td>\n",
       "      <td>-2.187333</td>\n",
       "    </tr>\n",
       "    <tr>\n",
       "      <td>2</td>\n",
       "      <td>50</td>\n",
       "      <td>3</td>\n",
       "      <td>6</td>\n",
       "      <td>1</td>\n",
       "      <td>3</td>\n",
       "      <td>Alabama</td>\n",
       "      <td>Baldwin County</td>\n",
       "      <td>182265</td>\n",
       "      <td>182265</td>\n",
       "      <td>183193</td>\n",
       "      <td>...</td>\n",
       "      <td>14.832960</td>\n",
       "      <td>17.647293</td>\n",
       "      <td>21.845705</td>\n",
       "      <td>19.243287</td>\n",
       "      <td>17.197872</td>\n",
       "      <td>15.844176</td>\n",
       "      <td>18.559627</td>\n",
       "      <td>22.727626</td>\n",
       "      <td>20.317142</td>\n",
       "      <td>18.293499</td>\n",
       "    </tr>\n",
       "    <tr>\n",
       "      <td>3</td>\n",
       "      <td>50</td>\n",
       "      <td>3</td>\n",
       "      <td>6</td>\n",
       "      <td>1</td>\n",
       "      <td>5</td>\n",
       "      <td>Alabama</td>\n",
       "      <td>Barbour County</td>\n",
       "      <td>27457</td>\n",
       "      <td>27457</td>\n",
       "      <td>27341</td>\n",
       "      <td>...</td>\n",
       "      <td>-4.728132</td>\n",
       "      <td>-2.500690</td>\n",
       "      <td>-7.056824</td>\n",
       "      <td>-3.904217</td>\n",
       "      <td>-10.543299</td>\n",
       "      <td>-4.874741</td>\n",
       "      <td>-2.758113</td>\n",
       "      <td>-7.167664</td>\n",
       "      <td>-3.978583</td>\n",
       "      <td>-10.543299</td>\n",
       "    </tr>\n",
       "    <tr>\n",
       "      <td>4</td>\n",
       "      <td>50</td>\n",
       "      <td>3</td>\n",
       "      <td>6</td>\n",
       "      <td>1</td>\n",
       "      <td>7</td>\n",
       "      <td>Alabama</td>\n",
       "      <td>Bibb County</td>\n",
       "      <td>22915</td>\n",
       "      <td>22919</td>\n",
       "      <td>22861</td>\n",
       "      <td>...</td>\n",
       "      <td>-5.527043</td>\n",
       "      <td>-5.068871</td>\n",
       "      <td>-6.201001</td>\n",
       "      <td>-0.177537</td>\n",
       "      <td>0.177258</td>\n",
       "      <td>-5.088389</td>\n",
       "      <td>-4.363636</td>\n",
       "      <td>-5.403729</td>\n",
       "      <td>0.754533</td>\n",
       "      <td>1.107861</td>\n",
       "    </tr>\n",
       "  </tbody>\n",
       "</table>\n",
       "<p>5 rows × 100 columns</p>\n",
       "</div>"
      ],
      "text/plain": [
       "   SUMLEV  REGION  DIVISION  STATE  COUNTY   STNAME         CTYNAME  \\\n",
       "0      40       3         6      1       0  Alabama         Alabama   \n",
       "1      50       3         6      1       1  Alabama  Autauga County   \n",
       "2      50       3         6      1       3  Alabama  Baldwin County   \n",
       "3      50       3         6      1       5  Alabama  Barbour County   \n",
       "4      50       3         6      1       7  Alabama     Bibb County   \n",
       "\n",
       "   CENSUS2010POP  ESTIMATESBASE2010  POPESTIMATE2010  ...  RDOMESTICMIG2011  \\\n",
       "0        4779736            4780127          4785161  ...          0.002295   \n",
       "1          54571              54571            54660  ...          7.242091   \n",
       "2         182265             182265           183193  ...         14.832960   \n",
       "3          27457              27457            27341  ...         -4.728132   \n",
       "4          22915              22919            22861  ...         -5.527043   \n",
       "\n",
       "   RDOMESTICMIG2012  RDOMESTICMIG2013  RDOMESTICMIG2014  RDOMESTICMIG2015  \\\n",
       "0         -0.193196          0.381066          0.582002         -0.467369   \n",
       "1         -2.915927         -3.012349          2.265971         -2.530799   \n",
       "2         17.647293         21.845705         19.243287         17.197872   \n",
       "3         -2.500690         -7.056824         -3.904217        -10.543299   \n",
       "4         -5.068871         -6.201001         -0.177537          0.177258   \n",
       "\n",
       "   RNETMIG2011  RNETMIG2012  RNETMIG2013  RNETMIG2014  RNETMIG2015  \n",
       "0     1.030015     0.826644     1.383282     1.724718     0.712594  \n",
       "1     7.606016    -2.626146    -2.722002     2.592270    -2.187333  \n",
       "2    15.844176    18.559627    22.727626    20.317142    18.293499  \n",
       "3    -4.874741    -2.758113    -7.167664    -3.978583   -10.543299  \n",
       "4    -5.088389    -4.363636    -5.403729     0.754533     1.107861  \n",
       "\n",
       "[5 rows x 100 columns]"
      ]
     },
     "execution_count": 93,
     "metadata": {},
     "output_type": "execute_result"
    }
   ],
   "source": [
    "census_df.head()"
   ]
  },
  {
   "cell_type": "markdown",
   "metadata": {
    "slideshow": {
     "slide_type": "subslide"
    }
   },
   "source": [
    "## 隨堂練習：哪個州（state）的郡（county）數最多？\n",
    "\n",
    "```python\n",
    "def answer_one(df):\n",
    "    \"\"\"\n",
    "    這個函數應該回傳一個文字，州名\n",
    "    \"\"\"\n",
    "    return \"答案\"\n",
    "```"
   ]
  },
  {
   "cell_type": "code",
   "execution_count": 94,
   "metadata": {
    "slideshow": {
     "slide_type": "skip"
    }
   },
   "outputs": [],
   "source": [
    "def answer_one(df):\n",
    "    return df.groupby(\"STNAME\")[\"CTYNAME\"].count().idxmax()"
   ]
  },
  {
   "cell_type": "code",
   "execution_count": 95,
   "metadata": {
    "slideshow": {
     "slide_type": "fragment"
    }
   },
   "outputs": [
    {
     "data": {
      "text/plain": [
       "'Texas'"
      ]
     },
     "execution_count": 95,
     "metadata": {},
     "output_type": "execute_result"
    }
   ],
   "source": [
    "answer_one(census_df)"
   ]
  },
  {
   "cell_type": "markdown",
   "metadata": {
    "slideshow": {
     "slide_type": "subslide"
    }
   },
   "source": [
    "## 隨堂練習：僅考慮每州（state）人口最多的三個郡（county）計算人口總和（CENSUS2010POP），哪三個州總和數最多？（請注意 SUMLEV 變數）\n",
    "\n",
    "```python\n",
    "def answer_two(df):\n",
    "    \"\"\"\n",
    "    這個函數應該回傳一個清單，三個州名\n",
    "    \"\"\"\n",
    "    return \"答案\"\n",
    "```"
   ]
  },
  {
   "cell_type": "code",
   "execution_count": 96,
   "metadata": {
    "slideshow": {
     "slide_type": "skip"
    }
   },
   "outputs": [],
   "source": [
    "def answer_two(df):\n",
    "    county_df = df[df[\"SUMLEV\"] == 50]\n",
    "    groupby_summary = county_df.groupby(\"STNAME\")[\"CENSUS2010POP\"].nlargest(3)\n",
    "    groupby_summary_df = pd.DataFrame(groupby_summary).reset_index()\n",
    "    ans = groupby_summary_df.groupby(\"STNAME\")[\"CENSUS2010POP\"].sum().nlargest(3).index\n",
    "    return list(ans)"
   ]
  },
  {
   "cell_type": "code",
   "execution_count": 97,
   "metadata": {
    "slideshow": {
     "slide_type": "fragment"
    }
   },
   "outputs": [
    {
     "data": {
      "text/plain": [
       "['California', 'Texas', 'Illinois']"
      ]
     },
     "execution_count": 97,
     "metadata": {},
     "output_type": "execute_result"
    }
   ],
   "source": [
    "answer_two(census_df)"
   ]
  },
  {
   "cell_type": "markdown",
   "metadata": {
    "slideshow": {
     "slide_type": "subslide"
    }
   },
   "source": [
    "## 隨堂練習：哪個郡（county）在 2010-2015 期間人口改變數量最高？（POPESTIMATE2010:POPESTIMATE2015 這六個變數）\n",
    "\n",
    "提示：如果 6 年的人口數分別為 120, 80, 105, 100, 130, 120 則人口改變數量為 130-80 = 50\n",
    "\n",
    "```python\n",
    "def answer_three(df):\n",
    "    \"\"\"\n",
    "    這個函數應該回傳一個文字，郡名\n",
    "    \"\"\"\n",
    "    return \"答案\"\n",
    "```"
   ]
  },
  {
   "cell_type": "code",
   "execution_count": 98,
   "metadata": {
    "slideshow": {
     "slide_type": "skip"
    }
   },
   "outputs": [],
   "source": [
    "def answer_three(df):\n",
    "    county_df = df[df[\"SUMLEV\"] == 50]\n",
    "    county_df = county_df.set_index(\"CTYNAME\")\n",
    "    county_df = county_df.loc[:, \"POPESTIMATE2010\":\"POPESTIMATE2015\"]\n",
    "    max_population = county_df.loc[:, \"POPESTIMATE2010\":\"POPESTIMATE2015\"].max(axis=1)\n",
    "    min_population = county_df.loc[:, \"POPESTIMATE2010\":\"POPESTIMATE2015\"].min(axis=1)\n",
    "    diff_population = max_population - min_population\n",
    "    return diff_population.idxmax()"
   ]
  },
  {
   "cell_type": "code",
   "execution_count": 99,
   "metadata": {
    "slideshow": {
     "slide_type": "fragment"
    }
   },
   "outputs": [
    {
     "data": {
      "text/plain": [
       "'Harris County'"
      ]
     },
     "execution_count": 99,
     "metadata": {},
     "output_type": "execute_result"
    }
   ],
   "source": [
    "answer_three(census_df)"
   ]
  },
  {
   "cell_type": "markdown",
   "metadata": {
    "slideshow": {
     "slide_type": "subslide"
    }
   },
   "source": [
    "## 隨堂練習：篩選出屬於 REGION 1 或 2、開頭名稱為 Washington 並且 POPESTIMATE2015 大於 POPESTIMATE2014 的郡（county）\n",
    "\n",
    "```python\n",
    "def answer_four():\n",
    "    \"\"\"\n",
    "    這個函數應該回傳一個 DataFrame，外型為 5x2，\n",
    "    變數名稱為 ['STNAME', 'CTYNAME']，\n",
    "    索引值由小到大排列\n",
    "    \"\"\"\n",
    "    return \"答案\"\n",
    "```"
   ]
  },
  {
   "cell_type": "code",
   "execution_count": 100,
   "metadata": {
    "slideshow": {
     "slide_type": "skip"
    }
   },
   "outputs": [],
   "source": [
    "def answer_four(df):\n",
    "    county_df = df[df[\"SUMLEV\"] == 50]\n",
    "    contains_washington = county_df[\"CTYNAME\"].str.contains(\"Washington\")\n",
    "    region_filter = (county_df[\"REGION\"] == 1) | (county_df[\"REGION\"] == 2)\n",
    "    pop_filter = county_df[\"POPESTIMATE2015\"] > county_df[\"POPESTIMATE2014\"]\n",
    "    ans = county_df[contains_washington & region_filter & pop_filter][[\"STNAME\", \"CTYNAME\"]]\n",
    "    ans = ans.reset_index(drop=True)\n",
    "    return ans"
   ]
  },
  {
   "cell_type": "code",
   "execution_count": 101,
   "metadata": {
    "slideshow": {
     "slide_type": "fragment"
    }
   },
   "outputs": [
    {
     "data": {
      "text/html": [
       "<div>\n",
       "<style scoped>\n",
       "    .dataframe tbody tr th:only-of-type {\n",
       "        vertical-align: middle;\n",
       "    }\n",
       "\n",
       "    .dataframe tbody tr th {\n",
       "        vertical-align: top;\n",
       "    }\n",
       "\n",
       "    .dataframe thead th {\n",
       "        text-align: right;\n",
       "    }\n",
       "</style>\n",
       "<table border=\"1\" class=\"dataframe\">\n",
       "  <thead>\n",
       "    <tr style=\"text-align: right;\">\n",
       "      <th></th>\n",
       "      <th>STNAME</th>\n",
       "      <th>CTYNAME</th>\n",
       "    </tr>\n",
       "  </thead>\n",
       "  <tbody>\n",
       "    <tr>\n",
       "      <td>0</td>\n",
       "      <td>Iowa</td>\n",
       "      <td>Washington County</td>\n",
       "    </tr>\n",
       "    <tr>\n",
       "      <td>1</td>\n",
       "      <td>Minnesota</td>\n",
       "      <td>Washington County</td>\n",
       "    </tr>\n",
       "    <tr>\n",
       "      <td>2</td>\n",
       "      <td>Pennsylvania</td>\n",
       "      <td>Washington County</td>\n",
       "    </tr>\n",
       "    <tr>\n",
       "      <td>3</td>\n",
       "      <td>Rhode Island</td>\n",
       "      <td>Washington County</td>\n",
       "    </tr>\n",
       "    <tr>\n",
       "      <td>4</td>\n",
       "      <td>Wisconsin</td>\n",
       "      <td>Washington County</td>\n",
       "    </tr>\n",
       "  </tbody>\n",
       "</table>\n",
       "</div>"
      ],
      "text/plain": [
       "         STNAME            CTYNAME\n",
       "0          Iowa  Washington County\n",
       "1     Minnesota  Washington County\n",
       "2  Pennsylvania  Washington County\n",
       "3  Rhode Island  Washington County\n",
       "4     Wisconsin  Washington County"
      ]
     },
     "execution_count": 101,
     "metadata": {},
     "output_type": "execute_result"
    }
   ],
   "source": [
    "answer_four(census_df)"
   ]
  },
  {
   "cell_type": "markdown",
   "metadata": {
    "slideshow": {
     "slide_type": "slide"
    }
   },
   "source": [
    "## 延伸閱讀\n",
    "\n",
    "[pandas: powerful Python data analysis toolkit](http://pandas.pydata.org/pandas-docs/stable/)"
   ]
  },
  {
   "cell_type": "markdown",
   "metadata": {
    "slideshow": {
     "slide_type": "slide"
    }
   },
   "source": [
    "## 作業"
   ]
  },
  {
   "cell_type": "markdown",
   "metadata": {
    "slideshow": {
     "slide_type": "subslide"
    }
   },
   "source": [
    "## 擷取 Avengers: Endgame (2019) 的上映日期列表，改以 `pandas` 回答最多的上映日期為哪一天？"
   ]
  },
  {
   "cell_type": "code",
   "execution_count": 102,
   "metadata": {
    "slideshow": {
     "slide_type": "skip"
    }
   },
   "outputs": [],
   "source": [
    "import requests\n",
    "from bs4 import BeautifulSoup\n",
    "import pandas as pd\n",
    "\n",
    "def answer_one():\n",
    "    r = requests.get(\"https://www.imdb.com/title/tt4154796/releaseinfo\")\n",
    "    soup = BeautifulSoup(r.text)\n",
    "    countries = [i.text.strip() for i in soup.select(\".release-date-item__country-name a\")]\n",
    "    release_dates = [i.text for i in soup.select(\".release-date-item__date\")]\n",
    "    df = pd.DataFrame()\n",
    "    df[\"country\"] = countries\n",
    "    df[\"release_date\"] = release_dates\n",
    "    grouped = df.groupby(\"release_date\")\n",
    "    return grouped[\"country\"].count()"
   ]
  },
  {
   "cell_type": "code",
   "execution_count": 103,
   "metadata": {
    "slideshow": {
     "slide_type": "subslide"
    }
   },
   "outputs": [
    {
     "data": {
      "text/plain": [
       "release_date\n",
       "12 July 2019         2\n",
       "2 September 2019     1\n",
       "22 April 2019        1\n",
       "23 April 2019        1\n",
       "24 April 2019       33\n",
       "25 April 2019       23\n",
       "26 April 2019       14\n",
       "26 July 2019         1\n",
       "28 April 2019        1\n",
       "28 June 2019         3\n",
       "29 April 2019        1\n",
       "29 June 2019         1\n",
       "4 July 2019          1\n",
       "Name: country, dtype: int64"
      ]
     },
     "execution_count": 103,
     "metadata": {},
     "output_type": "execute_result"
    }
   ],
   "source": [
    "answer_one()"
   ]
  },
  {
   "cell_type": "code",
   "execution_count": 104,
   "metadata": {
    "slideshow": {
     "slide_type": "subslide"
    }
   },
   "outputs": [
    {
     "data": {
      "text/plain": [
       "'24 April 2019'"
      ]
     },
     "execution_count": 104,
     "metadata": {},
     "output_type": "execute_result"
    }
   ],
   "source": [
    "answer_one().idxmax()"
   ]
  },
  {
   "cell_type": "markdown",
   "metadata": {
    "slideshow": {
     "slide_type": "subslide"
    }
   },
   "source": [
    "## 擷取 Avengers: Endgame (2019) 的上映日期列表，改以 `pandas` 回答有幾個國家在那天上映？"
   ]
  },
  {
   "cell_type": "code",
   "execution_count": 105,
   "metadata": {
    "slideshow": {
     "slide_type": "skip"
    }
   },
   "outputs": [],
   "source": [
    "import requests\n",
    "from bs4 import BeautifulSoup\n",
    "import pandas as pd\n",
    "\n",
    "def answer_two():\n",
    "    r = requests.get(\"https://www.imdb.com/title/tt4154796/releaseinfo\")\n",
    "    soup = BeautifulSoup(r.text)\n",
    "    countries = [i.text.strip() for i in soup.select(\".release-date-item__country-name a\")]\n",
    "    release_dates = [i.text for i in soup.select(\".release-date-item__date\")]\n",
    "    df = pd.DataFrame()\n",
    "    df[\"country\"] = countries\n",
    "    df[\"release_date\"] = release_dates\n",
    "    grouped = df.groupby(\"release_date\")\n",
    "    n_countries = grouped[\"country\"].count().max()\n",
    "    most_release_dates = grouped[\"country\"].count().idxmax()\n",
    "    return \"共有 {} 個國家在 {} 上映 Avengers: Endgame (2019)\".format(n_countries, most_release_dates)"
   ]
  },
  {
   "cell_type": "code",
   "execution_count": 106,
   "metadata": {
    "slideshow": {
     "slide_type": "subslide"
    }
   },
   "outputs": [
    {
     "data": {
      "text/plain": [
       "'共有 33 個國家在 24 April 2019 上映 Avengers: Endgame (2019)'"
      ]
     },
     "execution_count": 106,
     "metadata": {},
     "output_type": "execute_result"
    }
   ],
   "source": [
    "answer_two()"
   ]
  }
 ],
 "metadata": {
  "celltoolbar": "Slideshow",
  "kernelspec": {
   "display_name": "Python 3",
   "language": "python",
   "name": "python3"
  },
  "language_info": {
   "codemirror_mode": {
    "name": "ipython",
    "version": 3
   },
   "file_extension": ".py",
   "mimetype": "text/x-python",
   "name": "python",
   "nbconvert_exporter": "python",
   "pygments_lexer": "ipython3",
   "version": "3.7.7"
  }
 },
 "nbformat": 4,
 "nbformat_minor": 2
}
