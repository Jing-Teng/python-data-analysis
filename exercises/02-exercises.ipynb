{
 "cells": [
  {
   "cell_type": "markdown",
   "metadata": {
    "slideshow": {
     "slide_type": "slide"
    }
   },
   "source": [
    "# 成為資料分析師 | Python 與資料科學應用\n",
    "\n",
    "> NumPy 101：隨堂練習\n",
    "\n",
    "## 郭耀仁"
   ]
  },
  {
   "cell_type": "code",
   "execution_count": null,
   "metadata": {
    "slideshow": {
     "slide_type": "subslide"
    }
   },
   "outputs": [],
   "source": [
    "import numpy as np"
   ]
  },
  {
   "cell_type": "markdown",
   "metadata": {
    "slideshow": {
     "slide_type": "subslide"
    }
   },
   "source": [
    "## 隨堂練習：創建一個九九乘法表的二維陣列"
   ]
  },
  {
   "cell_type": "code",
   "execution_count": null,
   "metadata": {
    "slideshow": {
     "slide_type": "-"
    }
   },
   "outputs": [],
   "source": [
    "def create_99_array():\n",
    "    \"\"\"\n",
    "    >>> create_99_array()\n",
    "    array([[ 1,  2,  3,  4,  5,  6,  7,  8,  9],\n",
    "           [ 2,  4,  6,  8, 10, 12, 14, 16, 18],\n",
    "           [ 3,  6,  9, 12, 15, 18, 21, 24, 27],\n",
    "           [ 4,  8, 12, 16, 20, 24, 28, 32, 36],\n",
    "           [ 5, 10, 15, 20, 25, 30, 35, 40, 45],\n",
    "           [ 6, 12, 18, 24, 30, 36, 42, 48, 54],\n",
    "           [ 7, 14, 21, 28, 35, 42, 49, 56, 63],\n",
    "           [ 8, 16, 24, 32, 40, 48, 56, 64, 72],\n",
    "           [ 9, 18, 27, 36, 45, 54, 63, 72, 81]])\n",
    "    \"\"\""
   ]
  },
  {
   "cell_type": "markdown",
   "metadata": {
    "slideshow": {
     "slide_type": "subslide"
    }
   },
   "source": [
    "## 隨堂練習：寫作一個可以計算陣列[變異數](https://zh.wikipedia.org/zh-tw/%E6%96%B9%E5%B7%AE)的函式 `var(x)`\n",
    "\n",
    "$$Var(x) = \\frac{1}{N}\\sum_{n=1}^{N}(x_n - \\bar{x})^2$$"
   ]
  },
  {
   "cell_type": "code",
   "execution_count": null,
   "metadata": {},
   "outputs": [],
   "source": [
    "def var(x):\n",
    "    \"\"\"\n",
    "    >>> var(np.arange(10))\n",
    "    8.25\n",
    "    >>> var(np.arange(100))\n",
    "    833.25\n",
    "    \"\"\""
   ]
  },
  {
   "cell_type": "markdown",
   "metadata": {
    "slideshow": {
     "slide_type": "subslide"
    }
   },
   "source": [
    "## 隨堂練習：寫作一個可以計算陣列[標準差](https://zh.wikipedia.org/wiki/%E6%A8%99%E6%BA%96%E5%B7%AE)的函式 `std(x, ddof=0)`\n",
    "\n",
    "$$SD(x) = \\sqrt{\\frac{1}{N- ddof}\\sum_{i=1}^{N}(x_i - \\bar{x})^2}$$"
   ]
  },
  {
   "cell_type": "code",
   "execution_count": null,
   "metadata": {
    "slideshow": {
     "slide_type": "-"
    }
   },
   "outputs": [],
   "source": [
    "def std(x, ddof=0):\n",
    "    \"\"\"\n",
    "    >>> std(np.arange(10))\n",
    "    2.8722813232690143\n",
    "    >>> std(np.arange(10), 1)\n",
    "    3.0276503540974917\n",
    "    >>> std(np.arange(1))\n",
    "    ValueError: The length of array must be larger than 1.\n",
    "    \"\"\""
   ]
  },
  {
   "cell_type": "markdown",
   "metadata": {
    "slideshow": {
     "slide_type": "subslide"
    }
   },
   "source": [
    "## 隨堂練習：計算 $x$ 與 $y$ 的[共變異數](https://zh.wikipedia.org/wiki/%E5%8D%8F%E6%96%B9%E5%B7%AE)\n",
    "\n",
    "$$cov(x, y) = \\frac{1}{N}\\sum_{n=1}^{N}(x_n-\\bar{x})(y_n-\\bar{y})$$"
   ]
  },
  {
   "cell_type": "code",
   "execution_count": null,
   "metadata": {},
   "outputs": [],
   "source": [
    "def cov(x, y):\n",
    "    \"\"\"\n",
    "    >>> np.random.seed(123)\n",
    "    >>> x = np.random.randint(0, 50, 10)\n",
    "    >>> y = np.random.randint(0, 50, 10)\n",
    "    >>> cov(x, y)\n",
    "    -54.7\n",
    "    \"\"\""
   ]
  },
  {
   "cell_type": "markdown",
   "metadata": {
    "slideshow": {
     "slide_type": "subslide"
    }
   },
   "source": [
    "## 隨堂練習：計算 $x$ 與 $y$ 的[相關係數](https://zh.wikipedia.org/wiki/%E7%9B%B8%E5%85%B3) $r_{xy}$\n",
    "\n",
    "$$r_{xy} = \\frac{cov(x, y)}{\\sqrt{cov(x, x)cov(y, y)}}$$"
   ]
  },
  {
   "cell_type": "code",
   "execution_count": null,
   "metadata": {},
   "outputs": [],
   "source": [
    "def corr(x, y):\n",
    "    \"\"\"\n",
    "    >>> np.random.seed(123)\n",
    "    >>> x = np.random.randint(0, 50, 10)\n",
    "    >>> y = np.random.randint(0, 50, 10)\n",
    "    >>> corr(x, y)\n",
    "    -0.3409853364175933\n",
    "    \"\"\""
   ]
  },
  {
   "cell_type": "code",
   "execution_count": null,
   "metadata": {},
   "outputs": [],
   "source": [
    "%load ../test_cases/test_cases_02.py"
   ]
  }
 ],
 "metadata": {
  "celltoolbar": "Slideshow",
  "kernelspec": {
   "display_name": "Python Data Analysis",
   "language": "python",
   "name": "pyda"
  },
  "language_info": {
   "codemirror_mode": {
    "name": "ipython",
    "version": 3
   },
   "file_extension": ".py",
   "mimetype": "text/x-python",
   "name": "python",
   "nbconvert_exporter": "python",
   "pygments_lexer": "ipython3",
   "version": "3.6.8"
  }
 },
 "nbformat": 4,
 "nbformat_minor": 2
}
