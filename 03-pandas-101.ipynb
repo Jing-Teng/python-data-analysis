{
 "cells": [
  {
   "cell_type": "markdown",
   "metadata": {
    "slideshow": {
     "slide_type": "slide"
    }
   },
   "source": [
    "# 成為資料分析師 | Python 與資料科學應用\n",
    "\n",
    "> Pandas 101：處理表格式資料的 Python 套件\n",
    "\n",
    "## 郭耀仁"
   ]
  },
  {
   "cell_type": "markdown",
   "metadata": {
    "slideshow": {
     "slide_type": "subslide"
    }
   },
   "source": [
    "## 大綱\n",
    "\n",
    "- pandas 解決了什麼問題\n",
    "- pandas 基礎\n",
    "- Series 與 DataFrame 的基礎操作"
   ]
  },
  {
   "cell_type": "markdown",
   "metadata": {
    "slideshow": {
     "slide_type": "slide"
    }
   },
   "source": [
    "## pandas 解決了什麼問題"
   ]
  },
  {
   "cell_type": "markdown",
   "metadata": {
    "slideshow": {
     "slide_type": "subslide"
    }
   },
   "source": [
    "## 請計算註冊於開曼群島（股票名稱有 KY 註記）的上市公司股價中位數\n",
    "\n",
    "<https://tw.stock.yahoo.com/d/i/rank.php?t=pri&e=tse&n=100>"
   ]
  },
  {
   "cell_type": "code",
   "execution_count": 1,
   "metadata": {
    "slideshow": {
     "slide_type": "subslide"
    }
   },
   "outputs": [],
   "source": [
    "import requests\n",
    "from bs4 import BeautifulSoup"
   ]
  },
  {
   "cell_type": "code",
   "execution_count": 2,
   "metadata": {
    "slideshow": {
     "slide_type": "subslide"
    }
   },
   "outputs": [],
   "source": [
    "def get_price_rank():\n",
    "    query_str_parameters = {\n",
    "        't': 'pri',\n",
    "        'e': 'tse',\n",
    "        'n': '100'\n",
    "    }\n",
    "    request_url = \"https://tw.stock.yahoo.com/d/i/rank.php\"\n",
    "    response = requests.get(request_url, params=query_str_parameters)\n",
    "    soup = BeautifulSoup(response.text)\n",
    "    stock_tickers = []\n",
    "    stock_names = []\n",
    "    for e in soup.select(\".name a\"):\n",
    "        stock_ticker = e.text.split()[0]\n",
    "        stock_name = e.text.split()[1]\n",
    "        stock_tickers.append(stock_ticker)\n",
    "        stock_names.append(stock_name)\n",
    "    prices = [float(e.text) for e in soup.select('.name+ td')]\n",
    "    return stock_tickers, stock_names, prices"
   ]
  },
  {
   "cell_type": "code",
   "execution_count": 3,
   "metadata": {
    "slideshow": {
     "slide_type": "fragment"
    }
   },
   "outputs": [
    {
     "name": "stdout",
     "output_type": "stream",
     "text": [
      "['3008', '5269', '6415', '6409', '6669', '2454', '3661', '2207', '3406', '1590', '8454', '6531', '3533', '2330', '2379', '2327', '1476', '8464', '3653', '2059', '2049', '9921', '6504', '3443', '2395', '3563', '3034', '6414', '2227', '2912', '4968', '9914', '8341', '6230', '2357', '2474', '2345', '2404', '3413', '3665', '4137', '1256', '2308', '1325', '8070', '9910', '1707', '1477', '2492', '4551', '3023', '6491', '3515', '8462', '2383', '8081', '2439', '8422', '6670', '4536', '6582', '2360', '3130', '6706', '1537', '3376', '6416', '5215', '8016', '4958', '6533', '2458', '6271', '4439', '6715', '4766', '1558', '6269', '2707', '2377', '8499', '4438', '6278', '4977', '4912', '6456', '6213', '4763', '3532', '3044', '5434', '5871', '4943', '6464', '4119', '1760', '8480', '8046', '1232', '2231']\n",
      "['大立光', '祥碩', '矽力-KY', '旭隼', '緯穎', '聯發科', '世芯-KY', '和泰車', '玉晶光', '亞德客-KY', '富邦媒', '愛普', '嘉澤', '台積電', '瑞昱', '國巨', '儒鴻', '億豐', '健策', '川湖', '上銀', '巨大', '南六', '創意', '研華', '牧德', '聯詠', '樺漢', '裕日車', '統一超', '立積', '美利達', '日友', '超眾', '華碩', '可成', '智邦', '漢唐', '京鼎', '貿聯-KY', '麗豐-KY', '鮮活果汁-KY', '台達電', '恆大', '長華', '豐泰', '葡萄王', '聚陽', '華新科', '智伸科', '信邦', '晶碩', '華擎', '柏文', '台光電', '致新', '美律', '可寧衛', '復盛應用', '拓凱', '申豐', '致茂', '一零四', '惠特', '廣隆', '新日興', '瑞祺電通', '科嘉-KY', '矽創', '臻鼎-KY', '晶心科', '義隆', '同欣電', '冠星-KY', '嘉基', '南寶', '伸興', '台郡', '晶華', '微星', '鼎炫-KY', '廣越', '台表科', '眾達-KY', '聯德控股-KY', 'GIS-KY', '聯茂', '材料-KY', '台勝科', '健鼎', '崇越', '中租-KY', '康控-KY', '台數科', '旭富', '寶齡富錦', '泰昇-KY', '南電', '大統益', '為升']\n",
      "[4000.0, 1815.0, 1785.0, 980.0, 838.0, 706.0, 674.0, 668.0, 662.0, 643.0, 612.0, 436.5, 436.0, 435.5, 404.0, 384.5, 373.0, 356.5, 337.0, 332.5, 310.0, 308.5, 307.0, 301.0, 300.0, 299.5, 287.0, 284.5, 280.0, 275.0, 274.0, 272.5, 258.5, 249.0, 230.5, 226.0, 220.0, 213.0, 212.0, 205.5, 203.0, 202.0, 201.5, 198.0, 190.0, 188.5, 184.0, 178.0, 176.0, 176.0, 174.5, 174.0, 173.5, 170.0, 169.0, 164.5, 162.5, 162.5, 162.0, 161.5, 160.0, 158.0, 152.0, 151.0, 150.0, 149.5, 149.5, 148.0, 145.0, 144.0, 144.0, 143.0, 142.0, 139.0, 135.5, 135.0, 134.0, 133.5, 133.5, 133.0, 133.0, 132.5, 132.5, 132.0, 132.0, 132.0, 131.0, 128.0, 126.5, 125.5, 124.0, 124.0, 123.0, 122.5, 122.0, 121.5, 121.0, 120.0, 119.5, 119.0]\n"
     ]
    }
   ],
   "source": [
    "stock_tickers, stock_names, prices = get_price_rank()\n",
    "print(stock_tickers)\n",
    "print(stock_names)\n",
    "print(prices)"
   ]
  },
  {
   "cell_type": "code",
   "execution_count": 4,
   "metadata": {
    "slideshow": {
     "slide_type": "subslide"
    }
   },
   "outputs": [
    {
     "data": {
      "text/plain": [
       "139.0"
      ]
     },
     "execution_count": 4,
     "metadata": {},
     "output_type": "execute_result"
    }
   ],
   "source": [
    "from statistics import median\n",
    "\n",
    "ky_prices = [price for stock_name, price in zip(stock_names, prices) if \"KY\" in stock_name]\n",
    "median(ky_prices)"
   ]
  },
  {
   "cell_type": "markdown",
   "metadata": {
    "slideshow": {
     "slide_type": "subslide"
    }
   },
   "source": [
    "## Python 一直以來都非常適合資料處理，但她的分析能力很薄弱，`pandas` 的開發有助於補足 Python 資料分析的需求，讓使用者能夠在 Python 中執行完整的資料分析流程，而無需切換到 data-centric 的特定語言，如 R。"
   ]
  },
  {
   "cell_type": "code",
   "execution_count": 5,
   "metadata": {
    "slideshow": {
     "slide_type": "subslide"
    }
   },
   "outputs": [
    {
     "data": {
      "text/html": [
       "<div>\n",
       "<style scoped>\n",
       "    .dataframe tbody tr th:only-of-type {\n",
       "        vertical-align: middle;\n",
       "    }\n",
       "\n",
       "    .dataframe tbody tr th {\n",
       "        vertical-align: top;\n",
       "    }\n",
       "\n",
       "    .dataframe thead th {\n",
       "        text-align: right;\n",
       "    }\n",
       "</style>\n",
       "<table border=\"1\" class=\"dataframe\">\n",
       "  <thead>\n",
       "    <tr style=\"text-align: right;\">\n",
       "      <th></th>\n",
       "      <th>ticker</th>\n",
       "      <th>stock_name</th>\n",
       "      <th>price</th>\n",
       "    </tr>\n",
       "  </thead>\n",
       "  <tbody>\n",
       "    <tr>\n",
       "      <th>0</th>\n",
       "      <td>3008</td>\n",
       "      <td>大立光</td>\n",
       "      <td>4000.0</td>\n",
       "    </tr>\n",
       "    <tr>\n",
       "      <th>1</th>\n",
       "      <td>5269</td>\n",
       "      <td>祥碩</td>\n",
       "      <td>1815.0</td>\n",
       "    </tr>\n",
       "    <tr>\n",
       "      <th>2</th>\n",
       "      <td>6415</td>\n",
       "      <td>矽力-KY</td>\n",
       "      <td>1785.0</td>\n",
       "    </tr>\n",
       "    <tr>\n",
       "      <th>3</th>\n",
       "      <td>6409</td>\n",
       "      <td>旭隼</td>\n",
       "      <td>980.0</td>\n",
       "    </tr>\n",
       "    <tr>\n",
       "      <th>4</th>\n",
       "      <td>6669</td>\n",
       "      <td>緯穎</td>\n",
       "      <td>838.0</td>\n",
       "    </tr>\n",
       "  </tbody>\n",
       "</table>\n",
       "</div>"
      ],
      "text/plain": [
       "  ticker stock_name   price\n",
       "0   3008        大立光  4000.0\n",
       "1   5269         祥碩  1815.0\n",
       "2   6415      矽力-KY  1785.0\n",
       "3   6409         旭隼   980.0\n",
       "4   6669         緯穎   838.0"
      ]
     },
     "execution_count": 5,
     "metadata": {},
     "output_type": "execute_result"
    }
   ],
   "source": [
    "import pandas as pd\n",
    "\n",
    "df = pd.DataFrame()\n",
    "df[\"ticker\"] = stock_tickers\n",
    "df[\"stock_name\"] = stock_names\n",
    "df[\"price\"] = prices\n",
    "df.head()"
   ]
  },
  {
   "cell_type": "code",
   "execution_count": 6,
   "metadata": {
    "slideshow": {
     "slide_type": "subslide"
    }
   },
   "outputs": [
    {
     "data": {
      "text/plain": [
       "139.0"
      ]
     },
     "execution_count": 6,
     "metadata": {},
     "output_type": "execute_result"
    }
   ],
   "source": [
    "df[df[\"stock_name\"].str.contains(\"KY\")][\"price\"].median()"
   ]
  },
  {
   "cell_type": "markdown",
   "metadata": {
    "slideshow": {
     "slide_type": "subslide"
    }
   },
   "source": [
    "## pandas 提供了新的資料結構\n",
    "\n",
    "- Series 是具備索引的 ndarray\n",
    "- DataFrame 能完美處理表格式資料（tabular data）\n",
    "- Panel 能為 DataFrame 加入第三個維度，通常為時間（自 Pandas 0.20.0 版本之後取消了此類別）"
   ]
  },
  {
   "cell_type": "markdown",
   "metadata": {
    "slideshow": {
     "slide_type": "subslide"
    }
   },
   "source": [
    "## pandas 主要的應用場景\n",
    "\n",
    "- 表格式資料的讀取\n",
    "- 豐富的資料清理與分析函數\n",
    "- 視覺化：包裝了常用的 matplotlib.pyplot 圖形"
   ]
  },
  {
   "cell_type": "markdown",
   "metadata": {
    "slideshow": {
     "slide_type": "slide"
    }
   },
   "source": [
    "## pandas 基礎"
   ]
  },
  {
   "cell_type": "markdown",
   "metadata": {
    "slideshow": {
     "slide_type": "subslide"
    }
   },
   "source": [
    "## 什麼是 pandas？\n",
    "\n",
    "> Flexible and powerful data analysis / manipulation library for Python, providing labeled data structures similar to R data.frame objects, statistical functions, and much more."
   ]
  },
  {
   "cell_type": "markdown",
   "metadata": {
    "slideshow": {
     "slide_type": "subslide"
    }
   },
   "source": [
    "## 安裝與載入 pandas\n",
    "\n",
    "- 安裝\n",
    "\n",
    "```bash\n",
    "# run in bash shell\n",
    "pip install pandas\n",
    "```\n",
    "\n",
    "- 載入\n",
    "\n",
    "```py\n",
    "# run in python console\n",
    "import pandas as pd\n",
    "```"
   ]
  },
  {
   "cell_type": "markdown",
   "metadata": {
    "slideshow": {
     "slide_type": "subslide"
    }
   },
   "source": [
    "## pandas 的命名源自她的資料結構\n",
    "\n",
    "- **Pan**el（自 Pandas 0.20.0 版本之後取消了此類別）\n",
    "- **Da**taFrame\n",
    "- **S**eries\n",
    "- Index"
   ]
  },
  {
   "cell_type": "markdown",
   "metadata": {
    "slideshow": {
     "slide_type": "subslide"
    }
   },
   "source": [
    "## pandas 中的 Series\n",
    "\n",
    "使用 `pd.Series()` 函數創建 Series 類別，Series 從 ndarray 繼承了所有特性，並加上一組 Index。"
   ]
  },
  {
   "cell_type": "code",
   "execution_count": 7,
   "metadata": {},
   "outputs": [
    {
     "name": "stdout",
     "output_type": "stream",
     "text": [
      "<class 'pandas.core.series.Series'>\n",
      "0    8.0\n",
      "1    7.3\n",
      "2    8.5\n",
      "3    8.6\n",
      "dtype: float64\n",
      "8.6\n"
     ]
    }
   ],
   "source": [
    "import pandas as pd\n",
    "\n",
    "movie_ratings = [8.0, 7.3, 8.5, 8.6]\n",
    "ser = pd.Series(movie_ratings)\n",
    "print(type(ser))\n",
    "print(ser)\n",
    "print(ser[3])"
   ]
  },
  {
   "cell_type": "markdown",
   "metadata": {
    "slideshow": {
     "slide_type": "subslide"
    }
   },
   "source": [
    "## 這使得她不只能夠透過絕對位置來索引，亦可以透過像操作 dict 一般，以鍵（Key）作為選擇索引依據"
   ]
  },
  {
   "cell_type": "code",
   "execution_count": 8,
   "metadata": {},
   "outputs": [
    {
     "name": "stdout",
     "output_type": "stream",
     "text": [
      "The Avengers               8.0\n",
      "Avengers: Age of Ultron    7.3\n",
      "Avengers: Infinity War     8.5\n",
      "Avengers: Endgame          8.6\n",
      "dtype: float64\n",
      "8.6\n"
     ]
    }
   ],
   "source": [
    "movie_ratings = [8.0, 7.3, 8.5, 8.6]\n",
    "movie_titles = [\"The Avengers\", \"Avengers: Age of Ultron\", \"Avengers: Infinity War\", \"Avengers: Endgame\"]\n",
    "ser = pd.Series(movie_ratings, index=movie_titles)\n",
    "print(ser)\n",
    "print(ser[\"Avengers: Endgame\"])"
   ]
  },
  {
   "cell_type": "markdown",
   "metadata": {
    "slideshow": {
     "slide_type": "subslide"
    }
   },
   "source": [
    "## 可以將 Series 視為一種較為泛用的 ndarray，同時具備 list 和 dict 的特性，以 .index 屬性與 .values 屬性可以將 Series 拆分為 Index 類別與 ndarray"
   ]
  },
  {
   "cell_type": "code",
   "execution_count": 9,
   "metadata": {},
   "outputs": [
    {
     "name": "stdout",
     "output_type": "stream",
     "text": [
      "Index(['The Avengers', 'Avengers: Age of Ultron', 'Avengers: Infinity War',\n",
      "       'Avengers: Endgame'],\n",
      "      dtype='object')\n",
      "[8.  7.3 8.5 8.6]\n",
      "<class 'pandas.core.indexes.base.Index'>\n",
      "<class 'numpy.ndarray'>\n"
     ]
    }
   ],
   "source": [
    "movie_ratings = [8.0, 7.3, 8.5, 8.6]\n",
    "movie_titles = [\"The Avengers\", \"Avengers: Age of Ultron\", \"Avengers: Infinity War\", \"Avengers: Endgame\"]\n",
    "ser = pd.Series(movie_ratings, index=movie_titles)\n",
    "print(ser.index)\n",
    "print(ser.values)\n",
    "print(type(ser.index))\n",
    "print(type(ser.values))"
   ]
  },
  {
   "cell_type": "markdown",
   "metadata": {
    "slideshow": {
     "slide_type": "subslide"
    }
   },
   "source": [
    "## pandas 中的 DataFrame\n",
    "\n",
    "我們可以使用 `pd.DataFrame()` 函數創建 DataFrame 類別。"
   ]
  },
  {
   "cell_type": "code",
   "execution_count": 10,
   "metadata": {},
   "outputs": [
    {
     "name": "stdout",
     "output_type": "stream",
     "text": [
      "<class 'pandas.core.frame.DataFrame'>\n"
     ]
    },
    {
     "data": {
      "text/html": [
       "<div>\n",
       "<style scoped>\n",
       "    .dataframe tbody tr th:only-of-type {\n",
       "        vertical-align: middle;\n",
       "    }\n",
       "\n",
       "    .dataframe tbody tr th {\n",
       "        vertical-align: top;\n",
       "    }\n",
       "\n",
       "    .dataframe thead th {\n",
       "        text-align: right;\n",
       "    }\n",
       "</style>\n",
       "<table border=\"1\" class=\"dataframe\">\n",
       "  <thead>\n",
       "    <tr style=\"text-align: right;\">\n",
       "      <th></th>\n",
       "      <th>title</th>\n",
       "      <th>rating</th>\n",
       "    </tr>\n",
       "  </thead>\n",
       "  <tbody>\n",
       "    <tr>\n",
       "      <th>0</th>\n",
       "      <td>The Avengers</td>\n",
       "      <td>8.0</td>\n",
       "    </tr>\n",
       "    <tr>\n",
       "      <th>1</th>\n",
       "      <td>Avengers: Age of Ultron</td>\n",
       "      <td>7.3</td>\n",
       "    </tr>\n",
       "    <tr>\n",
       "      <th>2</th>\n",
       "      <td>Avengers: Infinity War</td>\n",
       "      <td>8.5</td>\n",
       "    </tr>\n",
       "    <tr>\n",
       "      <th>3</th>\n",
       "      <td>Avengers: Endgame</td>\n",
       "      <td>8.6</td>\n",
       "    </tr>\n",
       "  </tbody>\n",
       "</table>\n",
       "</div>"
      ],
      "text/plain": [
       "                     title  rating\n",
       "0             The Avengers     8.0\n",
       "1  Avengers: Age of Ultron     7.3\n",
       "2   Avengers: Infinity War     8.5\n",
       "3        Avengers: Endgame     8.6"
      ]
     },
     "execution_count": 10,
     "metadata": {},
     "output_type": "execute_result"
    }
   ],
   "source": [
    "movie_ratings = [8.0, 7.3, 8.5, 8.6]\n",
    "movie_titles = [\"The Avengers\", \"Avengers: Age of Ultron\", \"Avengers: Infinity War\", \"Avengers: Endgame\"]\n",
    "df = pd.DataFrame()\n",
    "df[\"title\"] = movie_titles\n",
    "df[\"rating\"] = movie_ratings\n",
    "print(type(df))\n",
    "df"
   ]
  },
  {
   "cell_type": "markdown",
   "metadata": {
    "slideshow": {
     "slide_type": "subslide"
    }
   },
   "source": [
    "## DataFrame 將多組共享 Index 的 Series 組合為一個具備列索引（row index）與欄標籤（column label）的資料集，我們可以進一步分拆成列索引、欄標籤與 Series"
   ]
  },
  {
   "cell_type": "code",
   "execution_count": 11,
   "metadata": {},
   "outputs": [
    {
     "name": "stdout",
     "output_type": "stream",
     "text": [
      "RangeIndex(start=0, stop=4, step=1)\n",
      "Index(['title', 'rating'], dtype='object')\n",
      "0               The Avengers\n",
      "1    Avengers: Age of Ultron\n",
      "2     Avengers: Infinity War\n",
      "3          Avengers: Endgame\n",
      "Name: title, dtype: object\n",
      "0    8.0\n",
      "1    7.3\n",
      "2    8.5\n",
      "3    8.6\n",
      "Name: rating, dtype: float64\n"
     ]
    }
   ],
   "source": [
    "movie_ratings = [8.0, 7.3, 8.5, 8.6]\n",
    "movie_titles = [\"The Avengers\", \"Avengers: Age of Ultron\", \"Avengers: Infinity War\", \"Avengers: Endgame\"]\n",
    "df = pd.DataFrame()\n",
    "df[\"title\"] = movie_titles\n",
    "df[\"rating\"] = movie_ratings\n",
    "print(df.index)\n",
    "print(df.columns)\n",
    "print(df[\"title\"])\n",
    "print(df[\"rating\"])"
   ]
  },
  {
   "cell_type": "markdown",
   "metadata": {
    "slideshow": {
     "slide_type": "subslide"
    }
   },
   "source": [
    "## pandas 中的 Index\n",
    "\n",
    "不論是 Series 或 DataFrame 物件都包含一個 Index 類別，作為萃取以及更新資料的根據，Index 可以被視為是一種結合了 tuple 的不可變（Immutable）特性以及 set 集合運算特性的資料結構類別，我們可以使用 `pd.Index()` 函數創建出下列的範例"
   ]
  },
  {
   "cell_type": "code",
   "execution_count": 12,
   "metadata": {
    "slideshow": {
     "slide_type": "subslide"
    }
   },
   "outputs": [
    {
     "name": "stdout",
     "output_type": "stream",
     "text": [
      "<class 'pandas.core.indexes.numeric.Int64Index'>\n",
      "Int64Index([0, 2, 3, 4], dtype='int64')\n"
     ]
    },
    {
     "ename": "TypeError",
     "evalue": "Index does not support mutable operations",
     "output_type": "error",
     "traceback": [
      "\u001b[0;31m---------------------------------------------------------------------------\u001b[0m",
      "\u001b[0;31mTypeError\u001b[0m                                 Traceback (most recent call last)",
      "\u001b[0;32m<ipython-input-12-b5275c789408>\u001b[0m in \u001b[0;36m<module>\u001b[0;34m\u001b[0m\n\u001b[1;32m      2\u001b[0m \u001b[0mprint\u001b[0m\u001b[0;34m(\u001b[0m\u001b[0mtype\u001b[0m\u001b[0;34m(\u001b[0m\u001b[0mpd_index\u001b[0m\u001b[0;34m)\u001b[0m\u001b[0;34m)\u001b[0m\u001b[0;34m\u001b[0m\u001b[0;34m\u001b[0m\u001b[0m\n\u001b[1;32m      3\u001b[0m \u001b[0mprint\u001b[0m\u001b[0;34m(\u001b[0m\u001b[0mpd_index\u001b[0m\u001b[0;34m)\u001b[0m\u001b[0;34m\u001b[0m\u001b[0;34m\u001b[0m\u001b[0m\n\u001b[0;32m----> 4\u001b[0;31m \u001b[0mpd_index\u001b[0m\u001b[0;34m[\u001b[0m\u001b[0;36m0\u001b[0m\u001b[0;34m]\u001b[0m \u001b[0;34m=\u001b[0m \u001b[0;36m1\u001b[0m\u001b[0;34m\u001b[0m\u001b[0;34m\u001b[0m\u001b[0m\n\u001b[0m",
      "\u001b[0;32m~/pywebscraping/lib/python3.7/site-packages/pandas/core/indexes/base.py\u001b[0m in \u001b[0;36m__setitem__\u001b[0;34m(self, key, value)\u001b[0m\n\u001b[1;32m   3908\u001b[0m \u001b[0;34m\u001b[0m\u001b[0m\n\u001b[1;32m   3909\u001b[0m     \u001b[0;32mdef\u001b[0m \u001b[0m__setitem__\u001b[0m\u001b[0;34m(\u001b[0m\u001b[0mself\u001b[0m\u001b[0;34m,\u001b[0m \u001b[0mkey\u001b[0m\u001b[0;34m,\u001b[0m \u001b[0mvalue\u001b[0m\u001b[0;34m)\u001b[0m\u001b[0;34m:\u001b[0m\u001b[0;34m\u001b[0m\u001b[0;34m\u001b[0m\u001b[0m\n\u001b[0;32m-> 3910\u001b[0;31m         \u001b[0;32mraise\u001b[0m \u001b[0mTypeError\u001b[0m\u001b[0;34m(\u001b[0m\u001b[0;34m\"Index does not support mutable operations\"\u001b[0m\u001b[0;34m)\u001b[0m\u001b[0;34m\u001b[0m\u001b[0;34m\u001b[0m\u001b[0m\n\u001b[0m\u001b[1;32m   3911\u001b[0m \u001b[0;34m\u001b[0m\u001b[0m\n\u001b[1;32m   3912\u001b[0m     \u001b[0;32mdef\u001b[0m \u001b[0m__getitem__\u001b[0m\u001b[0;34m(\u001b[0m\u001b[0mself\u001b[0m\u001b[0;34m,\u001b[0m \u001b[0mkey\u001b[0m\u001b[0;34m)\u001b[0m\u001b[0;34m:\u001b[0m\u001b[0;34m\u001b[0m\u001b[0;34m\u001b[0m\u001b[0m\n",
      "\u001b[0;31mTypeError\u001b[0m: Index does not support mutable operations"
     ]
    }
   ],
   "source": [
    "pd_index = pd.Index([0, 2, 3, 4])\n",
    "print(type(pd_index))\n",
    "print(pd_index)\n",
    "pd_index[0] = 1"
   ]
  },
  {
   "cell_type": "markdown",
   "metadata": {
    "slideshow": {
     "slide_type": "subslide"
    }
   },
   "source": [
    "## 創建後不能更新，Index 也支援 Set 類別的集合運算，可以對兩組 Index 類別（如例子中的五個奇數、四個質數）使用交集、聯集與 XOR（Exclusive OR）"
   ]
  },
  {
   "cell_type": "code",
   "execution_count": 13,
   "metadata": {},
   "outputs": [
    {
     "name": "stdout",
     "output_type": "stream",
     "text": [
      "Int64Index([3, 5, 7], dtype='int64')\n",
      "Int64Index([1, 2, 3, 5, 7, 9], dtype='int64')\n",
      "Int64Index([1, 2, 9], dtype='int64')\n"
     ]
    }
   ],
   "source": [
    "odds_index = pd.Index([1, 3, 5, 7, 9])\n",
    "primes_index = pd.Index([2, 3, 5, 7])\n",
    "print(odds_index & primes_index) # and\n",
    "print(odds_index | primes_index) # or\n",
    "print(odds_index ^ primes_index) # exclusive or"
   ]
  },
  {
   "cell_type": "markdown",
   "metadata": {
    "slideshow": {
     "slide_type": "slide"
    }
   },
   "source": [
    "## Series 與 DataFrame 的基礎操作"
   ]
  },
  {
   "cell_type": "markdown",
   "metadata": {
    "slideshow": {
     "slide_type": "subslide"
    }
   },
   "source": [
    "## 基礎操作包含\n",
    "\n",
    "- 創建\n",
    "- 資料載入\n",
    "- 索引、切割與篩選\n",
    "- 排序\n",
    "- 衍生變數\n",
    "- 摘要、分組摘要"
   ]
  },
  {
   "cell_type": "markdown",
   "metadata": {
    "slideshow": {
     "slide_type": "subslide"
    }
   },
   "source": [
    "## 常見創建 Series 的方式是使用 `pd.Series()` 函數傳入一個「類似清單（list-like）」的物件，包含 list 、tuple 或 ndarray，如果沒有指定另外一個「類似清單」的物件作為索引，Series 會自動以類似 `range()` 函數設定對應長度的索引"
   ]
  },
  {
   "cell_type": "code",
   "execution_count": 14,
   "metadata": {},
   "outputs": [
    {
     "name": "stdout",
     "output_type": "stream",
     "text": [
      "0    9.0\n",
      "1    8.9\n",
      "2    8.8\n",
      "3    8.7\n",
      "dtype: float64\n"
     ]
    }
   ],
   "source": [
    "movie_ratings = [9.0, 8.9, 8.8, 8.7]\n",
    "ser = pd.Series(movie_ratings)\n",
    "print(ser)"
   ]
  },
  {
   "cell_type": "markdown",
   "metadata": {
    "slideshow": {
     "slide_type": "subslide"
    }
   },
   "source": [
    "## 在 `pd.Series()` 函數中加入 index 參數指定對應長度的索引"
   ]
  },
  {
   "cell_type": "code",
   "execution_count": 15,
   "metadata": {},
   "outputs": [
    {
     "name": "stdout",
     "output_type": "stream",
     "text": [
      "Index(['The Dark Knight', 'Schindler's List', 'Forrest Gump', 'Inception'], dtype='object')\n",
      "[9.  8.9 8.8 8.7]\n",
      "The Dark Knight     9.0\n",
      "Schindler's List    8.9\n",
      "Forrest Gump        8.8\n",
      "Inception           8.7\n",
      "dtype: float64\n"
     ]
    }
   ],
   "source": [
    "movie_ratings = [9.0, 8.9, 8.8, 8.7]\n",
    "movie_titles = [\"The Dark Knight\", \"Schindler's List\", \"Forrest Gump\", \"Inception\"]\n",
    "ser = pd.Series(movie_ratings, index=movie_titles)\n",
    "print(ser.index)\n",
    "print(ser.values)\n",
    "print(ser)"
   ]
  },
  {
   "cell_type": "markdown",
   "metadata": {
    "slideshow": {
     "slide_type": "subslide"
    }
   },
   "source": [
    "## Series 被設計成由一組索引與一組資料所搭建而成的資料結構，因此我們亦可以在 `pd.Series()` 函數中傳入 dict，如此一來字典中的鍵（Keys）會被記錄成為索引、字典中的值（Values）則會被記錄成為陣列中的資料"
   ]
  },
  {
   "cell_type": "code",
   "execution_count": 16,
   "metadata": {
    "slideshow": {
     "slide_type": "subslide"
    }
   },
   "outputs": [
    {
     "name": "stdout",
     "output_type": "stream",
     "text": [
      "dict_keys(['The Dark Knight', \"Schindler's List\", 'Forrest Gump', 'Inception'])\n",
      "dict_values([9.0, 8.9, 8.8, 8.7])\n",
      "\n",
      "\n",
      "Index(['The Dark Knight', 'Schindler's List', 'Forrest Gump', 'Inception'], dtype='object')\n",
      "[9.  8.9 8.8 8.7]\n",
      "The Dark Knight     9.0\n",
      "Schindler's List    8.9\n",
      "Forrest Gump        8.8\n",
      "Inception           8.7\n",
      "dtype: float64\n"
     ]
    }
   ],
   "source": [
    "movie_dict = {\n",
    "    \"The Dark Knight\": 9.0,\n",
    "    \"Schindler's List\": 8.9,\n",
    "    \"Forrest Gump\": 8.8,\n",
    "    \"Inception\": 8.7\n",
    "}\n",
    "ser = pd.Series(movie_dict)\n",
    "print(movie_dict.keys())\n",
    "print(movie_dict.values())\n",
    "print(\"\\n\")\n",
    "print(ser.index)\n",
    "print(ser.values)\n",
    "print(ser)"
   ]
  },
  {
   "cell_type": "markdown",
   "metadata": {
    "slideshow": {
     "slide_type": "subslide"
    }
   },
   "source": [
    "## 常見創建 DataFrame 的方式是使用 `pd.DataFrame()` 函數傳入多個「類似清單（list-like）」的物件，包含 list 、tuple 或 ndarray，並視需求指定變數名稱或索引；同樣地，若是在沒有指定索引的情況下，DataFrame 會自動以類似 `range()` 函數設定對應長度的索引"
   ]
  },
  {
   "cell_type": "code",
   "execution_count": 17,
   "metadata": {
    "slideshow": {
     "slide_type": "-"
    }
   },
   "outputs": [
    {
     "data": {
      "text/html": [
       "<div>\n",
       "<style scoped>\n",
       "    .dataframe tbody tr th:only-of-type {\n",
       "        vertical-align: middle;\n",
       "    }\n",
       "\n",
       "    .dataframe tbody tr th {\n",
       "        vertical-align: top;\n",
       "    }\n",
       "\n",
       "    .dataframe thead th {\n",
       "        text-align: right;\n",
       "    }\n",
       "</style>\n",
       "<table border=\"1\" class=\"dataframe\">\n",
       "  <thead>\n",
       "    <tr style=\"text-align: right;\">\n",
       "      <th></th>\n",
       "      <th>title</th>\n",
       "      <th>rating</th>\n",
       "    </tr>\n",
       "  </thead>\n",
       "  <tbody>\n",
       "    <tr>\n",
       "      <th>0</th>\n",
       "      <td>The Dark Knight</td>\n",
       "      <td>9.0</td>\n",
       "    </tr>\n",
       "    <tr>\n",
       "      <th>1</th>\n",
       "      <td>Schindler's List</td>\n",
       "      <td>8.9</td>\n",
       "    </tr>\n",
       "    <tr>\n",
       "      <th>2</th>\n",
       "      <td>Forrest Gump</td>\n",
       "      <td>8.8</td>\n",
       "    </tr>\n",
       "    <tr>\n",
       "      <th>3</th>\n",
       "      <td>Inception</td>\n",
       "      <td>8.7</td>\n",
       "    </tr>\n",
       "  </tbody>\n",
       "</table>\n",
       "</div>"
      ],
      "text/plain": [
       "              title  rating\n",
       "0   The Dark Knight     9.0\n",
       "1  Schindler's List     8.9\n",
       "2      Forrest Gump     8.8\n",
       "3         Inception     8.7"
      ]
     },
     "execution_count": 17,
     "metadata": {},
     "output_type": "execute_result"
    }
   ],
   "source": [
    "movie_ratings = [9.0, 8.9, 8.8, 8.7]\n",
    "movie_titles = [\"The Dark Knight\", \"Schindler's List\", \"Forrest Gump\", \"Inception\"]\n",
    "df = pd.DataFrame()\n",
    "df[\"title\"] = movie_titles\n",
    "df[\"rating\"] = movie_ratings\n",
    "df"
   ]
  },
  {
   "cell_type": "markdown",
   "metadata": {
    "slideshow": {
     "slide_type": "subslide"
    }
   },
   "source": [
    "## 與 Series 相同，DataFrame 被設計成由一組索引與多組類似清單資料所搭建而成的資料結構，因此我們亦可以在 `pd.DataFrame()` 函數中傳入 dict，如此一來字典中的鍵（Keys）會被記錄成為變數名稱、字典中的值（Values）則會被記錄成為陣列中的資料"
   ]
  },
  {
   "cell_type": "code",
   "execution_count": 18,
   "metadata": {},
   "outputs": [
    {
     "data": {
      "text/html": [
       "<div>\n",
       "<style scoped>\n",
       "    .dataframe tbody tr th:only-of-type {\n",
       "        vertical-align: middle;\n",
       "    }\n",
       "\n",
       "    .dataframe tbody tr th {\n",
       "        vertical-align: top;\n",
       "    }\n",
       "\n",
       "    .dataframe thead th {\n",
       "        text-align: right;\n",
       "    }\n",
       "</style>\n",
       "<table border=\"1\" class=\"dataframe\">\n",
       "  <thead>\n",
       "    <tr style=\"text-align: right;\">\n",
       "      <th></th>\n",
       "      <th>title</th>\n",
       "      <th>rating</th>\n",
       "    </tr>\n",
       "  </thead>\n",
       "  <tbody>\n",
       "    <tr>\n",
       "      <th>0</th>\n",
       "      <td>The Dark Knight</td>\n",
       "      <td>9.0</td>\n",
       "    </tr>\n",
       "    <tr>\n",
       "      <th>1</th>\n",
       "      <td>Schindler's List</td>\n",
       "      <td>8.9</td>\n",
       "    </tr>\n",
       "    <tr>\n",
       "      <th>2</th>\n",
       "      <td>Forrest Gump</td>\n",
       "      <td>8.8</td>\n",
       "    </tr>\n",
       "    <tr>\n",
       "      <th>3</th>\n",
       "      <td>Inception</td>\n",
       "      <td>8.7</td>\n",
       "    </tr>\n",
       "  </tbody>\n",
       "</table>\n",
       "</div>"
      ],
      "text/plain": [
       "              title  rating\n",
       "0   The Dark Knight     9.0\n",
       "1  Schindler's List     8.9\n",
       "2      Forrest Gump     8.8\n",
       "3         Inception     8.7"
      ]
     },
     "execution_count": 18,
     "metadata": {},
     "output_type": "execute_result"
    }
   ],
   "source": [
    "movie_dict = {\n",
    "    \"title\": [\"The Dark Knight\", \"Schindler's List\", \"Forrest Gump\", \"Inception\"],\n",
    "    \"rating\": [9.0, 8.9, 8.8, 8.7]\n",
    "}\n",
    "df = pd.DataFrame(movie_dict)\n",
    "df"
   ]
  },
  {
   "cell_type": "markdown",
   "metadata": {
    "slideshow": {
     "slide_type": "subslide"
    }
   },
   "source": [
    "## 實務應用資料框物件時，多數情況都不會是手動輸入資料內容，而是由外部資料源載入\n",
    "\n",
    "- 以逗號區隔變數的 CSV 文字檔\n",
    "- 以 JSON 所組成的陣列文字檔\n",
    "- 試算表\n",
    "- 資料庫中的表格"
   ]
  },
  {
   "cell_type": "markdown",
   "metadata": {
    "slideshow": {
     "slide_type": "subslide"
    }
   },
   "source": [
    "## 使用 `pd.read_csv()` 函數讀入以逗號區隔變數的 CSV 文字檔"
   ]
  },
  {
   "cell_type": "code",
   "execution_count": 19,
   "metadata": {},
   "outputs": [
    {
     "data": {
      "text/html": [
       "<div>\n",
       "<style scoped>\n",
       "    .dataframe tbody tr th:only-of-type {\n",
       "        vertical-align: middle;\n",
       "    }\n",
       "\n",
       "    .dataframe tbody tr th {\n",
       "        vertical-align: top;\n",
       "    }\n",
       "\n",
       "    .dataframe thead th {\n",
       "        text-align: right;\n",
       "    }\n",
       "</style>\n",
       "<table border=\"1\" class=\"dataframe\">\n",
       "  <thead>\n",
       "    <tr style=\"text-align: right;\">\n",
       "      <th></th>\n",
       "      <th>title</th>\n",
       "      <th>rating</th>\n",
       "    </tr>\n",
       "  </thead>\n",
       "  <tbody>\n",
       "    <tr>\n",
       "      <th>0</th>\n",
       "      <td>The Dark Knight</td>\n",
       "      <td>9.0</td>\n",
       "    </tr>\n",
       "    <tr>\n",
       "      <th>1</th>\n",
       "      <td>Schindler's List</td>\n",
       "      <td>8.9</td>\n",
       "    </tr>\n",
       "    <tr>\n",
       "      <th>2</th>\n",
       "      <td>Forrest Gump</td>\n",
       "      <td>8.8</td>\n",
       "    </tr>\n",
       "    <tr>\n",
       "      <th>3</th>\n",
       "      <td>Inception</td>\n",
       "      <td>8.7</td>\n",
       "    </tr>\n",
       "  </tbody>\n",
       "</table>\n",
       "</div>"
      ],
      "text/plain": [
       "              title  rating\n",
       "0   The Dark Knight     9.0\n",
       "1  Schindler's List     8.9\n",
       "2      Forrest Gump     8.8\n",
       "3         Inception     8.7"
      ]
     },
     "execution_count": 19,
     "metadata": {},
     "output_type": "execute_result"
    }
   ],
   "source": [
    "df = pd.read_csv(\"https://python4ds.s3-ap-northeast-1.amazonaws.com/movies.csv\")\n",
    "df"
   ]
  },
  {
   "cell_type": "markdown",
   "metadata": {
    "slideshow": {
     "slide_type": "subslide"
    }
   },
   "source": [
    "## 使用 `pd.read_json()` 函數讀入以 JSON 所組成的陣列文字檔"
   ]
  },
  {
   "cell_type": "code",
   "execution_count": 20,
   "metadata": {},
   "outputs": [
    {
     "data": {
      "text/html": [
       "<div>\n",
       "<style scoped>\n",
       "    .dataframe tbody tr th:only-of-type {\n",
       "        vertical-align: middle;\n",
       "    }\n",
       "\n",
       "    .dataframe tbody tr th {\n",
       "        vertical-align: top;\n",
       "    }\n",
       "\n",
       "    .dataframe thead th {\n",
       "        text-align: right;\n",
       "    }\n",
       "</style>\n",
       "<table border=\"1\" class=\"dataframe\">\n",
       "  <thead>\n",
       "    <tr style=\"text-align: right;\">\n",
       "      <th></th>\n",
       "      <th>title</th>\n",
       "      <th>rating</th>\n",
       "    </tr>\n",
       "  </thead>\n",
       "  <tbody>\n",
       "    <tr>\n",
       "      <th>0</th>\n",
       "      <td>The Dark Knight</td>\n",
       "      <td>9.0</td>\n",
       "    </tr>\n",
       "    <tr>\n",
       "      <th>1</th>\n",
       "      <td>Schindler's List</td>\n",
       "      <td>8.9</td>\n",
       "    </tr>\n",
       "    <tr>\n",
       "      <th>2</th>\n",
       "      <td>Forrest Gump</td>\n",
       "      <td>8.8</td>\n",
       "    </tr>\n",
       "    <tr>\n",
       "      <th>3</th>\n",
       "      <td>Inception</td>\n",
       "      <td>8.7</td>\n",
       "    </tr>\n",
       "  </tbody>\n",
       "</table>\n",
       "</div>"
      ],
      "text/plain": [
       "              title  rating\n",
       "0   The Dark Knight     9.0\n",
       "1  Schindler's List     8.9\n",
       "2      Forrest Gump     8.8\n",
       "3         Inception     8.7"
      ]
     },
     "execution_count": 20,
     "metadata": {},
     "output_type": "execute_result"
    }
   ],
   "source": [
    "df = pd.read_json(\"https://python4ds.s3-ap-northeast-1.amazonaws.com/movies.json\")\n",
    "df"
   ]
  },
  {
   "cell_type": "markdown",
   "metadata": {
    "slideshow": {
     "slide_type": "subslide"
    }
   },
   "source": [
    "## 使用 `pd.read_excel()` 函數讀入試算表"
   ]
  },
  {
   "cell_type": "code",
   "execution_count": 21,
   "metadata": {},
   "outputs": [
    {
     "data": {
      "text/html": [
       "<div>\n",
       "<style scoped>\n",
       "    .dataframe tbody tr th:only-of-type {\n",
       "        vertical-align: middle;\n",
       "    }\n",
       "\n",
       "    .dataframe tbody tr th {\n",
       "        vertical-align: top;\n",
       "    }\n",
       "\n",
       "    .dataframe thead th {\n",
       "        text-align: right;\n",
       "    }\n",
       "</style>\n",
       "<table border=\"1\" class=\"dataframe\">\n",
       "  <thead>\n",
       "    <tr style=\"text-align: right;\">\n",
       "      <th></th>\n",
       "      <th>title</th>\n",
       "      <th>rating</th>\n",
       "    </tr>\n",
       "  </thead>\n",
       "  <tbody>\n",
       "    <tr>\n",
       "      <th>0</th>\n",
       "      <td>The Dark Knight</td>\n",
       "      <td>9.0</td>\n",
       "    </tr>\n",
       "    <tr>\n",
       "      <th>1</th>\n",
       "      <td>Schindler's List</td>\n",
       "      <td>8.9</td>\n",
       "    </tr>\n",
       "    <tr>\n",
       "      <th>2</th>\n",
       "      <td>Forrest Gump</td>\n",
       "      <td>8.8</td>\n",
       "    </tr>\n",
       "    <tr>\n",
       "      <th>3</th>\n",
       "      <td>Inception</td>\n",
       "      <td>8.7</td>\n",
       "    </tr>\n",
       "  </tbody>\n",
       "</table>\n",
       "</div>"
      ],
      "text/plain": [
       "              title  rating\n",
       "0   The Dark Knight     9.0\n",
       "1  Schindler's List     8.9\n",
       "2      Forrest Gump     8.8\n",
       "3         Inception     8.7"
      ]
     },
     "execution_count": 21,
     "metadata": {},
     "output_type": "execute_result"
    }
   ],
   "source": [
    "df = pd.read_excel(\"https://python4ds.s3-ap-northeast-1.amazonaws.com/movies.xlsx\")\n",
    "df"
   ]
  },
  {
   "cell_type": "markdown",
   "metadata": {
    "slideshow": {
     "slide_type": "subslide"
    }
   },
   "source": [
    "## 使用 `pd.read_sql()` 函數讀入資料庫中的表格"
   ]
  },
  {
   "cell_type": "code",
   "execution_count": 22,
   "metadata": {},
   "outputs": [
    {
     "data": {
      "text/html": [
       "<div>\n",
       "<style scoped>\n",
       "    .dataframe tbody tr th:only-of-type {\n",
       "        vertical-align: middle;\n",
       "    }\n",
       "\n",
       "    .dataframe tbody tr th {\n",
       "        vertical-align: top;\n",
       "    }\n",
       "\n",
       "    .dataframe thead th {\n",
       "        text-align: right;\n",
       "    }\n",
       "</style>\n",
       "<table border=\"1\" class=\"dataframe\">\n",
       "  <thead>\n",
       "    <tr style=\"text-align: right;\">\n",
       "      <th></th>\n",
       "      <th>title</th>\n",
       "      <th>rating</th>\n",
       "    </tr>\n",
       "  </thead>\n",
       "  <tbody>\n",
       "    <tr>\n",
       "      <th>0</th>\n",
       "      <td>Schindler's List</td>\n",
       "      <td>8.9</td>\n",
       "    </tr>\n",
       "    <tr>\n",
       "      <th>1</th>\n",
       "      <td>Forrest Gump</td>\n",
       "      <td>8.8</td>\n",
       "    </tr>\n",
       "    <tr>\n",
       "      <th>2</th>\n",
       "      <td>Inception</td>\n",
       "      <td>8.7</td>\n",
       "    </tr>\n",
       "  </tbody>\n",
       "</table>\n",
       "</div>"
      ],
      "text/plain": [
       "              title  rating\n",
       "0  Schindler's List     8.9\n",
       "1      Forrest Gump     8.8\n",
       "2         Inception     8.7"
      ]
     },
     "execution_count": 22,
     "metadata": {},
     "output_type": "execute_result"
    }
   ],
   "source": [
    "import sqlite3\n",
    "\n",
    "# Creating a demo.db database in working directory\n",
    "conn = sqlite3.connect('demo.db')\n",
    "# Importing a table\n",
    "movie_ratings = [9.0, 8.9, 8.8, 8.7]\n",
    "movie_titles = [\"The Dark Knight\", \"Schindler's List\", \"Forrest Gump\", \"Inception\"]\n",
    "df = pd.DataFrame()\n",
    "df[\"title\"] = movie_titles\n",
    "df[\"rating\"] = movie_ratings\n",
    "df.to_sql(\"movies\", index=False, con=conn, if_exists='replace')\n",
    "# Importing data from demo.movies\n",
    "query_str = \"\"\"\n",
    "SELECT *\n",
    "    FROM movies\n",
    "    WHERE rating < 9.0;\n",
    "\"\"\"\n",
    "pd.read_sql(query_str, con=conn)"
   ]
  },
  {
   "cell_type": "markdown",
   "metadata": {
    "slideshow": {
     "slide_type": "subslide"
    }
   },
   "source": [
    "## Series 的索引、切割與篩選"
   ]
  },
  {
   "cell_type": "code",
   "execution_count": 23,
   "metadata": {},
   "outputs": [
    {
     "name": "stdout",
     "output_type": "stream",
     "text": [
      "The Dark Knight     9.0\n",
      "Schindler's List    8.9\n",
      "Forrest Gump        8.8\n",
      "Inception           8.7\n",
      "dtype: float64\n",
      "9.0\n",
      "8.8\n"
     ]
    }
   ],
   "source": [
    "movie_ratings = [9.0, 8.9, 8.8, 8.7]\n",
    "movie_titles = [\"The Dark Knight\", \"Schindler's List\", \"Forrest Gump\", \"Inception\"]\n",
    "ser = pd.Series(movie_ratings, index=movie_titles)\n",
    "print(ser)\n",
    "print(ser[0])\n",
    "print(ser[\"Forrest Gump\"])"
   ]
  },
  {
   "cell_type": "markdown",
   "metadata": {
    "slideshow": {
     "slide_type": "subslide"
    }
   },
   "source": [
    "## 進行資料值的切割時，可以在中括號輸入所需資料的起點與終點，傳入絕對位置則與 Python 慣例一致：不包含終點；若是傳入索引值則會包含終點"
   ]
  },
  {
   "cell_type": "code",
   "execution_count": 24,
   "metadata": {},
   "outputs": [
    {
     "name": "stdout",
     "output_type": "stream",
     "text": [
      "Schindler's List    8.9\n",
      "Forrest Gump        8.8\n",
      "Inception           8.7\n",
      "dtype: float64\n",
      "Schindler's List    8.9\n",
      "Forrest Gump        8.8\n",
      "Inception           8.7\n",
      "dtype: float64\n"
     ]
    }
   ],
   "source": [
    "movie_ratings = [9.0, 8.9, 8.8, 8.7]\n",
    "movie_titles = [\"The Dark Knight\", \"Schindler's List\", \"Forrest Gump\", \"Inception\"]\n",
    "ser = pd.Series(movie_ratings, index=movie_titles)\n",
    "print(ser[1:4])\n",
    "print(ser[\"Schindler's List\":\"Inception\"])"
   ]
  },
  {
   "cell_type": "markdown",
   "metadata": {
    "slideshow": {
     "slide_type": "subslide"
    }
   },
   "source": [
    "## Series 繼承了 ndarray 的所有特性，因此完全適用華麗索引與布林索引這兩個便利的技法"
   ]
  },
  {
   "cell_type": "code",
   "execution_count": 25,
   "metadata": {},
   "outputs": [
    {
     "name": "stdout",
     "output_type": "stream",
     "text": [
      "Schindler's List    8.9\n",
      "Forrest Gump        8.8\n",
      "Inception           8.7\n",
      "dtype: float64\n",
      "Schindler's List    8.9\n",
      "Forrest Gump        8.8\n",
      "Inception           8.7\n",
      "dtype: float64\n",
      "The Dark Knight     False\n",
      "Schindler's List     True\n",
      "Forrest Gump         True\n",
      "Inception            True\n",
      "dtype: bool\n",
      "Schindler's List    8.9\n",
      "Forrest Gump        8.8\n",
      "Inception           8.7\n",
      "dtype: float64\n"
     ]
    }
   ],
   "source": [
    "movie_ratings = [9.0, 8.9, 8.8, 8.7]\n",
    "movie_titles = [\"The Dark Knight\", \"Schindler's List\", \"Forrest Gump\", \"Inception\"]\n",
    "ser = pd.Series(movie_ratings, index=movie_titles)\n",
    "# Fancy indexing\n",
    "print(ser[[1, 2, 3]])\n",
    "print(ser[[\"Schindler's List\", \"Forrest Gump\", \"Inception\"]])\n",
    "# Boolean indexing\n",
    "print(ser < 9)\n",
    "print(ser[ser < 9])"
   ]
  },
  {
   "cell_type": "markdown",
   "metadata": {
    "slideshow": {
     "slide_type": "subslide"
    }
   },
   "source": [
    "## DataFrame 的選擇與篩選\n",
    "\n",
    "利用 `[COLUMN]` 或 `.COLUMN` 能夠從資料框中選擇出單一或多個變數，成為一個 Series 或者變數欄位較少的資料框子集，實踐 SQL 語法中的 SELECT"
   ]
  },
  {
   "cell_type": "code",
   "execution_count": 26,
   "metadata": {},
   "outputs": [
    {
     "name": "stdout",
     "output_type": "stream",
     "text": [
      "0     The Dark Knight\n",
      "1    Schindler's List\n",
      "2        Forrest Gump\n",
      "3           Inception\n",
      "Name: title, dtype: object\n",
      "0    9.0\n",
      "1    8.9\n",
      "2    8.8\n",
      "3    8.7\n",
      "Name: rating, dtype: float64\n"
     ]
    },
    {
     "data": {
      "text/html": [
       "<div>\n",
       "<style scoped>\n",
       "    .dataframe tbody tr th:only-of-type {\n",
       "        vertical-align: middle;\n",
       "    }\n",
       "\n",
       "    .dataframe tbody tr th {\n",
       "        vertical-align: top;\n",
       "    }\n",
       "\n",
       "    .dataframe thead th {\n",
       "        text-align: right;\n",
       "    }\n",
       "</style>\n",
       "<table border=\"1\" class=\"dataframe\">\n",
       "  <thead>\n",
       "    <tr style=\"text-align: right;\">\n",
       "      <th></th>\n",
       "      <th>title</th>\n",
       "      <th>release_year</th>\n",
       "    </tr>\n",
       "  </thead>\n",
       "  <tbody>\n",
       "    <tr>\n",
       "      <th>0</th>\n",
       "      <td>The Dark Knight</td>\n",
       "      <td>2008</td>\n",
       "    </tr>\n",
       "    <tr>\n",
       "      <th>1</th>\n",
       "      <td>Schindler's List</td>\n",
       "      <td>1993</td>\n",
       "    </tr>\n",
       "    <tr>\n",
       "      <th>2</th>\n",
       "      <td>Forrest Gump</td>\n",
       "      <td>1994</td>\n",
       "    </tr>\n",
       "    <tr>\n",
       "      <th>3</th>\n",
       "      <td>Inception</td>\n",
       "      <td>2010</td>\n",
       "    </tr>\n",
       "  </tbody>\n",
       "</table>\n",
       "</div>"
      ],
      "text/plain": [
       "              title  release_year\n",
       "0   The Dark Knight          2008\n",
       "1  Schindler's List          1993\n",
       "2      Forrest Gump          1994\n",
       "3         Inception          2010"
      ]
     },
     "execution_count": 26,
     "metadata": {},
     "output_type": "execute_result"
    }
   ],
   "source": [
    "movie_ratings = [9.0, 8.9, 8.8, 8.7]\n",
    "movie_titles = [\"The Dark Knight\", \"Schindler's List\", \"Forrest Gump\", \"Inception\"]\n",
    "release_years = [2008, 1993, 1994, 2010]\n",
    "df = pd.DataFrame()\n",
    "df[\"title\"] = movie_titles\n",
    "df[\"rating\"] = movie_ratings\n",
    "df[\"release_year\"] = release_years\n",
    "print(df[\"title\"])\n",
    "print(df.rating)\n",
    "df[[\"title\", \"release_year\"]]"
   ]
  },
  {
   "cell_type": "markdown",
   "metadata": {
    "slideshow": {
     "slide_type": "subslide"
    }
   },
   "source": [
    "## 對資料框直接應用布林索引可以挑出符合條件（條件判斷結果為 True）的觀測值列數，實踐 SQL 語法中的 WHERE"
   ]
  },
  {
   "cell_type": "code",
   "execution_count": 27,
   "metadata": {},
   "outputs": [
    {
     "name": "stdout",
     "output_type": "stream",
     "text": [
      "0     True\n",
      "1    False\n",
      "2    False\n",
      "3     True\n",
      "Name: release_year, dtype: bool\n"
     ]
    },
    {
     "data": {
      "text/html": [
       "<div>\n",
       "<style scoped>\n",
       "    .dataframe tbody tr th:only-of-type {\n",
       "        vertical-align: middle;\n",
       "    }\n",
       "\n",
       "    .dataframe tbody tr th {\n",
       "        vertical-align: top;\n",
       "    }\n",
       "\n",
       "    .dataframe thead th {\n",
       "        text-align: right;\n",
       "    }\n",
       "</style>\n",
       "<table border=\"1\" class=\"dataframe\">\n",
       "  <thead>\n",
       "    <tr style=\"text-align: right;\">\n",
       "      <th></th>\n",
       "      <th>title</th>\n",
       "      <th>rating</th>\n",
       "      <th>release_year</th>\n",
       "    </tr>\n",
       "  </thead>\n",
       "  <tbody>\n",
       "    <tr>\n",
       "      <th>0</th>\n",
       "      <td>The Dark Knight</td>\n",
       "      <td>9.0</td>\n",
       "      <td>2008</td>\n",
       "    </tr>\n",
       "    <tr>\n",
       "      <th>3</th>\n",
       "      <td>Inception</td>\n",
       "      <td>8.7</td>\n",
       "      <td>2010</td>\n",
       "    </tr>\n",
       "  </tbody>\n",
       "</table>\n",
       "</div>"
      ],
      "text/plain": [
       "             title  rating  release_year\n",
       "0  The Dark Knight     9.0          2008\n",
       "3        Inception     8.7          2010"
      ]
     },
     "execution_count": 27,
     "metadata": {},
     "output_type": "execute_result"
    }
   ],
   "source": [
    "movie_ratings = [9.0, 8.9, 8.8, 8.7]\n",
    "movie_titles = [\"The Dark Knight\", \"Schindler's List\", \"Forrest Gump\", \"Inception\"]\n",
    "release_years = [2008, 1993, 1994, 2010]\n",
    "df = pd.DataFrame()\n",
    "df[\"title\"] = movie_titles\n",
    "df[\"rating\"] = movie_ratings\n",
    "df[\"release_year\"] = release_years\n",
    "print(df[\"release_year\"] > 2000)\n",
    "df[df[\"release_year\"] > 2000]"
   ]
  },
  {
   "cell_type": "markdown",
   "metadata": {
    "slideshow": {
     "slide_type": "subslide"
    }
   },
   "source": [
    "## 資料框類別尚有兩個索引語法（Indexer）可以方便使用者在一次的函數呼叫中就完成選擇與篩選兩個任務\n",
    "\n",
    "- `.loc[ROW_LABEL, COLUMN_LABEL]` ：純粹以列、欄標籤為準進行選擇跟篩選\n",
    "- `.iloc[ROW_INDEX, COLUMN_INDEX]` ：純粹以資料的整數位置（integer location）為準進行選擇跟篩選"
   ]
  },
  {
   "cell_type": "code",
   "execution_count": 28,
   "metadata": {
    "slideshow": {
     "slide_type": "subslide"
    }
   },
   "outputs": [
    {
     "data": {
      "text/html": [
       "<div>\n",
       "<style scoped>\n",
       "    .dataframe tbody tr th:only-of-type {\n",
       "        vertical-align: middle;\n",
       "    }\n",
       "\n",
       "    .dataframe tbody tr th {\n",
       "        vertical-align: top;\n",
       "    }\n",
       "\n",
       "    .dataframe thead th {\n",
       "        text-align: right;\n",
       "    }\n",
       "</style>\n",
       "<table border=\"1\" class=\"dataframe\">\n",
       "  <thead>\n",
       "    <tr style=\"text-align: right;\">\n",
       "      <th></th>\n",
       "      <th>rating</th>\n",
       "      <th>release_year</th>\n",
       "    </tr>\n",
       "  </thead>\n",
       "  <tbody>\n",
       "    <tr>\n",
       "      <th>The Dark Knight</th>\n",
       "      <td>9.0</td>\n",
       "      <td>2008</td>\n",
       "    </tr>\n",
       "    <tr>\n",
       "      <th>Schindler's List</th>\n",
       "      <td>8.9</td>\n",
       "      <td>1993</td>\n",
       "    </tr>\n",
       "    <tr>\n",
       "      <th>Forrest Gump</th>\n",
       "      <td>8.8</td>\n",
       "      <td>1994</td>\n",
       "    </tr>\n",
       "    <tr>\n",
       "      <th>Inception</th>\n",
       "      <td>8.7</td>\n",
       "      <td>2010</td>\n",
       "    </tr>\n",
       "  </tbody>\n",
       "</table>\n",
       "</div>"
      ],
      "text/plain": [
       "                  rating  release_year\n",
       "The Dark Knight      9.0          2008\n",
       "Schindler's List     8.9          1993\n",
       "Forrest Gump         8.8          1994\n",
       "Inception            8.7          2010"
      ]
     },
     "execution_count": 28,
     "metadata": {},
     "output_type": "execute_result"
    }
   ],
   "source": [
    "movie_ratings = [9.0, 8.9, 8.8, 8.7]\n",
    "movie_titles = [\"The Dark Knight\", \"Schindler's List\", \"Forrest Gump\", \"Inception\"]\n",
    "release_years = [2008, 1993, 1994, 2010]\n",
    "df = pd.DataFrame()\n",
    "df[\"rating\"] = movie_ratings\n",
    "df[\"release_year\"] = release_years\n",
    "df.index = movie_titles\n",
    "df"
   ]
  },
  {
   "cell_type": "markdown",
   "metadata": {
    "slideshow": {
     "slide_type": "subslide"
    }
   },
   "source": [
    "## 希望將上映年份在 2000 年之後的 “The Dark Knight” 與 “Inception” 利用索引語法選出來\n",
    "\n",
    "使用 `.loc[]` 時必須傳入列標籤（電影名稱）與欄標籤（評等和上映年份）"
   ]
  },
  {
   "cell_type": "code",
   "execution_count": 29,
   "metadata": {},
   "outputs": [
    {
     "data": {
      "text/html": [
       "<div>\n",
       "<style scoped>\n",
       "    .dataframe tbody tr th:only-of-type {\n",
       "        vertical-align: middle;\n",
       "    }\n",
       "\n",
       "    .dataframe tbody tr th {\n",
       "        vertical-align: top;\n",
       "    }\n",
       "\n",
       "    .dataframe thead th {\n",
       "        text-align: right;\n",
       "    }\n",
       "</style>\n",
       "<table border=\"1\" class=\"dataframe\">\n",
       "  <thead>\n",
       "    <tr style=\"text-align: right;\">\n",
       "      <th></th>\n",
       "      <th>rating</th>\n",
       "      <th>release_year</th>\n",
       "    </tr>\n",
       "  </thead>\n",
       "  <tbody>\n",
       "    <tr>\n",
       "      <th>The Dark Knight</th>\n",
       "      <td>9.0</td>\n",
       "      <td>2008</td>\n",
       "    </tr>\n",
       "    <tr>\n",
       "      <th>Inception</th>\n",
       "      <td>8.7</td>\n",
       "      <td>2010</td>\n",
       "    </tr>\n",
       "  </tbody>\n",
       "</table>\n",
       "</div>"
      ],
      "text/plain": [
       "                 rating  release_year\n",
       "The Dark Knight     9.0          2008\n",
       "Inception           8.7          2010"
      ]
     },
     "execution_count": 29,
     "metadata": {},
     "output_type": "execute_result"
    }
   ],
   "source": [
    "movie_ratings = [9.0, 8.9, 8.8, 8.7]\n",
    "movie_titles = [\"The Dark Knight\", \"Schindler's List\", \"Forrest Gump\", \"Inception\"]\n",
    "release_years = [2008, 1993, 1994, 2010]\n",
    "df = pd.DataFrame()\n",
    "df[\"rating\"] = movie_ratings\n",
    "df[\"release_year\"] = release_years\n",
    "df.index = movie_titles\n",
    "df.loc[[\"The Dark Knight\", \"Inception\"], [\"rating\", \"release_year\"]]"
   ]
  },
  {
   "cell_type": "markdown",
   "metadata": {
    "slideshow": {
     "slide_type": "subslide"
    }
   },
   "source": [
    "## 希望將上映年份在 2000 年之後的 “The Dark Knight” 與 “Inception” 利用索引語法選出來\n",
    "\n",
    "使用 `.iloc[]` 時必須傳入 “The Dark Knight” 與 “Inception” 的列整數位置（第 0 與 3 列）與欄整數位置（第 0 與 1 欄）"
   ]
  },
  {
   "cell_type": "code",
   "execution_count": 30,
   "metadata": {},
   "outputs": [
    {
     "data": {
      "text/html": [
       "<div>\n",
       "<style scoped>\n",
       "    .dataframe tbody tr th:only-of-type {\n",
       "        vertical-align: middle;\n",
       "    }\n",
       "\n",
       "    .dataframe tbody tr th {\n",
       "        vertical-align: top;\n",
       "    }\n",
       "\n",
       "    .dataframe thead th {\n",
       "        text-align: right;\n",
       "    }\n",
       "</style>\n",
       "<table border=\"1\" class=\"dataframe\">\n",
       "  <thead>\n",
       "    <tr style=\"text-align: right;\">\n",
       "      <th></th>\n",
       "      <th>rating</th>\n",
       "      <th>release_year</th>\n",
       "    </tr>\n",
       "  </thead>\n",
       "  <tbody>\n",
       "    <tr>\n",
       "      <th>The Dark Knight</th>\n",
       "      <td>9.0</td>\n",
       "      <td>2008</td>\n",
       "    </tr>\n",
       "    <tr>\n",
       "      <th>Inception</th>\n",
       "      <td>8.7</td>\n",
       "      <td>2010</td>\n",
       "    </tr>\n",
       "  </tbody>\n",
       "</table>\n",
       "</div>"
      ],
      "text/plain": [
       "                 rating  release_year\n",
       "The Dark Knight     9.0          2008\n",
       "Inception           8.7          2010"
      ]
     },
     "execution_count": 30,
     "metadata": {},
     "output_type": "execute_result"
    }
   ],
   "source": [
    "movie_ratings = [9.0, 8.9, 8.8, 8.7]\n",
    "movie_titles = [\"The Dark Knight\", \"Schindler's List\", \"Forrest Gump\", \"Inception\"]\n",
    "release_years = [2008, 1993, 1994, 2010]\n",
    "df = pd.DataFrame()\n",
    "df[\"rating\"] = movie_ratings\n",
    "df[\"release_year\"] = release_years\n",
    "df.index = movie_titles\n",
    "df.iloc[[0, 3], [0, 1]]"
   ]
  },
  {
   "cell_type": "markdown",
   "metadata": {
    "slideshow": {
     "slide_type": "subslide"
    }
   },
   "source": [
    "## 排序\n",
    "\n",
    "- `df.sort_index()` ：依照資料框的列標籤遞增（預設）或遞減排序\n",
    "- `df.sort_values()` ：依照指定的資料框欄標籤遞增（預設）或遞減排序"
   ]
  },
  {
   "cell_type": "code",
   "execution_count": 31,
   "metadata": {
    "slideshow": {
     "slide_type": "subslide"
    }
   },
   "outputs": [
    {
     "data": {
      "text/html": [
       "<div>\n",
       "<style scoped>\n",
       "    .dataframe tbody tr th:only-of-type {\n",
       "        vertical-align: middle;\n",
       "    }\n",
       "\n",
       "    .dataframe tbody tr th {\n",
       "        vertical-align: top;\n",
       "    }\n",
       "\n",
       "    .dataframe thead th {\n",
       "        text-align: right;\n",
       "    }\n",
       "</style>\n",
       "<table border=\"1\" class=\"dataframe\">\n",
       "  <thead>\n",
       "    <tr style=\"text-align: right;\">\n",
       "      <th></th>\n",
       "      <th>title</th>\n",
       "      <th>rating</th>\n",
       "      <th>release_year</th>\n",
       "    </tr>\n",
       "  </thead>\n",
       "  <tbody>\n",
       "    <tr>\n",
       "      <th>0</th>\n",
       "      <td>The Dark Knight</td>\n",
       "      <td>9.0</td>\n",
       "      <td>2008</td>\n",
       "    </tr>\n",
       "    <tr>\n",
       "      <th>1</th>\n",
       "      <td>Schindler's List</td>\n",
       "      <td>8.9</td>\n",
       "      <td>1993</td>\n",
       "    </tr>\n",
       "    <tr>\n",
       "      <th>2</th>\n",
       "      <td>Forrest Gump</td>\n",
       "      <td>8.8</td>\n",
       "      <td>1994</td>\n",
       "    </tr>\n",
       "    <tr>\n",
       "      <th>3</th>\n",
       "      <td>Inception</td>\n",
       "      <td>8.7</td>\n",
       "      <td>2010</td>\n",
       "    </tr>\n",
       "  </tbody>\n",
       "</table>\n",
       "</div>"
      ],
      "text/plain": [
       "              title  rating  release_year\n",
       "0   The Dark Knight     9.0          2008\n",
       "1  Schindler's List     8.9          1993\n",
       "2      Forrest Gump     8.8          1994\n",
       "3         Inception     8.7          2010"
      ]
     },
     "execution_count": 31,
     "metadata": {},
     "output_type": "execute_result"
    }
   ],
   "source": [
    "movie_ratings = [9.0, 8.9, 8.8, 8.7]\n",
    "movie_titles = [\"The Dark Knight\", \"Schindler's List\", \"Forrest Gump\", \"Inception\"]\n",
    "release_years = [2008, 1993, 1994, 2010]\n",
    "df = pd.DataFrame()\n",
    "df[\"title\"] = movie_titles\n",
    "df[\"rating\"] = movie_ratings\n",
    "df[\"release_year\"] = release_years\n",
    "df.sort_index() # default: ascending"
   ]
  },
  {
   "cell_type": "code",
   "execution_count": 32,
   "metadata": {
    "slideshow": {
     "slide_type": "fragment"
    }
   },
   "outputs": [
    {
     "data": {
      "text/html": [
       "<div>\n",
       "<style scoped>\n",
       "    .dataframe tbody tr th:only-of-type {\n",
       "        vertical-align: middle;\n",
       "    }\n",
       "\n",
       "    .dataframe tbody tr th {\n",
       "        vertical-align: top;\n",
       "    }\n",
       "\n",
       "    .dataframe thead th {\n",
       "        text-align: right;\n",
       "    }\n",
       "</style>\n",
       "<table border=\"1\" class=\"dataframe\">\n",
       "  <thead>\n",
       "    <tr style=\"text-align: right;\">\n",
       "      <th></th>\n",
       "      <th>title</th>\n",
       "      <th>rating</th>\n",
       "      <th>release_year</th>\n",
       "    </tr>\n",
       "  </thead>\n",
       "  <tbody>\n",
       "    <tr>\n",
       "      <th>3</th>\n",
       "      <td>Inception</td>\n",
       "      <td>8.7</td>\n",
       "      <td>2010</td>\n",
       "    </tr>\n",
       "    <tr>\n",
       "      <th>2</th>\n",
       "      <td>Forrest Gump</td>\n",
       "      <td>8.8</td>\n",
       "      <td>1994</td>\n",
       "    </tr>\n",
       "    <tr>\n",
       "      <th>1</th>\n",
       "      <td>Schindler's List</td>\n",
       "      <td>8.9</td>\n",
       "      <td>1993</td>\n",
       "    </tr>\n",
       "    <tr>\n",
       "      <th>0</th>\n",
       "      <td>The Dark Knight</td>\n",
       "      <td>9.0</td>\n",
       "      <td>2008</td>\n",
       "    </tr>\n",
       "  </tbody>\n",
       "</table>\n",
       "</div>"
      ],
      "text/plain": [
       "              title  rating  release_year\n",
       "3         Inception     8.7          2010\n",
       "2      Forrest Gump     8.8          1994\n",
       "1  Schindler's List     8.9          1993\n",
       "0   The Dark Knight     9.0          2008"
      ]
     },
     "execution_count": 32,
     "metadata": {},
     "output_type": "execute_result"
    }
   ],
   "source": [
    "df.sort_index(ascending=False)"
   ]
  },
  {
   "cell_type": "code",
   "execution_count": 33,
   "metadata": {
    "slideshow": {
     "slide_type": "subslide"
    }
   },
   "outputs": [
    {
     "data": {
      "text/html": [
       "<div>\n",
       "<style scoped>\n",
       "    .dataframe tbody tr th:only-of-type {\n",
       "        vertical-align: middle;\n",
       "    }\n",
       "\n",
       "    .dataframe tbody tr th {\n",
       "        vertical-align: top;\n",
       "    }\n",
       "\n",
       "    .dataframe thead th {\n",
       "        text-align: right;\n",
       "    }\n",
       "</style>\n",
       "<table border=\"1\" class=\"dataframe\">\n",
       "  <thead>\n",
       "    <tr style=\"text-align: right;\">\n",
       "      <th></th>\n",
       "      <th>title</th>\n",
       "      <th>rating</th>\n",
       "      <th>release_year</th>\n",
       "    </tr>\n",
       "  </thead>\n",
       "  <tbody>\n",
       "    <tr>\n",
       "      <th>2</th>\n",
       "      <td>Forrest Gump</td>\n",
       "      <td>8.8</td>\n",
       "      <td>1994</td>\n",
       "    </tr>\n",
       "    <tr>\n",
       "      <th>3</th>\n",
       "      <td>Inception</td>\n",
       "      <td>8.7</td>\n",
       "      <td>2010</td>\n",
       "    </tr>\n",
       "    <tr>\n",
       "      <th>1</th>\n",
       "      <td>Schindler's List</td>\n",
       "      <td>8.9</td>\n",
       "      <td>1993</td>\n",
       "    </tr>\n",
       "    <tr>\n",
       "      <th>0</th>\n",
       "      <td>The Dark Knight</td>\n",
       "      <td>9.0</td>\n",
       "      <td>2008</td>\n",
       "    </tr>\n",
       "  </tbody>\n",
       "</table>\n",
       "</div>"
      ],
      "text/plain": [
       "              title  rating  release_year\n",
       "2      Forrest Gump     8.8          1994\n",
       "3         Inception     8.7          2010\n",
       "1  Schindler's List     8.9          1993\n",
       "0   The Dark Knight     9.0          2008"
      ]
     },
     "execution_count": 33,
     "metadata": {},
     "output_type": "execute_result"
    }
   ],
   "source": [
    "movie_ratings = [9.0, 8.9, 8.8, 8.7]\n",
    "movie_titles = [\"The Dark Knight\", \"Schindler's List\", \"Forrest Gump\", \"Inception\"]\n",
    "release_years = [2008, 1993, 1994, 2010]\n",
    "df = pd.DataFrame()\n",
    "df[\"title\"] = movie_titles\n",
    "df[\"rating\"] = movie_ratings\n",
    "df[\"release_year\"] = release_years\n",
    "df.sort_values(\"title\")"
   ]
  },
  {
   "cell_type": "code",
   "execution_count": 34,
   "metadata": {
    "slideshow": {
     "slide_type": "fragment"
    }
   },
   "outputs": [
    {
     "data": {
      "text/html": [
       "<div>\n",
       "<style scoped>\n",
       "    .dataframe tbody tr th:only-of-type {\n",
       "        vertical-align: middle;\n",
       "    }\n",
       "\n",
       "    .dataframe tbody tr th {\n",
       "        vertical-align: top;\n",
       "    }\n",
       "\n",
       "    .dataframe thead th {\n",
       "        text-align: right;\n",
       "    }\n",
       "</style>\n",
       "<table border=\"1\" class=\"dataframe\">\n",
       "  <thead>\n",
       "    <tr style=\"text-align: right;\">\n",
       "      <th></th>\n",
       "      <th>title</th>\n",
       "      <th>rating</th>\n",
       "      <th>release_year</th>\n",
       "    </tr>\n",
       "  </thead>\n",
       "  <tbody>\n",
       "    <tr>\n",
       "      <th>1</th>\n",
       "      <td>Schindler's List</td>\n",
       "      <td>8.9</td>\n",
       "      <td>1993</td>\n",
       "    </tr>\n",
       "    <tr>\n",
       "      <th>2</th>\n",
       "      <td>Forrest Gump</td>\n",
       "      <td>8.8</td>\n",
       "      <td>1994</td>\n",
       "    </tr>\n",
       "    <tr>\n",
       "      <th>0</th>\n",
       "      <td>The Dark Knight</td>\n",
       "      <td>9.0</td>\n",
       "      <td>2008</td>\n",
       "    </tr>\n",
       "    <tr>\n",
       "      <th>3</th>\n",
       "      <td>Inception</td>\n",
       "      <td>8.7</td>\n",
       "      <td>2010</td>\n",
       "    </tr>\n",
       "  </tbody>\n",
       "</table>\n",
       "</div>"
      ],
      "text/plain": [
       "              title  rating  release_year\n",
       "1  Schindler's List     8.9          1993\n",
       "2      Forrest Gump     8.8          1994\n",
       "0   The Dark Knight     9.0          2008\n",
       "3         Inception     8.7          2010"
      ]
     },
     "execution_count": 34,
     "metadata": {},
     "output_type": "execute_result"
    }
   ],
   "source": [
    "df.sort_values(\"release_year\")"
   ]
  },
  {
   "cell_type": "code",
   "execution_count": 35,
   "metadata": {
    "slideshow": {
     "slide_type": "fragment"
    }
   },
   "outputs": [
    {
     "data": {
      "text/html": [
       "<div>\n",
       "<style scoped>\n",
       "    .dataframe tbody tr th:only-of-type {\n",
       "        vertical-align: middle;\n",
       "    }\n",
       "\n",
       "    .dataframe tbody tr th {\n",
       "        vertical-align: top;\n",
       "    }\n",
       "\n",
       "    .dataframe thead th {\n",
       "        text-align: right;\n",
       "    }\n",
       "</style>\n",
       "<table border=\"1\" class=\"dataframe\">\n",
       "  <thead>\n",
       "    <tr style=\"text-align: right;\">\n",
       "      <th></th>\n",
       "      <th>title</th>\n",
       "      <th>rating</th>\n",
       "      <th>release_year</th>\n",
       "    </tr>\n",
       "  </thead>\n",
       "  <tbody>\n",
       "    <tr>\n",
       "      <th>3</th>\n",
       "      <td>Inception</td>\n",
       "      <td>8.7</td>\n",
       "      <td>2010</td>\n",
       "    </tr>\n",
       "    <tr>\n",
       "      <th>0</th>\n",
       "      <td>The Dark Knight</td>\n",
       "      <td>9.0</td>\n",
       "      <td>2008</td>\n",
       "    </tr>\n",
       "    <tr>\n",
       "      <th>2</th>\n",
       "      <td>Forrest Gump</td>\n",
       "      <td>8.8</td>\n",
       "      <td>1994</td>\n",
       "    </tr>\n",
       "    <tr>\n",
       "      <th>1</th>\n",
       "      <td>Schindler's List</td>\n",
       "      <td>8.9</td>\n",
       "      <td>1993</td>\n",
       "    </tr>\n",
       "  </tbody>\n",
       "</table>\n",
       "</div>"
      ],
      "text/plain": [
       "              title  rating  release_year\n",
       "3         Inception     8.7          2010\n",
       "0   The Dark Knight     9.0          2008\n",
       "2      Forrest Gump     8.8          1994\n",
       "1  Schindler's List     8.9          1993"
      ]
     },
     "execution_count": 35,
     "metadata": {},
     "output_type": "execute_result"
    }
   ],
   "source": [
    "df.sort_values(\"release_year\", ascending=False)"
   ]
  },
  {
   "cell_type": "markdown",
   "metadata": {
    "slideshow": {
     "slide_type": "subslide"
    }
   },
   "source": [
    "## 衍生變數\n",
    "\n",
    "- 簡單運算\n",
    "- 類別對應類別\n",
    "- 數值對應類別\n",
    "- 函數映射"
   ]
  },
  {
   "cell_type": "markdown",
   "metadata": {
    "slideshow": {
     "slide_type": "subslide"
    }
   },
   "source": [
    "## 簡單運算\n",
    "\n",
    "透過 Series 從 ndarray 繼承而來的元素級別運算（element-wise operation）特性即可實踐，像是運用身高、體重這兩個欄位衍生出球員的 BMI"
   ]
  },
  {
   "cell_type": "code",
   "execution_count": 36,
   "metadata": {
    "slideshow": {
     "slide_type": "subslide"
    }
   },
   "outputs": [
    {
     "data": {
      "text/html": [
       "<div>\n",
       "<style scoped>\n",
       "    .dataframe tbody tr th:only-of-type {\n",
       "        vertical-align: middle;\n",
       "    }\n",
       "\n",
       "    .dataframe tbody tr th {\n",
       "        vertical-align: top;\n",
       "    }\n",
       "\n",
       "    .dataframe thead th {\n",
       "        text-align: right;\n",
       "    }\n",
       "</style>\n",
       "<table border=\"1\" class=\"dataframe\">\n",
       "  <thead>\n",
       "    <tr style=\"text-align: right;\">\n",
       "      <th></th>\n",
       "      <th>temporaryDisplayName</th>\n",
       "      <th>bmi</th>\n",
       "    </tr>\n",
       "  </thead>\n",
       "  <tbody>\n",
       "    <tr>\n",
       "      <th>0</th>\n",
       "      <td>Adams, Steven</td>\n",
       "      <td>26.493861</td>\n",
       "    </tr>\n",
       "    <tr>\n",
       "      <th>1</th>\n",
       "      <td>Adebayo, Bam</td>\n",
       "      <td>26.742788</td>\n",
       "    </tr>\n",
       "    <tr>\n",
       "      <th>2</th>\n",
       "      <td>Adel, Deng</td>\n",
       "      <td>22.449939</td>\n",
       "    </tr>\n",
       "    <tr>\n",
       "      <th>3</th>\n",
       "      <td>Aldridge, LaMarcus</td>\n",
       "      <td>26.481885</td>\n",
       "    </tr>\n",
       "    <tr>\n",
       "      <th>4</th>\n",
       "      <td>Alexander, Kyle</td>\n",
       "      <td>22.416388</td>\n",
       "    </tr>\n",
       "  </tbody>\n",
       "</table>\n",
       "</div>"
      ],
      "text/plain": [
       "  temporaryDisplayName        bmi\n",
       "0        Adams, Steven  26.493861\n",
       "1         Adebayo, Bam  26.742788\n",
       "2           Adel, Deng  22.449939\n",
       "3   Aldridge, LaMarcus  26.481885\n",
       "4      Alexander, Kyle  22.416388"
      ]
     },
     "execution_count": 36,
     "metadata": {},
     "output_type": "execute_result"
    }
   ],
   "source": [
    "player_profile = pd.read_csv(\"https://python4ds.s3-ap-northeast-1.amazonaws.com/player_profile.csv\")\n",
    "player_profile[\"bmi\"] = player_profile[\"weightKilograms\"] / player_profile[\"heightMeters\"]**2\n",
    "player_profile[[\"temporaryDisplayName\", \"bmi\"]].head()"
   ]
  },
  {
   "cell_type": "markdown",
   "metadata": {
    "slideshow": {
     "slide_type": "subslide"
    }
   },
   "source": [
    "## 類別對應類別\n",
    "\n",
    "透過 Series 的 `.map()` 方法來實踐，傳入 dict 作為對應的準則，字典的鍵（Key）為對應前的原始類別，字典的值（Value）為對應後的類別，例如將本來分類較細膩的鋒衛對應為較粗略的前場、後場"
   ]
  },
  {
   "cell_type": "code",
   "execution_count": 37,
   "metadata": {
    "slideshow": {
     "slide_type": "subslide"
    }
   },
   "outputs": [
    {
     "name": "stdout",
     "output_type": "stream",
     "text": [
      "Pos before mapping:\n"
     ]
    },
    {
     "data": {
      "text/plain": [
       "G      200\n",
       "F      186\n",
       "C       51\n",
       "G-F     39\n",
       "F-C     20\n",
       "F-G     15\n",
       "C-F     13\n",
       "Name: pos, dtype: int64"
      ]
     },
     "execution_count": 37,
     "metadata": {},
     "output_type": "execute_result"
    }
   ],
   "source": [
    "pos_dict = {\n",
    "    \"G\": \"Backcourt\",\n",
    "    \"F\": \"Frontcourt\",\n",
    "    \"C\": \"Frontcourt\",\n",
    "    \"G-F\": \"Backcourt\",\n",
    "    \"F-C\": \"Frontcourt\",\n",
    "    \"F-G\": \"Frontcourt\",\n",
    "    \"C-F\": \"Frontcourt\"\n",
    "}\n",
    "player_profile = pd.read_csv(\"https://python4ds.s3-ap-northeast-1.amazonaws.com/player_profile.csv\")\n",
    "print(\"Pos before mapping:\")\n",
    "player_profile[\"pos\"].value_counts()"
   ]
  },
  {
   "cell_type": "code",
   "execution_count": 38,
   "metadata": {
    "slideshow": {
     "slide_type": "subslide"
    }
   },
   "outputs": [
    {
     "name": "stdout",
     "output_type": "stream",
     "text": [
      "Pos after mapping:\n"
     ]
    },
    {
     "data": {
      "text/plain": [
       "Frontcourt    285\n",
       "Backcourt     239\n",
       "Name: pos_recoded, dtype: int64"
      ]
     },
     "execution_count": 38,
     "metadata": {},
     "output_type": "execute_result"
    }
   ],
   "source": [
    "print(\"Pos after mapping:\")\n",
    "player_profile[\"pos_recoded\"] = player_profile[\"pos\"].map(pos_dict)\n",
    "player_profile[\"pos_recoded\"].value_counts()"
   ]
  },
  {
   "cell_type": "markdown",
   "metadata": {
    "slideshow": {
     "slide_type": "subslide"
    }
   },
   "source": [
    "## 數值對應類別\n",
    "\n",
    "透過 `pd.cut()` 函數將數值變數依照指定的門檻值或箱數切分成為類別變數，舉例來說將身高對應為小於等於 2 公尺以及超過 2 公尺兩個類別"
   ]
  },
  {
   "cell_type": "code",
   "execution_count": 39,
   "metadata": {
    "slideshow": {
     "slide_type": "subslide"
    }
   },
   "outputs": [
    {
     "data": {
      "text/html": [
       "<div>\n",
       "<style scoped>\n",
       "    .dataframe tbody tr th:only-of-type {\n",
       "        vertical-align: middle;\n",
       "    }\n",
       "\n",
       "    .dataframe tbody tr th {\n",
       "        vertical-align: top;\n",
       "    }\n",
       "\n",
       "    .dataframe thead th {\n",
       "        text-align: right;\n",
       "    }\n",
       "</style>\n",
       "<table border=\"1\" class=\"dataframe\">\n",
       "  <thead>\n",
       "    <tr style=\"text-align: right;\">\n",
       "      <th></th>\n",
       "      <th>temporaryDisplayName</th>\n",
       "      <th>heightMeters</th>\n",
       "      <th>heightCategory</th>\n",
       "    </tr>\n",
       "  </thead>\n",
       "  <tbody>\n",
       "    <tr>\n",
       "      <th>0</th>\n",
       "      <td>Adams, Steven</td>\n",
       "      <td>2.13</td>\n",
       "      <td>&gt; 2m</td>\n",
       "    </tr>\n",
       "    <tr>\n",
       "      <th>1</th>\n",
       "      <td>Adebayo, Bam</td>\n",
       "      <td>2.08</td>\n",
       "      <td>&gt; 2m</td>\n",
       "    </tr>\n",
       "    <tr>\n",
       "      <th>2</th>\n",
       "      <td>Adel, Deng</td>\n",
       "      <td>2.01</td>\n",
       "      <td>&gt; 2m</td>\n",
       "    </tr>\n",
       "    <tr>\n",
       "      <th>3</th>\n",
       "      <td>Aldridge, LaMarcus</td>\n",
       "      <td>2.11</td>\n",
       "      <td>&gt; 2m</td>\n",
       "    </tr>\n",
       "    <tr>\n",
       "      <th>4</th>\n",
       "      <td>Alexander, Kyle</td>\n",
       "      <td>2.11</td>\n",
       "      <td>&gt; 2m</td>\n",
       "    </tr>\n",
       "    <tr>\n",
       "      <th>5</th>\n",
       "      <td>Alexander-Walker, Nickeil</td>\n",
       "      <td>1.96</td>\n",
       "      <td>&lt;= 2m</td>\n",
       "    </tr>\n",
       "    <tr>\n",
       "      <th>6</th>\n",
       "      <td>Allen, Grayson</td>\n",
       "      <td>1.96</td>\n",
       "      <td>&lt;= 2m</td>\n",
       "    </tr>\n",
       "    <tr>\n",
       "      <th>7</th>\n",
       "      <td>Allen, Jarrett</td>\n",
       "      <td>2.11</td>\n",
       "      <td>&gt; 2m</td>\n",
       "    </tr>\n",
       "    <tr>\n",
       "      <th>8</th>\n",
       "      <td>Allen, Kadeem</td>\n",
       "      <td>1.90</td>\n",
       "      <td>&lt;= 2m</td>\n",
       "    </tr>\n",
       "    <tr>\n",
       "      <th>9</th>\n",
       "      <td>Aminu, Al-Farouq</td>\n",
       "      <td>2.06</td>\n",
       "      <td>&gt; 2m</td>\n",
       "    </tr>\n",
       "  </tbody>\n",
       "</table>\n",
       "</div>"
      ],
      "text/plain": [
       "        temporaryDisplayName  heightMeters heightCategory\n",
       "0              Adams, Steven          2.13           > 2m\n",
       "1               Adebayo, Bam          2.08           > 2m\n",
       "2                 Adel, Deng          2.01           > 2m\n",
       "3         Aldridge, LaMarcus          2.11           > 2m\n",
       "4            Alexander, Kyle          2.11           > 2m\n",
       "5  Alexander-Walker, Nickeil          1.96          <= 2m\n",
       "6             Allen, Grayson          1.96          <= 2m\n",
       "7             Allen, Jarrett          2.11           > 2m\n",
       "8              Allen, Kadeem          1.90          <= 2m\n",
       "9           Aminu, Al-Farouq          2.06           > 2m"
      ]
     },
     "execution_count": 39,
     "metadata": {},
     "output_type": "execute_result"
    }
   ],
   "source": [
    "import numpy as np\n",
    "\n",
    "player_profile = pd.read_csv(\"https://python4ds.s3-ap-northeast-1.amazonaws.com/player_profile.csv\")\n",
    "player_profile[\"heightCategory\"] = pd.cut(player_profile[\"heightMeters\"], [0, 2, np.Inf], labels=[\"<= 2m\", \"> 2m\"])\n",
    "player_profile[[\"temporaryDisplayName\", \"heightMeters\", \"heightCategory\"]].head(10)"
   ]
  },
  {
   "cell_type": "markdown",
   "metadata": {
    "slideshow": {
     "slide_type": "subslide"
    }
   },
   "source": [
    "## 函數映射\n",
    "\n",
    "透過 `.apply()` 方法來實踐，傳入函數或 lambda 表示式作為映射的準則，例如將本來分類較細膩的鋒衛對應為較粗略的 G、F 與 C"
   ]
  },
  {
   "cell_type": "code",
   "execution_count": 40,
   "metadata": {
    "slideshow": {
     "slide_type": "subslide"
    }
   },
   "outputs": [
    {
     "name": "stdout",
     "output_type": "stream",
     "text": [
      "Pos before applying:\n"
     ]
    },
    {
     "data": {
      "text/plain": [
       "G      200\n",
       "F      186\n",
       "C       51\n",
       "G-F     39\n",
       "F-C     20\n",
       "F-G     15\n",
       "C-F     13\n",
       "Name: pos, dtype: int64"
      ]
     },
     "execution_count": 40,
     "metadata": {},
     "output_type": "execute_result"
    }
   ],
   "source": [
    "def recode_pos(x):\n",
    "    if x[0] == 'G':\n",
    "        return 'G'\n",
    "    elif x[0] == 'F':\n",
    "        return 'F'\n",
    "    elif x[0] == 'C':\n",
    "        return 'C'\n",
    "\n",
    "player_profile = pd.read_csv(\"https://python4ds.s3-ap-northeast-1.amazonaws.com/player_profile.csv\")\n",
    "player_profile[\"pos_recoded\"] = player_profile[\"pos\"].apply(recode_pos)\n",
    "print(\"Pos before applying:\")\n",
    "player_profile[\"pos\"].value_counts()"
   ]
  },
  {
   "cell_type": "code",
   "execution_count": 41,
   "metadata": {
    "slideshow": {
     "slide_type": "subslide"
    }
   },
   "outputs": [
    {
     "name": "stdout",
     "output_type": "stream",
     "text": [
      "Pos after applying:\n"
     ]
    },
    {
     "data": {
      "text/plain": [
       "G    239\n",
       "F    221\n",
       "C     64\n",
       "Name: pos_recoded, dtype: int64"
      ]
     },
     "execution_count": 41,
     "metadata": {},
     "output_type": "execute_result"
    }
   ],
   "source": [
    "print(\"Pos after applying:\")\n",
    "player_profile[\"pos_recoded\"].value_counts()"
   ]
  },
  {
   "cell_type": "markdown",
   "metadata": {
    "slideshow": {
     "slide_type": "subslide"
    }
   },
   "source": [
    "## 摘要\n",
    "\n",
    "對資料框呼叫常用的摘要方法\n",
    "\n",
    "- `.count()` 計算列數\n",
    "- `.mean()` 與 `.median()` 計算平均和中位數\n",
    "- `.min()` 與 `.max()` 計算最小和最大值\n",
    "- `.std()` 與 `.var()` 計算標準差和變異數\n",
    "- `.prod()` 計算乘積\n",
    "- `.sum()` 計算總和"
   ]
  },
  {
   "cell_type": "markdown",
   "metadata": {
    "slideshow": {
     "slide_type": "subslide"
    }
   },
   "source": [
    "## 摘要方法預設作用的維度是資料框的欄位，比方從上映年份、評等與片長三個變數中取出各自的最大值"
   ]
  },
  {
   "cell_type": "code",
   "execution_count": 42,
   "metadata": {
    "slideshow": {
     "slide_type": "subslide"
    }
   },
   "outputs": [
    {
     "name": "stdout",
     "output_type": "stream",
     "text": [
      "rating                  9.0\n",
      "release_year         2010.0\n",
      "movie_length_mins     195.0\n",
      "dtype: float64\n",
      "\n",
      "\n",
      "The Dark Knight     2008.0\n",
      "Schindler's List    1993.0\n",
      "Forrest Gump        1994.0\n",
      "Inception           2010.0\n",
      "dtype: float64\n"
     ]
    }
   ],
   "source": [
    "movie_ratings = [9.0, 8.9, 8.8, 8.7]\n",
    "movie_titles = [\"The Dark Knight\", \"Schindler's List\", \"Forrest Gump\", \"Inception\"]\n",
    "release_years = [2008, 1993, 1994, 2010]\n",
    "movie_length_mins = [152, 195, 142, 148]\n",
    "df = pd.DataFrame()\n",
    "df[\"rating\"] = movie_ratings\n",
    "df[\"release_year\"] = release_years\n",
    "df[\"movie_length_mins\"] = movie_length_mins\n",
    "df.index = movie_titles\n",
    "print(df.max())\n",
    "print(\"\\n\")\n",
    "print(df.max(axis=1))"
   ]
  },
  {
   "cell_type": "markdown",
   "metadata": {
    "slideshow": {
     "slide_type": "subslide"
    }
   },
   "source": [
    "## 獲取資料的最大值最小值\n",
    "\n",
    "- `df[\"col_name\"].max()`\n",
    "- `df[\"col_name\"].min()`"
   ]
  },
  {
   "cell_type": "markdown",
   "metadata": {
    "slideshow": {
     "slide_type": "subslide"
    }
   },
   "source": [
    "## 獲取資料最大最小的索引值\n",
    "\n",
    "- `df[\"col_name\"].idxmax()`\n",
    "- `df[\"col_name\"].idxmin()`"
   ]
  },
  {
   "cell_type": "markdown",
   "metadata": {
    "slideshow": {
     "slide_type": "subslide"
    }
   },
   "source": [
    "## 獲取類別資料的摘要\n",
    "\n",
    "- `df[\"col_name\"].nunique()`\n",
    "- `df[\"col_name\"].unique()`\n",
    "- `df[\"col_name\"].value_counts()`"
   ]
  },
  {
   "cell_type": "code",
   "execution_count": 43,
   "metadata": {
    "slideshow": {
     "slide_type": "subslide"
    }
   },
   "outputs": [
    {
     "name": "stdout",
     "output_type": "stream",
     "text": [
      "524\n",
      "42\n",
      "['New Zealand' 'USA' 'South Sudan' 'Canada' 'Greece' 'United Kingdom'\n",
      " 'Bahamas' 'France' 'Australia' 'Italy' 'Croatia' 'Latvia' 'Georgia'\n",
      " 'Democratic Republic of the Congo' 'Serbia' 'Sudan' 'Germany' 'Lithuania'\n",
      " 'Brazil' 'Slovenia' 'Switzerland' nan 'Mali' 'Senegal' 'Guinea'\n",
      " 'Cameroon' 'Angola' ' ' 'Spain' 'Yugoslavia' 'Japan' 'Dominican Republic'\n",
      " 'Turkey' 'Haiti' 'Ukraine' 'Finland' 'Bosnia and Herzegovina' 'Egypt'\n",
      " 'Nigeria' 'Austria' 'Czech Republic' 'Gabon' 'Montenegro']\n"
     ]
    }
   ],
   "source": [
    "player_profile = pd.read_csv(\"https://python4ds.s3-ap-northeast-1.amazonaws.com/player_profile.csv\")\n",
    "print(player_profile[\"country\"].size)\n",
    "print(player_profile[\"country\"].nunique())\n",
    "print(player_profile[\"country\"].unique())"
   ]
  },
  {
   "cell_type": "code",
   "execution_count": 44,
   "metadata": {
    "slideshow": {
     "slide_type": "subslide"
    }
   },
   "outputs": [
    {
     "data": {
      "text/plain": [
       "USA                                 393\n",
       "Canada                               20\n",
       "France                               12\n",
       "Australia                            10\n",
       "Croatia                               7\n",
       "Serbia                                6\n",
       "Germany                               6\n",
       "Spain                                 5\n",
       "Lithuania                             4\n",
       "Turkey                                4\n",
       "Latvia                                3\n",
       "Slovenia                              3\n",
       "Greece                                3\n",
       "Italy                                 3\n",
       "Brazil                                3\n",
       "Democratic Republic of the Congo      3\n",
       "Senegal                               2\n",
       "Cameroon                              2\n",
       "Japan                                 2\n",
       "Mali                                  2\n",
       "Bosnia and Herzegovina                2\n",
       "United Kingdom                        2\n",
       "Bahamas                               2\n",
       "Sudan                                 2\n",
       "South Sudan                           2\n",
       "Ukraine                               2\n",
       "Switzerland                           1\n",
       "Austria                               1\n",
       "Gabon                                 1\n",
       "Czech Republic                        1\n",
       "                                      1\n",
       "Egypt                                 1\n",
       "Guinea                                1\n",
       "Finland                               1\n",
       "Georgia                               1\n",
       "New Zealand                           1\n",
       "Nigeria                               1\n",
       "Angola                                1\n",
       "Yugoslavia                            1\n",
       "Montenegro                            1\n",
       "Haiti                                 1\n",
       "Dominican Republic                    1\n",
       "Name: country, dtype: int64"
      ]
     },
     "execution_count": 44,
     "metadata": {},
     "output_type": "execute_result"
    }
   ],
   "source": [
    "player_profile[\"country\"].value_counts()"
   ]
  },
  {
   "cell_type": "markdown",
   "metadata": {
    "slideshow": {
     "slide_type": "subslide"
    }
   },
   "source": [
    "## 分組摘要\n",
    "\n",
    "更多的應用情境中我們會指定一些類別變數分組，在分組的前提下對資料框變數呼叫簡單的摘要方法，這樣的操作源自於 SQL 資料庫查詢語言的 GROUP BY 語法"
   ]
  },
  {
   "cell_type": "code",
   "execution_count": 45,
   "metadata": {},
   "outputs": [
    {
     "name": "stdout",
     "output_type": "stream",
     "text": [
      "pos\n",
      "C      2.126863\n",
      "C-F    2.090000\n",
      "F      2.044378\n",
      "F-C    2.107500\n",
      "F-G    1.995333\n",
      "G      1.924800\n",
      "G-F    2.000000\n",
      "Name: heightMeters, dtype: float64\n",
      "\n",
      "\n",
      "pos\n",
      "C      114.335294\n",
      "C-F    110.676923\n",
      "F      101.589730\n",
      "F-C    110.855000\n",
      "F-G     95.126667\n",
      "G       88.896000\n",
      "G-F     95.717949\n",
      "Name: weightKilograms, dtype: float64\n"
     ]
    }
   ],
   "source": [
    "player_profile = pd.read_csv(\"https://python4ds.s3-ap-northeast-1.amazonaws.com/player_profile.csv\")\n",
    "groupby_object = player_profile.groupby(\"pos\")\n",
    "print(groupby_object[\"heightMeters\"].mean()) # Average height by pos\n",
    "print(\"\\n\")\n",
    "print(groupby_object[\"weightKilograms\"].mean()) # Average weight by pos"
   ]
  },
  {
   "cell_type": "markdown",
   "metadata": {
    "slideshow": {
     "slide_type": "subslide"
    }
   },
   "source": [
    "## 常用的列索引相關方法\n",
    "\n",
    "- `df.set_index(\"col_name\")`\n",
    "- `df.reset_index()`"
   ]
  },
  {
   "cell_type": "code",
   "execution_count": 46,
   "metadata": {
    "slideshow": {
     "slide_type": "subslide"
    }
   },
   "outputs": [
    {
     "data": {
      "text/html": [
       "<div>\n",
       "<style scoped>\n",
       "    .dataframe tbody tr th:only-of-type {\n",
       "        vertical-align: middle;\n",
       "    }\n",
       "\n",
       "    .dataframe tbody tr th {\n",
       "        vertical-align: top;\n",
       "    }\n",
       "\n",
       "    .dataframe thead th {\n",
       "        text-align: right;\n",
       "    }\n",
       "</style>\n",
       "<table border=\"1\" class=\"dataframe\">\n",
       "  <thead>\n",
       "    <tr style=\"text-align: right;\">\n",
       "      <th></th>\n",
       "      <th>title</th>\n",
       "      <th>rating</th>\n",
       "      <th>release_year</th>\n",
       "    </tr>\n",
       "  </thead>\n",
       "  <tbody>\n",
       "    <tr>\n",
       "      <th>0</th>\n",
       "      <td>The Dark Knight</td>\n",
       "      <td>9.0</td>\n",
       "      <td>2008</td>\n",
       "    </tr>\n",
       "    <tr>\n",
       "      <th>1</th>\n",
       "      <td>Schindler's List</td>\n",
       "      <td>8.9</td>\n",
       "      <td>1993</td>\n",
       "    </tr>\n",
       "    <tr>\n",
       "      <th>2</th>\n",
       "      <td>Forrest Gump</td>\n",
       "      <td>8.8</td>\n",
       "      <td>1994</td>\n",
       "    </tr>\n",
       "    <tr>\n",
       "      <th>3</th>\n",
       "      <td>Inception</td>\n",
       "      <td>8.7</td>\n",
       "      <td>2010</td>\n",
       "    </tr>\n",
       "  </tbody>\n",
       "</table>\n",
       "</div>"
      ],
      "text/plain": [
       "              title  rating  release_year\n",
       "0   The Dark Knight     9.0          2008\n",
       "1  Schindler's List     8.9          1993\n",
       "2      Forrest Gump     8.8          1994\n",
       "3         Inception     8.7          2010"
      ]
     },
     "execution_count": 46,
     "metadata": {},
     "output_type": "execute_result"
    }
   ],
   "source": [
    "movie_ratings = [9.0, 8.9, 8.8, 8.7]\n",
    "movie_titles = [\"The Dark Knight\", \"Schindler's List\", \"Forrest Gump\", \"Inception\"]\n",
    "release_years = [2008, 1993, 1994, 2010]\n",
    "df = pd.DataFrame()\n",
    "df[\"title\"] = movie_titles\n",
    "df[\"rating\"] = movie_ratings\n",
    "df[\"release_year\"] = release_years\n",
    "df"
   ]
  },
  {
   "cell_type": "code",
   "execution_count": 47,
   "metadata": {
    "slideshow": {
     "slide_type": "subslide"
    }
   },
   "outputs": [
    {
     "data": {
      "text/html": [
       "<div>\n",
       "<style scoped>\n",
       "    .dataframe tbody tr th:only-of-type {\n",
       "        vertical-align: middle;\n",
       "    }\n",
       "\n",
       "    .dataframe tbody tr th {\n",
       "        vertical-align: top;\n",
       "    }\n",
       "\n",
       "    .dataframe thead th {\n",
       "        text-align: right;\n",
       "    }\n",
       "</style>\n",
       "<table border=\"1\" class=\"dataframe\">\n",
       "  <thead>\n",
       "    <tr style=\"text-align: right;\">\n",
       "      <th></th>\n",
       "      <th>rating</th>\n",
       "      <th>release_year</th>\n",
       "    </tr>\n",
       "    <tr>\n",
       "      <th>title</th>\n",
       "      <th></th>\n",
       "      <th></th>\n",
       "    </tr>\n",
       "  </thead>\n",
       "  <tbody>\n",
       "    <tr>\n",
       "      <th>The Dark Knight</th>\n",
       "      <td>9.0</td>\n",
       "      <td>2008</td>\n",
       "    </tr>\n",
       "    <tr>\n",
       "      <th>Schindler's List</th>\n",
       "      <td>8.9</td>\n",
       "      <td>1993</td>\n",
       "    </tr>\n",
       "    <tr>\n",
       "      <th>Forrest Gump</th>\n",
       "      <td>8.8</td>\n",
       "      <td>1994</td>\n",
       "    </tr>\n",
       "    <tr>\n",
       "      <th>Inception</th>\n",
       "      <td>8.7</td>\n",
       "      <td>2010</td>\n",
       "    </tr>\n",
       "  </tbody>\n",
       "</table>\n",
       "</div>"
      ],
      "text/plain": [
       "                  rating  release_year\n",
       "title                                 \n",
       "The Dark Knight      9.0          2008\n",
       "Schindler's List     8.9          1993\n",
       "Forrest Gump         8.8          1994\n",
       "Inception            8.7          2010"
      ]
     },
     "execution_count": 47,
     "metadata": {},
     "output_type": "execute_result"
    }
   ],
   "source": [
    "df = df.set_index(\"title\")\n",
    "df"
   ]
  },
  {
   "cell_type": "code",
   "execution_count": 48,
   "metadata": {
    "slideshow": {
     "slide_type": "subslide"
    }
   },
   "outputs": [
    {
     "data": {
      "text/html": [
       "<div>\n",
       "<style scoped>\n",
       "    .dataframe tbody tr th:only-of-type {\n",
       "        vertical-align: middle;\n",
       "    }\n",
       "\n",
       "    .dataframe tbody tr th {\n",
       "        vertical-align: top;\n",
       "    }\n",
       "\n",
       "    .dataframe thead th {\n",
       "        text-align: right;\n",
       "    }\n",
       "</style>\n",
       "<table border=\"1\" class=\"dataframe\">\n",
       "  <thead>\n",
       "    <tr style=\"text-align: right;\">\n",
       "      <th></th>\n",
       "      <th>title</th>\n",
       "      <th>rating</th>\n",
       "      <th>release_year</th>\n",
       "    </tr>\n",
       "  </thead>\n",
       "  <tbody>\n",
       "    <tr>\n",
       "      <th>0</th>\n",
       "      <td>The Dark Knight</td>\n",
       "      <td>9.0</td>\n",
       "      <td>2008</td>\n",
       "    </tr>\n",
       "    <tr>\n",
       "      <th>1</th>\n",
       "      <td>Schindler's List</td>\n",
       "      <td>8.9</td>\n",
       "      <td>1993</td>\n",
       "    </tr>\n",
       "    <tr>\n",
       "      <th>2</th>\n",
       "      <td>Forrest Gump</td>\n",
       "      <td>8.8</td>\n",
       "      <td>1994</td>\n",
       "    </tr>\n",
       "    <tr>\n",
       "      <th>3</th>\n",
       "      <td>Inception</td>\n",
       "      <td>8.7</td>\n",
       "      <td>2010</td>\n",
       "    </tr>\n",
       "  </tbody>\n",
       "</table>\n",
       "</div>"
      ],
      "text/plain": [
       "              title  rating  release_year\n",
       "0   The Dark Knight     9.0          2008\n",
       "1  Schindler's List     8.9          1993\n",
       "2      Forrest Gump     8.8          1994\n",
       "3         Inception     8.7          2010"
      ]
     },
     "execution_count": 48,
     "metadata": {},
     "output_type": "execute_result"
    }
   ],
   "source": [
    "df = df.reset_index()\n",
    "df"
   ]
  },
  {
   "cell_type": "markdown",
   "metadata": {
    "slideshow": {
     "slide_type": "slide"
    }
   },
   "source": [
    "## 延伸閱讀\n",
    "\n",
    "[pandas: powerful Python data analysis toolkit](http://pandas.pydata.org/pandas-docs/stable/)"
   ]
  },
  {
   "cell_type": "markdown",
   "metadata": {
    "slideshow": {
     "slide_type": "slide"
    }
   },
   "source": [
    "## 隨堂練習\n",
    "\n",
    "[隨堂練習：奧運獎牌排行](https://mybinder.org/v2/gh/yaojenkuo/python-data-analysis/master?filepath=exercises%2F03-exercises.ipynb)"
   ]
  },
  {
   "cell_type": "markdown",
   "metadata": {
    "slideshow": {
     "slide_type": "subslide"
    }
   },
   "source": [
    "## 題庫來源\n",
    "\n",
    "[Introduction to Data Science in Python](https://www.coursera.org/learn/python-data-analysis)"
   ]
  },
  {
   "cell_type": "code",
   "execution_count": 49,
   "metadata": {
    "slideshow": {
     "slide_type": "subslide"
    }
   },
   "outputs": [],
   "source": [
    "request_url = \"https://en.wikipedia.org/wiki/All-time_Olympic_Games_medal_table\"\n",
    "html_tables = pd.read_html(request_url)\n",
    "olympic_medal_table = html_tables[1]\n",
    "column_names = ['team', 'no_summer_games', 'no_summer_golds', 'no_summer_silvers', 'no_summer_bronzes', 'no_summer_totals',\n",
    "               'no_winter_games', 'no_winter_golds', 'no_winter_silvers', 'no_winter_bronzes', 'no_winter_totals',\n",
    "               'no_combined_games', 'no_combined_golds', 'no_combined_silvers', 'no_combined_bronzes', 'no_combined_totals']\n",
    "olympic_medal_table.columns = column_names\n",
    "team_name_split = olympic_medal_table['team'].str.split('\\(|\\)|\\[|\\]', expand=True)\n",
    "team_names = team_name_split[0].str.strip()\n",
    "team_ioc = team_name_split[1].str.strip()\n",
    "olympic_medal_table.insert(0, 'team_name', team_names.values)\n",
    "olympic_medal_table.insert(1, 'team_ioc', team_ioc.values)\n",
    "olympic_medal_table = olympic_medal_table.drop('team', axis=1)"
   ]
  },
  {
   "cell_type": "code",
   "execution_count": 50,
   "metadata": {
    "slideshow": {
     "slide_type": "subslide"
    }
   },
   "outputs": [
    {
     "data": {
      "text/html": [
       "<div>\n",
       "<style scoped>\n",
       "    .dataframe tbody tr th:only-of-type {\n",
       "        vertical-align: middle;\n",
       "    }\n",
       "\n",
       "    .dataframe tbody tr th {\n",
       "        vertical-align: top;\n",
       "    }\n",
       "\n",
       "    .dataframe thead th {\n",
       "        text-align: right;\n",
       "    }\n",
       "</style>\n",
       "<table border=\"1\" class=\"dataframe\">\n",
       "  <thead>\n",
       "    <tr style=\"text-align: right;\">\n",
       "      <th></th>\n",
       "      <th>team_name</th>\n",
       "      <th>team_ioc</th>\n",
       "      <th>no_summer_games</th>\n",
       "      <th>no_summer_golds</th>\n",
       "      <th>no_summer_silvers</th>\n",
       "      <th>no_summer_bronzes</th>\n",
       "      <th>no_summer_totals</th>\n",
       "      <th>no_winter_games</th>\n",
       "      <th>no_winter_golds</th>\n",
       "      <th>no_winter_silvers</th>\n",
       "      <th>no_winter_bronzes</th>\n",
       "      <th>no_winter_totals</th>\n",
       "      <th>no_combined_games</th>\n",
       "      <th>no_combined_golds</th>\n",
       "      <th>no_combined_silvers</th>\n",
       "      <th>no_combined_bronzes</th>\n",
       "      <th>no_combined_totals</th>\n",
       "    </tr>\n",
       "  </thead>\n",
       "  <tbody>\n",
       "    <tr>\n",
       "      <th>0</th>\n",
       "      <td>Afghanistan</td>\n",
       "      <td>AFG</td>\n",
       "      <td>14</td>\n",
       "      <td>0</td>\n",
       "      <td>0</td>\n",
       "      <td>2</td>\n",
       "      <td>2</td>\n",
       "      <td>0</td>\n",
       "      <td>0</td>\n",
       "      <td>0</td>\n",
       "      <td>0</td>\n",
       "      <td>0</td>\n",
       "      <td>14</td>\n",
       "      <td>0</td>\n",
       "      <td>0</td>\n",
       "      <td>2</td>\n",
       "      <td>2</td>\n",
       "    </tr>\n",
       "    <tr>\n",
       "      <th>1</th>\n",
       "      <td>Algeria</td>\n",
       "      <td>ALG</td>\n",
       "      <td>13</td>\n",
       "      <td>5</td>\n",
       "      <td>4</td>\n",
       "      <td>8</td>\n",
       "      <td>17</td>\n",
       "      <td>3</td>\n",
       "      <td>0</td>\n",
       "      <td>0</td>\n",
       "      <td>0</td>\n",
       "      <td>0</td>\n",
       "      <td>16</td>\n",
       "      <td>5</td>\n",
       "      <td>4</td>\n",
       "      <td>8</td>\n",
       "      <td>17</td>\n",
       "    </tr>\n",
       "    <tr>\n",
       "      <th>2</th>\n",
       "      <td>Argentina</td>\n",
       "      <td>ARG</td>\n",
       "      <td>24</td>\n",
       "      <td>21</td>\n",
       "      <td>25</td>\n",
       "      <td>28</td>\n",
       "      <td>74</td>\n",
       "      <td>19</td>\n",
       "      <td>0</td>\n",
       "      <td>0</td>\n",
       "      <td>0</td>\n",
       "      <td>0</td>\n",
       "      <td>43</td>\n",
       "      <td>21</td>\n",
       "      <td>25</td>\n",
       "      <td>28</td>\n",
       "      <td>74</td>\n",
       "    </tr>\n",
       "    <tr>\n",
       "      <th>3</th>\n",
       "      <td>Armenia</td>\n",
       "      <td>ARM</td>\n",
       "      <td>6</td>\n",
       "      <td>2</td>\n",
       "      <td>6</td>\n",
       "      <td>6</td>\n",
       "      <td>14</td>\n",
       "      <td>7</td>\n",
       "      <td>0</td>\n",
       "      <td>0</td>\n",
       "      <td>0</td>\n",
       "      <td>0</td>\n",
       "      <td>13</td>\n",
       "      <td>2</td>\n",
       "      <td>6</td>\n",
       "      <td>6</td>\n",
       "      <td>14</td>\n",
       "    </tr>\n",
       "    <tr>\n",
       "      <th>4</th>\n",
       "      <td>Australasia</td>\n",
       "      <td>ANZ</td>\n",
       "      <td>2</td>\n",
       "      <td>3</td>\n",
       "      <td>4</td>\n",
       "      <td>5</td>\n",
       "      <td>12</td>\n",
       "      <td>0</td>\n",
       "      <td>0</td>\n",
       "      <td>0</td>\n",
       "      <td>0</td>\n",
       "      <td>0</td>\n",
       "      <td>2</td>\n",
       "      <td>3</td>\n",
       "      <td>4</td>\n",
       "      <td>5</td>\n",
       "      <td>12</td>\n",
       "    </tr>\n",
       "  </tbody>\n",
       "</table>\n",
       "</div>"
      ],
      "text/plain": [
       "     team_name team_ioc  no_summer_games  no_summer_golds  no_summer_silvers  \\\n",
       "0  Afghanistan      AFG               14                0                  0   \n",
       "1      Algeria      ALG               13                5                  4   \n",
       "2    Argentina      ARG               24               21                 25   \n",
       "3      Armenia      ARM                6                2                  6   \n",
       "4  Australasia      ANZ                2                3                  4   \n",
       "\n",
       "   no_summer_bronzes  no_summer_totals  no_winter_games  no_winter_golds  \\\n",
       "0                  2                 2                0                0   \n",
       "1                  8                17                3                0   \n",
       "2                 28                74               19                0   \n",
       "3                  6                14                7                0   \n",
       "4                  5                12                0                0   \n",
       "\n",
       "   no_winter_silvers  no_winter_bronzes  no_winter_totals  no_combined_games  \\\n",
       "0                  0                  0                 0                 14   \n",
       "1                  0                  0                 0                 16   \n",
       "2                  0                  0                 0                 43   \n",
       "3                  0                  0                 0                 13   \n",
       "4                  0                  0                 0                  2   \n",
       "\n",
       "   no_combined_golds  no_combined_silvers  no_combined_bronzes  \\\n",
       "0                  0                    0                    2   \n",
       "1                  5                    4                    8   \n",
       "2                 21                   25                   28   \n",
       "3                  2                    6                    6   \n",
       "4                  3                    4                    5   \n",
       "\n",
       "   no_combined_totals  \n",
       "0                   2  \n",
       "1                  17  \n",
       "2                  74  \n",
       "3                  14  \n",
       "4                  12  "
      ]
     },
     "execution_count": 50,
     "metadata": {},
     "output_type": "execute_result"
    }
   ],
   "source": [
    "olympic_medal_table.head()"
   ]
  },
  {
   "cell_type": "code",
   "execution_count": 51,
   "metadata": {
    "slideshow": {
     "slide_type": "subslide"
    }
   },
   "outputs": [
    {
     "data": {
      "text/html": [
       "<div>\n",
       "<style scoped>\n",
       "    .dataframe tbody tr th:only-of-type {\n",
       "        vertical-align: middle;\n",
       "    }\n",
       "\n",
       "    .dataframe tbody tr th {\n",
       "        vertical-align: top;\n",
       "    }\n",
       "\n",
       "    .dataframe thead th {\n",
       "        text-align: right;\n",
       "    }\n",
       "</style>\n",
       "<table border=\"1\" class=\"dataframe\">\n",
       "  <thead>\n",
       "    <tr style=\"text-align: right;\">\n",
       "      <th></th>\n",
       "      <th>team_name</th>\n",
       "      <th>team_ioc</th>\n",
       "      <th>no_summer_games</th>\n",
       "      <th>no_summer_golds</th>\n",
       "      <th>no_summer_silvers</th>\n",
       "      <th>no_summer_bronzes</th>\n",
       "      <th>no_summer_totals</th>\n",
       "      <th>no_winter_games</th>\n",
       "      <th>no_winter_golds</th>\n",
       "      <th>no_winter_silvers</th>\n",
       "      <th>no_winter_bronzes</th>\n",
       "      <th>no_winter_totals</th>\n",
       "      <th>no_combined_games</th>\n",
       "      <th>no_combined_golds</th>\n",
       "      <th>no_combined_silvers</th>\n",
       "      <th>no_combined_bronzes</th>\n",
       "      <th>no_combined_totals</th>\n",
       "    </tr>\n",
       "  </thead>\n",
       "  <tbody>\n",
       "    <tr>\n",
       "      <th>148</th>\n",
       "      <td>Zimbabwe</td>\n",
       "      <td>ZIM</td>\n",
       "      <td>13</td>\n",
       "      <td>3</td>\n",
       "      <td>4</td>\n",
       "      <td>1</td>\n",
       "      <td>8</td>\n",
       "      <td>1</td>\n",
       "      <td>0</td>\n",
       "      <td>0</td>\n",
       "      <td>0</td>\n",
       "      <td>0</td>\n",
       "      <td>14</td>\n",
       "      <td>3</td>\n",
       "      <td>4</td>\n",
       "      <td>1</td>\n",
       "      <td>8</td>\n",
       "    </tr>\n",
       "    <tr>\n",
       "      <th>149</th>\n",
       "      <td>Independent Olympic Athletes</td>\n",
       "      <td>IOA</td>\n",
       "      <td>3</td>\n",
       "      <td>1</td>\n",
       "      <td>0</td>\n",
       "      <td>1</td>\n",
       "      <td>2</td>\n",
       "      <td>0</td>\n",
       "      <td>0</td>\n",
       "      <td>0</td>\n",
       "      <td>0</td>\n",
       "      <td>0</td>\n",
       "      <td>3</td>\n",
       "      <td>1</td>\n",
       "      <td>0</td>\n",
       "      <td>1</td>\n",
       "      <td>2</td>\n",
       "    </tr>\n",
       "    <tr>\n",
       "      <th>150</th>\n",
       "      <td>Independent Olympic Participants</td>\n",
       "      <td>IOP</td>\n",
       "      <td>1</td>\n",
       "      <td>0</td>\n",
       "      <td>1</td>\n",
       "      <td>2</td>\n",
       "      <td>3</td>\n",
       "      <td>0</td>\n",
       "      <td>0</td>\n",
       "      <td>0</td>\n",
       "      <td>0</td>\n",
       "      <td>0</td>\n",
       "      <td>1</td>\n",
       "      <td>0</td>\n",
       "      <td>1</td>\n",
       "      <td>2</td>\n",
       "      <td>3</td>\n",
       "    </tr>\n",
       "    <tr>\n",
       "      <th>151</th>\n",
       "      <td>Mixed team</td>\n",
       "      <td>ZZX</td>\n",
       "      <td>3</td>\n",
       "      <td>8</td>\n",
       "      <td>5</td>\n",
       "      <td>4</td>\n",
       "      <td>17</td>\n",
       "      <td>0</td>\n",
       "      <td>0</td>\n",
       "      <td>0</td>\n",
       "      <td>0</td>\n",
       "      <td>0</td>\n",
       "      <td>3</td>\n",
       "      <td>8</td>\n",
       "      <td>5</td>\n",
       "      <td>4</td>\n",
       "      <td>17</td>\n",
       "    </tr>\n",
       "    <tr>\n",
       "      <th>152</th>\n",
       "      <td>Totals</td>\n",
       "      <td>None</td>\n",
       "      <td>28</td>\n",
       "      <td>5116</td>\n",
       "      <td>5081</td>\n",
       "      <td>5488</td>\n",
       "      <td>15685</td>\n",
       "      <td>23</td>\n",
       "      <td>1062</td>\n",
       "      <td>1058</td>\n",
       "      <td>1050</td>\n",
       "      <td>3170</td>\n",
       "      <td>51</td>\n",
       "      <td>6178</td>\n",
       "      <td>6139</td>\n",
       "      <td>6538</td>\n",
       "      <td>18855</td>\n",
       "    </tr>\n",
       "  </tbody>\n",
       "</table>\n",
       "</div>"
      ],
      "text/plain": [
       "                            team_name team_ioc  no_summer_games  \\\n",
       "148                          Zimbabwe      ZIM               13   \n",
       "149      Independent Olympic Athletes      IOA                3   \n",
       "150  Independent Olympic Participants      IOP                1   \n",
       "151                        Mixed team      ZZX                3   \n",
       "152                            Totals     None               28   \n",
       "\n",
       "     no_summer_golds  no_summer_silvers  no_summer_bronzes  no_summer_totals  \\\n",
       "148                3                  4                  1                 8   \n",
       "149                1                  0                  1                 2   \n",
       "150                0                  1                  2                 3   \n",
       "151                8                  5                  4                17   \n",
       "152             5116               5081               5488             15685   \n",
       "\n",
       "     no_winter_games  no_winter_golds  no_winter_silvers  no_winter_bronzes  \\\n",
       "148                1                0                  0                  0   \n",
       "149                0                0                  0                  0   \n",
       "150                0                0                  0                  0   \n",
       "151                0                0                  0                  0   \n",
       "152               23             1062               1058               1050   \n",
       "\n",
       "     no_winter_totals  no_combined_games  no_combined_golds  \\\n",
       "148                 0                 14                  3   \n",
       "149                 0                  3                  1   \n",
       "150                 0                  1                  0   \n",
       "151                 0                  3                  8   \n",
       "152              3170                 51               6178   \n",
       "\n",
       "     no_combined_silvers  no_combined_bronzes  no_combined_totals  \n",
       "148                    4                    1                   8  \n",
       "149                    0                    1                   2  \n",
       "150                    1                    2                   3  \n",
       "151                    5                    4                  17  \n",
       "152                 6139                 6538               18855  "
      ]
     },
     "execution_count": 51,
     "metadata": {},
     "output_type": "execute_result"
    }
   ],
   "source": [
    "olympic_medal_table.tail()"
   ]
  },
  {
   "cell_type": "markdown",
   "metadata": {
    "slideshow": {
     "slide_type": "subslide"
    }
   },
   "source": [
    "## 隨堂練習：哪個國家贏得的夏季奧運金牌數最多？"
   ]
  },
  {
   "cell_type": "code",
   "execution_count": 52,
   "metadata": {
    "slideshow": {
     "slide_type": "-"
    }
   },
   "outputs": [],
   "source": [
    "def most_summer_gold_country(olympic_medal_table):\n",
    "    \"\"\"\n",
    "    >>> most_summer_gold_country(olympic_medal_table)\n",
    "    'United States'\n",
    "    \"\"\""
   ]
  },
  {
   "cell_type": "markdown",
   "metadata": {
    "slideshow": {
     "slide_type": "subslide"
    }
   },
   "source": [
    "## 隨堂練習：哪個國家夏季奧運與冬季奧運的金牌數差距數最大？"
   ]
  },
  {
   "cell_type": "code",
   "execution_count": 53,
   "metadata": {
    "slideshow": {
     "slide_type": "-"
    }
   },
   "outputs": [],
   "source": [
    "def largest_gold_difference(olympic_medal_table):\n",
    "    \"\"\"\n",
    "    >>> largest_gold_difference(olympic_medal_table)\n",
    "    'United States'\n",
    "    \"\"\""
   ]
  },
  {
   "cell_type": "markdown",
   "metadata": {
    "slideshow": {
     "slide_type": "subslide"
    }
   },
   "source": [
    "## 隨堂練習：哪個國家夏季奧運與冬季奧運的金牌數差距除以總金牌數的比例最大？（僅考慮至少有一個夏季金牌與一個冬季金牌的國家）\n",
    "\n",
    "$$\\text{Ratio} = \\frac{\\text{Summer Gold} - \\text{Winter Gold}}{\\text{Total Gold}}$$"
   ]
  },
  {
   "cell_type": "code",
   "execution_count": 54,
   "metadata": {
    "slideshow": {
     "slide_type": "-"
    }
   },
   "outputs": [],
   "source": [
    "def largest_ratio(olympic_medal_table):\n",
    "    \"\"\"\n",
    "    >>> largest_ratio(olympic_medal_table)\n",
    "    'Hungary'\n",
    "    \"\"\""
   ]
  },
  {
   "cell_type": "markdown",
   "metadata": {
    "slideshow": {
     "slide_type": "slide"
    }
   },
   "source": [
    "## 隨堂練習參考解答\n",
    "\n",
    "[隨堂練習：奧運獎牌排行參考解答](https://mybinder.org/v2/gh/yaojenkuo/python-data-analysis/master?filepath=suggested_answers%2F03-suggested-answers.ipynb)"
   ]
  }
 ],
 "metadata": {
  "celltoolbar": "Slideshow",
  "kernelspec": {
   "display_name": "Python Web Scraping",
   "language": "python",
   "name": "pywebscraping"
  },
  "language_info": {
   "codemirror_mode": {
    "name": "ipython",
    "version": 3
   },
   "file_extension": ".py",
   "mimetype": "text/x-python",
   "name": "python",
   "nbconvert_exporter": "python",
   "pygments_lexer": "ipython3",
   "version": "3.7.7"
  }
 },
 "nbformat": 4,
 "nbformat_minor": 2
}
