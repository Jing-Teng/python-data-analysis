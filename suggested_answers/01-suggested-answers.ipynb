{
 "cells": [
  {
   "cell_type": "markdown",
   "metadata": {
    "slideshow": {
     "slide_type": "slide"
    }
   },
   "source": [
    "# 成為資料分析師 | Python 與資料科學應用\n",
    "\n",
    "> 網頁資料擷取：隨堂練習參考解答\n",
    "\n",
    "## 郭耀仁"
   ]
  },
  {
   "cell_type": "code",
   "execution_count": 1,
   "metadata": {
    "slideshow": {
     "slide_type": "subslide"
    }
   },
   "outputs": [],
   "source": [
    "import requests\n",
    "from xml.etree import ElementTree as etree\n",
    "from bs4 import BeautifulSoup\n",
    "import time\n",
    "import random"
   ]
  },
  {
   "cell_type": "markdown",
   "metadata": {
    "slideshow": {
     "slide_type": "subslide"
    }
   },
   "source": [
    "## 隨堂練習：2019-2020 球季 NBA 有幾支球隊？"
   ]
  },
  {
   "cell_type": "code",
   "execution_count": 2,
   "metadata": {},
   "outputs": [],
   "source": [
    "def number_of_nba_teams(request_url):\n",
    "    \"\"\"\n",
    "    >>> number_of_nba_teams(\"http://data.nba.net/prod/v2/2019/teams.json\")\n",
    "    30\n",
    "    \"\"\"\n",
    "    response = requests.get(request_url)\n",
    "    response_json = response.json()\n",
    "    teams = response_json[\"league\"][\"standard\"]\n",
    "    n_nba_teams = 0\n",
    "    for t in teams:\n",
    "        if t[\"isNBAFranchise\"]:\n",
    "            n_nba_teams += 1\n",
    "    return n_nba_teams"
   ]
  },
  {
   "cell_type": "markdown",
   "metadata": {
    "slideshow": {
     "slide_type": "subslide"
    }
   },
   "source": [
    "## 隨堂練習：divName 為 Atlantic 與 Southwest 的球隊有哪些？"
   ]
  },
  {
   "cell_type": "code",
   "execution_count": 3,
   "metadata": {},
   "outputs": [],
   "source": [
    "def find_atlantic_southwest_teams(request_url):\n",
    "    \"\"\"\n",
    "    >>> atlantic_southwest_teams = find_atlantic_southwest_teams(\"http://data.nba.net/prod/v2/2019/teams.json\")\n",
    "    >>> atlantic_southwest_teams['Atlantic']\n",
    "    ['Boston Celtics', 'Brooklyn Nets', 'New York Knicks', 'Philadelphia 76ers', 'Toronto Raptors']\n",
    "    >>> atlantic_southwest_teams['Southwest']\n",
    "    ['Dallas Mavericks', 'Houston Rockets', 'Memphis Grizzlies', 'New Orleans Pelicans', 'San Antonio Spurs']\n",
    "    \"\"\"\n",
    "    response = requests.get(request_url)\n",
    "    response_json = response.json()\n",
    "    teams = response_json[\"league\"][\"standard\"]\n",
    "    team_dict = dict()\n",
    "    for t in teams:\n",
    "        div = t[\"divName\"]\n",
    "        full_name = t[\"fullName\"]\n",
    "        if div in team_dict:\n",
    "            team_dict[div].append(full_name)\n",
    "        else:\n",
    "            team_dict[div] = [full_name]\n",
    "    return team_dict"
   ]
  },
  {
   "cell_type": "markdown",
   "metadata": {
    "slideshow": {
     "slide_type": "subslide"
    }
   },
   "source": [
    "## 隨堂練習：擷取台北市所有 7-11 商店資訊"
   ]
  },
  {
   "cell_type": "code",
   "execution_count": 4,
   "metadata": {},
   "outputs": [],
   "source": [
    "def get_tpe_711_stores(request_url):\n",
    "    \"\"\"\n",
    "    >>> tpe_711_stores = get_tpe_711_stores(\"https://emap.pcsc.com.tw/EMapSDK.aspx\")\n",
    "    >>> tpe_711_stores[\"松山區\"][0]\n",
    "    {'POIID': '170945', 'POIName': '上弘', 'Longitude': 121.548287390895, 'Latitude': 25.056390968531797, 'Address': '台北市松山區敦化北路168號B2'}\n",
    "    >>> tpe_711_stores[\"信義區\"][0]\n",
    "    {'POIID': '167651', 'POIName': '一零一', 'Longitude': 121.565077, 'Latitude': 25.033373, 'Address': '台北市信義區信義路五段7號35樓'}\n",
    "    >>> tpe_711_stores[\"大安區\"][0]\n",
    "    {'POIID': '153319', 'POIName': '大台', 'Longitude': 121.53261437826, 'Latitude': 25.0179598345753, 'Address': '台北市大安區羅斯福路三段283巷14弄16號1樓'}\n",
    "    \"\"\"\n",
    "    form_data = {\n",
    "        \"commandid\": \"GetTown\",\n",
    "        \"cityid\": \"01\"\n",
    "    }\n",
    "    response = requests.post(request_url, data=form_data)\n",
    "    tree = etree.fromstring(response.text)\n",
    "    town_names = [t.text for t in tree.findall(\".//TownName\")]\n",
    "    tpe_711_stores = dict()\n",
    "    for town in town_names:\n",
    "        form_data = {\n",
    "            \"commandid\": \"SearchStore\",\n",
    "            \"city\": \"台北市\",\n",
    "            \"town\": town\n",
    "        }\n",
    "        response = requests.post(request_url, data=form_data)\n",
    "        tree = etree.fromstring(response.text)\n",
    "        poi_ids = [t.text.strip() for t in tree.findall(\".//POIID\")]\n",
    "        poi_names = [t.text for t in tree.findall(\".//POIName\")]\n",
    "        lons = [float(t.text)/1000000 for t in tree.findall(\".//X\")]\n",
    "        lats = [float(t.text)/1000000 for t in tree.findall(\".//Y\")]\n",
    "        adds = [t.text for t in tree.findall(\".//Address\")]\n",
    "        tpe_711_stores[town] = []\n",
    "        for poi_id, poi_name, lon, lat, add in zip(poi_ids, poi_names, lons, lats, adds):\n",
    "            store_info = {\n",
    "                \"POIID\": poi_id,\n",
    "                \"POIName\": poi_name,\n",
    "                \"Longitude\": lon,\n",
    "                \"Latitude\": lat,\n",
    "                \"Address\": add\n",
    "            }\n",
    "            tpe_711_stores[town].append(store_info)\n",
    "        time.sleep(random.randint(1, 5))\n",
    "    return tpe_711_stores"
   ]
  },
  {
   "cell_type": "markdown",
   "metadata": {
    "slideshow": {
     "slide_type": "subslide"
    }
   },
   "source": [
    "## 隨堂練習：以 `requests` 搭配 `bs4` 擷取 [Avengers: Endgame (2019)](https://www.imdb.com/title/tt4154796) 的劇情類型"
   ]
  },
  {
   "cell_type": "code",
   "execution_count": 5,
   "metadata": {},
   "outputs": [],
   "source": [
    "def find_endgame_genre(request_url):\n",
    "    \"\"\"\n",
    "    >>> find_endgame_genre(\"https://www.imdb.com/title/tt4154796\")\n",
    "    ['Action', 'Adventure', 'Drama']\n",
    "    \"\"\"\n",
    "    response = requests.get(request_url)\n",
    "    soup = BeautifulSoup(response.text)\n",
    "    elems = soup.select(\".subtext a\")\n",
    "    genre = [e.text for e in elems]\n",
    "    genre.pop()\n",
    "    return genre"
   ]
  },
  {
   "cell_type": "markdown",
   "metadata": {
    "slideshow": {
     "slide_type": "subslide"
    }
   },
   "source": [
    "## 隨堂練習：以 `requests` 搭配 `bs4` 擷取 [Avengers: Endgame (2019)](https://www.imdb.com/title/tt4154796) 的演員陣容"
   ]
  },
  {
   "cell_type": "code",
   "execution_count": 6,
   "metadata": {},
   "outputs": [],
   "source": [
    "def find_endgame_cast(request_url):\n",
    "    \"\"\"\n",
    "    >>> find_endgame_cast(\"https://www.imdb.com/title/tt4154796\")\n",
    "    ['Robert Downey Jr.', 'Chris Evans', 'Mark Ruffalo', 'Chris Hemsworth', 'Scarlett Johansson', 'Jeremy Renner', 'Don Cheadle', 'Paul Rudd', 'Benedict Cumberbatch', 'Chadwick Boseman', 'Brie Larson', 'Tom Holland', 'Karen Gillan', 'Zoe Saldana', 'Evangeline Lilly']\n",
    "    \"\"\"\n",
    "    response = requests.get(request_url)\n",
    "    soup = BeautifulSoup(response.text)\n",
    "    elems = soup.select(\".primary_photo+ td a\")\n",
    "    cast = [e.text.strip() for e in elems]\n",
    "    return cast"
   ]
  },
  {
   "cell_type": "markdown",
   "metadata": {
    "slideshow": {
     "slide_type": "subslide"
    }
   },
   "source": [
    "## 隨堂練習：自訂函式 `get_movie_data_from_url(request_url)`"
   ]
  },
  {
   "cell_type": "code",
   "execution_count": 7,
   "metadata": {},
   "outputs": [],
   "source": [
    "def get_movie_data_from_url(request_url):\n",
    "    \"\"\"\n",
    "    >>> movie_data = get_movie_data_from_url(\"https://www.imdb.com/title/tt4154796\")\n",
    "    >>> movie_data[\"moviePoster\"]\n",
    "    'https://m.media-amazon.com/images/M/MV5BMTc5MDE2ODcwNV5BMl5BanBnXkFtZTgwMzI2NzQ2NzM@._V1_UX182_CR0,0,182,268_AL_.jpg'\n",
    "    >>> movie_data[\"movieGenre\"]\n",
    "    ['Action', 'Adventure', 'Drama']\n",
    "    >>> movie_data[\"movieCast\"]\n",
    "    ['Robert Downey Jr.', 'Chris Evans', 'Mark Ruffalo', 'Chris Hemsworth', 'Scarlett Johansson', 'Jeremy Renner', 'Don Cheadle', 'Paul Rudd', 'Benedict Cumberbatch', 'Chadwick Boseman', 'Brie Larson', 'Tom Holland', 'Karen Gillan', 'Zoe Saldana', 'Evangeline Lilly']\n",
    "    \"\"\"\n",
    "    request_headers = {\n",
    "        \"accept-language\": \"en,en-US;q=0.9\"\n",
    "    }\n",
    "    response = requests.get(request_url, headers=request_headers)\n",
    "    soup = BeautifulSoup(response.text)\n",
    "    movie_title = soup.select(\"h1\")[0].text.strip().replace(\"\\xa0\", \"\")\n",
    "    movie_rating = float(soup.select(\"strong span\")[0].text)\n",
    "    movie_poster = soup.select(\".poster img\")[0].get(\"src\")\n",
    "    movie_genre = [e.text for e in soup.select(\".subtext a\")]\n",
    "    movie_genre.pop()\n",
    "    movie_cast = [e.text.strip() for e in soup.select(\".primary_photo+ td a\")]\n",
    "    movie_data = {\n",
    "        'movieTitle': movie_title,\n",
    "        'movieRating': movie_rating,\n",
    "        'moviePoster': movie_poster,\n",
    "        'movieGenre': movie_genre,\n",
    "        'movieCast': movie_cast\n",
    "    }\n",
    "    return movie_data"
   ]
  },
  {
   "cell_type": "markdown",
   "metadata": {
    "slideshow": {
     "slide_type": "subslide"
    }
   },
   "source": [
    "## 隨堂練習：自訂函式 `get_movie_data_from_title(movie_title)`"
   ]
  },
  {
   "cell_type": "code",
   "execution_count": 8,
   "metadata": {},
   "outputs": [],
   "source": [
    "def get_movie_data_from_title(movie_title):\n",
    "    \"\"\"\n",
    "    >>> movie_data = get_movie_data_from_title(\"Avengers: Endgame (2019)\")\n",
    "    >>> movie_data[\"moviePoster\"]\n",
    "    'https://m.media-amazon.com/images/M/MV5BMTc5MDE2ODcwNV5BMl5BanBnXkFtZTgwMzI2NzQ2NzM@._V1_UX182_CR0,0,182,268_AL_.jpg'\n",
    "    >>> movie_data[\"movieGenre\"]\n",
    "    ['Action', 'Adventure', 'Drama']\n",
    "    >>> movie_data[\"movieCast\"]\n",
    "    ['Robert Downey Jr.', 'Chris Evans', 'Mark Ruffalo', 'Chris Hemsworth', 'Scarlett Johansson', 'Jeremy Renner', 'Don Cheadle', 'Paul Rudd', 'Benedict Cumberbatch', 'Chadwick Boseman', 'Brie Larson', 'Tom Holland', 'Karen Gillan', 'Zoe Saldana', 'Evangeline Lilly']\n",
    "    \"\"\"\n",
    "    query_string_parameters = {\n",
    "        'q': movie_title,\n",
    "        's': 'tt',\n",
    "        'ttype': 'ft',\n",
    "        'ref_': 'fn_ft'\n",
    "    }\n",
    "    request_headers = {\n",
    "        \"accept-language\": \"en,en-US;q=0.9\"\n",
    "    }\n",
    "    request_url = \"https://www.imdb.com/find\"\n",
    "    response = requests.get(request_url, params=query_string_parameters)\n",
    "    soup = BeautifulSoup(response.text)\n",
    "    search_results = [e.get(\"href\") for e in soup.select(\".result_text a\")]\n",
    "    movie_url = \"https://www.imdb.com\" + search_results[0]\n",
    "    response = requests.get(movie_url, headers=request_headers)\n",
    "    soup = BeautifulSoup(response.text)\n",
    "    movie_title = soup.select(\"h1\")[0].text.strip().replace(\"\\xa0\", \"\")\n",
    "    movie_rating = float(soup.select(\"strong span\")[0].text)\n",
    "    movie_poster = soup.select(\".poster img\")[0].get(\"src\")\n",
    "    movie_genre = [e.text for e in soup.select(\".subtext a\")]\n",
    "    movie_genre.pop()\n",
    "    movie_cast = [e.text.strip() for e in soup.select(\".primary_photo+ td a\")]\n",
    "    movie_data = {\n",
    "        'movieTitle': movie_title,\n",
    "        'movieRating': movie_rating,\n",
    "        'moviePoster': movie_poster,\n",
    "        'movieGenre': movie_genre,\n",
    "        'movieCast': movie_cast\n",
    "    }\n",
    "    return movie_data"
   ]
  },
  {
   "cell_type": "markdown",
   "metadata": {
    "slideshow": {
     "slide_type": "subslide"
    }
   },
   "source": [
    "## 隨堂練習：擷取所有華航機上電影清單\n",
    "\n",
    "<http://www.fantasy-sky.com/ContentList.aspx?section=002>"
   ]
  },
  {
   "cell_type": "code",
   "execution_count": 9,
   "metadata": {},
   "outputs": [],
   "source": [
    "def get_ca_movie_titles():\n",
    "    \"\"\"\n",
    "    >>> ca_movie_titles = get_ca_movie_titles()\n",
    "    >>> type(ca_movie_titles)\n",
    "    list\n",
    "    \"\"\"\n",
    "    ca_movie_urls = [\"http://www.fantasy-sky.com/ContentList.aspx?section=002&category=0020{}\".format(i) for i in range(1, 5)]\n",
    "    ca_movie_titles = []\n",
    "    for ca_url in ca_movie_urls:\n",
    "        response = requests.get(ca_url, cookies={'COOKIE_LANGUAGE': 'en'})\n",
    "        soup = BeautifulSoup(response.text)\n",
    "        movie_titles = [e.text for e in soup.select(\".movies-name\")]\n",
    "        ca_movie_titles += movie_titles\n",
    "    return ca_movie_titles"
   ]
  },
  {
   "cell_type": "markdown",
   "metadata": {
    "slideshow": {
     "slide_type": "subslide"
    }
   },
   "source": [
    "## 隨堂練習：找出華航機上最高評等的電影"
   ]
  },
  {
   "cell_type": "code",
   "execution_count": 10,
   "metadata": {},
   "outputs": [],
   "source": [
    "def find_highest_rated_movies():\n",
    "    \"\"\"\n",
    "    >>> find_highest_rated_movies()\n",
    "    ['Inception']\n",
    "    \"\"\"\n",
    "    ca_movie_titles = get_ca_movie_titles()\n",
    "    movie_ratings = []\n",
    "    for movie_title in ca_movie_titles:\n",
    "        print(\"正在擷取 {} 的評等\".format(movie_title))\n",
    "        try:\n",
    "            movie_data = get_movie_data_from_title(movie_title)\n",
    "            movie_rating = movie_data[\"movieRating\"]\n",
    "            movie_ratings.append(movie_rating)\n",
    "        except:\n",
    "            print(\"在擷取 {} 的資訊時產生錯誤\".format(movie_title))\n",
    "            movie_ratings.append(0)\n",
    "    max_movie_rating = max(movie_ratings)\n",
    "    highest_rated_movies = []\n",
    "    for rating, title in zip(movie_ratings, ca_movie_titles):\n",
    "        if rating == max_movie_rating:\n",
    "            highest_rated_movies.append(title)\n",
    "    return highest_rated_movies"
   ]
  },
  {
   "cell_type": "code",
   "execution_count": 11,
   "metadata": {
    "slideshow": {
     "slide_type": "subslide"
    }
   },
   "outputs": [
    {
     "name": "stderr",
     "output_type": "stream",
     "text": [
      "test_find_atlantic_southwest_teams (__main__.TestWebScraping) ... ok\n",
      "test_find_endgame_cast (__main__.TestWebScraping) ... ok\n",
      "test_find_endgame_genre (__main__.TestWebScraping) ... ok\n",
      "test_get_ca_movie_titles (__main__.TestWebScraping) ... ok\n",
      "test_get_movie_data_from_title (__main__.TestWebScraping) ... ok\n",
      "test_get_movie_data_from_url (__main__.TestWebScraping) ... ok\n",
      "test_get_tpe_711_stores (__main__.TestWebScraping) ... ok\n",
      "test_number_of_nba_teams (__main__.TestWebScraping) ... ok\n",
      "\n",
      "----------------------------------------------------------------------\n",
      "Ran 8 tests in 59.364s\n",
      "\n",
      "OK\n"
     ]
    }
   ],
   "source": [
    "# %load ../test_cases/test_cases_01.py\n",
    "import unittest\n",
    "\n",
    "class TestWebScraping(unittest.TestCase):\n",
    "    def test_number_of_nba_teams(self):\n",
    "        self.assertEqual(number_of_nba_teams(\"http://data.nba.net/prod/v2/2019/teams.json\"), 30)\n",
    "    def test_find_atlantic_southwest_teams(self):\n",
    "        atlantic_southwest_teams = find_atlantic_southwest_teams(\"http://data.nba.net/prod/v2/2019/teams.json\")\n",
    "        self.assertEqual(atlantic_southwest_teams['Atlantic'], ['Boston Celtics', 'Brooklyn Nets', 'New York Knicks', 'Philadelphia 76ers', 'Toronto Raptors'])\n",
    "        self.assertEqual(atlantic_southwest_teams['Southwest'], ['Dallas Mavericks', 'Houston Rockets', 'Memphis Grizzlies', 'New Orleans Pelicans', 'San Antonio Spurs'])\n",
    "    def test_get_tpe_711_stores(self):\n",
    "        tpe_711_stores = get_tpe_711_stores(\"https://emap.pcsc.com.tw/EMapSDK.aspx\")\n",
    "        self.assertEqual(tpe_711_stores[\"松山區\"][0], {'POIID': '170945', 'POIName': '上弘', 'Longitude': 121.548287390895, 'Latitude': 25.056390968531797, 'Address': '台北市松山區敦化北路168號B2'})\n",
    "        self.assertEqual(tpe_711_stores[\"信義區\"][0], {'POIID': '167651', 'POIName': '一零一', 'Longitude': 121.565077, 'Latitude': 25.033373, 'Address': '台北市信義區信義路五段7號35樓'})\n",
    "        self.assertEqual(tpe_711_stores[\"大安區\"][0], {'POIID': '153319', 'POIName': '大台', 'Longitude': 121.53261437826, 'Latitude': 25.0179598345753, 'Address': '台北市大安區羅斯福路三段283巷14弄16號1樓'})\n",
    "    def test_find_endgame_genre(self):\n",
    "        self.assertEqual(find_endgame_genre(\"https://www.imdb.com/title/tt4154796\"), ['Action', 'Adventure', 'Drama'])\n",
    "    def test_find_endgame_cast(self):\n",
    "        self.assertEqual(find_endgame_cast(\"https://www.imdb.com/title/tt4154796\"), ['Robert Downey Jr.', 'Chris Evans', 'Mark Ruffalo', 'Chris Hemsworth', 'Scarlett Johansson', 'Jeremy Renner', 'Don Cheadle', 'Paul Rudd', 'Benedict Cumberbatch', 'Chadwick Boseman', 'Brie Larson', 'Tom Holland', 'Karen Gillan', 'Zoe Saldana', 'Evangeline Lilly'])\n",
    "    def test_get_movie_data_from_url(self):\n",
    "        movie_data = get_movie_data_from_url(\"https://www.imdb.com/title/tt4154796\")\n",
    "        self.assertEqual(movie_data[\"moviePoster\"], 'https://m.media-amazon.com/images/M/MV5BMTc5MDE2ODcwNV5BMl5BanBnXkFtZTgwMzI2NzQ2NzM@._V1_UX182_CR0,0,182,268_AL_.jpg')\n",
    "        self.assertEqual(movie_data[\"movieGenre\"], ['Action', 'Adventure', 'Drama'])\n",
    "        self.assertEqual(movie_data[\"movieCast\"], ['Robert Downey Jr.', 'Chris Evans', 'Mark Ruffalo', 'Chris Hemsworth', 'Scarlett Johansson', 'Jeremy Renner', 'Don Cheadle', 'Paul Rudd', 'Benedict Cumberbatch', 'Chadwick Boseman', 'Brie Larson', 'Tom Holland', 'Karen Gillan', 'Zoe Saldana', 'Evangeline Lilly'])\n",
    "    def test_get_movie_data_from_title(self):\n",
    "        movie_data = get_movie_data_from_title(\"Avengers: Endgame (2019)\")\n",
    "        self.assertEqual(movie_data[\"moviePoster\"], 'https://m.media-amazon.com/images/M/MV5BMTc5MDE2ODcwNV5BMl5BanBnXkFtZTgwMzI2NzQ2NzM@._V1_UX182_CR0,0,182,268_AL_.jpg')\n",
    "        self.assertEqual(movie_data[\"movieGenre\"], ['Action', 'Adventure', 'Drama'])\n",
    "        self.assertEqual(movie_data[\"movieCast\"], ['Robert Downey Jr.', 'Chris Evans', 'Mark Ruffalo', 'Chris Hemsworth', 'Scarlett Johansson', 'Jeremy Renner', 'Don Cheadle', 'Paul Rudd', 'Benedict Cumberbatch', 'Chadwick Boseman', 'Brie Larson', 'Tom Holland', 'Karen Gillan', 'Zoe Saldana', 'Evangeline Lilly'])\n",
    "    def test_get_ca_movie_titles(self):\n",
    "        self.assertIsInstance(get_ca_movie_titles(), list)\n",
    "\n",
    "suite = unittest.TestLoader().loadTestsFromTestCase(TestWebScraping)\n",
    "runner = unittest.TextTestRunner(verbosity=2)\n",
    "test_results = runner.run(suite)"
   ]
  }
 ],
 "metadata": {
  "celltoolbar": "Slideshow",
  "kernelspec": {
   "display_name": "Python Web Scraping",
   "language": "python",
   "name": "pywebscraping"
  },
  "language_info": {
   "codemirror_mode": {
    "name": "ipython",
    "version": 3
   },
   "file_extension": ".py",
   "mimetype": "text/x-python",
   "name": "python",
   "nbconvert_exporter": "python",
   "pygments_lexer": "ipython3",
   "version": "3.7.7"
  }
 },
 "nbformat": 4,
 "nbformat_minor": 2
}
