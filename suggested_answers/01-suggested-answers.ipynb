{
 "cells": [
  {
   "cell_type": "markdown",
   "metadata": {
    "slideshow": {
     "slide_type": "slide"
    }
   },
   "source": [
    "# 成為資料分析師 | Python 與資料科學應用\n",
    "\n",
    "> 網頁資料擷取：隨堂練習參考解答\n",
    "\n",
    "## 郭耀仁"
   ]
  },
  {
   "cell_type": "code",
   "execution_count": null,
   "metadata": {
    "slideshow": {
     "slide_type": "subslide"
    }
   },
   "outputs": [],
   "source": [
    "import requests\n",
    "from lxml import etree\n",
    "from io import BytesIO\n",
    "from bs4 import BeautifulSoup\n",
    "import time\n",
    "import random"
   ]
  },
  {
   "cell_type": "markdown",
   "metadata": {
    "slideshow": {
     "slide_type": "subslide"
    }
   },
   "source": [
    "## 隨堂練習：2019-2020 球季 NBA 有幾支球隊？"
   ]
  },
  {
   "cell_type": "code",
   "execution_count": null,
   "metadata": {},
   "outputs": [],
   "source": [
    "def number_of_nba_teams(request_url):\n",
    "    \"\"\"\n",
    "    >>> number_of_nba_teams(\"http://data.nba.net/prod/v2/2019/teams.json\")\n",
    "    30\n",
    "    \"\"\"\n",
    "    response = requests.get(request_url)\n",
    "    response_json = response.json()\n",
    "    teams = response_json[\"league\"][\"standard\"]\n",
    "    n_nba_teams = 0\n",
    "    for t in teams:\n",
    "        if t[\"isNBAFranchise\"]:\n",
    "            n_nba_teams += 1\n",
    "    return n_nba_teams"
   ]
  },
  {
   "cell_type": "markdown",
   "metadata": {
    "slideshow": {
     "slide_type": "subslide"
    }
   },
   "source": [
    "## 隨堂練習：divName 為 Atlantic 與 Southwest 的球隊有哪些？"
   ]
  },
  {
   "cell_type": "code",
   "execution_count": null,
   "metadata": {},
   "outputs": [],
   "source": [
    "def find_atlantic_southwest_teams(request_url):\n",
    "    \"\"\"\n",
    "    >>> atlantic_southwest_teams = number_of_nba_teams(\"http://data.nba.net/prod/v2/2019/teams.json\")\n",
    "    >>> atlantic_southwest_teams['Atlantic']\n",
    "    ['Boston Celtics', 'Brooklyn Nets', 'New York Knicks', 'Philadelphia 76ers', 'Toronto Raptors']\n",
    "    >>> atlantic_southwest_teams['Southwest']\n",
    "    ['Dallas Mavericks', 'Houston Rockets', 'Memphis Grizzlies', 'New Orleans Pelicans', 'San Antonio Spurs']\n",
    "    \"\"\"\n",
    "    response = requests.get(request_url)\n",
    "    response_json = response.json()\n",
    "    teams = response_json[\"league\"][\"standard\"]\n",
    "    team_dict = dict()\n",
    "    for t in teams:\n",
    "        div = t[\"divName\"]\n",
    "        full_name = t[\"fullName\"]\n",
    "        if div in team_dict:\n",
    "            team_dict[div].append(full_name)\n",
    "        else:\n",
    "            team_dict[div] = [full_name]\n",
    "    return team_dict"
   ]
  },
  {
   "cell_type": "markdown",
   "metadata": {
    "slideshow": {
     "slide_type": "subslide"
    }
   },
   "source": [
    "## 隨堂練習：擷取台北市所有 7-11 商店資訊"
   ]
  },
  {
   "cell_type": "code",
   "execution_count": null,
   "metadata": {},
   "outputs": [],
   "source": [
    "def get_tpe_711_stores(request_url):\n",
    "    \"\"\"\n",
    "    >>> tpe_711_stores = get_tpe_711_stores(\"https://emap.pcsc.com.tw/EMapSDK.aspx\")\n",
    "    >>> tpe_711_stores[\"松山區\"][0]\n",
    "    {'POIID': '170945', 'POIName': '上弘', 'Longitude': 121.548287390895, 'Latitude': 25.056390968531797, 'Address': '台北市松山區敦化北路168號B2'}\n",
    "    >>> tpe_711_stores[\"信義區\"][0]\n",
    "    {'POIID': '167651', 'POIName': '一零一', 'Longitude': 121.565077, 'Latitude': 25.033373, 'Address': '台北市信義區信義路五段7號35樓'}\n",
    "    >>> tpe_711_stores[\"大安區\"][0]\n",
    "    {'POIID': '153319', 'POIName': '大台', 'Longitude': 121.53261437826, 'Latitude': 25.0179598345753, 'Address': '台北市大安區羅斯福路三段283巷14弄16號1樓'}\n",
    "    \"\"\"\n",
    "    form_data = {\n",
    "        \"commandid\": \"GetTown\",\n",
    "        \"cityid\": \"01\"\n",
    "    }\n",
    "    response = requests.post(request_url, data=form_data)\n",
    "    file = BytesIO(response.content)\n",
    "    tree = etree.parse(file)\n",
    "    town_names = [t.text for t in tree.xpath(\"//TownName\")]\n",
    "    tpe_711_stores = dict()\n",
    "    for town in town_names:\n",
    "        form_data = {\n",
    "            \"commandid\": \"SearchStore\",\n",
    "            \"city\": \"台北市\",\n",
    "            \"town\": town\n",
    "        }\n",
    "        r = requests.post(request_url, data=form_data)\n",
    "        f = BytesIO(r.content)\n",
    "        tree = etree.parse(f)\n",
    "        poi_ids = [t.text.strip() for t in tree.xpath(\"//POIID\")]\n",
    "        poi_names = [t.text for t in tree.xpath(\"//POIName\")]\n",
    "        lons = [float(t.text)/1000000 for t in tree.xpath(\"//X\")]\n",
    "        lats = [float(t.text)/1000000 for t in tree.xpath(\"//Y\")]\n",
    "        adds = [t.text for t in tree.xpath(\"//Address\")]\n",
    "        tpe_711_stores[town] = []\n",
    "        for poi_id, poi_name, lon, lat, add in zip(poi_ids, poi_names, lons, lats, adds):\n",
    "            store_info = {\n",
    "                \"POIID\": poi_id,\n",
    "                \"POIName\": poi_name,\n",
    "                \"Longitude\": lon,\n",
    "                \"Latitude\": lat,\n",
    "                \"Address\": add\n",
    "            }\n",
    "            tpe_711_stores[town].append(store_info)\n",
    "        time.sleep(random.randint(1, 5))\n",
    "    return tpe_711_stores"
   ]
  },
  {
   "cell_type": "markdown",
   "metadata": {
    "slideshow": {
     "slide_type": "subslide"
    }
   },
   "source": [
    "## 隨堂練習：以 `requests` 搭配 `bs4` 擷取 [Avengers: Endgame (2019)](https://www.imdb.com/title/tt4154796) 的劇情類型"
   ]
  },
  {
   "cell_type": "code",
   "execution_count": null,
   "metadata": {},
   "outputs": [],
   "source": [
    "def find_endgame_genre(request_url):\n",
    "    \"\"\"\n",
    "    >>> find_endgame_genre(\"https://www.imdb.com/title/tt4154796\")\n",
    "    ['Action', 'Adventure', 'Drama']\n",
    "    \"\"\"\n",
    "    response = requests.get(request_url)\n",
    "    soup = BeautifulSoup(response.text)\n",
    "    elems = soup.select(\".subtext a\")\n",
    "    genre = [e.text for e in elems]\n",
    "    genre.pop()\n",
    "    return genre"
   ]
  },
  {
   "cell_type": "markdown",
   "metadata": {
    "slideshow": {
     "slide_type": "subslide"
    }
   },
   "source": [
    "## 隨堂練習：以 `requests` 搭配 `bs4` 擷取 [Avengers: Endgame (2019)](https://www.imdb.com/title/tt4154796) 的演員陣容"
   ]
  },
  {
   "cell_type": "code",
   "execution_count": null,
   "metadata": {},
   "outputs": [],
   "source": [
    "def find_endgame_cast(request_url):\n",
    "    \"\"\"\n",
    "    >>> find_endgame_cast(\"https://www.imdb.com/title/tt4154796\")\n",
    "    ['Robert Downey Jr.', 'Chris Evans', 'Mark Ruffalo', 'Chris Hemsworth', 'Scarlett Johansson', 'Jeremy Renner', 'Don Cheadle', 'Paul Rudd', 'Benedict Cumberbatch', 'Chadwick Boseman', 'Brie Larson', 'Tom Holland', 'Karen Gillan', 'Zoe Saldana', 'Evangeline Lilly']\n",
    "    \"\"\"\n",
    "    response = requests.get(request_url)\n",
    "    soup = BeautifulSoup(response.text)\n",
    "    elems = soup.select(\".primary_photo+ td a\")\n",
    "    cast = [e.text.strip() for e in elems]\n",
    "    return cast"
   ]
  },
  {
   "cell_type": "code",
   "execution_count": null,
   "metadata": {
    "slideshow": {
     "slide_type": "subslide"
    }
   },
   "outputs": [],
   "source": [
    "%load ../test_cases/test_cases_01.py"
   ]
  }
 ],
 "metadata": {
  "celltoolbar": "Slideshow",
  "kernelspec": {
   "display_name": "Python Web Scraping",
   "language": "python",
   "name": "pywebscraping"
  },
  "language_info": {
   "codemirror_mode": {
    "name": "ipython",
    "version": 3
   },
   "file_extension": ".py",
   "mimetype": "text/x-python",
   "name": "python",
   "nbconvert_exporter": "python",
   "pygments_lexer": "ipython3",
   "version": "3.7.7"
  }
 },
 "nbformat": 4,
 "nbformat_minor": 2
}
