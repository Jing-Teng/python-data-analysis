{
 "cells": [
  {
   "cell_type": "markdown",
   "metadata": {
    "slideshow": {
     "slide_type": "slide"
    }
   },
   "source": [
    "# 成為資料分析師 | Python 與資料科學應用\n",
    "\n",
    "> 隨堂練習：奧運獎牌排行\n",
    "\n",
    "## 郭耀仁"
   ]
  },
  {
   "cell_type": "markdown",
   "metadata": {
    "slideshow": {
     "slide_type": "slide"
    }
   },
   "source": [
    "## 隨堂練習：奧運獎牌排行"
   ]
  },
  {
   "cell_type": "code",
   "execution_count": null,
   "metadata": {},
   "outputs": [],
   "source": [
    "import requests\n",
    "import pandas as pd"
   ]
  },
  {
   "cell_type": "markdown",
   "metadata": {
    "slideshow": {
     "slide_type": "subslide"
    }
   },
   "source": [
    "## 題庫\n",
    "\n",
    "[Introduction to Data Science in Python](https://www.coursera.org/learn/python-data-analysis/home/welcome)"
   ]
  },
  {
   "cell_type": "code",
   "execution_count": null,
   "metadata": {
    "slideshow": {
     "slide_type": "subslide"
    }
   },
   "outputs": [],
   "source": [
    "request_url = \"https://en.wikipedia.org/wiki/All-time_Olympic_Games_medal_table\"\n",
    "html_tables = pd.read_html(request_url)\n",
    "olympic_medal_table = html_tables[1]\n",
    "column_names = ['team', 'no_summer_games', 'no_summer_golds', 'no_summer_silvers', 'no_summer_bronzes', 'no_summer_totals',\n",
    "               'no_winter_games', 'no_winter_golds', 'no_winter_silvers', 'no_winter_bronzes', 'no_winter_totals',\n",
    "               'no_combined_games', 'no_combined_golds', 'no_combined_silvers', 'no_combined_bronzes', 'no_combined_totals']\n",
    "olympic_medal_table.columns = column_names\n",
    "team_name_split = olympic_medal_table['team'].str.split('\\(|\\)|\\[|\\]', expand=True)\n",
    "team_names = team_name_split[0].str.strip()\n",
    "team_ioc = team_name_split[1].str.strip()\n",
    "olympic_medal_table.insert(0, 'team_name', team_names.values)\n",
    "olympic_medal_table.insert(1, 'team_ioc', team_ioc.values)\n",
    "olympic_medal_table = olympic_medal_table.drop('team', axis=1)"
   ]
  },
  {
   "cell_type": "code",
   "execution_count": null,
   "metadata": {
    "slideshow": {
     "slide_type": "subslide"
    }
   },
   "outputs": [],
   "source": [
    "olympic_medal_table.head()"
   ]
  },
  {
   "cell_type": "code",
   "execution_count": null,
   "metadata": {
    "slideshow": {
     "slide_type": "subslide"
    }
   },
   "outputs": [],
   "source": [
    "olympic_medal_table.tail()"
   ]
  },
  {
   "cell_type": "markdown",
   "metadata": {
    "slideshow": {
     "slide_type": "subslide"
    }
   },
   "source": [
    "## 隨堂練習：哪個國家贏得的夏季奧運金牌數最多？"
   ]
  },
  {
   "cell_type": "code",
   "execution_count": null,
   "metadata": {
    "slideshow": {
     "slide_type": "-"
    }
   },
   "outputs": [],
   "source": [
    "def most_summer_gold_country(olympic_medal_table):\n",
    "    \"\"\"\n",
    "    >>> most_summer_gold_country(olympic_medal_table)\n",
    "    'United States'\n",
    "    \"\"\""
   ]
  },
  {
   "cell_type": "markdown",
   "metadata": {
    "slideshow": {
     "slide_type": "subslide"
    }
   },
   "source": [
    "## 隨堂練習：哪個國家夏季奧運與冬季奧運的金牌數差距數最大？"
   ]
  },
  {
   "cell_type": "code",
   "execution_count": null,
   "metadata": {
    "slideshow": {
     "slide_type": "-"
    }
   },
   "outputs": [],
   "source": [
    "def largest_gold_difference(olympic_medal_table):\n",
    "    \"\"\"\n",
    "    >>> largest_gold_difference(olympic_medal_table)\n",
    "    'United States'\n",
    "    \"\"\""
   ]
  },
  {
   "cell_type": "markdown",
   "metadata": {
    "slideshow": {
     "slide_type": "subslide"
    }
   },
   "source": [
    "## 隨堂練習：哪個國家夏季奧運與冬季奧運的金牌數差距除以總金牌數的比例最大？（僅考慮至少有一個夏季金牌與一個冬季金牌的國家）\n",
    "\n",
    "$$\\text{Ratio} = \\frac{\\text{Summer Gold} - \\text{Winter Gold}}{\\text{Total Gold}}$$"
   ]
  },
  {
   "cell_type": "code",
   "execution_count": null,
   "metadata": {
    "slideshow": {
     "slide_type": "-"
    }
   },
   "outputs": [],
   "source": [
    "def largest_ratio(olympic_medal_table):\n",
    "    \"\"\"\n",
    "    >>> largest_ratio(olympic_medal_table)\n",
    "    'Hungary'\n",
    "    \"\"\""
   ]
  },
  {
   "cell_type": "code",
   "execution_count": null,
   "metadata": {
    "slideshow": {
     "slide_type": "subslide"
    }
   },
   "outputs": [],
   "source": [
    "%load ../test_cases/test_cases_03.py"
   ]
  }
 ],
 "metadata": {
  "celltoolbar": "Slideshow",
  "kernelspec": {
   "display_name": "Python Web Scraping",
   "language": "python",
   "name": "pywebscraping"
  },
  "language_info": {
   "codemirror_mode": {
    "name": "ipython",
    "version": 3
   },
   "file_extension": ".py",
   "mimetype": "text/x-python",
   "name": "python",
   "nbconvert_exporter": "python",
   "pygments_lexer": "ipython3",
   "version": "3.7.7"
  }
 },
 "nbformat": 4,
 "nbformat_minor": 2
}
