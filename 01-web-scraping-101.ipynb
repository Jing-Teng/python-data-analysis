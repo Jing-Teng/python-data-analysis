{
 "cells": [
  {
   "cell_type": "markdown",
   "metadata": {
    "slideshow": {
     "slide_type": "slide"
    }
   },
   "source": [
    "# 成為資料分析師 | Python 與資料科學應用\n",
    "\n",
    "> 網頁資料擷取\n",
    "\n",
    "## 郭耀仁"
   ]
  },
  {
   "cell_type": "markdown",
   "metadata": {
    "slideshow": {
     "slide_type": "subslide"
    }
   },
   "source": [
    "## 大綱\n",
    "\n",
    "- 網頁資料擷取的先修知識\n",
    "- 網頁資料擷取的核心任務\n",
    "- 擷取 JSON 格式網頁資料\n",
    "- 擷取 XML 格式網頁資料\n",
    "- 擷取 HTML 格式網頁資料\n",
    "- 瀏覽器自動化\n",
    "- 延伸閱讀\n",
    "- 隨堂練習"
   ]
  },
  {
   "cell_type": "markdown",
   "metadata": {
    "slideshow": {
     "slide_type": "slide"
    }
   },
   "source": [
    "## 網頁資料擷取的先修知識"
   ]
  },
  {
   "cell_type": "markdown",
   "metadata": {
    "slideshow": {
     "slide_type": "subslide"
    }
   },
   "source": [
    "## 網頁的基本組成是標記式語言、樣式表與程式語言的結合\n",
    "\n",
    "- 標記式語言：HTML\n",
    "- 樣式表：CSS\n",
    "- 程式語言：JavaScript"
   ]
  },
  {
   "cell_type": "markdown",
   "metadata": {
    "slideshow": {
     "slide_type": "subslide"
    }
   },
   "source": [
    "## 對比：一間大樓的組成\n",
    "\n",
    "- 鋼筋水泥：HTML\n",
    "- 裝潢隔間：CSS\n",
    "- 管線設施：JavaScript"
   ]
  },
  {
   "cell_type": "markdown",
   "metadata": {
    "slideshow": {
     "slide_type": "subslide"
    }
   },
   "source": [
    "## 其中 HTML 負責的是網頁架構"
   ]
  },
  {
   "cell_type": "markdown",
   "metadata": {
    "slideshow": {
     "slide_type": "subslide"
    }
   },
   "source": [
    "![Imgur](https://i.imgur.com/93ZoqA7.png?1)"
   ]
  },
  {
   "cell_type": "markdown",
   "metadata": {
    "slideshow": {
     "slide_type": "subslide"
    }
   },
   "source": [
    "## 網頁可以分成兩種大類\n",
    "\n",
    "1. 靜態：未與伺服器及資料庫連結，頁面內容需要開啟編輯器修改\n",
    "2. 動態：又稱網路應用程式（Web APP），具有後端程式與資料庫連結"
   ]
  },
  {
   "cell_type": "markdown",
   "metadata": {
    "slideshow": {
     "slide_type": "subslide"
    }
   },
   "source": [
    "## 基本 HTML 內容有兩個部分\n",
    "\n",
    "1. head: 設定與網頁相關的資訊、提供網頁需要的資源檔\n",
    "2. body: 使用者在瀏覽器看到的內容"
   ]
  },
  {
   "cell_type": "markdown",
   "metadata": {
    "slideshow": {
     "slide_type": "subslide"
    }
   },
   "source": [
    "## 基本 HTML 內容\n",
    "\n",
    "```\n",
    "<!DOCTYPE html>\n",
    "<html>\n",
    "  <head>\n",
    "  \n",
    "  </head>\n",
    "  \n",
    "  <body>\n",
    "  \n",
    "  </body>\n",
    "</html>\n",
    "```"
   ]
  },
  {
   "cell_type": "markdown",
   "metadata": {
    "slideshow": {
     "slide_type": "subslide"
    }
   },
   "source": [
    "## 其中 CSS 負責網頁樣式\n",
    "\n",
    "> 樣式表（Cascading Style Sheets，CSS）是一種用來為 HTML 添加樣式（字型、間距和顏色等）的電腦語言，由 W3C 定義和維護。\n",
    "\n",
    "Source: <https://zh.wikipedia.org/zh-tw/%E5%B1%82%E5%8F%A0%E6%A0%B7%E5%BC%8F%E8%A1%A8>"
   ]
  },
  {
   "cell_type": "markdown",
   "metadata": {
    "slideshow": {
     "slide_type": "subslide"
    }
   },
   "source": [
    "## CSS 的撰寫規則\n",
    "\n",
    "- 選擇器\n",
    "- 屬性\n",
    "- 屬性值"
   ]
  },
  {
   "cell_type": "markdown",
   "metadata": {
    "slideshow": {
     "slide_type": "subslide"
    }
   },
   "source": [
    "![Imgur](https://i.imgur.com/MNSO2qH.png?1)\n",
    "\n",
    "Source: <https://developer.mozilla.org/zh-TW/docs/Learn/Getting_started_with_the_web/CSS_basics>"
   ]
  },
  {
   "cell_type": "markdown",
   "metadata": {
    "slideshow": {
     "slide_type": "subslide"
    }
   },
   "source": [
    "## 選擇器的宣告方式\n",
    "\n",
    "- 單一標記：#id\n",
    "- 多組標記：.class、標記名稱"
   ]
  },
  {
   "cell_type": "markdown",
   "metadata": {
    "slideshow": {
     "slide_type": "slide"
    }
   },
   "source": [
    "## 網頁資料擷取的核心任務"
   ]
  },
  {
   "cell_type": "markdown",
   "metadata": {
    "slideshow": {
     "slide_type": "subslide"
    }
   },
   "source": [
    "## 盤點核心任務\n",
    "\n",
    "以 Python 豐富的套件、Chrome 瀏覽器外掛與開發者工具來進行兩項核心任務：\n",
    "\n",
    "1. 請求資料 Requesting Data\n",
    "2. 解析資料 Parsing Data"
   ]
  },
  {
   "cell_type": "markdown",
   "metadata": {
    "slideshow": {
     "slide_type": "subslide"
    }
   },
   "source": [
    "## HTTP\n",
    "\n",
    "> 超文本傳輸協定 (HTTP) 是一種用來傳輸超媒體文件 (像是HTML文件) 的應用層協定，被設計來讓瀏覽器和伺服器進行溝通，但也可做其他用途。HTTP 遵循標準客戶端—伺服器模式，由客戶端連線以發送請求，然後等待接收回應。\n",
    "\n",
    "Source: <https://developer.mozilla.org/zh-TW/docs/Web/HTTP>"
   ]
  },
  {
   "cell_type": "markdown",
   "metadata": {
    "slideshow": {
     "slide_type": "subslide"
    }
   },
   "source": [
    "## HTTP 定義了一組能令給定資源，執行特定操作的請求方法（request methods），其中與網頁資料擷取最相關的是：\n",
    "\n",
    "- GET\n",
    "- POST"
   ]
  },
  {
   "cell_type": "markdown",
   "metadata": {
    "slideshow": {
     "slide_type": "subslide"
    }
   },
   "source": [
    "## 請求資料是雙向的\n",
    "\n",
    "- 由瀏覽器發給網頁伺服器的請求稱為 HTTP Request\n",
    "- 由網頁伺服器發給瀏覽器的回應稱為 HTTP Response\n",
    "- Request Header 中的 Request Method 表示瀏覽器希望網頁伺服器做些什麼事\n",
    "- 順利取得資料之後，瀏覽器會將 Response Body 顯示出來"
   ]
  },
  {
   "cell_type": "markdown",
   "metadata": {
    "slideshow": {
     "slide_type": "subslide"
    }
   },
   "source": [
    "## 請求資料需要使用的工具\n",
    "\n",
    "- Chrome 開發者工具\n",
    "- [Quick JavaScript Switcher](https://chrome.google.com/webstore/detail/quick-javascript-switcher/geddoclleiomckbhadiaipdggiiccfje)\n",
    "- `requests` 套件"
   ]
  },
  {
   "cell_type": "markdown",
   "metadata": {
    "slideshow": {
     "slide_type": "subslide"
    }
   },
   "source": [
    "## Chrome 開發者工具\n",
    "\n",
    "> Chrome 開發者工具是一套內建於 Google Chrome 中的 Web 開發和測試工具。\n",
    "\n",
    "Source: <https://developers.google.com/web/tools/chrome-devtools/?hl=zh-TW>"
   ]
  },
  {
   "cell_type": "markdown",
   "metadata": {
    "slideshow": {
     "slide_type": "subslide"
    }
   },
   "source": [
    "![Imgur](https://i.imgur.com/3Synk8m.png?1)"
   ]
  },
  {
   "cell_type": "markdown",
   "metadata": {
    "slideshow": {
     "slide_type": "subslide"
    }
   },
   "source": [
    "## 進行網頁資料擷取時，會高度仰賴 Chrome 開發者工具中的 Network 頁籤\n",
    "\n",
    "使用 Network 頁籤瞭解請求和下載的檔案"
   ]
  },
  {
   "cell_type": "markdown",
   "metadata": {
    "slideshow": {
     "slide_type": "subslide"
    }
   },
   "source": [
    "## 點選 Network 之後重新整理網頁觀察\n",
    "\n",
    "![Imgur](https://i.imgur.com/OG0Huwj.png?1)"
   ]
  },
  {
   "cell_type": "markdown",
   "metadata": {
    "slideshow": {
     "slide_type": "subslide"
    }
   },
   "source": [
    "## 通常我們需要擷取的資料會被歸類在這兩個大類檔案中\n",
    "\n",
    "- XHR(XMLHttpRequest)\n",
    "- Doc"
   ]
  },
  {
   "cell_type": "markdown",
   "metadata": {
    "slideshow": {
     "slide_type": "subslide"
    }
   },
   "source": [
    "## 可以使用 Quick JavaScript Switcher 協助判斷\n",
    "\n",
    "> 快速地開啟、關閉 JavaScript\n",
    "\n",
    "Source: <https://chrome.google.com/webstore/detail/quick-javascript-switcher/geddoclleiomckbhadiaipdggiiccfje>"
   ]
  },
  {
   "cell_type": "markdown",
   "metadata": {
    "slideshow": {
     "slide_type": "subslide"
    }
   },
   "source": [
    "## 示範 Quick JavaScript Switcher 功能\n",
    "\n",
    "- <https://www.imdb.com/title/tt7286456/>\n",
    "- <https://ecshweb.pchome.com.tw/search/v3.3/>"
   ]
  },
  {
   "cell_type": "markdown",
   "metadata": {
    "slideshow": {
     "slide_type": "subslide"
    }
   },
   "source": [
    "## 找到資料之後即可檢視細節\n",
    "\n",
    "- Headers\n",
    "    - General\n",
    "    - Response Headers\n",
    "    - Request Headers\n",
    "    - Query String Parameters(if any)\n",
    "    - Form Data(if any, for POST)\n",
    "- Preview\n",
    "- Response\n",
    "- Cookies"
   ]
  },
  {
   "cell_type": "markdown",
   "metadata": {
    "slideshow": {
     "slide_type": "subslide"
    }
   },
   "source": [
    "![Imgur](https://i.imgur.com/cTva78r.png?1)"
   ]
  },
  {
   "cell_type": "markdown",
   "metadata": {
    "slideshow": {
     "slide_type": "subslide"
    }
   },
   "source": [
    "![Imgur](https://i.imgur.com/LMVp0m7.png?1)"
   ]
  },
  {
   "cell_type": "markdown",
   "metadata": {
    "slideshow": {
     "slide_type": "subslide"
    }
   },
   "source": [
    "## 常用的 `requests` 函數\n",
    "\n",
    "- `requests.get()`：進行 GET 請求（下載檔案）、常搭配 Query String Parameters\n",
    "- `requests.post()`：進行 POST 請求（上傳資料）、搭配 Form Data"
   ]
  },
  {
   "cell_type": "code",
   "execution_count": null,
   "metadata": {
    "slideshow": {
     "slide_type": "subslide"
    }
   },
   "outputs": [],
   "source": [
    "import requests\n",
    "\n",
    "request_url = \"https://www.imdb.com/\"\n",
    "response = requests.get(request_url)"
   ]
  },
  {
   "cell_type": "code",
   "execution_count": null,
   "metadata": {
    "slideshow": {
     "slide_type": "-"
    }
   },
   "outputs": [],
   "source": [
    "request_url = \"https://mops.twse.com.tw/mops/web/t05st10_ifrs\"\n",
    "response = requests.post(request_url)"
   ]
  },
  {
   "cell_type": "markdown",
   "metadata": {
    "slideshow": {
     "slide_type": "subslide"
    }
   },
   "source": [
    "## 回應（Response 類別）的方法與屬性\n",
    "\n",
    "- `response.status_code`：查看狀態碼\n",
    "- `response.json()`：將回應直接轉換為 Python 的資料結構（`list` 或 `dict`）\n",
    "- `response.content`：將回應轉換為 `bytes`\n",
    "- `response.text`：將回應轉換為 `str`"
   ]
  },
  {
   "cell_type": "markdown",
   "metadata": {
    "slideshow": {
     "slide_type": "subslide"
    }
   },
   "source": [
    "## 檢視資料細節的 Preview 與 Response確認格式\n",
    "\n",
    "- 如果資料是 JSON 格式：呼叫回應的 `.json()` 方法後直接以 Python 資料結構解析\n",
    "- 如果資料是 XML 格式：呼叫回應的 `.content` 屬性後以 `lxml` 搭配 XPath 解析\n",
    "- 如果資料是 HTML 格式：呼叫回應的 `.text` 屬性後以 `bs4` 搭配 CSS Selector 解析"
   ]
  },
  {
   "cell_type": "markdown",
   "metadata": {
    "slideshow": {
     "slide_type": "slide"
    }
   },
   "source": [
    "## 擷取 JSON 格式網頁資料"
   ]
  },
  {
   "cell_type": "markdown",
   "metadata": {
    "slideshow": {
     "slide_type": "subslide"
    }
   },
   "source": [
    "## 什麼是 JSON？\n",
    "\n",
    "> JavaScript Object Notation (JSON) 為將結構化資料 (structured data) 呈現為 JavaScript 物件的標準格式，常用於網站上的資料呈現、傳輸。\n",
    "\n",
    "Source: [mozilla.org](https://developer.mozilla.org/zh-TW/docs/Learn/JavaScript/Objects/JSON)"
   ]
  },
  {
   "cell_type": "markdown",
   "metadata": {
    "slideshow": {
     "slide_type": "subslide"
    }
   },
   "source": [
    "## JSON 是依照 JavaScript 物件語法的資料格式，經 Douglas Crockford 推廣普及。雖然 JSON 是以 JavaScript 語法為基礎，但可獨立使用，且許多程式設計環境亦可讀取 (剖析) 並產生 JSON。\n",
    "\n",
    "Source: [mozilla.org](https://developer.mozilla.org/zh-TW/docs/Learn/JavaScript/Objects/JSON)"
   ]
  },
  {
   "cell_type": "markdown",
   "metadata": {
    "slideshow": {
     "slide_type": "subslide"
    }
   },
   "source": [
    "## JSON 怎麼利用 Python 剖析與對應？\n",
    "\n",
    "- Python 具有標準套件 `json` 作為剖析的媒介\n",
    "- JSON 物件對應 Python 的 `dict` 類別\n",
    "- 陣列作為 JSON(array of JSON) 對應 Python 的 `list` of `dict`"
   ]
  },
  {
   "cell_type": "markdown",
   "metadata": {
    "slideshow": {
     "slide_type": "subslide"
    }
   },
   "source": [
    "## JSON 格式網頁資料範例\n",
    "\n",
    "- [data.nba](http://data.nba.net/prod/v1/today.json)\n",
    "- [PChome](https://ecshweb.pchome.com.tw/search/v3.3/all/results?q=macbook&page=1&sort=sale/dc)"
   ]
  },
  {
   "cell_type": "markdown",
   "metadata": {
    "slideshow": {
     "slide_type": "subslide"
    }
   },
   "source": [
    "## 幫助瀏覽 JSON 資料的 Chrome 外掛\n",
    "\n",
    "[JSON View](https://chrome.google.com/webstore/detail/jsonview/chklaanhfefbnpoihckbnefhakgolnmc)"
   ]
  },
  {
   "cell_type": "markdown",
   "metadata": {
    "slideshow": {
     "slide_type": "subslide"
    }
   },
   "source": [
    "## 擷取 JSON 格式網頁資料步驟\n",
    "\n",
    "- 使用 `requests` 請求資料\n",
    "- 呼叫回應的 `.json()` 方法，例如 `response.json()`\n",
    "- 視需求進行摘要"
   ]
  },
  {
   "cell_type": "markdown",
   "metadata": {
    "slideshow": {
     "slide_type": "subslide"
    }
   },
   "source": [
    "## 以 <http://data.nba.net/prod/v2/2019/teams.json> 示範"
   ]
  },
  {
   "cell_type": "code",
   "execution_count": null,
   "metadata": {
    "slideshow": {
     "slide_type": "fragment"
    }
   },
   "outputs": [],
   "source": [
    "request_url = \"http://data.nba.net/prod/v2/2019/teams.json\"\n",
    "response = requests.get(request_url)\n",
    "teams = response.json()\n",
    "print(type(teams))\n",
    "print(teams)"
   ]
  },
  {
   "cell_type": "markdown",
   "metadata": {
    "slideshow": {
     "slide_type": "slide"
    }
   },
   "source": [
    "## 擷取 XML 格式網頁資料"
   ]
  },
  {
   "cell_type": "markdown",
   "metadata": {
    "slideshow": {
     "slide_type": "subslide"
    }
   },
   "source": [
    "## 什麼是 XML？\n",
    "\n",
    "> 可延伸標示語（Extensible Markup Language）是一個讓文件同時能夠很容易地讓人去閱讀，又很容易讓電腦程式去辨識的語言格式，和 JSON 格式相同常被用於網站上的資料呈現、傳輸。\n",
    "\n",
    "Source: <https://www.w3schools.com/xml/>"
   ]
  },
  {
   "cell_type": "markdown",
   "metadata": {
    "slideshow": {
     "slide_type": "subslide"
    }
   },
   "source": [
    "## 擷取 XML 格式網頁資料步驟\n",
    "\n",
    "- 使用 `requests` 請求資料\n",
    "- 使用回應的 `.content` 屬性，例如 `response.content`\n",
    "- 以 `lxml` 搭配 XPath 解析"
   ]
  },
  {
   "cell_type": "markdown",
   "metadata": {
    "slideshow": {
     "slide_type": "subslide"
    }
   },
   "source": [
    "## 什麼是 XPath？\n",
    "\n",
    "> XML Path Language，譯作 XML 路徑語言，用來定位 XML 檔案中特定資訊的位置。\n",
    "\n",
    "Source: <https://www.w3schools.com/xml/xpath_intro.asp>"
   ]
  },
  {
   "cell_type": "markdown",
   "metadata": {
    "slideshow": {
     "slide_type": "subslide"
    }
   },
   "source": [
    "## 以 https://emap.pcsc.com.tw 示範"
   ]
  },
  {
   "cell_type": "code",
   "execution_count": null,
   "metadata": {},
   "outputs": [],
   "source": [
    "import requests\n",
    "\n",
    "#進行 POST 請求時要攜帶資料\n",
    "form_data = {\n",
    "    \"commandid\": \"GetTown\",\n",
    "    \"cityid\": \"01\"\n",
    "}\n",
    "request_url = \"https://emap.pcsc.com.tw/EMapSDK.aspx\"\n",
    "response = requests.post(request_url, data=form_data)\n",
    "print(response.status_code)"
   ]
  },
  {
   "cell_type": "markdown",
   "metadata": {
    "slideshow": {
     "slide_type": "subslide"
    }
   },
   "source": [
    "## 使用 `.content` 屬性"
   ]
  },
  {
   "cell_type": "code",
   "execution_count": null,
   "metadata": {},
   "outputs": [],
   "source": [
    "response_content = response.content\n",
    "print(response_content)"
   ]
  },
  {
   "cell_type": "markdown",
   "metadata": {
    "slideshow": {
     "slide_type": "subslide"
    }
   },
   "source": [
    "## 利用開發人員工具的 Preview 頁籤檢視 XML 的樹狀結構：行政區\n",
    "\n",
    "![Imgur](https://i.imgur.com/3kPU5sV.png)"
   ]
  },
  {
   "cell_type": "markdown",
   "metadata": {
    "slideshow": {
     "slide_type": "subslide"
    }
   },
   "source": [
    "## TownName 標籤的 XPath\n",
    "\n",
    "- `/iMapSDKOutput/GeoPosition/TownName` 或\n",
    "- `//TownName`"
   ]
  },
  {
   "cell_type": "markdown",
   "metadata": {
    "slideshow": {
     "slide_type": "subslide"
    }
   },
   "source": [
    "## 利用開發人員工具的 Preview 頁籤檢視 XML 的樹狀結構：路段資訊\n",
    "\n",
    "![Imgur](https://i.imgur.com/QpUSEzF.png)"
   ]
  },
  {
   "cell_type": "markdown",
   "metadata": {
    "slideshow": {
     "slide_type": "subslide"
    }
   },
   "source": [
    "## rd_name_1 標籤的 XPath\n",
    "\n",
    "- `/iMapSDKOutput/RoadName/rd_name_1` 或\n",
    "- `//rd_name_1`"
   ]
  },
  {
   "cell_type": "markdown",
   "metadata": {
    "slideshow": {
     "slide_type": "subslide"
    }
   },
   "source": [
    "## section_1 標籤的 XPath\n",
    "\n",
    "- `/iMapSDKOutput/RoadName/section_1` 或\n",
    "- `//section_1`"
   ]
  },
  {
   "cell_type": "markdown",
   "metadata": {
    "slideshow": {
     "slide_type": "subslide"
    }
   },
   "source": [
    "## 利用開發人員工具的 Preview 頁籤檢視 XML 的樹狀結構：商店資訊\n",
    "\n",
    "![Imgur](https://i.imgur.com/CKuV4KT.png)"
   ]
  },
  {
   "cell_type": "markdown",
   "metadata": {
    "slideshow": {
     "slide_type": "subslide"
    }
   },
   "source": [
    "## POIName 標籤的 XPath\n",
    "\n",
    "- `/iMapSDKOutput/GeoPosition/POIName` 或\n",
    "- `//POIName`"
   ]
  },
  {
   "cell_type": "markdown",
   "metadata": {
    "slideshow": {
     "slide_type": "subslide"
    }
   },
   "source": [
    "## 以 `lxml` 解析行政區資訊"
   ]
  },
  {
   "cell_type": "code",
   "execution_count": null,
   "metadata": {},
   "outputs": [],
   "source": [
    "from lxml import etree\n",
    "from io import BytesIO\n",
    "\n",
    "file = BytesIO(response_content)\n",
    "tree = etree.parse(file)\n",
    "town_names = [t.text for t in tree.xpath(\"//TownName\")] # XPath 亦可以指定 /iMapSDKOutput/GeoPosition/TownName\n",
    "print(town_names)"
   ]
  },
  {
   "cell_type": "markdown",
   "metadata": {
    "slideshow": {
     "slide_type": "slide"
    }
   },
   "source": [
    "## 擷取 HTML 格式網頁資料"
   ]
  },
  {
   "cell_type": "markdown",
   "metadata": {
    "slideshow": {
     "slide_type": "subslide"
    }
   },
   "source": [
    "## 擷取 HTML 格式網頁資料步驟\n",
    "\n",
    "- 使用 `requests` 請求資料\n",
    "- 使用回應的 `.text` 屬性，例如 `response.text`\n",
    "- 以 `bs4` 搭配 Tag Name/CSS Selector 解析"
   ]
  },
  {
   "cell_type": "markdown",
   "metadata": {
    "slideshow": {
     "slide_type": "subslide"
    }
   },
   "source": [
    "## 常見用來標示 HTML 資料的方法\n",
    "\n",
    "- HTML 的標籤名稱\n",
    "- HTML 標籤中給予的 id\n",
    "- HTML 標籤中給予的 class\n",
    "- **資料所在的 CSS 選擇器（CSS Selector）**\n",
    "- 資料所在的 XPath"
   ]
  },
  {
   "cell_type": "markdown",
   "metadata": {
    "slideshow": {
     "slide_type": "subslide"
    }
   },
   "source": [
    "## 幫助定位 CSS 選擇器的 Chrome 外掛\n",
    "\n",
    "[SelectorGadget](https://chrome.google.com/webstore/detail/selectorgadget/mhjhnkcfbdhnjickkkdbjoemdmbfginb)"
   ]
  },
  {
   "cell_type": "markdown",
   "metadata": {
    "slideshow": {
     "slide_type": "subslide"
    }
   },
   "source": [
    "## [SelectorGadget](https://chrome.google.com/webstore/detail/selectorgadget/mhjhnkcfbdhnjickkkdbjoemdmbfginb) 的使用方法\n",
    "\n",
    "1. 點選 SelectorGadget 的外掛圖示\n",
    "2. 留意 SelectorGadget 的 CSS 選擇器\n",
    "3. 移動滑鼠到想要定位的元素\n",
    "3. 在想要定位的資料上面點選左鍵，留意 Clear 後面數字表示有多少個元素被選擇到\n",
    "4. 移動滑鼠點選不要選擇的元素（改以紅底標記），並同時注意 CSS 選擇器位址與 Clear 後面數字"
   ]
  },
  {
   "cell_type": "markdown",
   "metadata": {
    "slideshow": {
     "slide_type": "subslide"
    }
   },
   "source": [
    "## 以 [Avengers: Endgame (2019)](https://www.imdb.com/title/tt4154796) 示範 [SelectorGadget](https://chrome.google.com/webstore/detail/selectorgadget/mhjhnkcfbdhnjickkkdbjoemdmbfginb) 的使用方法\n",
    "\n",
    "- 電影名稱\n",
    "- 電影海報\n",
    "- 評分\n",
    "- 劇情類型\n",
    "- 演員陣容"
   ]
  },
  {
   "cell_type": "markdown",
   "metadata": {
    "slideshow": {
     "slide_type": "subslide"
    }
   },
   "source": [
    "## 以 [Avengers: Endgame (2019)](https://www.imdb.com/title/tt4154796) 示範 bs4"
   ]
  },
  {
   "cell_type": "markdown",
   "metadata": {
    "slideshow": {
     "slide_type": "subslide"
    }
   },
   "source": [
    "## 常用的 bs4 函式\n",
    "\n",
    "`BeautifulSoup()`：創建 `BeautifulSoup` 類別"
   ]
  },
  {
   "cell_type": "code",
   "execution_count": null,
   "metadata": {},
   "outputs": [],
   "source": [
    "# !pip install -U BeautifulSoup4\n",
    "from bs4 import BeautifulSoup\n",
    "\n",
    "request_url = \"https://www.imdb.com/title/tt4154796\"\n",
    "response = requests.get(request_url)\n",
    "response_text = response.text\n",
    "soup = BeautifulSoup(response_text)\n",
    "print(type(soup))"
   ]
  },
  {
   "cell_type": "markdown",
   "metadata": {
    "slideshow": {
     "slide_type": "subslide"
    }
   },
   "source": [
    "## 常用的方法\n",
    "\n",
    "- `soup.find()`：尋找第一個符合標記名稱的資料\n",
    "- `soup.find_all()`：尋找所有符合標記名稱的資料\n",
    "- `soup.select()`：尋找所有符合 CSS 選擇的資料"
   ]
  },
  {
   "cell_type": "code",
   "execution_count": null,
   "metadata": {
    "slideshow": {
     "slide_type": "subslide"
    }
   },
   "outputs": [],
   "source": [
    "print(soup.find(\"h1\"))\n",
    "print(type(soup.find(\"h1\")))\n",
    "print(soup.find(\"h1\").text)\n",
    "print(soup.select(\"strong span\"))\n",
    "print(float(soup.select(\"strong span\")[0].text))"
   ]
  },
  {
   "cell_type": "markdown",
   "metadata": {
    "slideshow": {
     "slide_type": "subslide"
    }
   },
   "source": [
    "## 常用的 element.Tag 屬性、方法\n",
    "\n",
    "- `element.Tag.text`：取出標記中的文字值\n",
    "- `element.Tag.get(attr)`：取出標記中的指定屬性"
   ]
  },
  {
   "cell_type": "code",
   "execution_count": null,
   "metadata": {
    "slideshow": {
     "slide_type": "subslide"
    }
   },
   "outputs": [],
   "source": [
    "print(len(soup.find_all(\"img\")))\n",
    "print(soup.find_all(\"img\")[2])\n",
    "print(soup.find_all(\"img\")[2].get(\"alt\"))\n",
    "print(soup.find_all(\"img\")[2].get(\"src\"))"
   ]
  },
  {
   "cell_type": "code",
   "execution_count": null,
   "metadata": {
    "slideshow": {
     "slide_type": "subslide"
    }
   },
   "outputs": [],
   "source": [
    "print(soup.select(\"strong span\"))\n",
    "print(float(soup.select(\"strong span\")[0].text))"
   ]
  },
  {
   "cell_type": "markdown",
   "metadata": {
    "slideshow": {
     "slide_type": "subslide"
    }
   },
   "source": [
    "## 讓 `get_movie_data()` 更方便使用\n",
    "\n",
    "- 可以輸入電影名稱，而非 URL！\n",
    "- 觀察 <https://www.imdb.com/find?q=Avengers%3A+Endgame&ref_=nv_sr_sm>"
   ]
  },
  {
   "cell_type": "markdown",
   "metadata": {
    "slideshow": {
     "slide_type": "subslide"
    }
   },
   "source": [
    "## 在 `get()` 中加入 `params`\n",
    "\n",
    "```python\n",
    "query_string_parameters = {\n",
    "    'q': 'Avengers: Endgame',\n",
    "    'ref_': 'nv_sr_sm'\n",
    "}\n",
    "```\n",
    "\n",
    "![Imgur](https://i.imgur.com/KOE4EGm.png?1)"
   ]
  },
  {
   "cell_type": "code",
   "execution_count": null,
   "metadata": {
    "slideshow": {
     "slide_type": "subslide"
    }
   },
   "outputs": [],
   "source": [
    "query_string_parameters = {\n",
    "    'q': 'Avengers: Endgame',\n",
    "    'ref_': 'nv_sr_sm'\n",
    "}\n",
    "request_url = \"https://www.imdb.com/find\"\n",
    "response = requests.get(request_url, params=query_string_parameters)\n",
    "print(response.status_code)"
   ]
  },
  {
   "cell_type": "markdown",
   "metadata": {
    "slideshow": {
     "slide_type": "subslide"
    }
   },
   "source": [
    "## 利用 `.result_text > a` CSS 選擇器把所有的搜尋結果擷取下來"
   ]
  },
  {
   "cell_type": "code",
   "execution_count": null,
   "metadata": {},
   "outputs": [],
   "source": [
    "soup = BeautifulSoup(response.text)\n",
    "result_hrefs = [e.get(\"href\") for e in soup.select(\".result_text > a\")]\n",
    "print(result_hrefs)"
   ]
  },
  {
   "cell_type": "markdown",
   "metadata": {
    "slideshow": {
     "slide_type": "subslide"
    }
   },
   "source": [
    "## 最相近搜尋結果的電影頁面網址"
   ]
  },
  {
   "cell_type": "code",
   "execution_count": null,
   "metadata": {},
   "outputs": [],
   "source": [
    "movie_url = \"https://www.imdb.com\" + result_hrefs[0]\n",
    "print(movie_url)"
   ]
  },
  {
   "cell_type": "markdown",
   "metadata": {
    "slideshow": {
     "slide_type": "subslide"
    }
   },
   "source": [
    "## 隨堂練習：自訂一個函數 `get_movie_data(movie_title)`"
   ]
  },
  {
   "cell_type": "code",
   "execution_count": null,
   "metadata": {
    "slideshow": {
     "slide_type": "skip"
    }
   },
   "outputs": [],
   "source": [
    "from urllib.parse import quote_plus\n",
    "\n",
    "def get_movie_data(movie_title):\n",
    "    query_str = quote_plus(movie_title)\n",
    "    query_url = \"https://www.imdb.com/find?q={}&s=tt&ttype=ft&ref_=fn_ft\".format(query_str)\n",
    "    r = requests.get(query_url)\n",
    "    d = pq(r.text)\n",
    "    search_results = [i.attr(\"href\") for i in d(\".result_text a\").items()]\n",
    "    movie_url = \"https://www.imdb.com\" + search_results[0]\n",
    "    r = requests.get(movie_url)\n",
    "    d = pq(r.text)\n",
    "    movie_title = [i.text().replace(\"\\xa0\", \" \") for i in d(\"h1\").items()][0]\n",
    "    movie_poster = [i.attr(\"src\") for i in d(\".poster img\").items()][0]\n",
    "    movie_rating = [float(i.text()) for i in d(\"strong span\").items()][0]\n",
    "    movie_genre = [i.text() for i in d(\".subtext a\").items()]\n",
    "    movie_genre.pop()\n",
    "    movie_cast = [i.text() for i in d(\".primary_photo+ td a\").items()]\n",
    "    movie_data = {\n",
    "        \"movieTitle\": movie_title,\n",
    "        \"moviePoster\": movie_poster,\n",
    "        \"movieRating\": movie_rating,\n",
    "        \"movieGenre\": movie_genre,\n",
    "        \"movieCast\": movie_cast\n",
    "    }\n",
    "    return movie_data"
   ]
  },
  {
   "cell_type": "code",
   "execution_count": null,
   "metadata": {
    "slideshow": {
     "slide_type": "fragment"
    }
   },
   "outputs": [],
   "source": [
    "get_movie_data(\"Avengers: Endgame (2019)\")"
   ]
  },
  {
   "cell_type": "markdown",
   "metadata": {
    "slideshow": {
     "slide_type": "subslide"
    }
   },
   "source": [
    "## 有時候 `requests` 送出的請求需要攜帶餅乾（cookies），否則回傳的資料會不符合預期\n",
    "\n",
    "- [PTT 八卦版](https://www.ptt.cc/bbs/Gossiping/index.html)\n",
    "- [華航機上電影清單](http://www.fantasy-sky.com/ContentList.aspx?section=002)"
   ]
  },
  {
   "cell_type": "code",
   "execution_count": null,
   "metadata": {
    "slideshow": {
     "slide_type": "subslide"
    }
   },
   "outputs": [],
   "source": [
    "response = requests.get(\"https://www.ptt.cc/bbs/Gossiping/index.html\")\n",
    "print(response.text)"
   ]
  },
  {
   "cell_type": "code",
   "execution_count": null,
   "metadata": {
    "slideshow": {
     "slide_type": "subslide"
    }
   },
   "outputs": [],
   "source": [
    "response = requests.get(\"http://www.fantasy-sky.com/ContentList.aspx?section=002\")\n",
    "soup = BeautifulSoup(response.text)\n",
    "movie_titles = [i.text for i in soup.select(\".movies-name\")]\n",
    "print(movie_titles)"
   ]
  },
  {
   "cell_type": "markdown",
   "metadata": {
    "slideshow": {
     "slide_type": "subslide"
    }
   },
   "source": [
    "## 從開發人員工具檢視 Cookies"
   ]
  },
  {
   "cell_type": "markdown",
   "metadata": {
    "slideshow": {
     "slide_type": "subslide"
    }
   },
   "source": [
    "![Imgur](https://i.imgur.com/dvVHg29.png?1)"
   ]
  },
  {
   "cell_type": "markdown",
   "metadata": {
    "slideshow": {
     "slide_type": "subslide"
    }
   },
   "source": [
    "![Imgur](https://i.imgur.com/lTYWNmX.png)"
   ]
  },
  {
   "cell_type": "code",
   "execution_count": null,
   "metadata": {
    "slideshow": {
     "slide_type": "subslide"
    }
   },
   "outputs": [],
   "source": [
    "import requests\n",
    "\n",
    "response = requests.get(\"https://www.ptt.cc/bbs/Gossiping/index.html\", cookies={'over18': '1'})\n",
    "print(response.text)"
   ]
  },
  {
   "cell_type": "code",
   "execution_count": null,
   "metadata": {
    "slideshow": {
     "slide_type": "subslide"
    }
   },
   "outputs": [],
   "source": [
    "import requests\n",
    "from bs4 import BeautifulSoup\n",
    "\n",
    "response = requests.get(\"http://www.fantasy-sky.com/ContentList.aspx?section=002\", cookies={'COOKIE_LANGUAGE': 'en'})\n",
    "soup = BeautifulSoup(response.text)\n",
    "movie_titles = [i.text for i in soup.select(\".movies-name\")]\n",
    "print(movie_titles)"
   ]
  },
  {
   "cell_type": "markdown",
   "metadata": {
    "slideshow": {
     "slide_type": "subslide"
    }
   },
   "source": [
    "## 隨堂練習：擷取所有華航機上電影清單"
   ]
  },
  {
   "cell_type": "code",
   "execution_count": null,
   "metadata": {
    "slideshow": {
     "slide_type": "-"
    }
   },
   "outputs": [],
   "source": [
    "ca_movie_urls = [\"http://www.fantasy-sky.com/ContentList.aspx?section=002&category=0020{}\".format(i) for i in range(1, 5)]\n",
    "# Continue from here ..."
   ]
  },
  {
   "cell_type": "code",
   "execution_count": null,
   "metadata": {
    "slideshow": {
     "slide_type": "skip"
    }
   },
   "outputs": [],
   "source": [
    "ca_movie_titles = []\n",
    "for ca_url in ca_movie_urls:\n",
    "    r = requests.get(ca_url, cookies={'COOKIE_LANGUAGE': 'en'})\n",
    "    d = pq(r.text)\n",
    "    movie_titles = [i.text() for i in d(\".movies-name\").items()]\n",
    "    ca_movie_titles += movie_titles"
   ]
  },
  {
   "cell_type": "code",
   "execution_count": null,
   "metadata": {
    "slideshow": {
     "slide_type": "fragment"
    }
   },
   "outputs": [],
   "source": [
    "print(ca_movie_titles)"
   ]
  },
  {
   "cell_type": "markdown",
   "metadata": {
    "slideshow": {
     "slide_type": "subslide"
    }
   },
   "source": [
    "## 隨堂練習：找出華航機上最高評等的電影"
   ]
  },
  {
   "cell_type": "code",
   "execution_count": null,
   "metadata": {
    "slideshow": {
     "slide_type": "skip"
    }
   },
   "outputs": [],
   "source": [
    "movie_ratings = []\n",
    "movie_titles_with_error = []\n",
    "for movie_title in ca_movie_titles:\n",
    "    print(\"正在擷取 {} 的評等\".format(movie_title))\n",
    "    try:\n",
    "        movie_data = get_movie_data(movie_title)\n",
    "        movie_rating = movie_data[\"movieRating\"]\n",
    "        movie_ratings.append(movie_rating)\n",
    "    except:\n",
    "        print(\"在擷取 {} 的資訊時產生錯誤\".format(movie_title))\n",
    "        movie_titles_with_error.append(movie_title)"
   ]
  },
  {
   "cell_type": "code",
   "execution_count": null,
   "metadata": {
    "slideshow": {
     "slide_type": "skip"
    }
   },
   "outputs": [],
   "source": [
    "for movie_title in movie_titles_with_error:\n",
    "    ca_movie_titles.remove(movie_title)"
   ]
  },
  {
   "cell_type": "code",
   "execution_count": null,
   "metadata": {
    "slideshow": {
     "slide_type": "skip"
    }
   },
   "outputs": [],
   "source": [
    "best_movie_index = movie_ratings.index(max(movie_ratings))"
   ]
  },
  {
   "cell_type": "code",
   "execution_count": null,
   "metadata": {
    "slideshow": {
     "slide_type": "fragment"
    }
   },
   "outputs": [],
   "source": [
    "print(ca_movie_titles[best_movie_index])"
   ]
  },
  {
   "cell_type": "markdown",
   "metadata": {
    "slideshow": {
     "slide_type": "subslide"
    }
   },
   "source": [
    "## Web Scraping in a Nutshell\n",
    "\n",
    "- 請求資料\n",
    "    - 以 Quick JavaScript Switcher 判斷資料分類在 XHR 或 Doc\n",
    "    - 以 Chrome 開發人員工具檢視 Preview/Response 確認資料格式\n",
    "    - 以 Chrome 開發人員工具檢視請求資料的 Request URL/Request Method/Query String Parameters/Form Data/Cookies\n",
    "    - 以 `requests` 發送請求獲得回應\n",
    "- 解析資料\n",
    "    - 資料是 JSON 格式，呼叫回應的 `.json()` 方法後直接以 Python 資料結構解析\n",
    "    - 資料是 XML 格式，使用回應的 `.content` 屬性後以 `lxml` 搭配 XPath 解析\n",
    "    - 資料是 HTML 格式，使用回應的 `.text` 屬性後以 `bs4` 搭配 CSS Selector 解析"
   ]
  },
  {
   "cell_type": "markdown",
   "metadata": {
    "slideshow": {
     "slide_type": "slide"
    }
   },
   "source": [
    "## 瀏覽器自動化"
   ]
  },
  {
   "cell_type": "markdown",
   "metadata": {
    "slideshow": {
     "slide_type": "subslide"
    }
   },
   "source": [
    "## 在研究如何使 `get_movie_data()` 更方便的過程中我們做了幾個動作\n",
    "\n",
    "1. 前往 <https://www.imdb.com/> 首頁\n",
    "2. 輸入電影名稱\n",
    "3. 點選搜尋\n",
    "4. 點選 Movie 分類標籤\n",
    "5. 點選相似度最高的搜尋結果"
   ]
  },
  {
   "cell_type": "markdown",
   "metadata": {
    "slideshow": {
     "slide_type": "subslide"
    }
   },
   "source": [
    "## 這些操作可以利用 `selenium` 來自動化！"
   ]
  },
  {
   "cell_type": "markdown",
   "metadata": {
    "slideshow": {
     "slide_type": "subslide"
    }
   },
   "source": [
    "## 什麼是 Selenium\n",
    "\n",
    "- Selenium 是瀏覽器自動化測試的解決方案\n",
    "- Python 透過 Selenium WebDriver 呼叫瀏覽器驅動程式，再由瀏覽器驅動程式去呼叫瀏覽器\n",
    "- 對 Google Chrome 與 Mozilla Firefox 兩個主流瀏覽器的支援最好"
   ]
  },
  {
   "cell_type": "markdown",
   "metadata": {
    "slideshow": {
     "slide_type": "subslide"
    }
   },
   "source": [
    "## Selenium 環境設定：移除教室電腦中不必要的 Python 版本\n",
    "\n",
    "- Python.org 的版本\n",
    "- 安裝在非使用者路徑下的 Anaconda 版本"
   ]
  },
  {
   "cell_type": "markdown",
   "metadata": {
    "slideshow": {
     "slide_type": "subslide"
    }
   },
   "source": [
    "## Selenium 環境設定：安裝 Miniconda 的步驟\n",
    "\n",
    "1. 前往 [Miniconda](https://docs.conda.io/en/latest/miniconda.html) 下載頁面，依照作業系統點選對應的 Python 3.X 安裝檔\n",
    "2. 依照提示點選下一步\n",
    "3. 選擇安裝路徑\n",
    "4. 依照提示點選我同意\n",
    "5. 等待安裝完成"
   ]
  },
  {
   "cell_type": "markdown",
   "metadata": {
    "slideshow": {
     "slide_type": "subslide"
    }
   },
   "source": [
    "## Selenium 環境設定：建立環境步驟\n",
    "\n",
    "1. 開啟 Anaconda Prompt\n",
    "2. 更新 conda\n",
    "3. 安裝 jupyter\n",
    "4. 創建環境\n",
    "5. 啟動環境\n",
    "6. 安裝套件\n",
    "7. 創建 Jupyter Notebook Kernel（在已經啟動環境的情況下）\n",
    "8. 卸載環境\n",
    "9. 開啟 Jupyter Notebook"
   ]
  },
  {
   "cell_type": "markdown",
   "metadata": {
    "slideshow": {
     "slide_type": "subslide"
    }
   },
   "source": [
    "## 開啟 Anaconda Prompt\n",
    "\n",
    "![Imgur](https://i.imgur.com/vcBpOJq.png?1)"
   ]
  },
  {
   "cell_type": "markdown",
   "metadata": {
    "slideshow": {
     "slide_type": "subslide"
    }
   },
   "source": [
    "## 更新 conda\n",
    "\n",
    "```shell\n",
    "# run in command line\n",
    "(base) conda update conda\n",
    "```"
   ]
  },
  {
   "cell_type": "markdown",
   "metadata": {
    "slideshow": {
     "slide_type": "subslide"
    }
   },
   "source": [
    "## 安裝 jupyter\n",
    "\n",
    "```shell\n",
    "# run in command line\n",
    "(base) conda install jupyter\n",
    "```"
   ]
  },
  {
   "cell_type": "markdown",
   "metadata": {
    "slideshow": {
     "slide_type": "subslide"
    }
   },
   "source": [
    "## 檢視可用環境\n",
    "\n",
    "```shell\n",
    "# run in command line\n",
    "(base) conda env list\n",
    "```"
   ]
  },
  {
   "cell_type": "markdown",
   "metadata": {
    "slideshow": {
     "slide_type": "subslide"
    }
   },
   "source": [
    "## 創建環境\n",
    "\n",
    "```shell\n",
    "# run in command line\n",
    "(base) conda create --name <env_name> python=3.7\n",
    "```"
   ]
  },
  {
   "cell_type": "markdown",
   "metadata": {
    "slideshow": {
     "slide_type": "subslide"
    }
   },
   "source": [
    "## 啟動環境\n",
    "\n",
    "```shell\n",
    "# run in command line\n",
    "(base) conda activate <env_name>\n",
    "# conda deactivate # 回到原本的 (base)\n",
    "```"
   ]
  },
  {
   "cell_type": "markdown",
   "metadata": {
    "slideshow": {
     "slide_type": "subslide"
    }
   },
   "source": [
    "## 安裝套件\n",
    "\n",
    "```shell\n",
    "# run in command line\n",
    "(env_name) conda install ipykernel requests lxml beautifulsoup4 selenium\n",
    "```"
   ]
  },
  {
   "cell_type": "markdown",
   "metadata": {
    "slideshow": {
     "slide_type": "subslide"
    }
   },
   "source": [
    "## 這些套件的用途分別是\n",
    "\n",
    "- 環境\n",
    "    - ipykernel\n",
    "- 網路爬蟲\n",
    "    - requests\n",
    "    - lxml\n",
    "    - beautifulsoup4\n",
    "    - selenium"
   ]
  },
  {
   "cell_type": "markdown",
   "metadata": {
    "slideshow": {
     "slide_type": "subslide"
    }
   },
   "source": [
    "## 創建 Jupyter Notebook Kernel（在已經啟動環境的情況下）\n",
    "\n",
    "```shell\n",
    "# run in command line\n",
    "(env_name) python -m ipykernel install --user --name <kernel_name> --display-name \"Python Web Scraping\"\n",
    "```"
   ]
  },
  {
   "cell_type": "markdown",
   "metadata": {
    "slideshow": {
     "slide_type": "subslide"
    }
   },
   "source": [
    "## 檢視可用的 Jupyter Notebook Kernel\n",
    "\n",
    "```shell\n",
    "# run in command line\n",
    "(env_name) jupyter kernelspec list\n",
    "```"
   ]
  },
  {
   "cell_type": "markdown",
   "metadata": {
    "slideshow": {
     "slide_type": "subslide"
    }
   },
   "source": [
    "## Selenium 環境設定：Chrome\n",
    "\n",
    "- 前往 [Chrome 官方網站](https://www.google.com/chrome/)下載最新版的瀏覽器\n",
    "- 下載最新版的瀏覽器驅動程式 [ChromeDriver](http://chromedriver.chromium.org/)\n",
    "- 下載完成以後解壓縮在熟悉路徑讓後續指派較為方便"
   ]
  },
  {
   "cell_type": "markdown",
   "metadata": {
    "slideshow": {
     "slide_type": "subslide"
    }
   },
   "source": [
    "## Selenium 環境設定：Firefox\n",
    "\n",
    "- 前往 [Firefox 官方網站](https://www.mozilla.org/zh-TW/firefox/new/)下載最新版的瀏覽器\n",
    "- 下載最新版的瀏覽器驅動程式 [geckodriver](https://github.com/mozilla/geckodriver/releases)\n",
    "- 下載完成以後解壓縮在熟悉路徑讓後續指派較為方便"
   ]
  },
  {
   "cell_type": "markdown",
   "metadata": {
    "slideshow": {
     "slide_type": "subslide"
    }
   },
   "source": [
    "## 測試 Chrome 是否設定完成\n",
    "\n",
    "用程式碼透過 ChromeDriver 操控 Chrome 瀏覽器前往 IMDB 首頁並將首頁的網址印出再關閉瀏覽器"
   ]
  },
  {
   "cell_type": "code",
   "execution_count": null,
   "metadata": {
    "slideshow": {
     "slide_type": "subslide"
    }
   },
   "outputs": [],
   "source": [
    "from selenium import webdriver\n",
    "\n",
    "driver_path = \"c:/YOUR/PATH/TO/CHROMEDRIVER\"\n",
    "imdb_home = \"https://www.imdb.com/\"\n",
    "driver = webdriver.Chrome(executable_path=driver_path) # Use Chrome\n",
    "driver.get(imdb_home)\n",
    "print(driver.current_url)\n",
    "driver.close()"
   ]
  },
  {
   "cell_type": "markdown",
   "metadata": {
    "slideshow": {
     "slide_type": "subslide"
    }
   },
   "source": [
    "## 測試 Firefox 是否設定完成\n",
    "\n",
    "用程式碼透過 geckodriver 操控 Firefox 瀏覽器前往 IMDB 首頁並將首頁的網址印出再關閉瀏覽器"
   ]
  },
  {
   "cell_type": "code",
   "execution_count": null,
   "metadata": {
    "slideshow": {
     "slide_type": "subslide"
    }
   },
   "outputs": [],
   "source": [
    "from selenium import webdriver\n",
    "\n",
    "driver_path = \"c:/YOUR/PATH/TO/GECKODRIVER\"\n",
    "imdb_home = \"https://www.imdb.com/\"\n",
    "driver = webdriver.Firefox(executable_path=driver_path) # Use Firefox\n",
    "driver.get(imdb_home)\n",
    "print(driver.current_url)\n",
    "driver.close()"
   ]
  },
  {
   "cell_type": "markdown",
   "metadata": {
    "slideshow": {
     "slide_type": "subslide"
    }
   },
   "source": [
    "## 常使用的 `driver` 方法、屬性\n",
    "\n",
    "- `driver.get()` ：前往指定網址\n",
    "- `driver.find_element_by_css_selector()` ：定位搜尋欄位、搜尋按鈕與搜尋結果連結（單數）\n",
    "- `driver.find_elements_by_css_selector()` ：定位搜尋欄位、搜尋按鈕與搜尋結果連結（複數）\n",
    "- `driver.find_element_by_xpath()` ：定位搜尋欄位、搜尋按鈕與搜尋結果連結（單數）\n",
    "- `driver.find_elements_by_xpath()` ：定位搜尋欄位、搜尋按鈕與搜尋結果連結（複數）\n",
    "- `driver.current_url` ：取得當下瀏覽器的網址"
   ]
  },
  {
   "cell_type": "markdown",
   "metadata": {
    "slideshow": {
     "slide_type": "subslide"
    }
   },
   "source": [
    "## 幫助檢視 XPath 的 Chrome 外掛\n",
    "\n",
    "[XPath Helper](https://chrome.google.com/webstore/detail/xpath-helper/hgimnogjllphhhkhlmebbmlgjoejdpjl)"
   ]
  },
  {
   "cell_type": "markdown",
   "metadata": {
    "slideshow": {
     "slide_type": "subslide"
    }
   },
   "source": [
    "## [XPath Helper](https://chrome.google.com/webstore/detail/xpath-helper/hgimnogjllphhhkhlmebbmlgjoejdpjl) 的使用方法\n",
    "\n",
    "- 點選 XPath Helper 的外掛圖示\n",
    "- 留意 XPath Helper 介面左邊的 XPath 與右邊被定位到的資料\n",
    "- 按住 shift 鍵移動滑鼠到想要定位的元素\n",
    "- 試著縮減 XPath，從最前面開始刪減並置換為 `//`"
   ]
  },
  {
   "cell_type": "markdown",
   "metadata": {
    "slideshow": {
     "slide_type": "subslide"
    }
   },
   "source": [
    "## 以 [Avengers: Endgame (2019)](https://www.imdb.com/title/tt4154796) 示範 [XPath Helper](https://chrome.google.com/webstore/detail/xpath-helper/hgimnogjllphhhkhlmebbmlgjoejdpjl) 的使用方法\n",
    "\n",
    "- 電影名稱\n",
    "- 電影海報\n",
    "- 評分\n",
    "- 劇情類型\n",
    "- 演員陣容"
   ]
  },
  {
   "cell_type": "markdown",
   "metadata": {
    "slideshow": {
     "slide_type": "subslide"
    }
   },
   "source": [
    "## 常使用的 `element` 方法、屬性\n",
    "\n",
    "- `element.send_keys()` ：輸入文字\n",
    "- `element.click()` ：按下搜尋按鈕與連結\n",
    "- `element.text`：取出標記中的文字值\n",
    "- `element.get_attribute(ATTR)`：取出標記中的指定屬性"
   ]
  },
  {
   "cell_type": "markdown",
   "metadata": {
    "slideshow": {
     "slide_type": "subslide"
    }
   },
   "source": [
    "## 隨堂練習：以 `selenium` 實作 `get_movie_data(movie_title)`"
   ]
  },
  {
   "cell_type": "code",
   "execution_count": null,
   "metadata": {
    "slideshow": {
     "slide_type": "skip"
    }
   },
   "outputs": [],
   "source": [
    "from selenium import webdriver\n",
    "\n",
    "def get_movie_data(movie_title):\n",
    "    chrome_driver_path = \"/Users/kuoyaojen/Downloads/chromedriver\"\n",
    "    driver = webdriver.Chrome(executable_path=chrome_driver_path)\n",
    "    driver.get(\"https://www.imdb.com\")\n",
    "    elem = driver.find_element_by_xpath(\"//input[@id='navbar-query']\")\n",
    "    elem.send_keys(movie_title)\n",
    "    elem = driver.find_element_by_xpath(\"//div[@class='magnifyingglass navbarSprite']\")\n",
    "    elem.click()\n",
    "    elem = driver.find_element_by_xpath(\"//ul[@class='findTitleSubfilterList']/li[1]/a\")\n",
    "    elem.click()\n",
    "    elem = driver.find_element_by_xpath(\"//div[@class='findSection'][1]/table[@class='findList']/tbody/tr[@class='findResult odd'][1]/td[@class='result_text']/a\")\n",
    "    elem.click()\n",
    "    elem = driver.find_element_by_xpath(\"//h1\")\n",
    "    movie_title = elem.text\n",
    "    elem = driver.find_element_by_xpath(\"//strong/span\")\n",
    "    movie_rating = float(elem.text)\n",
    "    elem = driver.find_element_by_xpath(\"//div[@class='poster']/a/img\")\n",
    "    movie_poster_link = elem.get_attribute(\"src\")\n",
    "    elem = driver.find_elements_by_xpath(\"//div[@class='subtext']/a\")\n",
    "    movie_genre = [i.text for i in elem]\n",
    "    movie_genre.pop()\n",
    "    elem = driver.find_elements_by_xpath(\"//tbody/tr/td[2]/a\")\n",
    "    movie_cast = [i.text for i in elem]\n",
    "    driver.close()\n",
    "    movie_data = {\n",
    "        \"movieTitle\": movie_title,\n",
    "        \"moviePosterLink\": movie_poster_link,\n",
    "        \"movieRating\": movie_rating,\n",
    "        \"movieGenre\": movie_genre,\n",
    "        \"movieCast\": movie_cast\n",
    "    }\n",
    "    return movie_data"
   ]
  },
  {
   "cell_type": "code",
   "execution_count": null,
   "metadata": {
    "slideshow": {
     "slide_type": "fragment"
    }
   },
   "outputs": [],
   "source": [
    "get_movie_data(\"Avengers: Endgame (2019)\")"
   ]
  },
  {
   "cell_type": "markdown",
   "metadata": {
    "slideshow": {
     "slide_type": "subslide"
    }
   },
   "source": [
    "## 隨堂練習：以 selenium 擷取四部復仇者聯盟的電影資訊\n",
    "\n",
    "```python\n",
    "avengers_movies = [\"The Avengers (2012)\", \"Avengers: Age of Ultron (2015)\", \"Avengers: Infinity War (2018)\", \"Avengers: Endgame (2019)\"]\n",
    "```"
   ]
  },
  {
   "cell_type": "code",
   "execution_count": null,
   "metadata": {
    "slideshow": {
     "slide_type": "skip"
    }
   },
   "outputs": [],
   "source": [
    "import random\n",
    "import time\n",
    "\n",
    "avengers_movies = [\"The Avengers (2012)\", \"Avengers: Age of Ultron (2015)\", \"Avengers: Infinity War (2018)\", \"Avengers: Endgame (2019)\"]\n",
    "avengers_movie_data = []\n",
    "for am in avengers_movies:\n",
    "    print(\"開始擷取 {} 的電影資訊...\".format(am))\n",
    "    movie_data = get_movie_data(am)\n",
    "    avengers_movie_data.append(movie_data)\n",
    "    sleep_secs = random.randint(3, 10)\n",
    "    print(\"休息 {} 秒...\".format(sleep_secs))\n",
    "    time.sleep(sleep_secs)"
   ]
  },
  {
   "cell_type": "code",
   "execution_count": null,
   "metadata": {
    "slideshow": {
     "slide_type": "subslide"
    }
   },
   "outputs": [],
   "source": [
    "print(avengers_movie_data)"
   ]
  },
  {
   "cell_type": "markdown",
   "metadata": {
    "slideshow": {
     "slide_type": "subslide"
    }
   },
   "source": [
    "## 將擷取的電影資訊匯出"
   ]
  },
  {
   "cell_type": "code",
   "execution_count": null,
   "metadata": {
    "slideshow": {
     "slide_type": "subslide"
    }
   },
   "outputs": [],
   "source": [
    "import json\n",
    "\n",
    "with open(\"avengers.json\", \"w\") as f:\n",
    "    json.dump(avengers_movie_data, f)"
   ]
  },
  {
   "cell_type": "markdown",
   "metadata": {
    "slideshow": {
     "slide_type": "slide"
    }
   },
   "source": [
    "## 延伸閱讀 \n",
    "\n",
    "- [Requests: HTTP for Humans](http://docs.python-requests.org/en/master/)\n",
    "- [Beautiful Soup Documentation](https://www.crummy.com/software/BeautifulSoup/bs4/doc/#)\n",
    "- [Selenium with Python](https://selenium-python.readthedocs.io/)\n",
    "- [Python 與網頁資料擷取 - DataInPoint](https://medium.com/datainpoint/web-scraping-with-python/home)"
   ]
  },
  {
   "cell_type": "markdown",
   "metadata": {
    "slideshow": {
     "slide_type": "slide"
    }
   },
   "source": [
    "## 隨堂練習\n",
    "\n",
    "[隨堂練習：網頁資料擷取]()"
   ]
  },
  {
   "cell_type": "code",
   "execution_count": null,
   "metadata": {
    "slideshow": {
     "slide_type": "subslide"
    }
   },
   "outputs": [],
   "source": [
    "import requests\n",
    "from lxml import etree\n",
    "from io import BytesIO\n",
    "from bs4 import BeautifulSoup\n",
    "import time\n",
    "import random"
   ]
  },
  {
   "cell_type": "markdown",
   "metadata": {
    "slideshow": {
     "slide_type": "subslide"
    }
   },
   "source": [
    "## 隨堂練習：2019-2020 球季 NBA 有幾支球隊？"
   ]
  },
  {
   "cell_type": "code",
   "execution_count": null,
   "metadata": {},
   "outputs": [],
   "source": [
    "def number_of_nba_teams(request_url):\n",
    "    \"\"\"\n",
    "    >>> number_of_nba_teams(\"http://data.nba.net/prod/v2/2019/teams.json\")\n",
    "    30\n",
    "    \"\"\"\n",
    "    response = requests.get(request_url)\n",
    "    response_json = response.json()\n",
    "    teams = response_json[\"league\"][\"standard\"]\n",
    "    n_nba_teams = 0\n",
    "    for t in teams:\n",
    "        if t[\"isNBAFranchise\"]:\n",
    "            n_nba_teams += 1\n",
    "    return n_nba_teams"
   ]
  },
  {
   "cell_type": "markdown",
   "metadata": {
    "slideshow": {
     "slide_type": "subslide"
    }
   },
   "source": [
    "## 隨堂練習：divName 為 Atlantic 與 Southwest 的球隊有哪些？"
   ]
  },
  {
   "cell_type": "code",
   "execution_count": null,
   "metadata": {},
   "outputs": [],
   "source": [
    "def find_atlantic_southwest_teams(request_url):\n",
    "    \"\"\"\n",
    "    >>> atlantic_southwest_teams = number_of_nba_teams(\"http://data.nba.net/prod/v2/2019/teams.json\")\n",
    "    >>> atlantic_southwest_teams['Atlantic']\n",
    "    ['Boston Celtics', 'Brooklyn Nets', 'New York Knicks', 'Philadelphia 76ers', 'Toronto Raptors']\n",
    "    >>> atlantic_southwest_teams['Southwest']\n",
    "    ['Dallas Mavericks', 'Houston Rockets', 'Memphis Grizzlies', 'New Orleans Pelicans', 'San Antonio Spurs']\n",
    "    \"\"\"\n",
    "    response = requests.get(request_url)\n",
    "    response_json = response.json()\n",
    "    teams = response_json[\"league\"][\"standard\"]\n",
    "    team_dict = dict()\n",
    "    for t in teams:\n",
    "        div = t[\"divName\"]\n",
    "        full_name = t[\"fullName\"]\n",
    "        if div in team_dict:\n",
    "            team_dict[div].append(full_name)\n",
    "        else:\n",
    "            team_dict[div] = [full_name]\n",
    "    return team_dict"
   ]
  },
  {
   "cell_type": "markdown",
   "metadata": {
    "slideshow": {
     "slide_type": "subslide"
    }
   },
   "source": [
    "## 隨堂練習：擷取台北市所有 7-11 商店資訊"
   ]
  },
  {
   "cell_type": "code",
   "execution_count": null,
   "metadata": {},
   "outputs": [],
   "source": [
    "def get_tpe_711_stores(request_url):\n",
    "    \"\"\"\n",
    "    >>> tpe_711_stores = get_tpe_711_stores(\"https://emap.pcsc.com.tw/EMapSDK.aspx\")\n",
    "    >>> tpe_711_stores[\"松山區\"][0]\n",
    "    {'POIID': '170945', 'POIName': '上弘', 'Longitude': 121.548287390895, 'Latitude': 25.056390968531797, 'Address': '台北市松山區敦化北路168號B2'}\n",
    "    >>> tpe_711_stores[\"信義區\"][0]\n",
    "    {'POIID': '167651', 'POIName': '一零一', 'Longitude': 121.565077, 'Latitude': 25.033373, 'Address': '台北市信義區信義路五段7號35樓'}\n",
    "    >>> tpe_711_stores[\"大安區\"][0]\n",
    "    {'POIID': '153319', 'POIName': '大台', 'Longitude': 121.53261437826, 'Latitude': 25.0179598345753, 'Address': '台北市大安區羅斯福路三段283巷14弄16號1樓'}\n",
    "    \"\"\"\n",
    "    form_data = {\n",
    "        \"commandid\": \"GetTown\",\n",
    "        \"cityid\": \"01\"\n",
    "    }\n",
    "    response = requests.post(request_url, data=form_data)\n",
    "    file = BytesIO(response.content)\n",
    "    tree = etree.parse(file)\n",
    "    town_names = [t.text for t in tree.xpath(\"//TownName\")]\n",
    "    tpe_711_stores = dict()\n",
    "    for town in town_names:\n",
    "        form_data = {\n",
    "            \"commandid\": \"SearchStore\",\n",
    "            \"city\": \"台北市\",\n",
    "            \"town\": town\n",
    "        }\n",
    "        r = requests.post(request_url, data=form_data)\n",
    "        f = BytesIO(r.content)\n",
    "        tree = etree.parse(f)\n",
    "        poi_ids = [t.text.strip() for t in tree.xpath(\"//POIID\")]\n",
    "        poi_names = [t.text for t in tree.xpath(\"//POIName\")]\n",
    "        lons = [float(t.text)/1000000 for t in tree.xpath(\"//X\")]\n",
    "        lats = [float(t.text)/1000000 for t in tree.xpath(\"//Y\")]\n",
    "        adds = [t.text for t in tree.xpath(\"//Address\")]\n",
    "        tpe_711_stores[town] = []\n",
    "        for poi_id, poi_name, lon, lat, add in zip(poi_ids, poi_names, lons, lats, adds):\n",
    "            store_info = {\n",
    "                \"POIID\": poi_id,\n",
    "                \"POIName\": poi_name,\n",
    "                \"Longitude\": lon,\n",
    "                \"Latitude\": lat,\n",
    "                \"Address\": add\n",
    "            }\n",
    "            tpe_711_stores[town].append(store_info)\n",
    "        time.sleep(random.randint(1, 5))\n",
    "    return tpe_711_stores"
   ]
  },
  {
   "cell_type": "markdown",
   "metadata": {
    "slideshow": {
     "slide_type": "subslide"
    }
   },
   "source": [
    "## 隨堂練習：以 `requests` 搭配 `bs4` 擷取 [Avengers: Endgame (2019)](https://www.imdb.com/title/tt4154796) 的劇情類型"
   ]
  },
  {
   "cell_type": "code",
   "execution_count": null,
   "metadata": {},
   "outputs": [],
   "source": [
    "def find_endgame_genre(request_url):\n",
    "    \"\"\"\n",
    "    >>> find_endgame_genre(\"https://www.imdb.com/title/tt4154796\")\n",
    "    ['Action', 'Adventure', 'Drama']\n",
    "    \"\"\"\n",
    "    response = requests.get(request_url)\n",
    "    soup = BeautifulSoup(response.text)\n",
    "    elems = soup.select(\".subtext a\")\n",
    "    genre = [e.text for e in elems]\n",
    "    genre.pop()\n",
    "    return genre"
   ]
  },
  {
   "cell_type": "markdown",
   "metadata": {
    "slideshow": {
     "slide_type": "subslide"
    }
   },
   "source": [
    "## 隨堂練習：以 `requests` 搭配 `bs4` 擷取 [Avengers: Endgame (2019)](https://www.imdb.com/title/tt4154796) 的演員陣容"
   ]
  },
  {
   "cell_type": "code",
   "execution_count": null,
   "metadata": {},
   "outputs": [],
   "source": [
    "def find_endgame_cast(request_url):\n",
    "    \"\"\"\n",
    "    >>> find_endgame_cast(\"https://www.imdb.com/title/tt4154796\")\n",
    "    ['Robert Downey Jr.', 'Chris Evans', 'Mark Ruffalo', 'Chris Hemsworth', 'Scarlett Johansson', 'Jeremy Renner', 'Don Cheadle', 'Paul Rudd', 'Benedict Cumberbatch', 'Chadwick Boseman', 'Brie Larson', 'Tom Holland', 'Karen Gillan', 'Zoe Saldana', 'Evangeline Lilly']\n",
    "    \"\"\"\n",
    "    response = requests.get(request_url)\n",
    "    soup = BeautifulSoup(response.text)\n",
    "    elems = soup.select(\".primary_photo+ td a\")\n",
    "    cast = [e.text.strip() for e in elems]\n",
    "    return cast"
   ]
  },
  {
   "cell_type": "markdown",
   "metadata": {
    "slideshow": {
     "slide_type": "subslide"
    }
   },
   "source": [
    "## 隨堂練習：自訂函式 `get_movie_data(request_url)`"
   ]
  },
  {
   "cell_type": "code",
   "execution_count": null,
   "metadata": {},
   "outputs": [],
   "source": [
    "def get_movie_data(request_url):\n",
    "    \"\"\"\n",
    "    >>> movie_data = get_movie_data(\"https://www.imdb.com/title/tt4154796\")\n",
    "    >>> movie_data[\"movieTitle\"]\n",
    "    'Avengers: Endgame(2019)'\n",
    "    >>> movie_data[\"moviePoster\"]\n",
    "    'https://m.media-amazon.com/images/M/MV5BMTc5MDE2ODcwNV5BMl5BanBnXkFtZTgwMzI2NzQ2NzM@._V1_UX182_CR0,0,182,268_AL_.jpg'\n",
    "    >>> movie_data[\"movieGenre\"]\n",
    "    ['Action', 'Adventure', 'Drama']\n",
    "    >>> movie_data[\"movieCast\"]\n",
    "    ['Robert Downey Jr.', 'Chris Evans', 'Mark Ruffalo', 'Chris Hemsworth', 'Scarlett Johansson', 'Jeremy Renner', 'Don Cheadle', 'Paul Rudd', 'Benedict Cumberbatch', 'Chadwick Boseman', 'Brie Larson', 'Tom Holland', 'Karen Gillan', 'Zoe Saldana', 'Evangeline Lilly']\n",
    "    \"\"\""
   ]
  },
  {
   "cell_type": "markdown",
   "metadata": {
    "slideshow": {
     "slide_type": "slide"
    }
   },
   "source": [
    "## 隨堂練習參考解答\n",
    "\n",
    "[隨堂練習：網頁資料擷取參考解答]()"
   ]
  }
 ],
 "metadata": {
  "celltoolbar": "Slideshow",
  "kernelspec": {
   "display_name": "Python Web Scraping",
   "language": "python",
   "name": "pywebscraping"
  },
  "language_info": {
   "codemirror_mode": {
    "name": "ipython",
    "version": 3
   },
   "file_extension": ".py",
   "mimetype": "text/x-python",
   "name": "python",
   "nbconvert_exporter": "python",
   "pygments_lexer": "ipython3",
   "version": "3.7.7"
  }
 },
 "nbformat": 4,
 "nbformat_minor": 2
}
