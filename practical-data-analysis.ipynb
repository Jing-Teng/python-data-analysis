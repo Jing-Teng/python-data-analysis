{
 "cells": [
  {
   "cell_type": "markdown",
   "metadata": {
    "slideshow": {
     "slide_type": "slide"
    }
   },
   "source": [
    "# Python 資料分析實務\n",
    "\n",
    "> 郭耀仁 <yaojenkuo@datainpoint.com>"
   ]
  },
  {
   "cell_type": "markdown",
   "metadata": {
    "slideshow": {
     "slide_type": "subslide"
    }
   },
   "source": [
    "## 大綱\n",
    "\n",
    "- 何謂一個資料分析專案\n",
    "- 為什麼使用 Python\n",
    "- Python 資料分析套件\n",
    "- Python 資料分析實務"
   ]
  },
  {
   "cell_type": "markdown",
   "metadata": {
    "slideshow": {
     "slide_type": "slide"
    }
   },
   "source": [
    "## 何謂一個資料分析專案"
   ]
  },
  {
   "cell_type": "markdown",
   "metadata": {
    "slideshow": {
     "slide_type": "subslide"
    }
   },
   "source": [
    "## 掌握資料流的管線\n",
    "\n",
    "![Imgur](https://i.imgur.com/din6Ig6.png)\n",
    "\n",
    "圖片來源: <https://r4ds.had.co.nz/>"
   ]
  },
  {
   "cell_type": "markdown",
   "metadata": {
    "slideshow": {
     "slide_type": "subslide"
    }
   },
   "source": [
    "## Import：從常見來源將資料載入分析環境\n",
    "\n",
    "- 檔案\n",
    "- 資料庫\n",
    "- 網頁"
   ]
  },
  {
   "cell_type": "markdown",
   "metadata": {
    "slideshow": {
     "slide_type": "subslide"
    }
   },
   "source": [
    "## Tidy and Transform：以適當的資料結構整併內容與轉換樣式\n",
    "\n",
    "- 文字\n",
    "- 陣列\n",
    "- 資料框\n",
    "- 清單\n",
    "- 字典"
   ]
  },
  {
   "cell_type": "markdown",
   "metadata": {
    "slideshow": {
     "slide_type": "subslide"
    }
   },
   "source": [
    "## Visualize：探索分析資料的形狀、相關、組成與趨勢\n",
    "\n",
    "- 形狀：直方圖\n",
    "- 相關：散佈圖\n",
    "- 組成：長條圖\n",
    "- 趨勢：線圖"
   ]
  },
  {
   "cell_type": "markdown",
   "metadata": {
    "slideshow": {
     "slide_type": "subslide"
    }
   },
   "source": [
    "## Model：預測或挖掘資料的隱含特徵\n",
    "\n",
    "- 預測：監督式\n",
    "- 挖掘：非監督式"
   ]
  },
  {
   "cell_type": "markdown",
   "metadata": {
    "slideshow": {
     "slide_type": "subslide"
    }
   },
   "source": [
    "## Communicate：向產品、行銷與管理團隊精準且有效地傳達分析洞察\n",
    "\n",
    "- 簡報\n",
    "- 文件\n",
    "- 儀表板"
   ]
  },
  {
   "cell_type": "markdown",
   "metadata": {
    "slideshow": {
     "slide_type": "subslide"
    }
   },
   "source": [
    "## Program：利用程式語言掌握資料流的管線\n",
    "\n",
    "- 規模化\n",
    "- 自動化"
   ]
  },
  {
   "cell_type": "markdown",
   "metadata": {
    "slideshow": {
     "slide_type": "slide"
    }
   },
   "source": [
    "## 為什麼使用 Python"
   ]
  },
  {
   "cell_type": "markdown",
   "metadata": {
    "slideshow": {
     "slide_type": "subslide"
    }
   },
   "source": [
    "## 如何選擇程式語言？\n",
    "\n",
    "- 應用領域\n",
    "- 現況\n",
    "- 趨勢"
   ]
  },
  {
   "cell_type": "markdown",
   "metadata": {
    "slideshow": {
     "slide_type": "subslide"
    }
   },
   "source": [
    "## 應用領域：資料分析\n",
    "\n",
    "[2019 Kaggle ML & DS Survey](https://www.kaggle.com/c/kaggle-survey-2019) 的兩個問題：\n",
    "\n",
    "- Q18: What programming languages do you use on a regular basis?\n",
    "- Q19: What programming language would you recommend an aspiring data scientist to learn first?"
   ]
  },
  {
   "cell_type": "markdown",
   "metadata": {
    "slideshow": {
     "slide_type": "subslide"
    }
   },
   "source": [
    "## 什麼是 Kaggle？ \n",
    "\n",
    "> Kaggle 是全世界最大的資料科學社群、資料探勘、分析競賽平台。企業和研究者可在該網站發表競賽，隨時都有各種不同目標的比賽進行著，部分比賽提供高額的獎金，因此會吸引全世界優秀的資料科學家前來比賽，並有許多參賽者在賽後於討論區留下邏輯以及思路脈絡。"
   ]
  },
  {
   "cell_type": "code",
   "execution_count": 1,
   "metadata": {
    "slideshow": {
     "slide_type": "skip"
    }
   },
   "outputs": [],
   "source": [
    "import pandas as pd\n",
    "import matplotlib.pyplot as plt\n",
    "\n",
    "def get_value_ratios(df, col_name):\n",
    "    return df[col_name].value_counts() / df[col_name].value_counts().sum()\n",
    "    \n",
    "def get_checkbox_ratios(df, col_pattern):\n",
    "    channel_names = []\n",
    "    channel_checks = []\n",
    "    for col_name in df.columns:\n",
    "        if (col_pattern in col_name) and ('OTHER_TEXT' not in col_name):\n",
    "            channel_name = df[col_name].value_counts().index\n",
    "            channel_check = df[col_name].value_counts().values\n",
    "            if channel_name.size != 0:\n",
    "                channel_names.append(channel_name[0])\n",
    "                channel_checks.append(channel_check[0])\n",
    "    channel_counts = pd.Series(channel_checks, index=channel_names)\n",
    "    channel_ratios = channel_counts / channel_counts.sum()\n",
    "    channel_ratios_sorted = channel_ratios.sort_values(ascending=False)\n",
    "    return channel_ratios_sorted\n",
    "\n",
    "survey_2019 = pd.read_csv(\"https://kaggle-ml-ds-survey.s3-ap-northeast-1.amazonaws.com/kaggle-survey-2019/multiple_choice_responses.csv\", encoding='ISO-8859-1', skiprows=[1], low_memory=False)\n",
    "da_2019 = survey_2019[survey_2019['Q5'] == 'Data Analyst']"
   ]
  },
  {
   "cell_type": "code",
   "execution_count": 2,
   "metadata": {
    "slideshow": {
     "slide_type": "skip"
    }
   },
   "outputs": [],
   "source": [
    "def plot_ans_14(ans_14_ser):\n",
    "    fig = plt.figure()\n",
    "    ax = plt.axes()\n",
    "    ans_14_ser = ans_14_ser[::-1]\n",
    "    ax.barh(ans_14_ser.index, ans_14_ser.values, color=['c', 'c', 'c', 'c', 'c', 'r'])\n",
    "    ax.set_title(\"What is the primary tool that you use at work or school to analyze data?\")\n",
    "    ax.set_xticks([0, 0.1, 0.2, 0.3, 0.4, 0.5])\n",
    "    ax.set_xticklabels(['0%', '10%', '20%', '30%', '40%', '50%'])\n",
    "    ax.spines['top'].set_visible(False)\n",
    "    ax.spines['right'].set_visible(False)\n",
    "    ax.spines['bottom'].set_visible(False)\n",
    "    plt.show()\n",
    "\n",
    "def get_ax(ans_ser, plot_title, ax):\n",
    "    ax = ax\n",
    "    ans_ser = ans_ser[:10][::-1]\n",
    "    ax.barh(ans_ser.index, ans_ser.values, color=['c', 'c', 'c', 'c', 'c', 'c', 'c', 'r', 'r', 'r'])\n",
    "    ax.spines['top'].set_visible(False)\n",
    "    ax.spines['right'].set_visible(False)\n",
    "    ax.spines['bottom'].set_visible(False)\n",
    "    ax.set_title(plot_title)\n",
    "    \n",
    "def plot_ans_18_19(ans_18_ser, ans_19_ser):\n",
    "    fig, (ax1, ax2) = plt.subplots(1, 2, figsize=(14, 4))\n",
    "    get_ax(ans_18_ser, \"What programming languages do you use on a regular basis?\", ax1)\n",
    "    get_ax(ans_19_ser, \"What programming language would you recommend \\n an aspiring data scientist to learn first?\", ax2)\n",
    "    plt.tight_layout()\n",
    "    plt.show()\n",
    "\n",
    "ans_14 = get_value_ratios(da_2019, 'Q14')\n",
    "ans_18 = get_checkbox_ratios(da_2019, 'Q18')\n",
    "ans_19 = get_value_ratios(da_2019, 'Q19')"
   ]
  },
  {
   "cell_type": "code",
   "execution_count": 3,
   "metadata": {
    "slideshow": {
     "slide_type": "subslide"
    }
   },
   "outputs": [
    {
     "data": {
      "image/png": "[encoded data removed]",
      "text/plain": [
       "<Figure size 1008x288 with 2 Axes>"
      ]
     },
     "metadata": {
      "needs_background": "light"
     },
     "output_type": "display_data"
    }
   ],
   "source": [
    "# What programming languages do you use on a regular basis?\n",
    "# What programming language would you recommend an aspiring data scientist to learn first?\n",
    "plot_ans_18_19(ans_18, ans_19)"
   ]
  },
  {
   "cell_type": "markdown",
   "metadata": {
    "slideshow": {
     "slide_type": "subslide"
    }
   },
   "source": [
    "## 現況\n",
    "\n",
    "- [2020 IEEE](https://spectrum.ieee.org/static/interactive-the-top-programming-languages-2020)\n",
    "- [TIOBE Index](https://www.tiobe.com/tiobe-index/)"
   ]
  },
  {
   "cell_type": "markdown",
   "metadata": {
    "slideshow": {
     "slide_type": "subslide"
    }
   },
   "source": [
    "## 趨勢\n",
    "\n",
    "[Stack Overflow Trends](https://insights.stackoverflow.com/trends?tags=java%2Cc%2Cc%2B%2B%2Cpython%2Cc%23%2Cvb.net%2Cjavascript%2Cassembly%2Cphp%2Cperl%2Cruby%2Cvb%2Cswift%2Cr%2Cobjective-c)"
   ]
  },
  {
   "cell_type": "markdown",
   "metadata": {
    "slideshow": {
     "slide_type": "subslide"
    }
   },
   "source": [
    "## Python 的套件生態系是受資料科學家熱愛的主因\n",
    "\n",
    "- [標準套件](https://docs.python.org/3/library/)\n",
    "- 第三方套件"
   ]
  },
  {
   "cell_type": "markdown",
   "metadata": {
    "slideshow": {
     "slide_type": "subslide"
    }
   },
   "source": [
    "## 每個資料流管線環節都有對應的標準、第三方套件支援\n",
    "\n",
    "![Imgur](https://i.imgur.com/din6Ig6.png)\n",
    "\n",
    "圖片來源: <https://r4ds.had.co.nz/>"
   ]
  },
  {
   "cell_type": "markdown",
   "metadata": {
    "slideshow": {
     "slide_type": "subslide"
    }
   },
   "source": [
    "## Import：從常見來源將資料載入分析環境\n",
    "\n",
    "- `csv`\n",
    "- `json`\n",
    "- `numpy`\n",
    "- `pandas`\n",
    "- `requests`\n",
    "- `beautifulsoup4`\n",
    "- `xml`\n",
    "- `sqlite3`"
   ]
  },
  {
   "cell_type": "markdown",
   "metadata": {
    "slideshow": {
     "slide_type": "subslide"
    }
   },
   "source": [
    "## Tidy and Transform：以適當的資料結構整併內容與轉換樣式\n",
    "\n",
    "- `collections`\n",
    "- `itertools`\n",
    "- `numpy`\n",
    "- `pandas`\n",
    "- 內建函式型程式設計功能\n",
    "    - `map()`\n",
    "    - `filter()`\n",
    "    - `lambda`"
   ]
  },
  {
   "cell_type": "markdown",
   "metadata": {
    "slideshow": {
     "slide_type": "subslide"
    }
   },
   "source": [
    "## Visualize：探索分析資料的形狀、相關、組成與趨勢\n",
    "\n",
    "- `pandas`\n",
    "- `matplotlib`\n",
    "- `seaborn`"
   ]
  },
  {
   "cell_type": "markdown",
   "metadata": {
    "slideshow": {
     "slide_type": "subslide"
    }
   },
   "source": [
    "## Model：預測或挖掘資料的隱含特徵\n",
    "\n",
    "- `scikit-learn`\n",
    "- `scipy`\n",
    "- `tensorflow`\n",
    "- `pytorch`"
   ]
  },
  {
   "cell_type": "markdown",
   "metadata": {
    "slideshow": {
     "slide_type": "subslide"
    }
   },
   "source": [
    "## Communicate：向產品、行銷與管理團隊精準且有效地傳達分析洞察\n",
    "\n",
    "- `jupyter`\n",
    "- `dash`"
   ]
  },
  {
   "cell_type": "markdown",
   "metadata": {
    "slideshow": {
     "slide_type": "subslide"
    }
   },
   "source": [
    "## 如何區分標準、第三方套件？\n",
    "\n",
    "- 由 [Python.org](https://www.python.org/) 所維護的套件，可以在 <https://docs.python.org/3/library/index.html> 找到說明文件\n",
    "- 由第三方開發團隊所維護的套件，能夠在 [PyPI](https://pypi.org/) 找到"
   ]
  },
  {
   "cell_type": "markdown",
   "metadata": {
    "slideshow": {
     "slide_type": "subslide"
    }
   },
   "source": [
    "## 如何在沒有安裝設定下撰寫、執行 Python？\n",
    "\n",
    "- 網路\n",
    "- 瀏覽器"
   ]
  },
  {
   "cell_type": "markdown",
   "metadata": {
    "slideshow": {
     "slide_type": "subslide"
    }
   },
   "source": [
    "## 我們可以使用這兩種工具\n",
    "\n",
    "- [設定好的 Binder 元件](https://mybinder.org/v2/gh/yaojenkuo/python-data-analysis/master)\n",
    "- [可以互動的 Google Colab](https://colab.research.google.com)"
   ]
  },
  {
   "cell_type": "markdown",
   "metadata": {
    "slideshow": {
     "slide_type": "subslide"
    }
   },
   "source": [
    "## 不論是 Binder 或者 Google Colab 都是以 [Jupyter Notebook](https://jupyter.org/) 作為主要的使用介面"
   ]
  },
  {
   "cell_type": "markdown",
   "metadata": {
    "slideshow": {
     "slide_type": "slide"
    }
   },
   "source": [
    "## Python 資料分析套件"
   ]
  },
  {
   "cell_type": "markdown",
   "metadata": {
    "slideshow": {
     "slide_type": "subslide"
    }
   },
   "source": [
    "## 工作坊主要使用的第三方套件\n",
    "\n",
    "- 使用 [NumPy](https://numpy.org/) 計算數列\n",
    "- 使用 [Pandas](https://pandas.pydata.org/) 分析表格\n",
    "- 使用 [Matplotlib](https://matplotlib.org/) 作圖"
   ]
  },
  {
   "cell_type": "markdown",
   "metadata": {
    "slideshow": {
     "slide_type": "subslide"
    }
   },
   "source": [
    "## 工作坊次要使用的第三方套件\n",
    "\n",
    "- 使用 [Requests](https://requests.readthedocs.io/en/master/) 請求網頁資料\n",
    "- 使用 [BeautifulSoup4](https://www.crummy.com/software/BeautifulSoup/bs4/doc/) 解析網頁資料"
   ]
  },
  {
   "cell_type": "markdown",
   "metadata": {
    "slideshow": {
     "slide_type": "subslide"
    }
   },
   "source": [
    "## 確認能夠使用這些第三方套件"
   ]
  },
  {
   "cell_type": "code",
   "execution_count": 4,
   "metadata": {},
   "outputs": [],
   "source": [
    "import numpy as np\n",
    "import pandas as pd\n",
    "import matplotlib as mpl\n",
    "import requests\n",
    "import bs4"
   ]
  },
  {
   "cell_type": "markdown",
   "metadata": {
    "slideshow": {
     "slide_type": "subslide"
    }
   },
   "source": [
    "## 檢視這些第三方套件的版本資訊"
   ]
  },
  {
   "cell_type": "code",
   "execution_count": 5,
   "metadata": {},
   "outputs": [
    {
     "name": "stdout",
     "output_type": "stream",
     "text": [
      "1.18.4\n",
      "1.0.3\n",
      "3.2.1\n",
      "2.23.0\n",
      "4.9.1\n"
     ]
    }
   ],
   "source": [
    "print(np.__version__)\n",
    "print(pd.__version__)\n",
    "print(mpl.__version__)\n",
    "print(requests.__version__)\n",
    "print(bs4.__version__)"
   ]
  },
  {
   "cell_type": "markdown",
   "metadata": {
    "slideshow": {
     "slide_type": "subslide"
    }
   },
   "source": [
    "## 簡介 NumPy 套件\n",
    "\n",
    "> NumPy，Numerical Python 的簡稱，是使用 Python 進行科學計算的第三方套件，創造了一個稱為 N 維陣列（ndarray）的類別，透過 N 維陣列，可以將 Python 從一個泛用（general purposed）程式語言轉變成一個科學計算（scientific computing）程式語言，並且有豐富的統計、線性代數與隨機的函式。"
   ]
  },
  {
   "cell_type": "markdown",
   "metadata": {
    "slideshow": {
     "slide_type": "subslide"
    }
   },
   "source": [
    "## 簡介 Pandas 套件\n",
    "\n",
    "> Pandas，Panel DataFrame Series 的簡稱，是在 Python 中分析表格資料的第三方套件，創造了稱為索引（Index）、序列（Series）與資料框（DataFrame）的類別，透過這些類別，可以讓 Python 在面對文字檔案、Excel 試算表與關聯式資料庫時能夠使用更直覺的觀念操作。"
   ]
  },
  {
   "cell_type": "markdown",
   "metadata": {
    "slideshow": {
     "slide_type": "subslide"
    }
   },
   "source": [
    "## 簡介 Matplotlib 套件\n",
    "\n",
    "> Matplotlib，Matlab Plotting Library 的簡稱，是在 Python 中將資料視覺化的第三方套件。"
   ]
  },
  {
   "cell_type": "markdown",
   "metadata": {
    "slideshow": {
     "slide_type": "subslide"
    }
   },
   "source": [
    "## 簡介 Requests 套件\n",
    "\n",
    "> Requests，是在 Python 中發送 HTTP 請求的第三方套件，在網頁資料擷取（俗稱爬蟲）的技術中扮演請求資料的角色。"
   ]
  },
  {
   "cell_type": "markdown",
   "metadata": {
    "slideshow": {
     "slide_type": "subslide"
    }
   },
   "source": [
    "## 簡介 BeautifulSoup4 套件\n",
    "\n",
    "> BeautifulSoup4，簡稱 bs4，是在 Python 中解析 HTML 文件的第三方套件，在網頁資料擷取（俗稱爬蟲）的技術中扮演解析資料的角色。"
   ]
  },
  {
   "cell_type": "markdown",
   "metadata": {
    "slideshow": {
     "slide_type": "slide"
    }
   },
   "source": [
    "## Python 資料分析實務"
   ]
  },
  {
   "cell_type": "markdown",
   "metadata": {
    "slideshow": {
     "slide_type": "subslide"
    }
   },
   "source": [
    "## 使用 Python 作財務分析擇股\n",
    "\n",
    "定義一些個人化條件，從上市公司股價前 100 名的公司中選擇可能投資標的。"
   ]
  },
  {
   "cell_type": "markdown",
   "metadata": {
    "slideshow": {
     "slide_type": "subslide"
    }
   },
   "source": [
    "## 載入需要的套件"
   ]
  },
  {
   "cell_type": "code",
   "execution_count": 6,
   "metadata": {},
   "outputs": [],
   "source": [
    "import numpy as np\n",
    "import pandas as pd\n",
    "import matplotlib.pyplot as plt\n",
    "import requests\n",
    "from bs4 import BeautifulSoup"
   ]
  },
  {
   "cell_type": "markdown",
   "metadata": {
    "slideshow": {
     "slide_type": "subslide"
    }
   },
   "source": [
    "## 選出上市公司股價前 100 名的公司\n",
    "\n",
    "- 使用 `requests` 的 `get()` 函式發送 HTTP GET 請求\n",
    "- 使用 `bs4` 的 `BeautifulSoup()` 函式解析 HTML 文件\n",
    "- 使用 CSS 選擇器選出股票代號、股票名稱與股價"
   ]
  },
  {
   "cell_type": "code",
   "execution_count": 7,
   "metadata": {
    "slideshow": {
     "slide_type": "subslide"
    }
   },
   "outputs": [],
   "source": [
    "def get_top_ranked():\n",
    "    request_url = \"https://tw.stock.yahoo.com/d/i/rank.php\"\n",
    "    query_str_params = {\n",
    "        't': 'pri',\n",
    "        'e': 'TAI',\n",
    "        'n': 100\n",
    "    }\n",
    "    response = requests.get(request_url, params=query_str_params)\n",
    "    soup = BeautifulSoup(response.text)\n",
    "    tickers = [e.text.split(\" \")[0] for e in soup.select('.name a')]\n",
    "    names = [e.text.split(\" \")[1] for e in soup.select('.name a')]\n",
    "    prices = [float(e.text) for e in soup.select('.name+ td')]\n",
    "    return tickers, names, prices"
   ]
  },
  {
   "cell_type": "code",
   "execution_count": 8,
   "metadata": {
    "slideshow": {
     "slide_type": "subslide"
    }
   },
   "outputs": [
    {
     "name": "stdout",
     "output_type": "stream",
     "text": [
      "['6415', '5269', '6409', '6669', '8454']\n",
      "['矽力-KY', '祥碩', '旭隼', '緯穎', '富邦媒']\n",
      "[1900.0, 1775.0, 999.0, 796.0, 720.0]\n"
     ]
    }
   ],
   "source": [
    "tickers, names, prices = get_top_ranked()\n",
    "# 顯示前五筆\n",
    "print(tickers[:5])\n",
    "print(names[:5])\n",
    "print(prices[:5])"
   ]
  },
  {
   "cell_type": "markdown",
   "metadata": {
    "slideshow": {
     "slide_type": "subslide"
    }
   },
   "source": [
    "## 用 DataFrame 呈現會更一目暸然"
   ]
  },
  {
   "cell_type": "code",
   "execution_count": 9,
   "metadata": {},
   "outputs": [],
   "source": [
    "top_ranked = pd.DataFrame()\n",
    "top_ranked['ticker'] = tickers\n",
    "top_ranked['name'] = names\n",
    "top_ranked['price'] = prices"
   ]
  },
  {
   "cell_type": "code",
   "execution_count": 10,
   "metadata": {
    "slideshow": {
     "slide_type": "subslide"
    }
   },
   "outputs": [
    {
     "data": {
      "text/html": [
       "<div>\n",
       "<style scoped>\n",
       "    .dataframe tbody tr th:only-of-type {\n",
       "        vertical-align: middle;\n",
       "    }\n",
       "\n",
       "    .dataframe tbody tr th {\n",
       "        vertical-align: top;\n",
       "    }\n",
       "\n",
       "    .dataframe thead th {\n",
       "        text-align: right;\n",
       "    }\n",
       "</style>\n",
       "<table border=\"1\" class=\"dataframe\">\n",
       "  <thead>\n",
       "    <tr style=\"text-align: right;\">\n",
       "      <th></th>\n",
       "      <th>ticker</th>\n",
       "      <th>name</th>\n",
       "      <th>price</th>\n",
       "    </tr>\n",
       "  </thead>\n",
       "  <tbody>\n",
       "    <tr>\n",
       "      <th>0</th>\n",
       "      <td>6415</td>\n",
       "      <td>矽力-KY</td>\n",
       "      <td>1900.0</td>\n",
       "    </tr>\n",
       "    <tr>\n",
       "      <th>1</th>\n",
       "      <td>5269</td>\n",
       "      <td>祥碩</td>\n",
       "      <td>1775.0</td>\n",
       "    </tr>\n",
       "    <tr>\n",
       "      <th>2</th>\n",
       "      <td>6409</td>\n",
       "      <td>旭隼</td>\n",
       "      <td>999.0</td>\n",
       "    </tr>\n",
       "    <tr>\n",
       "      <th>3</th>\n",
       "      <td>6669</td>\n",
       "      <td>緯穎</td>\n",
       "      <td>796.0</td>\n",
       "    </tr>\n",
       "    <tr>\n",
       "      <th>4</th>\n",
       "      <td>8454</td>\n",
       "      <td>富邦媒</td>\n",
       "      <td>720.0</td>\n",
       "    </tr>\n",
       "  </tbody>\n",
       "</table>\n",
       "</div>"
      ],
      "text/plain": [
       "  ticker   name   price\n",
       "0   6415  矽力-KY  1900.0\n",
       "1   5269     祥碩  1775.0\n",
       "2   6409     旭隼   999.0\n",
       "3   6669     緯穎   796.0\n",
       "4   8454    富邦媒   720.0"
      ]
     },
     "execution_count": 10,
     "metadata": {},
     "output_type": "execute_result"
    }
   ],
   "source": [
    "top_ranked.head()"
   ]
  },
  {
   "cell_type": "markdown",
   "metadata": {
    "slideshow": {
     "slide_type": "subslide"
    }
   },
   "source": [
    "## 剔除在開曼群島註冊的股票\n",
    "\n",
    "利用 `Series` 的 `str.contains()` 方法剔除名稱中有 KY 的股票。"
   ]
  },
  {
   "cell_type": "code",
   "execution_count": 11,
   "metadata": {
    "slideshow": {
     "slide_type": "subslide"
    }
   },
   "outputs": [
    {
     "data": {
      "text/plain": [
       "(21, 3)"
      ]
     },
     "execution_count": 11,
     "metadata": {},
     "output_type": "execute_result"
    }
   ],
   "source": [
    "top_ranked[top_ranked['name'].str.contains('KY')].shape # Registered in Cayman"
   ]
  },
  {
   "cell_type": "code",
   "execution_count": 12,
   "metadata": {
    "slideshow": {
     "slide_type": "subslide"
    }
   },
   "outputs": [
    {
     "data": {
      "text/plain": [
       "(79, 3)"
      ]
     },
     "execution_count": 12,
     "metadata": {},
     "output_type": "execute_result"
    }
   ],
   "source": [
    "top_ranked = top_ranked[~top_ranked['name'].str.contains('KY')] # Not registered in Cayman\n",
    "top_ranked = top_ranked.reset_index(drop=True)\n",
    "top_ranked.shape"
   ]
  },
  {
   "cell_type": "markdown",
   "metadata": {
    "slideshow": {
     "slide_type": "subslide"
    }
   },
   "source": [
    "## 剔除指數\n",
    "\n",
    "指數的前兩位代碼為 `00`"
   ]
  },
  {
   "cell_type": "code",
   "execution_count": 13,
   "metadata": {},
   "outputs": [
    {
     "data": {
      "text/html": [
       "<div>\n",
       "<style scoped>\n",
       "    .dataframe tbody tr th:only-of-type {\n",
       "        vertical-align: middle;\n",
       "    }\n",
       "\n",
       "    .dataframe tbody tr th {\n",
       "        vertical-align: top;\n",
       "    }\n",
       "\n",
       "    .dataframe thead th {\n",
       "        text-align: right;\n",
       "    }\n",
       "</style>\n",
       "<table border=\"1\" class=\"dataframe\">\n",
       "  <thead>\n",
       "    <tr style=\"text-align: right;\">\n",
       "      <th></th>\n",
       "      <th>ticker</th>\n",
       "      <th>name</th>\n",
       "      <th>price</th>\n",
       "    </tr>\n",
       "  </thead>\n",
       "  <tbody>\n",
       "    <tr>\n",
       "      <th>74</th>\n",
       "      <td>008201</td>\n",
       "      <td>BP上證50</td>\n",
       "      <td>117.25</td>\n",
       "    </tr>\n",
       "  </tbody>\n",
       "</table>\n",
       "</div>"
      ],
      "text/plain": [
       "    ticker    name   price\n",
       "74  008201  BP上證50  117.25"
      ]
     },
     "execution_count": 13,
     "metadata": {},
     "output_type": "execute_result"
    }
   ],
   "source": [
    "top_ranked[top_ranked['ticker'].str.slice(start=0, stop=2) == '00'] # 指數"
   ]
  },
  {
   "cell_type": "code",
   "execution_count": 14,
   "metadata": {
    "slideshow": {
     "slide_type": "subslide"
    }
   },
   "outputs": [
    {
     "data": {
      "text/html": [
       "<div>\n",
       "<style scoped>\n",
       "    .dataframe tbody tr th:only-of-type {\n",
       "        vertical-align: middle;\n",
       "    }\n",
       "\n",
       "    .dataframe tbody tr th {\n",
       "        vertical-align: top;\n",
       "    }\n",
       "\n",
       "    .dataframe thead th {\n",
       "        text-align: right;\n",
       "    }\n",
       "</style>\n",
       "<table border=\"1\" class=\"dataframe\">\n",
       "  <thead>\n",
       "    <tr style=\"text-align: right;\">\n",
       "      <th></th>\n",
       "      <th>ticker</th>\n",
       "      <th>name</th>\n",
       "      <th>price</th>\n",
       "    </tr>\n",
       "  </thead>\n",
       "  <tbody>\n",
       "    <tr>\n",
       "      <th>0</th>\n",
       "      <td>5269</td>\n",
       "      <td>祥碩</td>\n",
       "      <td>1775.0</td>\n",
       "    </tr>\n",
       "    <tr>\n",
       "      <th>1</th>\n",
       "      <td>6409</td>\n",
       "      <td>旭隼</td>\n",
       "      <td>999.0</td>\n",
       "    </tr>\n",
       "    <tr>\n",
       "      <th>2</th>\n",
       "      <td>6669</td>\n",
       "      <td>緯穎</td>\n",
       "      <td>796.0</td>\n",
       "    </tr>\n",
       "    <tr>\n",
       "      <th>3</th>\n",
       "      <td>8454</td>\n",
       "      <td>富邦媒</td>\n",
       "      <td>720.0</td>\n",
       "    </tr>\n",
       "    <tr>\n",
       "      <th>4</th>\n",
       "      <td>2207</td>\n",
       "      <td>和泰車</td>\n",
       "      <td>614.0</td>\n",
       "    </tr>\n",
       "    <tr>\n",
       "      <th>...</th>\n",
       "      <td>...</td>\n",
       "      <td>...</td>\n",
       "      <td>...</td>\n",
       "    </tr>\n",
       "    <tr>\n",
       "      <th>73</th>\n",
       "      <td>2428</td>\n",
       "      <td>興勤</td>\n",
       "      <td>117.5</td>\n",
       "    </tr>\n",
       "    <tr>\n",
       "      <th>74</th>\n",
       "      <td>6464</td>\n",
       "      <td>台數科</td>\n",
       "      <td>116.5</td>\n",
       "    </tr>\n",
       "    <tr>\n",
       "      <th>75</th>\n",
       "      <td>9958</td>\n",
       "      <td>世紀鋼</td>\n",
       "      <td>113.5</td>\n",
       "    </tr>\n",
       "    <tr>\n",
       "      <th>76</th>\n",
       "      <td>6176</td>\n",
       "      <td>瑞儀</td>\n",
       "      <td>112.0</td>\n",
       "    </tr>\n",
       "    <tr>\n",
       "      <th>77</th>\n",
       "      <td>5283</td>\n",
       "      <td>禾聯碩</td>\n",
       "      <td>109.5</td>\n",
       "    </tr>\n",
       "  </tbody>\n",
       "</table>\n",
       "<p>78 rows × 3 columns</p>\n",
       "</div>"
      ],
      "text/plain": [
       "   ticker name   price\n",
       "0    5269   祥碩  1775.0\n",
       "1    6409   旭隼   999.0\n",
       "2    6669   緯穎   796.0\n",
       "3    8454  富邦媒   720.0\n",
       "4    2207  和泰車   614.0\n",
       "..    ...  ...     ...\n",
       "73   2428   興勤   117.5\n",
       "74   6464  台數科   116.5\n",
       "75   9958  世紀鋼   113.5\n",
       "76   6176   瑞儀   112.0\n",
       "77   5283  禾聯碩   109.5\n",
       "\n",
       "[78 rows x 3 columns]"
      ]
     },
     "execution_count": 14,
     "metadata": {},
     "output_type": "execute_result"
    }
   ],
   "source": [
    "top_ranked = top_ranked[top_ranked['ticker'].str.slice(start=0, stop=2) != '00'] # 非指數\n",
    "top_ranked = top_ranked.reset_index(drop=True)\n",
    "top_ranked"
   ]
  },
  {
   "cell_type": "markdown",
   "metadata": {
    "slideshow": {
     "slide_type": "subslide"
    }
   },
   "source": [
    "## 取得上市時間\n",
    "\n",
    "- 使用 `requests` 的 `get()` 函式發送 HTTP GET 請求\n",
    "- 使用 `bs4` 的 `BeautifulSoup()` 函式解析 HTML 文件\n",
    "- 使用 CSS 選擇器選出上市時間"
   ]
  },
  {
   "cell_type": "code",
   "execution_count": 15,
   "metadata": {
    "slideshow": {
     "slide_type": "subslide"
    }
   },
   "outputs": [],
   "source": [
    "def get_list_date(ticker):\n",
    "    request_url = \"https://tw.stock.yahoo.com/d/s/company_{}.html\".format(ticker)\n",
    "    response = requests.get(request_url)\n",
    "    soup = BeautifulSoup(response.text)\n",
    "    list_date = soup.select('table:nth-child(1) tr:nth-child(4) td:nth-child(2)')[0].text\n",
    "    list_year, list_month, list_day = list_date.split(\"/\")\n",
    "    list_year = int(list_year) + 1911\n",
    "    list_date = \"{}-{}-{}\".format(list_year, list_month, list_day)\n",
    "    return list_date"
   ]
  },
  {
   "cell_type": "code",
   "execution_count": 16,
   "metadata": {
    "slideshow": {
     "slide_type": "subslide"
    }
   },
   "outputs": [],
   "source": [
    "list_dates = [get_list_date(t) for t in top_ranked['ticker'].values]\n",
    "top_ranked = top_ranked.reset_index(drop=True)\n",
    "top_ranked['list_date'] = list_dates"
   ]
  },
  {
   "cell_type": "code",
   "execution_count": 17,
   "metadata": {
    "slideshow": {
     "slide_type": "subslide"
    }
   },
   "outputs": [
    {
     "data": {
      "text/html": [
       "<div>\n",
       "<style scoped>\n",
       "    .dataframe tbody tr th:only-of-type {\n",
       "        vertical-align: middle;\n",
       "    }\n",
       "\n",
       "    .dataframe tbody tr th {\n",
       "        vertical-align: top;\n",
       "    }\n",
       "\n",
       "    .dataframe thead th {\n",
       "        text-align: right;\n",
       "    }\n",
       "</style>\n",
       "<table border=\"1\" class=\"dataframe\">\n",
       "  <thead>\n",
       "    <tr style=\"text-align: right;\">\n",
       "      <th></th>\n",
       "      <th>ticker</th>\n",
       "      <th>name</th>\n",
       "      <th>price</th>\n",
       "      <th>list_date</th>\n",
       "    </tr>\n",
       "  </thead>\n",
       "  <tbody>\n",
       "    <tr>\n",
       "      <th>0</th>\n",
       "      <td>5269</td>\n",
       "      <td>祥碩</td>\n",
       "      <td>1775.0</td>\n",
       "      <td>2012-12-12</td>\n",
       "    </tr>\n",
       "    <tr>\n",
       "      <th>1</th>\n",
       "      <td>6409</td>\n",
       "      <td>旭隼</td>\n",
       "      <td>999.0</td>\n",
       "      <td>2014-03-31</td>\n",
       "    </tr>\n",
       "    <tr>\n",
       "      <th>2</th>\n",
       "      <td>6669</td>\n",
       "      <td>緯穎</td>\n",
       "      <td>796.0</td>\n",
       "      <td>2019-03-27</td>\n",
       "    </tr>\n",
       "    <tr>\n",
       "      <th>3</th>\n",
       "      <td>8454</td>\n",
       "      <td>富邦媒</td>\n",
       "      <td>720.0</td>\n",
       "      <td>2014-12-19</td>\n",
       "    </tr>\n",
       "    <tr>\n",
       "      <th>4</th>\n",
       "      <td>2207</td>\n",
       "      <td>和泰車</td>\n",
       "      <td>614.0</td>\n",
       "      <td>1997-02-25</td>\n",
       "    </tr>\n",
       "  </tbody>\n",
       "</table>\n",
       "</div>"
      ],
      "text/plain": [
       "  ticker name   price   list_date\n",
       "0   5269   祥碩  1775.0  2012-12-12\n",
       "1   6409   旭隼   999.0  2014-03-31\n",
       "2   6669   緯穎   796.0  2019-03-27\n",
       "3   8454  富邦媒   720.0  2014-12-19\n",
       "4   2207  和泰車   614.0  1997-02-25"
      ]
     },
     "execution_count": 17,
     "metadata": {},
     "output_type": "execute_result"
    }
   ],
   "source": [
    "top_ranked.head()"
   ]
  },
  {
   "cell_type": "markdown",
   "metadata": {
    "slideshow": {
     "slide_type": "subslide"
    }
   },
   "source": [
    "## 計算上市時間是否超過兩年\n",
    "\n",
    "- 使用 `datetime` 標準套件獲得今天日期\n",
    "- 今天日期減去上市時間可得上市天數"
   ]
  },
  {
   "cell_type": "code",
   "execution_count": 18,
   "metadata": {},
   "outputs": [
    {
     "name": "stdout",
     "output_type": "stream",
     "text": [
      "2020-08-26\n"
     ]
    }
   ],
   "source": [
    "from datetime import date\n",
    "\n",
    "today = date.today()\n",
    "today_str = today.strftime('%Y-%m-%d')\n",
    "print(today_str)"
   ]
  },
  {
   "cell_type": "code",
   "execution_count": 19,
   "metadata": {
    "slideshow": {
     "slide_type": "subslide"
    }
   },
   "outputs": [
    {
     "name": "stdout",
     "output_type": "stream",
     "text": [
      "0     2814\n",
      "1     2340\n",
      "2      518\n",
      "3     2077\n",
      "4     8583\n",
      "      ... \n",
      "73    7289\n",
      "74    1715\n",
      "75    4550\n",
      "76    6694\n",
      "77     460\n",
      "Name: list_date, Length: 78, dtype: int64\n"
     ]
    }
   ],
   "source": [
    "delta_days = pd.to_datetime(today_str) - pd.to_datetime(top_ranked['list_date'])\n",
    "list_days = delta_days.dt.days\n",
    "print(list_days)"
   ]
  },
  {
   "cell_type": "code",
   "execution_count": 20,
   "metadata": {
    "slideshow": {
     "slide_type": "subslide"
    }
   },
   "outputs": [
    {
     "data": {
      "text/plain": [
       "0      True\n",
       "1      True\n",
       "2     False\n",
       "3      True\n",
       "4      True\n",
       "      ...  \n",
       "73     True\n",
       "74     True\n",
       "75     True\n",
       "76     True\n",
       "77    False\n",
       "Name: list_date, Length: 78, dtype: bool"
      ]
     },
     "execution_count": 20,
     "metadata": {},
     "output_type": "execute_result"
    }
   ],
   "source": [
    "list_days // 365 >= 2"
   ]
  },
  {
   "cell_type": "markdown",
   "metadata": {
    "slideshow": {
     "slide_type": "subslide"
    }
   },
   "source": [
    "## 剔除上市時間未超過兩年"
   ]
  },
  {
   "cell_type": "code",
   "execution_count": 21,
   "metadata": {},
   "outputs": [
    {
     "data": {
      "text/html": [
       "<div>\n",
       "<style scoped>\n",
       "    .dataframe tbody tr th:only-of-type {\n",
       "        vertical-align: middle;\n",
       "    }\n",
       "\n",
       "    .dataframe tbody tr th {\n",
       "        vertical-align: top;\n",
       "    }\n",
       "\n",
       "    .dataframe thead th {\n",
       "        text-align: right;\n",
       "    }\n",
       "</style>\n",
       "<table border=\"1\" class=\"dataframe\">\n",
       "  <thead>\n",
       "    <tr style=\"text-align: right;\">\n",
       "      <th></th>\n",
       "      <th>ticker</th>\n",
       "      <th>name</th>\n",
       "      <th>price</th>\n",
       "      <th>list_date</th>\n",
       "    </tr>\n",
       "  </thead>\n",
       "  <tbody>\n",
       "    <tr>\n",
       "      <th>2</th>\n",
       "      <td>6669</td>\n",
       "      <td>緯穎</td>\n",
       "      <td>796.0</td>\n",
       "      <td>2019-03-27</td>\n",
       "    </tr>\n",
       "    <tr>\n",
       "      <th>32</th>\n",
       "      <td>6491</td>\n",
       "      <td>晶碩</td>\n",
       "      <td>187.0</td>\n",
       "      <td>2019-10-07</td>\n",
       "    </tr>\n",
       "    <tr>\n",
       "      <th>39</th>\n",
       "      <td>6670</td>\n",
       "      <td>復盛應用</td>\n",
       "      <td>167.0</td>\n",
       "      <td>2018-12-18</td>\n",
       "    </tr>\n",
       "    <tr>\n",
       "      <th>45</th>\n",
       "      <td>6706</td>\n",
       "      <td>惠特</td>\n",
       "      <td>156.5</td>\n",
       "      <td>2019-12-19</td>\n",
       "    </tr>\n",
       "    <tr>\n",
       "      <th>49</th>\n",
       "      <td>6715</td>\n",
       "      <td>嘉基</td>\n",
       "      <td>143.0</td>\n",
       "      <td>2019-12-12</td>\n",
       "    </tr>\n",
       "    <tr>\n",
       "      <th>61</th>\n",
       "      <td>4766</td>\n",
       "      <td>南寶</td>\n",
       "      <td>128.5</td>\n",
       "      <td>2018-11-28</td>\n",
       "    </tr>\n",
       "    <tr>\n",
       "      <th>77</th>\n",
       "      <td>5283</td>\n",
       "      <td>禾聯碩</td>\n",
       "      <td>109.5</td>\n",
       "      <td>2019-05-24</td>\n",
       "    </tr>\n",
       "  </tbody>\n",
       "</table>\n",
       "</div>"
      ],
      "text/plain": [
       "   ticker  name  price   list_date\n",
       "2    6669    緯穎  796.0  2019-03-27\n",
       "32   6491    晶碩  187.0  2019-10-07\n",
       "39   6670  復盛應用  167.0  2018-12-18\n",
       "45   6706    惠特  156.5  2019-12-19\n",
       "49   6715    嘉基  143.0  2019-12-12\n",
       "61   4766    南寶  128.5  2018-11-28\n",
       "77   5283   禾聯碩  109.5  2019-05-24"
      ]
     },
     "execution_count": 21,
     "metadata": {},
     "output_type": "execute_result"
    }
   ],
   "source": [
    "top_ranked[list_days // 365 < 2]"
   ]
  },
  {
   "cell_type": "code",
   "execution_count": 22,
   "metadata": {
    "slideshow": {
     "slide_type": "subslide"
    }
   },
   "outputs": [
    {
     "data": {
      "text/html": [
       "<div>\n",
       "<style scoped>\n",
       "    .dataframe tbody tr th:only-of-type {\n",
       "        vertical-align: middle;\n",
       "    }\n",
       "\n",
       "    .dataframe tbody tr th {\n",
       "        vertical-align: top;\n",
       "    }\n",
       "\n",
       "    .dataframe thead th {\n",
       "        text-align: right;\n",
       "    }\n",
       "</style>\n",
       "<table border=\"1\" class=\"dataframe\">\n",
       "  <thead>\n",
       "    <tr style=\"text-align: right;\">\n",
       "      <th></th>\n",
       "      <th>ticker</th>\n",
       "      <th>name</th>\n",
       "      <th>price</th>\n",
       "      <th>list_date</th>\n",
       "    </tr>\n",
       "  </thead>\n",
       "  <tbody>\n",
       "    <tr>\n",
       "      <th>0</th>\n",
       "      <td>5269</td>\n",
       "      <td>祥碩</td>\n",
       "      <td>1775.0</td>\n",
       "      <td>2012-12-12</td>\n",
       "    </tr>\n",
       "    <tr>\n",
       "      <th>1</th>\n",
       "      <td>6409</td>\n",
       "      <td>旭隼</td>\n",
       "      <td>999.0</td>\n",
       "      <td>2014-03-31</td>\n",
       "    </tr>\n",
       "    <tr>\n",
       "      <th>2</th>\n",
       "      <td>8454</td>\n",
       "      <td>富邦媒</td>\n",
       "      <td>720.0</td>\n",
       "      <td>2014-12-19</td>\n",
       "    </tr>\n",
       "    <tr>\n",
       "      <th>3</th>\n",
       "      <td>2207</td>\n",
       "      <td>和泰車</td>\n",
       "      <td>614.0</td>\n",
       "      <td>1997-02-25</td>\n",
       "    </tr>\n",
       "    <tr>\n",
       "      <th>4</th>\n",
       "      <td>2454</td>\n",
       "      <td>聯發科</td>\n",
       "      <td>578.0</td>\n",
       "      <td>2001-07-23</td>\n",
       "    </tr>\n",
       "    <tr>\n",
       "      <th>...</th>\n",
       "      <td>...</td>\n",
       "      <td>...</td>\n",
       "      <td>...</td>\n",
       "      <td>...</td>\n",
       "    </tr>\n",
       "    <tr>\n",
       "      <th>66</th>\n",
       "      <td>1598</td>\n",
       "      <td>岱宇</td>\n",
       "      <td>118.0</td>\n",
       "      <td>2016-09-20</td>\n",
       "    </tr>\n",
       "    <tr>\n",
       "      <th>67</th>\n",
       "      <td>2428</td>\n",
       "      <td>興勤</td>\n",
       "      <td>117.5</td>\n",
       "      <td>2000-09-11</td>\n",
       "    </tr>\n",
       "    <tr>\n",
       "      <th>68</th>\n",
       "      <td>6464</td>\n",
       "      <td>台數科</td>\n",
       "      <td>116.5</td>\n",
       "      <td>2015-12-16</td>\n",
       "    </tr>\n",
       "    <tr>\n",
       "      <th>69</th>\n",
       "      <td>9958</td>\n",
       "      <td>世紀鋼</td>\n",
       "      <td>113.5</td>\n",
       "      <td>2008-03-12</td>\n",
       "    </tr>\n",
       "    <tr>\n",
       "      <th>70</th>\n",
       "      <td>6176</td>\n",
       "      <td>瑞儀</td>\n",
       "      <td>112.0</td>\n",
       "      <td>2002-04-29</td>\n",
       "    </tr>\n",
       "  </tbody>\n",
       "</table>\n",
       "<p>71 rows × 4 columns</p>\n",
       "</div>"
      ],
      "text/plain": [
       "   ticker name   price   list_date\n",
       "0    5269   祥碩  1775.0  2012-12-12\n",
       "1    6409   旭隼   999.0  2014-03-31\n",
       "2    8454  富邦媒   720.0  2014-12-19\n",
       "3    2207  和泰車   614.0  1997-02-25\n",
       "4    2454  聯發科   578.0  2001-07-23\n",
       "..    ...  ...     ...         ...\n",
       "66   1598   岱宇   118.0  2016-09-20\n",
       "67   2428   興勤   117.5  2000-09-11\n",
       "68   6464  台數科   116.5  2015-12-16\n",
       "69   9958  世紀鋼   113.5  2008-03-12\n",
       "70   6176   瑞儀   112.0  2002-04-29\n",
       "\n",
       "[71 rows x 4 columns]"
      ]
     },
     "execution_count": 22,
     "metadata": {},
     "output_type": "execute_result"
    }
   ],
   "source": [
    "top_ranked = top_ranked[list_days // 365 >= 2]\n",
    "top_ranked = top_ranked.reset_index(drop=True)\n",
    "top_ranked"
   ]
  },
  {
   "cell_type": "markdown",
   "metadata": {
    "slideshow": {
     "slide_type": "subslide"
    }
   },
   "source": [
    "## 取得近四年每股盈餘\n",
    "\n",
    "- 使用 `requests` 的 `get()` 函式發送 HTTP GET 請求\n",
    "- 使用 `bs4` 的 `BeautifulSoup()` 函式解析 HTML 文件\n",
    "- 使用 CSS 選擇器選出近四年每股盈餘"
   ]
  },
  {
   "cell_type": "code",
   "execution_count": 23,
   "metadata": {
    "slideshow": {
     "slide_type": "subslide"
    }
   },
   "outputs": [],
   "source": [
    "def get_recent_eps(ticker):\n",
    "    request_url = \"https://tw.stock.yahoo.com/d/s/company_{}.html\".format(ticker)\n",
    "    response = requests.get(request_url)\n",
    "    soup = BeautifulSoup(response.text)\n",
    "    recent_eps = [float(e.text.replace('元', '')) for e in soup.select('td:nth-child(6)')]\n",
    "    return np.array(recent_eps)"
   ]
  },
  {
   "cell_type": "markdown",
   "metadata": {
    "slideshow": {
     "slide_type": "subslide"
    }
   },
   "source": [
    "## 保留近四年每股盈餘皆為正"
   ]
  },
  {
   "cell_type": "code",
   "execution_count": 24,
   "metadata": {
    "slideshow": {
     "slide_type": "-"
    }
   },
   "outputs": [],
   "source": [
    "recent_eps_is_positive = []\n",
    "for ticker in top_ranked['ticker'].values:\n",
    "    recent_eps = get_recent_eps(ticker)\n",
    "    n_negatives = (recent_eps <= 0).sum()\n",
    "    recent_eps_is_positive.append(n_negatives == 0)\n",
    "top_ranked['positive_eps'] = recent_eps_is_positive"
   ]
  },
  {
   "cell_type": "code",
   "execution_count": 25,
   "metadata": {
    "slideshow": {
     "slide_type": "subslide"
    }
   },
   "outputs": [
    {
     "data": {
      "text/html": [
       "<div>\n",
       "<style scoped>\n",
       "    .dataframe tbody tr th:only-of-type {\n",
       "        vertical-align: middle;\n",
       "    }\n",
       "\n",
       "    .dataframe tbody tr th {\n",
       "        vertical-align: top;\n",
       "    }\n",
       "\n",
       "    .dataframe thead th {\n",
       "        text-align: right;\n",
       "    }\n",
       "</style>\n",
       "<table border=\"1\" class=\"dataframe\">\n",
       "  <thead>\n",
       "    <tr style=\"text-align: right;\">\n",
       "      <th></th>\n",
       "      <th>ticker</th>\n",
       "      <th>name</th>\n",
       "      <th>price</th>\n",
       "      <th>list_date</th>\n",
       "      <th>positive_eps</th>\n",
       "    </tr>\n",
       "  </thead>\n",
       "  <tbody>\n",
       "    <tr>\n",
       "      <th>0</th>\n",
       "      <td>5269</td>\n",
       "      <td>祥碩</td>\n",
       "      <td>1775.0</td>\n",
       "      <td>2012-12-12</td>\n",
       "      <td>True</td>\n",
       "    </tr>\n",
       "    <tr>\n",
       "      <th>1</th>\n",
       "      <td>6409</td>\n",
       "      <td>旭隼</td>\n",
       "      <td>999.0</td>\n",
       "      <td>2014-03-31</td>\n",
       "      <td>True</td>\n",
       "    </tr>\n",
       "    <tr>\n",
       "      <th>2</th>\n",
       "      <td>8454</td>\n",
       "      <td>富邦媒</td>\n",
       "      <td>720.0</td>\n",
       "      <td>2014-12-19</td>\n",
       "      <td>True</td>\n",
       "    </tr>\n",
       "    <tr>\n",
       "      <th>3</th>\n",
       "      <td>2207</td>\n",
       "      <td>和泰車</td>\n",
       "      <td>614.0</td>\n",
       "      <td>1997-02-25</td>\n",
       "      <td>True</td>\n",
       "    </tr>\n",
       "    <tr>\n",
       "      <th>4</th>\n",
       "      <td>2454</td>\n",
       "      <td>聯發科</td>\n",
       "      <td>578.0</td>\n",
       "      <td>2001-07-23</td>\n",
       "      <td>True</td>\n",
       "    </tr>\n",
       "    <tr>\n",
       "      <th>...</th>\n",
       "      <td>...</td>\n",
       "      <td>...</td>\n",
       "      <td>...</td>\n",
       "      <td>...</td>\n",
       "      <td>...</td>\n",
       "    </tr>\n",
       "    <tr>\n",
       "      <th>62</th>\n",
       "      <td>4438</td>\n",
       "      <td>廣越</td>\n",
       "      <td>118.5</td>\n",
       "      <td>2016-10-18</td>\n",
       "      <td>True</td>\n",
       "    </tr>\n",
       "    <tr>\n",
       "      <th>63</th>\n",
       "      <td>2428</td>\n",
       "      <td>興勤</td>\n",
       "      <td>117.5</td>\n",
       "      <td>2000-09-11</td>\n",
       "      <td>True</td>\n",
       "    </tr>\n",
       "    <tr>\n",
       "      <th>64</th>\n",
       "      <td>6464</td>\n",
       "      <td>台數科</td>\n",
       "      <td>116.5</td>\n",
       "      <td>2015-12-16</td>\n",
       "      <td>True</td>\n",
       "    </tr>\n",
       "    <tr>\n",
       "      <th>65</th>\n",
       "      <td>9958</td>\n",
       "      <td>世紀鋼</td>\n",
       "      <td>113.5</td>\n",
       "      <td>2008-03-12</td>\n",
       "      <td>True</td>\n",
       "    </tr>\n",
       "    <tr>\n",
       "      <th>66</th>\n",
       "      <td>6176</td>\n",
       "      <td>瑞儀</td>\n",
       "      <td>112.0</td>\n",
       "      <td>2002-04-29</td>\n",
       "      <td>True</td>\n",
       "    </tr>\n",
       "  </tbody>\n",
       "</table>\n",
       "<p>67 rows × 5 columns</p>\n",
       "</div>"
      ],
      "text/plain": [
       "   ticker name   price   list_date  positive_eps\n",
       "0    5269   祥碩  1775.0  2012-12-12          True\n",
       "1    6409   旭隼   999.0  2014-03-31          True\n",
       "2    8454  富邦媒   720.0  2014-12-19          True\n",
       "3    2207  和泰車   614.0  1997-02-25          True\n",
       "4    2454  聯發科   578.0  2001-07-23          True\n",
       "..    ...  ...     ...         ...           ...\n",
       "62   4438   廣越   118.5  2016-10-18          True\n",
       "63   2428   興勤   117.5  2000-09-11          True\n",
       "64   6464  台數科   116.5  2015-12-16          True\n",
       "65   9958  世紀鋼   113.5  2008-03-12          True\n",
       "66   6176   瑞儀   112.0  2002-04-29          True\n",
       "\n",
       "[67 rows x 5 columns]"
      ]
     },
     "execution_count": 25,
     "metadata": {},
     "output_type": "execute_result"
    }
   ],
   "source": [
    "top_ranked = top_ranked[top_ranked['positive_eps']]\n",
    "top_ranked = top_ranked.reset_index(drop=True)\n",
    "top_ranked"
   ]
  },
  {
   "cell_type": "markdown",
   "metadata": {
    "slideshow": {
     "slide_type": "subslide"
    }
   },
   "source": [
    "## 取得近三個月營收年增率\n",
    "\n",
    "- 使用 `requests` 的 `get()` 函式發送 HTTP GET 請求\n",
    "- 使用 `bs4` 的 `BeautifulSoup()` 函式解析 HTML 文件\n",
    "- 使用 CSS 選擇器選出近三個月營收年增率"
   ]
  },
  {
   "cell_type": "code",
   "execution_count": 26,
   "metadata": {
    "slideshow": {
     "slide_type": "subslide"
    }
   },
   "outputs": [],
   "source": [
    "def get_recent_sales_yoy(ticker):\n",
    "    request_url = \"https://tw.stock.yahoo.com/d/s/earning_{}.html\".format(ticker)\n",
    "    response = requests.get(request_url)\n",
    "    soup = BeautifulSoup(response.text)\n",
    "    recent_sales_yoy = [float(e.text.replace('%', '')) for e in soup.select('td td tr~ tr+ tr .ttt:nth-child(6)') if len(e.text) > 1]\n",
    "    recent_sales_yoy = recent_sales_yoy[-3:]\n",
    "    return np.array(recent_sales_yoy)"
   ]
  },
  {
   "cell_type": "markdown",
   "metadata": {
    "slideshow": {
     "slide_type": "subslide"
    }
   },
   "source": [
    "## 保留近三個月營收年增率皆為正"
   ]
  },
  {
   "cell_type": "code",
   "execution_count": 27,
   "metadata": {},
   "outputs": [],
   "source": [
    "recent_sales_yoy_is_positive = []\n",
    "for ticker in top_ranked['ticker'].values:\n",
    "    recent_sales_yoy = get_recent_sales_yoy(ticker)\n",
    "    n_negatives = (recent_sales_yoy <= 0).sum()\n",
    "    recent_sales_yoy_is_positive.append(n_negatives == 0)\n",
    "top_ranked['positive_sales_yoy'] = recent_sales_yoy_is_positive"
   ]
  },
  {
   "cell_type": "code",
   "execution_count": 28,
   "metadata": {
    "slideshow": {
     "slide_type": "subslide"
    }
   },
   "outputs": [
    {
     "data": {
      "text/plain": [
       "(31, 6)"
      ]
     },
     "execution_count": 28,
     "metadata": {},
     "output_type": "execute_result"
    }
   ],
   "source": [
    "top_ranked = top_ranked[top_ranked['positive_sales_yoy']]\n",
    "top_ranked = top_ranked.reset_index(drop=True)\n",
    "top_ranked.shape"
   ]
  },
  {
   "cell_type": "markdown",
   "metadata": {
    "slideshow": {
     "slide_type": "subslide"
    }
   },
   "source": [
    "## 取得近五年自由現金流\n",
    "\n",
    "- 使用 `requests` 的 `get()` 函式發送 HTTP GET 請求\n",
    "- 使用 `json` 解析 JSON 文件"
   ]
  },
  {
   "cell_type": "code",
   "execution_count": 29,
   "metadata": {},
   "outputs": [],
   "source": [
    "def get_yearly_free_cashflows(ticker):\n",
    "    request_url = \"https://statementdog.com/api/v1/fundamentals/{}/2015/1/2020/4/cf\".format(ticker)\n",
    "    query_str_params = {\n",
    "        'qbu': 'true',\n",
    "        'qf': 'analysis'\n",
    "    }\n",
    "    response = requests.get(request_url, params=query_str_params)\n",
    "    response_json = response.json()\n",
    "    yearly_free_cashflows = [float(i[1]) for i in response_json['yearly']['FreeCashFlow']['data']] # Yearly free cashflow\n",
    "    return np.array(yearly_free_cashflows)"
   ]
  },
  {
   "cell_type": "markdown",
   "metadata": {
    "slideshow": {
     "slide_type": "subslide"
    }
   },
   "source": [
    "## 保留近五年自由現金流皆為正"
   ]
  },
  {
   "cell_type": "code",
   "execution_count": 30,
   "metadata": {},
   "outputs": [],
   "source": [
    "yearly_free_cashflow_is_positive = []\n",
    "for ticker in top_ranked['ticker'].values:\n",
    "    yearly_free_cashflow = get_yearly_free_cashflows(ticker)\n",
    "    n_negatives = (yearly_free_cashflow <= 0).sum()\n",
    "    yearly_free_cashflow_is_positive.append(n_negatives == 0)\n",
    "top_ranked['positive_free_cashflow'] = yearly_free_cashflow_is_positive"
   ]
  },
  {
   "cell_type": "code",
   "execution_count": 31,
   "metadata": {
    "slideshow": {
     "slide_type": "subslide"
    }
   },
   "outputs": [
    {
     "data": {
      "text/plain": [
       "(18, 7)"
      ]
     },
     "execution_count": 31,
     "metadata": {},
     "output_type": "execute_result"
    }
   ],
   "source": [
    "top_ranked = top_ranked[top_ranked['positive_free_cashflow']]\n",
    "top_ranked = top_ranked.reset_index(drop=True)\n",
    "top_ranked.shape"
   ]
  },
  {
   "cell_type": "markdown",
   "metadata": {
    "slideshow": {
     "slide_type": "subslide"
    }
   },
   "source": [
    "## 取得近十二季營業利益率\n",
    "\n",
    "- 使用 `requests` 的 `get()` 函式發送 HTTP GET 請求\n",
    "- 使用 `json` 解析 JSON 文件"
   ]
  },
  {
   "cell_type": "code",
   "execution_count": 32,
   "metadata": {},
   "outputs": [],
   "source": [
    "def get_quarterly_operating_margins(ticker):\n",
    "    request_url = \"https://statementdog.com/api/v1/fundamentals/{}/2015/1/2020/4/cf\".format(ticker)\n",
    "    query_str_params = {\n",
    "        'qbu': 'true',\n",
    "        'qf': 'analysis'\n",
    "    }\n",
    "    response = requests.get(request_url, params=query_str_params)\n",
    "    response_json = response.json()\n",
    "    quarterly_operating_margins = [float(i[1]) for i in response_json['quarterly']['OperatingMargin']['data']] # Quarterly operating margin\n",
    "    return np.array(quarterly_operating_margins[-12:])"
   ]
  },
  {
   "cell_type": "markdown",
   "metadata": {
    "slideshow": {
     "slide_type": "subslide"
    }
   },
   "source": [
    "## 取得近十二季存貨週轉率\n",
    "\n",
    "- 使用 `requests` 的 `get()` 函式發送 HTTP GET 請求\n",
    "- 使用 `json` 解析 JSON 文件"
   ]
  },
  {
   "cell_type": "code",
   "execution_count": 33,
   "metadata": {},
   "outputs": [],
   "source": [
    "def get_quarterly_inventory_turnover_ratios(ticker):\n",
    "    request_url = \"https://statementdog.com/api/v1/fundamentals/{}/2015/1/2020/4/cf\".format(ticker)\n",
    "    query_str_params = {\n",
    "        'qbu': 'true',\n",
    "        'qf': 'analysis'\n",
    "    }\n",
    "    response = requests.get(request_url, params=query_str_params)\n",
    "    response_json = response.json()\n",
    "    quarterly_inventory_ratios = [float(i[1]) for i in response_json['quarterly']['InventoryTurnoverRatio']['data']] # Quarterly inventory ratios\n",
    "    return np.array(quarterly_inventory_ratios[-12:])"
   ]
  },
  {
   "cell_type": "markdown",
   "metadata": {
    "slideshow": {
     "slide_type": "subslide"
    }
   },
   "source": [
    "## 觀察近十二季營業利益率、存貨週轉率的變動趨勢\n",
    "\n",
    "使用 `matplotlib.pyplot` 作出線圖。"
   ]
  },
  {
   "cell_type": "markdown",
   "metadata": {
    "slideshow": {
     "slide_type": "subslide"
    }
   },
   "source": [
    "## 使用 `matplotlib.pyplot` 作圖的標準流程\n",
    "\n",
    "- 載入 `matplotlib.pyplot`\n",
    "- 準備資料陣列\n",
    "- 建立畫布、軸物件\n",
    "- 呼叫軸物件的作圖方法\n",
    "- 增添圖形元素\n",
    "- 顯示圖形"
   ]
  },
  {
   "cell_type": "markdown",
   "metadata": {
    "slideshow": {
     "slide_type": "subslide"
    }
   },
   "source": [
    "## 載入 `matplotlib.pyplot`"
   ]
  },
  {
   "cell_type": "code",
   "execution_count": 34,
   "metadata": {},
   "outputs": [],
   "source": [
    "import matplotlib.pyplot as plt"
   ]
  },
  {
   "cell_type": "markdown",
   "metadata": {
    "slideshow": {
     "slide_type": "subslide"
    }
   },
   "source": [
    "## 準備資料陣列"
   ]
  },
  {
   "cell_type": "code",
   "execution_count": 35,
   "metadata": {
    "slideshow": {
     "slide_type": "-"
    }
   },
   "outputs": [],
   "source": [
    "first_ticker = top_ranked['ticker'].values[0]\n",
    "quarterly_operating_margins = get_quarterly_operating_margins(first_ticker)\n",
    "quarterly_inventory_turnover_ratios = get_quarterly_inventory_turnover_ratios(first_ticker)"
   ]
  },
  {
   "cell_type": "markdown",
   "metadata": {
    "slideshow": {
     "slide_type": "subslide"
    }
   },
   "source": [
    "## 建立畫布、軸物件"
   ]
  },
  {
   "cell_type": "code",
   "execution_count": 36,
   "metadata": {},
   "outputs": [
    {
     "data": {
      "image/png": "[encoded data removed]",
      "text/plain": [
       "<Figure size 432x288 with 1 Axes>"
      ]
     },
     "metadata": {
      "needs_background": "light"
     },
     "output_type": "display_data"
    }
   ],
   "source": [
    "fig = plt.figure() # 建立畫布\n",
    "ax = plt.axes()    # 建立軸物件"
   ]
  },
  {
   "cell_type": "markdown",
   "metadata": {
    "slideshow": {
     "slide_type": "subslide"
    }
   },
   "source": [
    "## 呼叫軸物件的作圖方法"
   ]
  },
  {
   "cell_type": "code",
   "execution_count": 37,
   "metadata": {},
   "outputs": [
    {
     "data": {
      "text/plain": [
       "[<matplotlib.lines.Line2D at 0x7fb49dfe4908>]"
      ]
     },
     "execution_count": 37,
     "metadata": {},
     "output_type": "execute_result"
    },
    {
     "data": {
      "image/png": "[encoded data removed]",
      "text/plain": [
       "<Figure size 432x288 with 1 Axes>"
      ]
     },
     "metadata": {
      "needs_background": "light"
     },
     "output_type": "display_data"
    }
   ],
   "source": [
    "fig = plt.figure()\n",
    "ax = plt.axes()\n",
    "ax.plot(quarterly_operating_margins) # 呼叫軸物件的作圖方法"
   ]
  },
  {
   "cell_type": "markdown",
   "metadata": {
    "slideshow": {
     "slide_type": "subslide"
    }
   },
   "source": [
    "## 增添圖形元素、顯示圖形"
   ]
  },
  {
   "cell_type": "code",
   "execution_count": 38,
   "metadata": {},
   "outputs": [
    {
     "data": {
      "image/png": "[encoded data removed]",
      "text/plain": [
       "<Figure size 432x288 with 1 Axes>"
      ]
     },
     "metadata": {
      "needs_background": "light"
     },
     "output_type": "display_data"
    }
   ],
   "source": [
    "fig = plt.figure()\n",
    "ax = plt.axes()\n",
    "ax.plot(quarterly_operating_margins)\n",
    "ax.set_title(\"{}: Recent opearing margins\".format(ticker)) # 增添圖形元素\n",
    "ax.set_xticks(range(12))                                   # 增添圖形元素\n",
    "ax.set_xticklabels(range(1, 13))                           # 增添圖形元素\n",
    "plt.show()                                                 # 顯示圖形"
   ]
  },
  {
   "cell_type": "markdown",
   "metadata": {
    "slideshow": {
     "slide_type": "subslide"
    }
   },
   "source": [
    "## 在一個畫布繪畫兩個線圖"
   ]
  },
  {
   "cell_type": "code",
   "execution_count": 39,
   "metadata": {},
   "outputs": [
    {
     "name": "stdout",
     "output_type": "stream",
     "text": [
      "(2,)\n"
     ]
    },
    {
     "data": {
      "image/png": "[encoded data removed]",
      "text/plain": [
       "<Figure size 1008x288 with 2 Axes>"
      ]
     },
     "metadata": {
      "needs_background": "light"
     },
     "output_type": "display_data"
    }
   ],
   "source": [
    "fig, axes = plt.subplots(1, 2, figsize=(14, 4))\n",
    "print(axes.shape)"
   ]
  },
  {
   "cell_type": "markdown",
   "metadata": {
    "slideshow": {
     "slide_type": "subslide"
    }
   },
   "source": [
    "## 先畫第一個線圖"
   ]
  },
  {
   "cell_type": "code",
   "execution_count": 40,
   "metadata": {
    "slideshow": {
     "slide_type": "subslide"
    }
   },
   "outputs": [
    {
     "data": {
      "text/plain": [
       "[Text(0, 0, '1'),\n",
       " Text(0, 0, '2'),\n",
       " Text(0, 0, '3'),\n",
       " Text(0, 0, '4'),\n",
       " Text(0, 0, '5'),\n",
       " Text(0, 0, '6'),\n",
       " Text(0, 0, '7'),\n",
       " Text(0, 0, '8'),\n",
       " Text(0, 0, '9'),\n",
       " Text(0, 0, '10'),\n",
       " Text(0, 0, '11'),\n",
       " Text(0, 0, '12')]"
      ]
     },
     "execution_count": 40,
     "metadata": {},
     "output_type": "execute_result"
    },
    {
     "data": {
      "image/png": "[encoded data removed]",
      "text/plain": [
       "<Figure size 1008x288 with 2 Axes>"
      ]
     },
     "metadata": {
      "needs_background": "light"
     },
     "output_type": "display_data"
    }
   ],
   "source": [
    "fig, axes = plt.subplots(1, 2, figsize=(14, 4))\n",
    "axes[0].plot(quarterly_operating_margins)\n",
    "axes[0].set_title(\"{}: Recent opearing margins\".format(ticker)) # 增添圖形元素\n",
    "axes[0].set_xticks(range(12))                                   # 增添圖形元素\n",
    "axes[0].set_xticklabels(range(1, 13))                           # 增添圖形元素"
   ]
  },
  {
   "cell_type": "markdown",
   "metadata": {
    "slideshow": {
     "slide_type": "subslide"
    }
   },
   "source": [
    "## 再畫第二個線圖"
   ]
  },
  {
   "cell_type": "code",
   "execution_count": 41,
   "metadata": {
    "slideshow": {
     "slide_type": "subslide"
    }
   },
   "outputs": [
    {
     "data": {
      "image/png": "[encoded data removed]",
      "text/plain": [
       "<Figure size 1008x288 with 2 Axes>"
      ]
     },
     "metadata": {
      "needs_background": "light"
     },
     "output_type": "display_data"
    }
   ],
   "source": [
    "fig, axes = plt.subplots(1, 2, figsize=(14, 4))\n",
    "axes[0].plot(quarterly_operating_margins)\n",
    "axes[0].set_title(\"{}: Recent opearing margins\".format(ticker))          # 增添圖形元素\n",
    "axes[0].set_xticks(range(12))                                            # 增添圖形元素\n",
    "axes[0].set_xticklabels(range(1, 13))                                    # 增添圖形元素\n",
    "axes[1].plot(quarterly_inventory_turnover_ratios)\n",
    "axes[1].set_title(\"{}: Recent inventory turnover ratios\".format(ticker)) # 增添圖形元素\n",
    "axes[1].set_xticks(range(12))                                            # 增添圖形元素\n",
    "axes[1].set_xticklabels(range(1, 13))                                    # 增添圖形元素\n",
    "plt.show()"
   ]
  },
  {
   "cell_type": "markdown",
   "metadata": {
    "slideshow": {
     "slide_type": "subslide"
    }
   },
   "source": [
    "## 在圖形上撰寫中文字的方法\n",
    "\n",
    "指定一個支援中文的字體路徑。"
   ]
  },
  {
   "cell_type": "code",
   "execution_count": 42,
   "metadata": {
    "slideshow": {
     "slide_type": "subslide"
    }
   },
   "outputs": [
    {
     "data": {
      "image/png": "[encoded data removed]",
      "text/plain": [
       "<Figure size 1008x288 with 2 Axes>"
      ]
     },
     "metadata": {
      "needs_background": "light"
     },
     "output_type": "display_data"
    }
   ],
   "source": [
    "myfont = mpl.font_manager.FontProperties(fname=\"/System/Library/Fonts/STHeiti Light.ttc\")\n",
    "fig, axes = plt.subplots(1, 2, figsize=(14, 4))\n",
    "axes[0].plot(quarterly_operating_margins)\n",
    "axes[0].set_title(\"{}: 近12季營業利益率\".format(ticker), fontproperties=myfont)\n",
    "axes[0].set_xticks(range(12))\n",
    "axes[0].set_xticklabels(range(1, 13))\n",
    "axes[1].plot(quarterly_inventory_turnover_ratios)\n",
    "axes[1].set_title(\"{}: 近12季存貨週轉率\".format(ticker), fontproperties=myfont)\n",
    "axes[1].set_xticks(range(12))\n",
    "axes[1].set_xticklabels(range(1, 13))\n",
    "plt.show()"
   ]
  },
  {
   "cell_type": "markdown",
   "metadata": {
    "slideshow": {
     "slide_type": "subslide"
    }
   },
   "source": [
    "## 調整主題樣式表\n",
    "\n",
    "呼叫 `plt.style.available` 檢視有哪些可用的主題樣式表"
   ]
  },
  {
   "cell_type": "code",
   "execution_count": 43,
   "metadata": {},
   "outputs": [
    {
     "name": "stdout",
     "output_type": "stream",
     "text": [
      "['Solarize_Light2', '_classic_test_patch', 'bmh', 'classic', 'dark_background', 'fast', 'fivethirtyeight', 'ggplot', 'grayscale', 'seaborn', 'seaborn-bright', 'seaborn-colorblind', 'seaborn-dark', 'seaborn-dark-palette', 'seaborn-darkgrid', 'seaborn-deep', 'seaborn-muted', 'seaborn-notebook', 'seaborn-paper', 'seaborn-pastel', 'seaborn-poster', 'seaborn-talk', 'seaborn-ticks', 'seaborn-white', 'seaborn-whitegrid', 'tableau-colorblind10']\n"
     ]
    }
   ],
   "source": [
    "print(plt.style.available)"
   ]
  },
  {
   "cell_type": "code",
   "execution_count": 44,
   "metadata": {
    "slideshow": {
     "slide_type": "subslide"
    }
   },
   "outputs": [],
   "source": [
    "def plot_2_ratios(ticker):\n",
    "    quarterly_operating_margins = get_quarterly_operating_margins(ticker)\n",
    "    quarterly_inventory_turnover_ratios = get_quarterly_inventory_turnover_ratios(ticker)\n",
    "    myfont = mpl.font_manager.FontProperties(fname=\"/System/Library/Fonts/STHeiti Light.ttc\")\n",
    "    fig, axes = plt.subplots(1, 2, figsize=(14, 4))\n",
    "    axes[0].plot(quarterly_operating_margins)\n",
    "    axes[0].set_title(\"{}: 近12季營業利益率\".format(ticker), fontproperties=myfont)\n",
    "    axes[0].set_xticks(range(12))\n",
    "    axes[0].set_xticklabels(range(1, 13))\n",
    "    axes[1].plot(quarterly_inventory_turnover_ratios)\n",
    "    axes[1].set_title(\"{}: 近12季存貨週轉率\".format(ticker), fontproperties=myfont)\n",
    "    axes[1].set_xticks(range(12))\n",
    "    axes[1].set_xticklabels(range(1, 13))\n",
    "    plt.show()"
   ]
  },
  {
   "cell_type": "code",
   "execution_count": 45,
   "metadata": {
    "slideshow": {
     "slide_type": "subslide"
    }
   },
   "outputs": [
    {
     "name": "stdout",
     "output_type": "stream",
     "text": [
      "6409\n"
     ]
    }
   ],
   "source": [
    "second_ticker = top_ranked['ticker'].values[1]\n",
    "print(second_ticker)"
   ]
  },
  {
   "cell_type": "code",
   "execution_count": 46,
   "metadata": {
    "slideshow": {
     "slide_type": "subslide"
    }
   },
   "outputs": [
    {
     "data": {
      "image/png": "[encoded data removed]",
      "text/plain": [
       "<Figure size 1008x288 with 2 Axes>"
      ]
     },
     "metadata": {},
     "output_type": "display_data"
    }
   ],
   "source": [
    "with plt.style.context('fivethirtyeight'):\n",
    "    plot_2_ratios(second_ticker)"
   ]
  }
 ],
 "metadata": {
  "celltoolbar": "Slideshow",
  "kernelspec": {
   "display_name": "Python Data Analysis",
   "language": "python",
   "name": "pyda"
  },
  "language_info": {
   "codemirror_mode": {
    "name": "ipython",
    "version": 3
   },
   "file_extension": ".py",
   "mimetype": "text/x-python",
   "name": "python",
   "nbconvert_exporter": "python",
   "pygments_lexer": "ipython3",
   "version": "3.6.8"
  }
 },
 "nbformat": 4,
 "nbformat_minor": 4
}
